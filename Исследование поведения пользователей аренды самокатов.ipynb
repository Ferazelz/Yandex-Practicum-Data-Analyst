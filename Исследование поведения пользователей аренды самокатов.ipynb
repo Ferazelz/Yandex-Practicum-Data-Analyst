{
 "cells": [
  {
   "cell_type": "markdown",
   "id": "94c577ac",
   "metadata": {},
   "source": [
    "### Описание проекта"
   ]
  },
  {
   "cell_type": "markdown",
   "id": "270c2fcf",
   "metadata": {},
   "source": [
    "Вы аналитик популярного сервиса аренды самокатов GoFast. Вам передали данные о некоторых пользователях из нескольких городов, а также об их поездках. Проанализируйте данные и проверьте некоторые гипотезы, которые могут помочь бизнесу вырасти."
   ]
  },
  {
   "cell_type": "markdown",
   "id": "1a8fcba7",
   "metadata": {},
   "source": [
    "Пользователи user_go.csv: \n",
    "1) user_id - уникальный идентификатор пользователя\n",
    "\n",
    "2) name -\tимя пользователя\n",
    "\n",
    "3) age - возраст\n",
    "\n",
    "4) city - город\n",
    "\n",
    "5) subscription_type - тип подписки (free, ultra)"
   ]
  },
  {
   "cell_type": "markdown",
   "id": "afa1481a",
   "metadata": {},
   "source": [
    "Поездки rides_go.csv : \n",
    "\n",
    "1) user_id - уникальный идентификатор пользователя\n",
    "\n",
    "2) distance - расстояние, которое пользователь проехал в текущей сессии (в метрах)\n",
    "\n",
    "3) duration - продолжительность сессии (в минутах) — время с того момента, как пользователь нажал кнопку «Начать поездку» до момента, как он нажал кнопку «Завершить поездку»\n",
    "\n",
    "4) date - дата совершения поездки"
   ]
  },
  {
   "cell_type": "markdown",
   "id": "596a89b5",
   "metadata": {},
   "source": [
    "Подписки subscriptions_go.csv : \n",
    "\n",
    "1) subscription_type - тип подписки\n",
    "\n",
    "2) minute_price - стоимость одной минуты поездки по данной подписке\n",
    "\n",
    "3) start_ride_price - стоимость начала поездки\n",
    "\n",
    "4) subscription_fee - стоимость ежемесячного платежа"
   ]
  },
  {
   "cell_type": "code",
   "execution_count": null,
   "id": "72576667",
   "metadata": {},
   "outputs": [],
   "source": [
    "### Добавление библиотек\n",
    "\n",
    "import numpy as np\n",
    "import pandas as pd\n",
    "import matplotlib.pyplot as plt\n",
    "from scipy import stats as st\n",
    "import warnings"
   ]
  },
  {
   "cell_type": "markdown",
   "id": "c42cbe00",
   "metadata": {},
   "source": [
    "#### Шаг 1. Загрузка данных"
   ]
  },
  {
   "cell_type": "code",
   "execution_count": 2,
   "id": "eff9f206",
   "metadata": {},
   "outputs": [],
   "source": [
    "# Считываю файлы с данными и сохраняю в датафреймы\n",
    "users = pd.read_csv('/datasets/users_go.csv')\n",
    "rides = pd.read_csv('/datasets/rides_go.csv')\n",
    "subscriptions = pd.read_csv('/datasets/subscriptions_go.csv')"
   ]
  },
  {
   "cell_type": "code",
   "execution_count": 3,
   "id": "ae7029cd",
   "metadata": {},
   "outputs": [
    {
     "data": {
      "text/html": [
       "<div>\n",
       "<style scoped>\n",
       "    .dataframe tbody tr th:only-of-type {\n",
       "        vertical-align: middle;\n",
       "    }\n",
       "\n",
       "    .dataframe tbody tr th {\n",
       "        vertical-align: top;\n",
       "    }\n",
       "\n",
       "    .dataframe thead th {\n",
       "        text-align: right;\n",
       "    }\n",
       "</style>\n",
       "<table border=\"1\" class=\"dataframe\">\n",
       "  <thead>\n",
       "    <tr style=\"text-align: right;\">\n",
       "      <th></th>\n",
       "      <th>user_id</th>\n",
       "      <th>age</th>\n",
       "    </tr>\n",
       "  </thead>\n",
       "  <tbody>\n",
       "    <tr>\n",
       "      <th>count</th>\n",
       "      <td>1565.000000</td>\n",
       "      <td>1565.000000</td>\n",
       "    </tr>\n",
       "    <tr>\n",
       "      <th>mean</th>\n",
       "      <td>762.633866</td>\n",
       "      <td>24.922045</td>\n",
       "    </tr>\n",
       "    <tr>\n",
       "      <th>std</th>\n",
       "      <td>443.260155</td>\n",
       "      <td>4.553496</td>\n",
       "    </tr>\n",
       "    <tr>\n",
       "      <th>min</th>\n",
       "      <td>1.000000</td>\n",
       "      <td>12.000000</td>\n",
       "    </tr>\n",
       "    <tr>\n",
       "      <th>25%</th>\n",
       "      <td>378.000000</td>\n",
       "      <td>22.000000</td>\n",
       "    </tr>\n",
       "    <tr>\n",
       "      <th>50%</th>\n",
       "      <td>762.000000</td>\n",
       "      <td>25.000000</td>\n",
       "    </tr>\n",
       "    <tr>\n",
       "      <th>75%</th>\n",
       "      <td>1146.000000</td>\n",
       "      <td>28.000000</td>\n",
       "    </tr>\n",
       "    <tr>\n",
       "      <th>max</th>\n",
       "      <td>1534.000000</td>\n",
       "      <td>43.000000</td>\n",
       "    </tr>\n",
       "  </tbody>\n",
       "</table>\n",
       "</div>"
      ],
      "text/plain": [
       "           user_id          age\n",
       "count  1565.000000  1565.000000\n",
       "mean    762.633866    24.922045\n",
       "std     443.260155     4.553496\n",
       "min       1.000000    12.000000\n",
       "25%     378.000000    22.000000\n",
       "50%     762.000000    25.000000\n",
       "75%    1146.000000    28.000000\n",
       "max    1534.000000    43.000000"
      ]
     },
     "metadata": {},
     "output_type": "display_data"
    },
    {
     "name": "stdout",
     "output_type": "stream",
     "text": [
      "<class 'pandas.core.frame.DataFrame'>\n",
      "RangeIndex: 1565 entries, 0 to 1564\n",
      "Data columns (total 5 columns):\n",
      " #   Column             Non-Null Count  Dtype \n",
      "---  ------             --------------  ----- \n",
      " 0   user_id            1565 non-null   int64 \n",
      " 1   name               1565 non-null   object\n",
      " 2   age                1565 non-null   int64 \n",
      " 3   city               1565 non-null   object\n",
      " 4   subscription_type  1565 non-null   object\n",
      "dtypes: int64(2), object(3)\n",
      "memory usage: 61.3+ KB\n"
     ]
    },
    {
     "data": {
      "text/plain": [
       "None"
      ]
     },
     "metadata": {},
     "output_type": "display_data"
    },
    {
     "data": {
      "text/html": [
       "<div>\n",
       "<style scoped>\n",
       "    .dataframe tbody tr th:only-of-type {\n",
       "        vertical-align: middle;\n",
       "    }\n",
       "\n",
       "    .dataframe tbody tr th {\n",
       "        vertical-align: top;\n",
       "    }\n",
       "\n",
       "    .dataframe thead th {\n",
       "        text-align: right;\n",
       "    }\n",
       "</style>\n",
       "<table border=\"1\" class=\"dataframe\">\n",
       "  <thead>\n",
       "    <tr style=\"text-align: right;\">\n",
       "      <th></th>\n",
       "      <th>user_id</th>\n",
       "      <th>name</th>\n",
       "      <th>age</th>\n",
       "      <th>city</th>\n",
       "      <th>subscription_type</th>\n",
       "    </tr>\n",
       "  </thead>\n",
       "  <tbody>\n",
       "    <tr>\n",
       "      <th>0</th>\n",
       "      <td>1</td>\n",
       "      <td>Кира</td>\n",
       "      <td>22</td>\n",
       "      <td>Тюмень</td>\n",
       "      <td>ultra</td>\n",
       "    </tr>\n",
       "    <tr>\n",
       "      <th>1</th>\n",
       "      <td>2</td>\n",
       "      <td>Станислав</td>\n",
       "      <td>31</td>\n",
       "      <td>Омск</td>\n",
       "      <td>ultra</td>\n",
       "    </tr>\n",
       "    <tr>\n",
       "      <th>2</th>\n",
       "      <td>3</td>\n",
       "      <td>Алексей</td>\n",
       "      <td>20</td>\n",
       "      <td>Москва</td>\n",
       "      <td>ultra</td>\n",
       "    </tr>\n",
       "    <tr>\n",
       "      <th>3</th>\n",
       "      <td>4</td>\n",
       "      <td>Константин</td>\n",
       "      <td>26</td>\n",
       "      <td>Ростов-на-Дону</td>\n",
       "      <td>ultra</td>\n",
       "    </tr>\n",
       "    <tr>\n",
       "      <th>4</th>\n",
       "      <td>5</td>\n",
       "      <td>Адель</td>\n",
       "      <td>28</td>\n",
       "      <td>Омск</td>\n",
       "      <td>ultra</td>\n",
       "    </tr>\n",
       "  </tbody>\n",
       "</table>\n",
       "</div>"
      ],
      "text/plain": [
       "   user_id        name  age            city subscription_type\n",
       "0        1        Кира   22          Тюмень             ultra\n",
       "1        2   Станислав   31            Омск             ultra\n",
       "2        3     Алексей   20          Москва             ultra\n",
       "3        4  Константин   26  Ростов-на-Дону             ultra\n",
       "4        5       Адель   28            Омск             ultra"
      ]
     },
     "metadata": {},
     "output_type": "display_data"
    }
   ],
   "source": [
    "# Вывожу общие данные по датафрейму и вывожу первые 5 значений для ознакомления\n",
    "display(users.describe())\n",
    "display(users.info())\n",
    "display(users.head())"
   ]
  },
  {
   "cell_type": "code",
   "execution_count": 4,
   "id": "c8b62924",
   "metadata": {},
   "outputs": [
    {
     "data": {
      "text/html": [
       "<div>\n",
       "<style scoped>\n",
       "    .dataframe tbody tr th:only-of-type {\n",
       "        vertical-align: middle;\n",
       "    }\n",
       "\n",
       "    .dataframe tbody tr th {\n",
       "        vertical-align: top;\n",
       "    }\n",
       "\n",
       "    .dataframe thead th {\n",
       "        text-align: right;\n",
       "    }\n",
       "</style>\n",
       "<table border=\"1\" class=\"dataframe\">\n",
       "  <thead>\n",
       "    <tr style=\"text-align: right;\">\n",
       "      <th></th>\n",
       "      <th>user_id</th>\n",
       "      <th>distance</th>\n",
       "      <th>duration</th>\n",
       "      <th>date</th>\n",
       "    </tr>\n",
       "  </thead>\n",
       "  <tbody>\n",
       "    <tr>\n",
       "      <th>0</th>\n",
       "      <td>1</td>\n",
       "      <td>4409.919140</td>\n",
       "      <td>25.599769</td>\n",
       "      <td>2021-01-01</td>\n",
       "    </tr>\n",
       "    <tr>\n",
       "      <th>1</th>\n",
       "      <td>1</td>\n",
       "      <td>2617.592153</td>\n",
       "      <td>15.816871</td>\n",
       "      <td>2021-01-18</td>\n",
       "    </tr>\n",
       "    <tr>\n",
       "      <th>2</th>\n",
       "      <td>1</td>\n",
       "      <td>754.159807</td>\n",
       "      <td>6.232113</td>\n",
       "      <td>2021-04-20</td>\n",
       "    </tr>\n",
       "    <tr>\n",
       "      <th>3</th>\n",
       "      <td>1</td>\n",
       "      <td>2694.783254</td>\n",
       "      <td>18.511000</td>\n",
       "      <td>2021-08-11</td>\n",
       "    </tr>\n",
       "    <tr>\n",
       "      <th>4</th>\n",
       "      <td>1</td>\n",
       "      <td>4028.687306</td>\n",
       "      <td>26.265803</td>\n",
       "      <td>2021-08-28</td>\n",
       "    </tr>\n",
       "  </tbody>\n",
       "</table>\n",
       "</div>"
      ],
      "text/plain": [
       "   user_id     distance   duration        date\n",
       "0        1  4409.919140  25.599769  2021-01-01\n",
       "1        1  2617.592153  15.816871  2021-01-18\n",
       "2        1   754.159807   6.232113  2021-04-20\n",
       "3        1  2694.783254  18.511000  2021-08-11\n",
       "4        1  4028.687306  26.265803  2021-08-28"
      ]
     },
     "metadata": {},
     "output_type": "display_data"
    },
    {
     "name": "stdout",
     "output_type": "stream",
     "text": [
      "<class 'pandas.core.frame.DataFrame'>\n",
      "RangeIndex: 18068 entries, 0 to 18067\n",
      "Data columns (total 4 columns):\n",
      " #   Column    Non-Null Count  Dtype  \n",
      "---  ------    --------------  -----  \n",
      " 0   user_id   18068 non-null  int64  \n",
      " 1   distance  18068 non-null  float64\n",
      " 2   duration  18068 non-null  float64\n",
      " 3   date      18068 non-null  object \n",
      "dtypes: float64(2), int64(1), object(1)\n",
      "memory usage: 564.8+ KB\n"
     ]
    },
    {
     "data": {
      "text/plain": [
       "None"
      ]
     },
     "metadata": {},
     "output_type": "display_data"
    },
    {
     "data": {
      "text/html": [
       "<div>\n",
       "<style scoped>\n",
       "    .dataframe tbody tr th:only-of-type {\n",
       "        vertical-align: middle;\n",
       "    }\n",
       "\n",
       "    .dataframe tbody tr th {\n",
       "        vertical-align: top;\n",
       "    }\n",
       "\n",
       "    .dataframe thead th {\n",
       "        text-align: right;\n",
       "    }\n",
       "</style>\n",
       "<table border=\"1\" class=\"dataframe\">\n",
       "  <thead>\n",
       "    <tr style=\"text-align: right;\">\n",
       "      <th></th>\n",
       "      <th>user_id</th>\n",
       "      <th>distance</th>\n",
       "      <th>duration</th>\n",
       "    </tr>\n",
       "  </thead>\n",
       "  <tbody>\n",
       "    <tr>\n",
       "      <th>count</th>\n",
       "      <td>18068.000000</td>\n",
       "      <td>18068.000000</td>\n",
       "      <td>18068.000000</td>\n",
       "    </tr>\n",
       "    <tr>\n",
       "      <th>mean</th>\n",
       "      <td>842.869936</td>\n",
       "      <td>3070.659976</td>\n",
       "      <td>17.805011</td>\n",
       "    </tr>\n",
       "    <tr>\n",
       "      <th>std</th>\n",
       "      <td>434.734317</td>\n",
       "      <td>1116.831209</td>\n",
       "      <td>6.091051</td>\n",
       "    </tr>\n",
       "    <tr>\n",
       "      <th>min</th>\n",
       "      <td>1.000000</td>\n",
       "      <td>0.855683</td>\n",
       "      <td>0.500000</td>\n",
       "    </tr>\n",
       "    <tr>\n",
       "      <th>25%</th>\n",
       "      <td>487.000000</td>\n",
       "      <td>2543.226360</td>\n",
       "      <td>13.597563</td>\n",
       "    </tr>\n",
       "    <tr>\n",
       "      <th>50%</th>\n",
       "      <td>889.000000</td>\n",
       "      <td>3133.609994</td>\n",
       "      <td>17.678395</td>\n",
       "    </tr>\n",
       "    <tr>\n",
       "      <th>75%</th>\n",
       "      <td>1213.250000</td>\n",
       "      <td>3776.222735</td>\n",
       "      <td>21.724800</td>\n",
       "    </tr>\n",
       "    <tr>\n",
       "      <th>max</th>\n",
       "      <td>1534.000000</td>\n",
       "      <td>7211.007745</td>\n",
       "      <td>40.823963</td>\n",
       "    </tr>\n",
       "  </tbody>\n",
       "</table>\n",
       "</div>"
      ],
      "text/plain": [
       "            user_id      distance      duration\n",
       "count  18068.000000  18068.000000  18068.000000\n",
       "mean     842.869936   3070.659976     17.805011\n",
       "std      434.734317   1116.831209      6.091051\n",
       "min        1.000000      0.855683      0.500000\n",
       "25%      487.000000   2543.226360     13.597563\n",
       "50%      889.000000   3133.609994     17.678395\n",
       "75%     1213.250000   3776.222735     21.724800\n",
       "max     1534.000000   7211.007745     40.823963"
      ]
     },
     "metadata": {},
     "output_type": "display_data"
    }
   ],
   "source": [
    "# Также вывожу общие данные по датафрейму и вывожу первые 5 значений для ознакомления\n",
    "display(rides.head())\n",
    "display(rides.info())\n",
    "display(rides.describe())"
   ]
  },
  {
   "cell_type": "code",
   "execution_count": 5,
   "id": "befccf47",
   "metadata": {},
   "outputs": [
    {
     "data": {
      "text/html": [
       "<div>\n",
       "<style scoped>\n",
       "    .dataframe tbody tr th:only-of-type {\n",
       "        vertical-align: middle;\n",
       "    }\n",
       "\n",
       "    .dataframe tbody tr th {\n",
       "        vertical-align: top;\n",
       "    }\n",
       "\n",
       "    .dataframe thead th {\n",
       "        text-align: right;\n",
       "    }\n",
       "</style>\n",
       "<table border=\"1\" class=\"dataframe\">\n",
       "  <thead>\n",
       "    <tr style=\"text-align: right;\">\n",
       "      <th></th>\n",
       "      <th>subscription_type</th>\n",
       "      <th>minute_price</th>\n",
       "      <th>start_ride_price</th>\n",
       "      <th>subscription_fee</th>\n",
       "    </tr>\n",
       "  </thead>\n",
       "  <tbody>\n",
       "    <tr>\n",
       "      <th>0</th>\n",
       "      <td>free</td>\n",
       "      <td>8</td>\n",
       "      <td>50</td>\n",
       "      <td>0</td>\n",
       "    </tr>\n",
       "    <tr>\n",
       "      <th>1</th>\n",
       "      <td>ultra</td>\n",
       "      <td>6</td>\n",
       "      <td>0</td>\n",
       "      <td>199</td>\n",
       "    </tr>\n",
       "  </tbody>\n",
       "</table>\n",
       "</div>"
      ],
      "text/plain": [
       "  subscription_type  minute_price  start_ride_price  subscription_fee\n",
       "0              free             8                50                 0\n",
       "1             ultra             6                 0               199"
      ]
     },
     "metadata": {},
     "output_type": "display_data"
    },
    {
     "name": "stdout",
     "output_type": "stream",
     "text": [
      "<class 'pandas.core.frame.DataFrame'>\n",
      "RangeIndex: 2 entries, 0 to 1\n",
      "Data columns (total 4 columns):\n",
      " #   Column             Non-Null Count  Dtype \n",
      "---  ------             --------------  ----- \n",
      " 0   subscription_type  2 non-null      object\n",
      " 1   minute_price       2 non-null      int64 \n",
      " 2   start_ride_price   2 non-null      int64 \n",
      " 3   subscription_fee   2 non-null      int64 \n",
      "dtypes: int64(3), object(1)\n",
      "memory usage: 192.0+ bytes\n"
     ]
    },
    {
     "data": {
      "text/plain": [
       "None"
      ]
     },
     "metadata": {},
     "output_type": "display_data"
    }
   ],
   "source": [
    "# Здесь общая информация не требуется, т.к. датафрейм достаточно прост\n",
    "display(subscriptions.head())\n",
    "display(subscriptions.info())"
   ]
  },
  {
   "cell_type": "markdown",
   "id": "6b3251cc",
   "metadata": {},
   "source": [
    "Загрузил 3 датафрейма, ознакомился с ними, могу сделать следующий вывод:\n",
    "Можно заметить, что тип данных столбца 'date' в rides_go.csv записано некорректно, что буду исправлять в следующем шаге."
   ]
  },
  {
   "cell_type": "markdown",
   "id": "e95ebca7",
   "metadata": {},
   "source": [
    "#### Шаг 2. Предобработка данных"
   ]
  },
  {
   "cell_type": "code",
   "execution_count": 7,
   "id": "90d688ac",
   "metadata": {},
   "outputs": [],
   "source": [
    "# Изменяю тип данных на столбце date\n",
    "rides['date'] = pd.to_datetime(rides['date'], format='%Y-%m-%d')"
   ]
  },
  {
   "cell_type": "code",
   "execution_count": 8,
   "id": "46b4d02c",
   "metadata": {},
   "outputs": [],
   "source": [
    "# Добавляю вспомогательный столбец с месяцем\n",
    "rides['month'] = pd.DatetimeIndex(rides['date']).month"
   ]
  },
  {
   "cell_type": "code",
   "execution_count": 9,
   "id": "f40a2390",
   "metadata": {
    "scrolled": true
   },
   "outputs": [
    {
     "data": {
      "text/plain": [
       "user_id              0\n",
       "name                 0\n",
       "age                  0\n",
       "city                 0\n",
       "subscription_type    0\n",
       "dtype: int64"
      ]
     },
     "metadata": {},
     "output_type": "display_data"
    },
    {
     "data": {
      "text/plain": [
       "user_id              0.0\n",
       "name                 0.0\n",
       "age                  0.0\n",
       "city                 0.0\n",
       "subscription_type    0.0\n",
       "dtype: float64"
      ]
     },
     "metadata": {},
     "output_type": "display_data"
    },
    {
     "data": {
      "text/plain": [
       "31"
      ]
     },
     "metadata": {},
     "output_type": "display_data"
    },
    {
     "data": {
      "text/plain": [
       "0"
      ]
     },
     "metadata": {},
     "output_type": "display_data"
    }
   ],
   "source": [
    "# Определяем пропущенные значения\n",
    "display(users.isna().sum())\n",
    "# Определяем процент пропущенных значений\n",
    "display(users.isna().mean())\n",
    "# Определяем дубликаты\n",
    "display(users.duplicated().sum())\n",
    "# Выявили 31 дубликат. Удаляем дубликаты и перепроверяем их наличие\n",
    "users = users.drop_duplicates(subset=['user_id'], keep='first')\n",
    "users = users.reset_index(drop=True)\n",
    "display(users.duplicated().sum())"
   ]
  },
  {
   "cell_type": "code",
   "execution_count": 10,
   "id": "f240e6fd",
   "metadata": {},
   "outputs": [
    {
     "data": {
      "text/plain": [
       "user_id     0\n",
       "distance    0\n",
       "duration    0\n",
       "date        0\n",
       "month       0\n",
       "dtype: int64"
      ]
     },
     "metadata": {},
     "output_type": "display_data"
    },
    {
     "data": {
      "text/plain": [
       "user_id     0.0\n",
       "distance    0.0\n",
       "duration    0.0\n",
       "date        0.0\n",
       "month       0.0\n",
       "dtype: float64"
      ]
     },
     "metadata": {},
     "output_type": "display_data"
    },
    {
     "data": {
      "text/plain": [
       "0"
      ]
     },
     "metadata": {},
     "output_type": "display_data"
    }
   ],
   "source": [
    "# Определяем пропущенные значения\n",
    "display(rides.isna().sum())\n",
    "# Определяем процент пропущенных значений\n",
    "display(rides.isna().mean())\n",
    "# Определяем дубликаты\n",
    "display(rides.duplicated().sum())"
   ]
  },
  {
   "cell_type": "code",
   "execution_count": 11,
   "id": "9616c482",
   "metadata": {},
   "outputs": [
    {
     "data": {
      "text/plain": [
       "subscription_type    0\n",
       "minute_price         0\n",
       "start_ride_price     0\n",
       "subscription_fee     0\n",
       "dtype: int64"
      ]
     },
     "metadata": {},
     "output_type": "display_data"
    },
    {
     "data": {
      "text/plain": [
       "subscription_type    0.0\n",
       "minute_price         0.0\n",
       "start_ride_price     0.0\n",
       "subscription_fee     0.0\n",
       "dtype: float64"
      ]
     },
     "metadata": {},
     "output_type": "display_data"
    },
    {
     "data": {
      "text/plain": [
       "0"
      ]
     },
     "metadata": {},
     "output_type": "display_data"
    }
   ],
   "source": [
    "# Определяем пропущенные значения\n",
    "display(subscriptions.isna().sum())\n",
    "# Определяем процент пропущенных значений\n",
    "display(subscriptions.isna().mean())\n",
    "# Определяем дубликаты\n",
    "display(subscriptions.duplicated().sum())"
   ]
  },
  {
   "cell_type": "markdown",
   "id": "df18d3d6",
   "metadata": {},
   "source": [
    "На этапе предобработки данных я изменил тип данных в \"rides\" на datetime, а также выявил дубликаты в датафрейме 'users' в количестве 31 штуки. После успешного удаления, "
   ]
  },
  {
   "cell_type": "markdown",
   "id": "212593c7",
   "metadata": {},
   "source": [
    "#### Шаг 3. Исследовательский анализ данных"
   ]
  },
  {
   "cell_type": "code",
   "execution_count": 13,
   "id": "e163286e",
   "metadata": {
    "scrolled": false
   },
   "outputs": [
    {
     "data": {
      "image/png": "[encoded data removed]",
      "text/plain": [
       "<Figure size 1080x576 with 1 Axes>"
      ]
     },
     "metadata": {
      "needs_background": "light"
     },
     "output_type": "display_data"
    }
   ],
   "source": [
    "# 3.1 частота встречаемости городов\n",
    "fig, ax = plt.subplots(figsize=(15,8))\n",
    "users['city'].value_counts().sort_values(ascending=True).plot(kind='barh');\n",
    "ax.set_title('Частота встречаемости городов')\n",
    "ax.set_xlabel('Количество встреч')\n",
    "plt.show()"
   ]
  },
  {
   "cell_type": "markdown",
   "id": "c3f1b89e",
   "metadata": {},
   "source": [
    "Исходя из этого графика, видно, что большинство заказов приходится в городе Пятигорск, но меньше всего, арендуют в Москве"
   ]
  },
  {
   "cell_type": "code",
   "execution_count": 14,
   "id": "4cde3c6e",
   "metadata": {
    "scrolled": false
   },
   "outputs": [
    {
     "data": {
      "image/png": "[encoded data removed]",
      "text/plain": [
       "<Figure size 576x576 with 1 Axes>"
      ]
     },
     "metadata": {},
     "output_type": "display_data"
    }
   ],
   "source": [
    "# 3.2 соотношение пользователей с подпиской и без подписки\n",
    "fig, ax = plt.subplots(figsize=(8,8))\n",
    "users['subscription_type'].value_counts().plot(kind='pie', figsize=(8,8), autopct='%1.1f%%')\n",
    "ax.set_title('Распределение пользователей по типу подписки')\n",
    "ax.set_ylabel('')\n",
    "plt.show()"
   ]
  },
  {
   "cell_type": "markdown",
   "id": "51045b00",
   "metadata": {},
   "source": [
    "Пользователей без подписки больше на 10%"
   ]
  },
  {
   "cell_type": "code",
   "execution_count": 15,
   "id": "60775f2b",
   "metadata": {
    "scrolled": false
   },
   "outputs": [
    {
     "data": {
      "image/png": "[encoded data removed]",
      "text/plain": [
       "<Figure size 1080x576 with 1 Axes>"
      ]
     },
     "metadata": {
      "needs_background": "light"
     },
     "output_type": "display_data"
    }
   ],
   "source": [
    "# 3.3 возраст пользователей;\n",
    "fig, ax = plt.subplots(figsize=(15,8))\n",
    "users['age'].plot(kind='hist', bins=20, figsize=(15,8))\n",
    "ax.set_title('Распределение пользователей по возрасту')\n",
    "ax.set_ylabel('Количество пользователей')\n",
    "ax.set_xlabel('Возраст')\n",
    "plt.show()"
   ]
  },
  {
   "cell_type": "markdown",
   "id": "9cc8e6a7",
   "metadata": {},
   "source": [
    "Основными пользователями нашего приложения являются 20-29 летние. Очень редко можно встретить пользователей за 35."
   ]
  },
  {
   "cell_type": "code",
   "execution_count": 16,
   "id": "bbec1172",
   "metadata": {},
   "outputs": [
    {
     "data": {
      "image/png": "[encoded data removed]",
      "text/plain": [
       "<Figure size 1080x576 with 1 Axes>"
      ]
     },
     "metadata": {
      "needs_background": "light"
     },
     "output_type": "display_data"
    }
   ],
   "source": [
    "# 3.4 Расстояние, которое пользователь преодолел за одну поездку;\n",
    "fig, ax = plt.subplots(figsize=(15,8))\n",
    "rides['distance'].plot(kind='hist', bins=40)\n",
    "ax.set_ylabel('Количество пользователей')\n",
    "ax.set_xlabel('Расстояние (в метрах)')\n",
    "ax.set_title('Расстояние, которое пользователь преодолел за одну поездку')\n",
    "plt.show()"
   ]
  },
  {
   "cell_type": "markdown",
   "id": "6c6f7b56",
   "metadata": {},
   "source": [
    "Пользователи проезжают в основном от 2 до 4.5 километров. Если исключения, где пользователи могли ездить от 6 километров."
   ]
  },
  {
   "cell_type": "code",
   "execution_count": 17,
   "id": "5fc4dc6b",
   "metadata": {
    "scrolled": false
   },
   "outputs": [
    {
     "data": {
      "image/png": "[encoded data removed]",
      "text/plain": [
       "<Figure size 1080x576 with 1 Axes>"
      ]
     },
     "metadata": {
      "needs_background": "light"
     },
     "output_type": "display_data"
    }
   ],
   "source": [
    "# 3.5 продолжительность поездок.\n",
    "fig, ax = plt.subplots(figsize=(15,8))\n",
    "rides['duration'].plot(kind='hist', bins=40)\n",
    "ax.set_ylabel('Количество пользователей')\n",
    "ax.set_xlabel('Длительность (в минутах)')\n",
    "ax.set_title('Продолжительность поездки')\n",
    "plt.show()"
   ]
  },
  {
   "cell_type": "markdown",
   "id": "8187ede3",
   "metadata": {},
   "source": [
    "Арендуют самокаты в основном от 9 до 26 минут. Дольше 35 минут почти никто не арендовал"
   ]
  },
  {
   "cell_type": "markdown",
   "id": "4ef51331",
   "metadata": {},
   "source": [
    "#### Шаг 4. Объединение данных"
   ]
  },
  {
   "cell_type": "code",
   "execution_count": 19,
   "id": "42ed7580",
   "metadata": {},
   "outputs": [
    {
     "data": {
      "text/html": [
       "<div>\n",
       "<style scoped>\n",
       "    .dataframe tbody tr th:only-of-type {\n",
       "        vertical-align: middle;\n",
       "    }\n",
       "\n",
       "    .dataframe tbody tr th {\n",
       "        vertical-align: top;\n",
       "    }\n",
       "\n",
       "    .dataframe thead th {\n",
       "        text-align: right;\n",
       "    }\n",
       "</style>\n",
       "<table border=\"1\" class=\"dataframe\">\n",
       "  <thead>\n",
       "    <tr style=\"text-align: right;\">\n",
       "      <th></th>\n",
       "      <th>user_id</th>\n",
       "      <th>name</th>\n",
       "      <th>age</th>\n",
       "      <th>city</th>\n",
       "      <th>subscription_type</th>\n",
       "      <th>distance</th>\n",
       "      <th>duration</th>\n",
       "      <th>date</th>\n",
       "      <th>month</th>\n",
       "      <th>minute_price</th>\n",
       "      <th>start_ride_price</th>\n",
       "      <th>subscription_fee</th>\n",
       "    </tr>\n",
       "  </thead>\n",
       "  <tbody>\n",
       "    <tr>\n",
       "      <th>0</th>\n",
       "      <td>1</td>\n",
       "      <td>Кира</td>\n",
       "      <td>22</td>\n",
       "      <td>Тюмень</td>\n",
       "      <td>ultra</td>\n",
       "      <td>4409.919140</td>\n",
       "      <td>25.599769</td>\n",
       "      <td>2021-01-01</td>\n",
       "      <td>1</td>\n",
       "      <td>6</td>\n",
       "      <td>0</td>\n",
       "      <td>199</td>\n",
       "    </tr>\n",
       "    <tr>\n",
       "      <th>1</th>\n",
       "      <td>1</td>\n",
       "      <td>Кира</td>\n",
       "      <td>22</td>\n",
       "      <td>Тюмень</td>\n",
       "      <td>ultra</td>\n",
       "      <td>2617.592153</td>\n",
       "      <td>15.816871</td>\n",
       "      <td>2021-01-18</td>\n",
       "      <td>1</td>\n",
       "      <td>6</td>\n",
       "      <td>0</td>\n",
       "      <td>199</td>\n",
       "    </tr>\n",
       "    <tr>\n",
       "      <th>2</th>\n",
       "      <td>1</td>\n",
       "      <td>Кира</td>\n",
       "      <td>22</td>\n",
       "      <td>Тюмень</td>\n",
       "      <td>ultra</td>\n",
       "      <td>754.159807</td>\n",
       "      <td>6.232113</td>\n",
       "      <td>2021-04-20</td>\n",
       "      <td>4</td>\n",
       "      <td>6</td>\n",
       "      <td>0</td>\n",
       "      <td>199</td>\n",
       "    </tr>\n",
       "    <tr>\n",
       "      <th>3</th>\n",
       "      <td>1</td>\n",
       "      <td>Кира</td>\n",
       "      <td>22</td>\n",
       "      <td>Тюмень</td>\n",
       "      <td>ultra</td>\n",
       "      <td>2694.783254</td>\n",
       "      <td>18.511000</td>\n",
       "      <td>2021-08-11</td>\n",
       "      <td>8</td>\n",
       "      <td>6</td>\n",
       "      <td>0</td>\n",
       "      <td>199</td>\n",
       "    </tr>\n",
       "    <tr>\n",
       "      <th>4</th>\n",
       "      <td>1</td>\n",
       "      <td>Кира</td>\n",
       "      <td>22</td>\n",
       "      <td>Тюмень</td>\n",
       "      <td>ultra</td>\n",
       "      <td>4028.687306</td>\n",
       "      <td>26.265803</td>\n",
       "      <td>2021-08-28</td>\n",
       "      <td>8</td>\n",
       "      <td>6</td>\n",
       "      <td>0</td>\n",
       "      <td>199</td>\n",
       "    </tr>\n",
       "  </tbody>\n",
       "</table>\n",
       "</div>"
      ],
      "text/plain": [
       "   user_id  name  age    city subscription_type     distance   duration  \\\n",
       "0        1  Кира   22  Тюмень             ultra  4409.919140  25.599769   \n",
       "1        1  Кира   22  Тюмень             ultra  2617.592153  15.816871   \n",
       "2        1  Кира   22  Тюмень             ultra   754.159807   6.232113   \n",
       "3        1  Кира   22  Тюмень             ultra  2694.783254  18.511000   \n",
       "4        1  Кира   22  Тюмень             ultra  4028.687306  26.265803   \n",
       "\n",
       "        date  month  minute_price  start_ride_price  subscription_fee  \n",
       "0 2021-01-01      1             6                 0               199  \n",
       "1 2021-01-18      1             6                 0               199  \n",
       "2 2021-04-20      4             6                 0               199  \n",
       "3 2021-08-11      8             6                 0               199  \n",
       "4 2021-08-28      8             6                 0               199  "
      ]
     },
     "execution_count": 19,
     "metadata": {},
     "output_type": "execute_result"
    }
   ],
   "source": [
    "# Объедияю данные о пользователях, поездках и подписках в один датафрейм.\n",
    "df = users.merge(rides, on='user_id', how='left')\n",
    "df = df.merge(subscriptions, on='subscription_type', how='left')\n",
    "df.head()"
   ]
  },
  {
   "cell_type": "code",
   "execution_count": 20,
   "id": "dbbe1844",
   "metadata": {},
   "outputs": [],
   "source": [
    "# Создаю отдельный датафрейм БЕЗ подписки\n",
    "df_wo = df.query(\"subscription_type == 'free'\")"
   ]
  },
  {
   "cell_type": "code",
   "execution_count": 21,
   "id": "dc62eab7",
   "metadata": {},
   "outputs": [],
   "source": [
    "# И отдельно с подпиской\n",
    "df_with = df.query(\"subscription_type == 'ultra'\")"
   ]
  },
  {
   "cell_type": "code",
   "execution_count": 22,
   "id": "c5226426",
   "metadata": {},
   "outputs": [
    {
     "data": {
      "image/png": "[encoded data removed]",
      "text/plain": [
       "<Figure size 1080x576 with 1 Axes>"
      ]
     },
     "metadata": {
      "needs_background": "light"
     },
     "output_type": "display_data"
    },
    {
     "data": {
      "text/plain": [
       "count    11568.000000\n",
       "mean      3045.495282\n",
       "std       1246.173806\n",
       "min          0.855683\n",
       "25%       2366.562689\n",
       "50%       3114.648465\n",
       "75%       3905.697894\n",
       "max       7211.007745\n",
       "Name: distance, dtype: float64"
      ]
     },
     "metadata": {},
     "output_type": "display_data"
    },
    {
     "data": {
      "text/plain": [
       "count    6500.000000\n",
       "mean     3115.445388\n",
       "std       836.895330\n",
       "min       244.210438\n",
       "25%      2785.444017\n",
       "50%      3148.637229\n",
       "75%      3560.574425\n",
       "max      5699.769662\n",
       "Name: distance, dtype: float64"
      ]
     },
     "metadata": {},
     "output_type": "display_data"
    }
   ],
   "source": [
    "# Строю визуализацию по расстоянию\n",
    "fig, ax = plt.subplots(figsize=(15,8))\n",
    "ax.hist(df_wo['distance'], bins=35, label='Без подписки', alpha=0.8)\n",
    "ax.hist(df_with['distance'], bins=35, label='С подпиской', alpha=0.8)\n",
    "ax.set_title('Расстояние')\n",
    "ax.set_ylabel('Количество пользователей')\n",
    "ax.set_xlabel('Расстояние (в метрах)')\n",
    "plt.legend()\n",
    "plt.show()\n",
    "display(df_wo['distance'].describe())\n",
    "display(df_with['distance'].describe())"
   ]
  },
  {
   "cell_type": "code",
   "execution_count": 23,
   "id": "9f50bcf2",
   "metadata": {},
   "outputs": [
    {
     "data": {
      "image/png": "[encoded data removed]",
      "text/plain": [
       "<Figure size 1080x576 with 1 Axes>"
      ]
     },
     "metadata": {
      "needs_background": "light"
     },
     "output_type": "display_data"
    },
    {
     "data": {
      "text/plain": [
       "count    11568.000000\n",
       "mean        17.390909\n",
       "std          6.326803\n",
       "min          0.500000\n",
       "25%         12.958437\n",
       "50%         17.326890\n",
       "75%         21.594071\n",
       "max         34.948498\n",
       "Name: duration, dtype: float64"
      ]
     },
     "metadata": {},
     "output_type": "display_data"
    },
    {
     "data": {
      "text/plain": [
       "count    6500.000000\n",
       "mean       18.541985\n",
       "std         5.572048\n",
       "min         3.760353\n",
       "25%        14.524654\n",
       "50%        18.178153\n",
       "75%        21.884129\n",
       "max        40.823963\n",
       "Name: duration, dtype: float64"
      ]
     },
     "metadata": {},
     "output_type": "display_data"
    }
   ],
   "source": [
    "# Строю визуализацию по расстоянию\n",
    "fig, ax = plt.subplots(figsize=(15,8))\n",
    "ax.hist(df_wo['duration'], bins=35, label='Без подписки', alpha=0.8)\n",
    "ax.hist(df_with['duration'], bins=35, label='C подпиской', alpha=0.8)\n",
    "ax.set_title('Продолжительность')\n",
    "ax.set_ylabel('Количество пользователей')\n",
    "ax.set_xlabel('Длительность (в минутах)')\n",
    "plt.legend()\n",
    "plt.show()\n",
    "display(df_wo['duration'].describe())\n",
    "display(df_with['duration'].describe())"
   ]
  },
  {
   "cell_type": "markdown",
   "id": "873a9b13",
   "metadata": {},
   "source": [
    "Общий вывод по графикам:\n",
    "\n",
    "    Пользователи без подписки в среднем проходят расстояние от 2.3 до 4 км и арендуют самокаты от 12 до 21 минут.\n",
    "    Пользователи с подпиской в среднем проходят расстояние от 2.7 до 3.5 км и также арендуют самокаты от 14 до 21 минут."
   ]
  },
  {
   "cell_type": "markdown",
   "id": "402d620f",
   "metadata": {},
   "source": [
    "#### Шаг 5. Подсчёт выручки"
   ]
  },
  {
   "cell_type": "code",
   "execution_count": 27,
   "id": "a4f0e775",
   "metadata": {
    "scrolled": true
   },
   "outputs": [],
   "source": [
    "# Округляю значения длительности для того, чтобы в дальнейшем корректно создать датафрейм с помесячной выручкой\n",
    "warnings.filterwarnings(\"ignore\")\n",
    "df_wo['duration'] = np.ceil(df_wo['duration'])\n",
    "df_with['duration'] = np.ceil(df_with['duration'])"
   ]
  },
  {
   "cell_type": "code",
   "execution_count": 28,
   "id": "f0449103",
   "metadata": {},
   "outputs": [],
   "source": [
    "# Создаю агрегированный датафрейм с пользователями без подписки\n",
    "df_wo_agg = df_wo.groupby(['user_id', 'month']).agg({'distance':['count','sum'], 'duration':'sum'})"
   ]
  },
  {
   "cell_type": "code",
   "execution_count": 29,
   "id": "3436380c",
   "metadata": {},
   "outputs": [],
   "source": [
    "# Создаю агрегированный датафрейм с пользователями с подпиской\n",
    "df_with_agg = df_with.groupby(['user_id', 'month']).agg({'distance':['count','sum'], 'duration':'sum'})"
   ]
  },
  {
   "cell_type": "code",
   "execution_count": 30,
   "id": "25408921",
   "metadata": {},
   "outputs": [
    {
     "data": {
      "text/html": [
       "<div>\n",
       "<style scoped>\n",
       "    .dataframe tbody tr th:only-of-type {\n",
       "        vertical-align: middle;\n",
       "    }\n",
       "\n",
       "    .dataframe tbody tr th {\n",
       "        vertical-align: top;\n",
       "    }\n",
       "\n",
       "    .dataframe thead th {\n",
       "        text-align: right;\n",
       "    }\n",
       "</style>\n",
       "<table border=\"1\" class=\"dataframe\">\n",
       "  <thead>\n",
       "    <tr style=\"text-align: right;\">\n",
       "      <th></th>\n",
       "      <th></th>\n",
       "      <th>count</th>\n",
       "      <th>distance</th>\n",
       "      <th>duration</th>\n",
       "      <th>cost</th>\n",
       "    </tr>\n",
       "    <tr>\n",
       "      <th>user_id</th>\n",
       "      <th>month</th>\n",
       "      <th></th>\n",
       "      <th></th>\n",
       "      <th></th>\n",
       "      <th></th>\n",
       "    </tr>\n",
       "  </thead>\n",
       "  <tbody>\n",
       "    <tr>\n",
       "      <th rowspan=\"9\" valign=\"top\">700</th>\n",
       "      <th>1</th>\n",
       "      <td>1</td>\n",
       "      <td>2515.690719</td>\n",
       "      <td>15.0</td>\n",
       "      <td>170.0</td>\n",
       "    </tr>\n",
       "    <tr>\n",
       "      <th>2</th>\n",
       "      <td>5</td>\n",
       "      <td>13446.659764</td>\n",
       "      <td>89.0</td>\n",
       "      <td>962.0</td>\n",
       "    </tr>\n",
       "    <tr>\n",
       "      <th>3</th>\n",
       "      <td>1</td>\n",
       "      <td>3798.334905</td>\n",
       "      <td>19.0</td>\n",
       "      <td>202.0</td>\n",
       "    </tr>\n",
       "    <tr>\n",
       "      <th>4</th>\n",
       "      <td>1</td>\n",
       "      <td>2984.551206</td>\n",
       "      <td>16.0</td>\n",
       "      <td>178.0</td>\n",
       "    </tr>\n",
       "    <tr>\n",
       "      <th>6</th>\n",
       "      <td>2</td>\n",
       "      <td>5927.650988</td>\n",
       "      <td>29.0</td>\n",
       "      <td>332.0</td>\n",
       "    </tr>\n",
       "    <tr>\n",
       "      <th>7</th>\n",
       "      <td>2</td>\n",
       "      <td>4399.206279</td>\n",
       "      <td>21.0</td>\n",
       "      <td>268.0</td>\n",
       "    </tr>\n",
       "    <tr>\n",
       "      <th>8</th>\n",
       "      <td>1</td>\n",
       "      <td>4071.654669</td>\n",
       "      <td>17.0</td>\n",
       "      <td>186.0</td>\n",
       "    </tr>\n",
       "    <tr>\n",
       "      <th>10</th>\n",
       "      <td>2</td>\n",
       "      <td>6322.578618</td>\n",
       "      <td>44.0</td>\n",
       "      <td>452.0</td>\n",
       "    </tr>\n",
       "    <tr>\n",
       "      <th>11</th>\n",
       "      <td>3</td>\n",
       "      <td>8735.782625</td>\n",
       "      <td>32.0</td>\n",
       "      <td>406.0</td>\n",
       "    </tr>\n",
       "    <tr>\n",
       "      <th>701</th>\n",
       "      <th>1</th>\n",
       "      <td>1</td>\n",
       "      <td>2676.472894</td>\n",
       "      <td>18.0</td>\n",
       "      <td>194.0</td>\n",
       "    </tr>\n",
       "  </tbody>\n",
       "</table>\n",
       "</div>"
      ],
      "text/plain": [
       "               count      distance  duration   cost\n",
       "user_id month                                      \n",
       "700     1          1   2515.690719      15.0  170.0\n",
       "        2          5  13446.659764      89.0  962.0\n",
       "        3          1   3798.334905      19.0  202.0\n",
       "        4          1   2984.551206      16.0  178.0\n",
       "        6          2   5927.650988      29.0  332.0\n",
       "        7          2   4399.206279      21.0  268.0\n",
       "        8          1   4071.654669      17.0  186.0\n",
       "        10         2   6322.578618      44.0  452.0\n",
       "        11         3   8735.782625      32.0  406.0\n",
       "701     1          1   2676.472894      18.0  194.0"
      ]
     },
     "execution_count": 30,
     "metadata": {},
     "output_type": "execute_result"
    }
   ],
   "source": [
    "# Применяю функцию, где добавляю расчет с помесячной выручкой для пользователей без подписки\n",
    "def monthly_cost_wo(rows_values):\n",
    "    count = rows_values['distance']['count']\n",
    "    duration = rows_values['duration']['sum']\n",
    "    month_cost = (50 * count) + (8 * duration)\n",
    "    return month_cost\n",
    "                                     \n",
    "df_wo_agg['cost'] = df_wo_agg.apply(monthly_cost_wo, axis=1)\n",
    "df_wo_agg.columns = ['count', 'distance', 'duration', 'cost']\n",
    "df_wo_agg.head(10)"
   ]
  },
  {
   "cell_type": "code",
   "execution_count": 31,
   "id": "b27c981f",
   "metadata": {
    "scrolled": false
   },
   "outputs": [
    {
     "data": {
      "text/html": [
       "<div>\n",
       "<style scoped>\n",
       "    .dataframe tbody tr th:only-of-type {\n",
       "        vertical-align: middle;\n",
       "    }\n",
       "\n",
       "    .dataframe tbody tr th {\n",
       "        vertical-align: top;\n",
       "    }\n",
       "\n",
       "    .dataframe thead th {\n",
       "        text-align: right;\n",
       "    }\n",
       "</style>\n",
       "<table border=\"1\" class=\"dataframe\">\n",
       "  <thead>\n",
       "    <tr style=\"text-align: right;\">\n",
       "      <th></th>\n",
       "      <th></th>\n",
       "      <th>count</th>\n",
       "      <th>distance</th>\n",
       "      <th>duration</th>\n",
       "      <th>cost</th>\n",
       "    </tr>\n",
       "    <tr>\n",
       "      <th>user_id</th>\n",
       "      <th>month</th>\n",
       "      <th></th>\n",
       "      <th></th>\n",
       "      <th></th>\n",
       "      <th></th>\n",
       "    </tr>\n",
       "  </thead>\n",
       "  <tbody>\n",
       "    <tr>\n",
       "      <th rowspan=\"6\" valign=\"top\">1</th>\n",
       "      <th>1</th>\n",
       "      <td>2</td>\n",
       "      <td>7027.511294</td>\n",
       "      <td>42.0</td>\n",
       "      <td>451.0</td>\n",
       "    </tr>\n",
       "    <tr>\n",
       "      <th>4</th>\n",
       "      <td>1</td>\n",
       "      <td>754.159807</td>\n",
       "      <td>7.0</td>\n",
       "      <td>241.0</td>\n",
       "    </tr>\n",
       "    <tr>\n",
       "      <th>8</th>\n",
       "      <td>2</td>\n",
       "      <td>6723.470560</td>\n",
       "      <td>46.0</td>\n",
       "      <td>475.0</td>\n",
       "    </tr>\n",
       "    <tr>\n",
       "      <th>10</th>\n",
       "      <td>2</td>\n",
       "      <td>5809.911100</td>\n",
       "      <td>32.0</td>\n",
       "      <td>391.0</td>\n",
       "    </tr>\n",
       "    <tr>\n",
       "      <th>11</th>\n",
       "      <td>3</td>\n",
       "      <td>7003.499363</td>\n",
       "      <td>56.0</td>\n",
       "      <td>535.0</td>\n",
       "    </tr>\n",
       "    <tr>\n",
       "      <th>12</th>\n",
       "      <td>2</td>\n",
       "      <td>6751.629942</td>\n",
       "      <td>28.0</td>\n",
       "      <td>367.0</td>\n",
       "    </tr>\n",
       "    <tr>\n",
       "      <th rowspan=\"4\" valign=\"top\">2</th>\n",
       "      <th>3</th>\n",
       "      <td>3</td>\n",
       "      <td>10187.723006</td>\n",
       "      <td>63.0</td>\n",
       "      <td>577.0</td>\n",
       "    </tr>\n",
       "    <tr>\n",
       "      <th>4</th>\n",
       "      <td>2</td>\n",
       "      <td>6164.381824</td>\n",
       "      <td>40.0</td>\n",
       "      <td>439.0</td>\n",
       "    </tr>\n",
       "    <tr>\n",
       "      <th>6</th>\n",
       "      <td>1</td>\n",
       "      <td>3255.338202</td>\n",
       "      <td>14.0</td>\n",
       "      <td>283.0</td>\n",
       "    </tr>\n",
       "    <tr>\n",
       "      <th>7</th>\n",
       "      <td>2</td>\n",
       "      <td>6780.722964</td>\n",
       "      <td>48.0</td>\n",
       "      <td>487.0</td>\n",
       "    </tr>\n",
       "  </tbody>\n",
       "</table>\n",
       "</div>"
      ],
      "text/plain": [
       "               count      distance  duration   cost\n",
       "user_id month                                      \n",
       "1       1          2   7027.511294      42.0  451.0\n",
       "        4          1    754.159807       7.0  241.0\n",
       "        8          2   6723.470560      46.0  475.0\n",
       "        10         2   5809.911100      32.0  391.0\n",
       "        11         3   7003.499363      56.0  535.0\n",
       "        12         2   6751.629942      28.0  367.0\n",
       "2       3          3  10187.723006      63.0  577.0\n",
       "        4          2   6164.381824      40.0  439.0\n",
       "        6          1   3255.338202      14.0  283.0\n",
       "        7          2   6780.722964      48.0  487.0"
      ]
     },
     "execution_count": 31,
     "metadata": {},
     "output_type": "execute_result"
    }
   ],
   "source": [
    "# Применяю функцию, где добавляю расчет с помесячной выручкой для пользователей с подпиской\n",
    "def monthly_cost_with(rows_values):\n",
    "    count = rows_values['distance']['count']\n",
    "    duration = rows_values['duration']['sum']\n",
    "    month_cost = 199 + (6 * duration)\n",
    "    return month_cost\n",
    "                                     \n",
    "df_with_agg['cost'] = df_with_agg.apply(monthly_cost_with, axis=1)\n",
    "df_with_agg.columns = ['count', 'distance', 'duration', 'cost']\n",
    "df_with_agg.head(10)"
   ]
  },
  {
   "cell_type": "markdown",
   "id": "41545ac0",
   "metadata": {},
   "source": [
    "#### Шаг 6. Проверка гипотез"
   ]
  },
  {
   "cell_type": "markdown",
   "id": "ea2bf142",
   "metadata": {},
   "source": [
    "1) Проверка гипотезы: Тратят ли пользователи с подпиской больше времени на поездки\n",
    "\n",
    "        H_0: Длительность поездки у пользователей с подпиской и без неё, равна \n",
    "        H_a: Длительность поездки у пользователей с подпиской больше чем у пользователей без подписки\n",
    "        alpha = 0.05"
   ]
  },
  {
   "cell_type": "code",
   "execution_count": null,
   "id": "cd758f47",
   "metadata": {},
   "outputs": [
    {
     "name": "stdout",
     "output_type": "stream",
     "text": [
      "Отвергаем нулевую гипотезу\n",
      "Значение p-value: 2.4959453720736625e-34\n",
      "Средняя длительность: 1.146699914884561\n"
     ]
    }
   ],
   "source": [
    "# Проверяю гипотезу по длительности между пользователями с подпиской и без подписки\n",
    "results = st.ttest_ind(df_wo['duration'], df_with['duration'], alternative='less')\n",
    "p_value = results.pvalue\n",
    "duration_diff = df_with['duration'].mean() - df_wo['duration'].mean()\n",
    "if results.pvalue < 0.05:\n",
    "    print(\"Отвергаем нулевую гипотезу\")\n",
    "else:\n",
    "    print(\"Не получилось отвергнуть нулевую гипотезу\")\n",
    "print(\"Значение p-value:\", p_value)\n",
    "print(\"Средняя длительность:\", duration_diff)"
   ]
  },
  {
   "cell_type": "markdown",
   "id": "12af285f",
   "metadata": {},
   "source": [
    "Вывод: Проверка гипотезы показала, что длительность поездки у пользователей с подпиской больше чем у пользователей без подписки"
   ]
  },
  {
   "cell_type": "markdown",
   "id": "ce426df5",
   "metadata": {},
   "source": [
    "2) Проверка гипотезы: Расстояние, которое проезжают пользователи с подпиской за одну поездку, не превышает 3130 метров\n",
    "\n",
    "        H_0: Среднее расстояние пользователей с подпиской равно 3130 метров\n",
    "        H_a: Среднее расстояние пользователей с подпиской не превышает 3130 метров\n",
    "        alpha = 0.05"
   ]
  },
  {
   "cell_type": "code",
   "execution_count": 33,
   "id": "779be9d5",
   "metadata": {
    "scrolled": true
   },
   "outputs": [
    {
     "name": "stdout",
     "output_type": "stream",
     "text": [
      "Не получилось отвергнуть нулевую гипотезу\n",
      "Значение p-value: 0.08046311521502146\n",
      "Среднее расстояние: 3115.4453880370247\n"
     ]
    }
   ],
   "source": [
    "# Проверяю гипотезу по износу самоката среди пользователей с подпиской\n",
    "results = st.ttest_1samp(df_with['distance'], 3130, alternative='less')\n",
    "p_value = results.pvalue\n",
    "mean_distance = df_with['distance'].mean()\n",
    "if results.pvalue < 0.05:\n",
    "    print(\"Отвергаем нулевую гипотезу\")\n",
    "else:\n",
    "    print(\"Не получилось отвергнуть нулевую гипотезу\")\n",
    "print(\"Значение p-value:\", p_value)\n",
    "print(\"Среднее расстояние:\", mean_distance)"
   ]
  },
  {
   "cell_type": "markdown",
   "id": "676cee2c",
   "metadata": {},
   "source": [
    "Вывод: Проверка гипотезы показала, что cреднее расстояние пользователей с подпиской превышает или равно 3130 метров"
   ]
  },
  {
   "cell_type": "markdown",
   "id": "fe4f2206",
   "metadata": {},
   "source": [
    "3) Проверка гипотезы: Будет ли помесячная выручка от пользователей с подпиской по месяцам выше, чем выручка от пользователей без подписки\n",
    "\n",
    "        H_0: Выручка от пользователей без подписки выше или равна чем от пользователей с подпиской\n",
    "        H_a: Выручка от пользователей с подпиской выше чем от пользователей без подписки\n",
    "        alpha = 0.05"
   ]
  },
  {
   "cell_type": "code",
   "execution_count": 34,
   "id": "bededc67",
   "metadata": {},
   "outputs": [
    {
     "name": "stdout",
     "output_type": "stream",
     "text": [
      "Отвергаем нулевую гипотезу\n",
      "True\n",
      "Значение p-value: 1.8850394384715216e-31\n",
      "Разница в выручке: 34.15082549486567\n"
     ]
    }
   ],
   "source": [
    "# Проверяю гипотезу по разнице в помесячной выручке между разными типами пользователей\n",
    "results = st.ttest_ind(df_wo_agg['cost'], df_with_agg['cost'], alternative='less')\n",
    "p_value = results.pvalue\n",
    "diff_cost = df_with_agg['cost'].mean() - df_wo_agg['cost'].mean()\n",
    "if (results.pvalue / 2 < 0.05 and (df_with_agg['cost'].mean() > df_wo_agg['cost'].mean())):\n",
    "    print(\"Отвергаем нулевую гипотезу\")\n",
    "else:\n",
    "    print(\"Не получилось отвергнуть нулевую гипотезу\")\n",
    "print(df_with_agg['cost'].mean() > df_wo_agg['cost'].mean())\n",
    "print(\"Значение p-value:\", p_value)\n",
    "print(\"Разница в выручке:\", diff_cost)"
   ]
  },
  {
   "cell_type": "markdown",
   "id": "e55083f9",
   "metadata": {},
   "source": [
    "Вывод: Проверка гипотезы показала, что выручка от пользователей с подпиской выше чем от пользователей без подписки"
   ]
  },
  {
   "cell_type": "markdown",
   "id": "16e5be76",
   "metadata": {},
   "source": [
    "#### Общий вывод"
   ]
  },
  {
   "cell_type": "markdown",
   "id": "7abe08e3",
   "metadata": {},
   "source": [
    "\n",
    "Я провел исследовательский анализ данных, подсчитал выручку у пользователей с подпиской и без, проверил несколько гипотез и по проведенному анализу, могу сделать следующий вывод, что пользователи с подпиской Ultra являются более выгодными, т.к. выручка от них больше.\n",
    "\n",
    "Но стоит взять во внимание и тот факт, что пользователи с подпиской преодолевают больше растояния чем пользователи без подписки и превышают оптимальное расстояние для износа самоката, что может повлечь за собой дополнительные расходы на обслуживание и ремонт."
   ]
  }
 ],
 "metadata": {
  "ExecuteTimeLog": [
   {
    "duration": 43,
    "start_time": "2023-06-01T17:37:38.378Z"
   },
   {
    "duration": 406,
    "start_time": "2023-06-01T17:37:42.469Z"
   },
   {
    "duration": 256,
    "start_time": "2023-06-01T17:37:44.066Z"
   },
   {
    "duration": 94,
    "start_time": "2023-06-01T17:38:07.901Z"
   },
   {
    "duration": 15,
    "start_time": "2023-06-01T17:38:13.619Z"
   },
   {
    "duration": 8,
    "start_time": "2023-06-01T17:38:25.589Z"
   },
   {
    "duration": 8,
    "start_time": "2023-06-01T17:38:53.707Z"
   },
   {
    "duration": 14,
    "start_time": "2023-06-01T17:41:05.756Z"
   },
   {
    "duration": 28,
    "start_time": "2023-06-01T17:49:12.041Z"
   },
   {
    "duration": 5,
    "start_time": "2023-06-01T17:49:17.106Z"
   },
   {
    "duration": 5,
    "start_time": "2023-06-01T17:51:07.977Z"
   },
   {
    "duration": 14,
    "start_time": "2023-06-01T17:51:20.419Z"
   },
   {
    "duration": 13,
    "start_time": "2023-06-01T17:51:39.598Z"
   },
   {
    "duration": 8,
    "start_time": "2023-06-01T17:51:53.957Z"
   },
   {
    "duration": 15,
    "start_time": "2023-06-01T17:56:27.875Z"
   },
   {
    "duration": 11,
    "start_time": "2023-06-01T17:56:44.101Z"
   },
   {
    "duration": 15,
    "start_time": "2023-06-01T17:56:47.049Z"
   },
   {
    "duration": 12,
    "start_time": "2023-06-01T17:56:48.979Z"
   },
   {
    "duration": 22,
    "start_time": "2023-06-01T17:58:02.252Z"
   },
   {
    "duration": 25,
    "start_time": "2023-06-01T17:58:22.640Z"
   },
   {
    "duration": 20,
    "start_time": "2023-06-01T18:00:31.055Z"
   },
   {
    "duration": 16,
    "start_time": "2023-06-01T18:01:46.257Z"
   },
   {
    "duration": 413,
    "start_time": "2023-06-01T18:04:53.504Z"
   },
   {
    "duration": 64,
    "start_time": "2023-06-01T18:04:53.918Z"
   },
   {
    "duration": 13,
    "start_time": "2023-06-01T18:04:53.985Z"
   },
   {
    "duration": 17,
    "start_time": "2023-06-01T18:04:53.999Z"
   },
   {
    "duration": 34,
    "start_time": "2023-06-01T18:04:54.017Z"
   },
   {
    "duration": 83,
    "start_time": "2023-06-01T18:04:54.052Z"
   },
   {
    "duration": 0,
    "start_time": "2023-06-01T18:04:54.139Z"
   },
   {
    "duration": 0,
    "start_time": "2023-06-01T18:04:54.141Z"
   },
   {
    "duration": 0,
    "start_time": "2023-06-01T18:04:54.142Z"
   },
   {
    "duration": 0,
    "start_time": "2023-06-01T18:04:54.143Z"
   },
   {
    "duration": 0,
    "start_time": "2023-06-01T18:04:54.146Z"
   },
   {
    "duration": 3,
    "start_time": "2023-06-01T18:05:02.453Z"
   },
   {
    "duration": 7,
    "start_time": "2023-06-01T18:05:05.439Z"
   },
   {
    "duration": 5,
    "start_time": "2023-06-01T18:05:05.851Z"
   },
   {
    "duration": 18,
    "start_time": "2023-06-01T18:05:06.321Z"
   },
   {
    "duration": 15,
    "start_time": "2023-06-01T18:05:07.217Z"
   },
   {
    "duration": 13,
    "start_time": "2023-06-01T18:05:08.409Z"
   },
   {
    "duration": 14,
    "start_time": "2023-06-01T18:05:39.966Z"
   },
   {
    "duration": 14,
    "start_time": "2023-06-01T18:13:05.167Z"
   },
   {
    "duration": 17,
    "start_time": "2023-06-01T18:13:09.542Z"
   },
   {
    "duration": 388,
    "start_time": "2023-06-01T18:13:24.388Z"
   },
   {
    "duration": 78,
    "start_time": "2023-06-01T18:13:24.777Z"
   },
   {
    "duration": 13,
    "start_time": "2023-06-01T18:13:24.857Z"
   },
   {
    "duration": 8,
    "start_time": "2023-06-01T18:13:24.872Z"
   },
   {
    "duration": 8,
    "start_time": "2023-06-01T18:13:24.882Z"
   },
   {
    "duration": 5,
    "start_time": "2023-06-01T18:13:24.892Z"
   },
   {
    "duration": 19,
    "start_time": "2023-06-01T18:13:24.898Z"
   },
   {
    "duration": 11,
    "start_time": "2023-06-01T18:13:24.918Z"
   },
   {
    "duration": 54,
    "start_time": "2023-06-01T18:13:24.930Z"
   },
   {
    "duration": 17,
    "start_time": "2023-06-01T18:13:24.986Z"
   },
   {
    "duration": 14,
    "start_time": "2023-06-01T18:13:25.006Z"
   },
   {
    "duration": 23,
    "start_time": "2023-06-01T18:15:10.618Z"
   },
   {
    "duration": 389,
    "start_time": "2023-06-01T18:15:16.146Z"
   },
   {
    "duration": 63,
    "start_time": "2023-06-01T18:15:16.541Z"
   },
   {
    "duration": 13,
    "start_time": "2023-06-01T18:15:16.606Z"
   },
   {
    "duration": 82,
    "start_time": "2023-06-01T18:15:16.621Z"
   },
   {
    "duration": 130,
    "start_time": "2023-06-01T18:15:16.706Z"
   },
   {
    "duration": 61,
    "start_time": "2023-06-01T18:15:16.839Z"
   },
   {
    "duration": 46,
    "start_time": "2023-06-01T18:15:16.901Z"
   },
   {
    "duration": 24,
    "start_time": "2023-06-01T18:15:16.948Z"
   },
   {
    "duration": 28,
    "start_time": "2023-06-01T18:15:16.973Z"
   },
   {
    "duration": 50,
    "start_time": "2023-06-01T18:15:17.002Z"
   },
   {
    "duration": 16,
    "start_time": "2023-06-01T18:15:17.054Z"
   },
   {
    "duration": 7,
    "start_time": "2023-06-01T18:40:45.952Z"
   },
   {
    "duration": 424,
    "start_time": "2023-06-01T18:41:46.329Z"
   },
   {
    "duration": 172,
    "start_time": "2023-06-01T18:41:50.606Z"
   },
   {
    "duration": 152,
    "start_time": "2023-06-01T18:42:24.499Z"
   },
   {
    "duration": 149,
    "start_time": "2023-06-01T18:42:55.951Z"
   },
   {
    "duration": 197,
    "start_time": "2023-06-01T18:43:22.539Z"
   },
   {
    "duration": 6,
    "start_time": "2023-06-01T18:44:02.680Z"
   },
   {
    "duration": 148,
    "start_time": "2023-06-01T18:44:23.666Z"
   },
   {
    "duration": 189,
    "start_time": "2023-06-01T18:44:33.650Z"
   },
   {
    "duration": 311,
    "start_time": "2023-06-01T18:44:54.664Z"
   },
   {
    "duration": 671,
    "start_time": "2023-06-01T18:46:56.970Z"
   },
   {
    "duration": 65,
    "start_time": "2023-06-01T18:46:57.654Z"
   },
   {
    "duration": 30,
    "start_time": "2023-06-01T18:46:57.721Z"
   },
   {
    "duration": 22,
    "start_time": "2023-06-01T18:46:57.754Z"
   },
   {
    "duration": 25,
    "start_time": "2023-06-01T18:46:57.779Z"
   },
   {
    "duration": 17,
    "start_time": "2023-06-01T18:46:57.805Z"
   },
   {
    "duration": 42,
    "start_time": "2023-06-01T18:46:57.828Z"
   },
   {
    "duration": 37,
    "start_time": "2023-06-01T18:46:57.871Z"
   },
   {
    "duration": 26,
    "start_time": "2023-06-01T18:46:57.909Z"
   },
   {
    "duration": 45,
    "start_time": "2023-06-01T18:46:57.937Z"
   },
   {
    "duration": 13,
    "start_time": "2023-06-01T18:46:57.984Z"
   },
   {
    "duration": 15,
    "start_time": "2023-06-01T18:46:57.999Z"
   },
   {
    "duration": 290,
    "start_time": "2023-06-01T18:46:58.016Z"
   },
   {
    "duration": 185,
    "start_time": "2023-06-01T18:46:58.310Z"
   },
   {
    "duration": 339,
    "start_time": "2023-06-01T18:46:58.496Z"
   },
   {
    "duration": 98,
    "start_time": "2023-06-01T18:46:58.837Z"
   },
   {
    "duration": 237,
    "start_time": "2023-06-01T18:49:09.078Z"
   },
   {
    "duration": 117,
    "start_time": "2023-06-01T18:54:36.159Z"
   },
   {
    "duration": 288,
    "start_time": "2023-06-01T18:54:57.593Z"
   },
   {
    "duration": 280,
    "start_time": "2023-06-01T19:00:03.487Z"
   },
   {
    "duration": 296,
    "start_time": "2023-06-01T19:01:33.058Z"
   },
   {
    "duration": 26,
    "start_time": "2023-06-01T19:06:57.410Z"
   },
   {
    "duration": 20,
    "start_time": "2023-06-01T19:07:12.672Z"
   },
   {
    "duration": 17,
    "start_time": "2023-06-01T19:07:19.109Z"
   },
   {
    "duration": 20,
    "start_time": "2023-06-01T19:07:30.358Z"
   },
   {
    "duration": 27,
    "start_time": "2023-06-01T19:11:53.658Z"
   },
   {
    "duration": 6,
    "start_time": "2023-06-01T19:12:02.705Z"
   },
   {
    "duration": 16,
    "start_time": "2023-06-01T19:12:34.079Z"
   },
   {
    "duration": 13,
    "start_time": "2023-06-01T19:12:35.976Z"
   },
   {
    "duration": 609,
    "start_time": "2023-06-01T19:13:17.599Z"
   },
   {
    "duration": 67,
    "start_time": "2023-06-01T19:13:18.209Z"
   },
   {
    "duration": 10,
    "start_time": "2023-06-01T19:13:18.278Z"
   },
   {
    "duration": 21,
    "start_time": "2023-06-01T19:13:18.290Z"
   },
   {
    "duration": 25,
    "start_time": "2023-06-01T19:13:18.313Z"
   },
   {
    "duration": 8,
    "start_time": "2023-06-01T19:13:18.339Z"
   },
   {
    "duration": 22,
    "start_time": "2023-06-01T19:13:18.349Z"
   },
   {
    "duration": 21,
    "start_time": "2023-06-01T19:13:18.372Z"
   },
   {
    "duration": 22,
    "start_time": "2023-06-01T19:13:18.394Z"
   },
   {
    "duration": 24,
    "start_time": "2023-06-01T19:13:18.418Z"
   },
   {
    "duration": 24,
    "start_time": "2023-06-01T19:13:18.443Z"
   },
   {
    "duration": 18,
    "start_time": "2023-06-01T19:13:18.468Z"
   },
   {
    "duration": 182,
    "start_time": "2023-06-01T19:13:18.487Z"
   },
   {
    "duration": 129,
    "start_time": "2023-06-01T19:13:18.670Z"
   },
   {
    "duration": 247,
    "start_time": "2023-06-01T19:13:18.801Z"
   },
   {
    "duration": 316,
    "start_time": "2023-06-01T19:13:19.049Z"
   },
   {
    "duration": 278,
    "start_time": "2023-06-01T19:13:19.366Z"
   },
   {
    "duration": 3,
    "start_time": "2023-06-01T19:13:19.645Z"
   },
   {
    "duration": 30,
    "start_time": "2023-06-01T19:13:19.650Z"
   },
   {
    "duration": 11,
    "start_time": "2023-06-01T19:13:19.682Z"
   },
   {
    "duration": 9,
    "start_time": "2023-06-01T19:13:19.694Z"
   },
   {
    "duration": 265,
    "start_time": "2023-06-01T19:17:22.512Z"
   },
   {
    "duration": 207,
    "start_time": "2023-06-01T19:17:24.873Z"
   },
   {
    "duration": 272,
    "start_time": "2023-06-01T19:17:27.907Z"
   },
   {
    "duration": 238,
    "start_time": "2023-06-01T19:17:30.274Z"
   },
   {
    "duration": 275,
    "start_time": "2023-06-01T19:20:51.153Z"
   },
   {
    "duration": 254,
    "start_time": "2023-06-01T19:20:59.292Z"
   },
   {
    "duration": 4,
    "start_time": "2023-06-01T19:22:01.965Z"
   },
   {
    "duration": 3,
    "start_time": "2023-06-01T19:22:47.974Z"
   },
   {
    "duration": 241,
    "start_time": "2023-06-01T19:31:28.119Z"
   },
   {
    "duration": 10,
    "start_time": "2023-06-01T19:32:08.861Z"
   },
   {
    "duration": 15,
    "start_time": "2023-06-01T19:32:33.936Z"
   },
   {
    "duration": 20,
    "start_time": "2023-06-01T19:33:05.145Z"
   },
   {
    "duration": 22,
    "start_time": "2023-06-01T19:34:29.703Z"
   },
   {
    "duration": 16,
    "start_time": "2023-06-01T19:36:47.905Z"
   },
   {
    "duration": 11,
    "start_time": "2023-06-01T19:36:59.618Z"
   },
   {
    "duration": 16,
    "start_time": "2023-06-01T19:37:06.883Z"
   },
   {
    "duration": 15,
    "start_time": "2023-06-01T19:37:22.525Z"
   },
   {
    "duration": 80,
    "start_time": "2023-06-01T20:01:21.146Z"
   },
   {
    "duration": 16,
    "start_time": "2023-06-01T20:01:25.325Z"
   },
   {
    "duration": 8,
    "start_time": "2023-06-01T20:04:42.132Z"
   },
   {
    "duration": 8,
    "start_time": "2023-06-01T20:04:52.989Z"
   },
   {
    "duration": 86,
    "start_time": "2023-06-01T20:04:58.599Z"
   },
   {
    "duration": 7,
    "start_time": "2023-06-01T20:05:01.910Z"
   },
   {
    "duration": 8,
    "start_time": "2023-06-01T20:05:15.305Z"
   },
   {
    "duration": 74,
    "start_time": "2023-06-01T20:06:07.071Z"
   },
   {
    "duration": 20,
    "start_time": "2023-06-01T20:06:13.497Z"
   },
   {
    "duration": 11,
    "start_time": "2023-06-01T20:07:00.670Z"
   },
   {
    "duration": 7,
    "start_time": "2023-06-01T20:07:38.498Z"
   },
   {
    "duration": 23,
    "start_time": "2023-06-01T20:09:30.418Z"
   },
   {
    "duration": 14,
    "start_time": "2023-06-01T20:24:25.138Z"
   },
   {
    "duration": 20,
    "start_time": "2023-06-01T20:24:42.870Z"
   },
   {
    "duration": 82,
    "start_time": "2023-06-01T21:09:38.458Z"
   },
   {
    "duration": 69,
    "start_time": "2023-06-01T21:09:56.261Z"
   },
   {
    "duration": 79,
    "start_time": "2023-06-01T21:10:00.965Z"
   },
   {
    "duration": 155,
    "start_time": "2023-06-01T21:10:05.934Z"
   },
   {
    "duration": 71,
    "start_time": "2023-06-01T21:11:27.368Z"
   },
   {
    "duration": 84,
    "start_time": "2023-06-01T21:12:14.583Z"
   },
   {
    "duration": 1473,
    "start_time": "2023-06-01T21:12:18.296Z"
   },
   {
    "duration": 72,
    "start_time": "2023-06-01T21:15:49.258Z"
   },
   {
    "duration": 14,
    "start_time": "2023-06-01T21:15:56.826Z"
   },
   {
    "duration": 20,
    "start_time": "2023-06-01T21:16:22.791Z"
   },
   {
    "duration": 12,
    "start_time": "2023-06-01T21:17:12.469Z"
   },
   {
    "duration": 166,
    "start_time": "2023-06-01T21:17:28.550Z"
   },
   {
    "duration": 20,
    "start_time": "2023-06-01T21:17:44.376Z"
   },
   {
    "duration": 1254,
    "start_time": "2023-06-01T21:18:45.415Z"
   },
   {
    "duration": 17,
    "start_time": "2023-06-01T21:19:00.403Z"
   },
   {
    "duration": 4,
    "start_time": "2023-06-01T21:20:08.994Z"
   },
   {
    "duration": 2,
    "start_time": "2023-06-01T21:20:13.716Z"
   },
   {
    "duration": 13,
    "start_time": "2023-06-01T21:21:27.644Z"
   },
   {
    "duration": 11,
    "start_time": "2023-06-01T21:21:45.973Z"
   },
   {
    "duration": 99,
    "start_time": "2023-06-01T21:23:05.545Z"
   },
   {
    "duration": 72,
    "start_time": "2023-06-01T21:23:32.274Z"
   },
   {
    "duration": 19,
    "start_time": "2023-06-01T21:23:37.396Z"
   },
   {
    "duration": 2,
    "start_time": "2023-06-01T21:23:46.910Z"
   },
   {
    "duration": 4957,
    "start_time": "2023-06-01T21:23:51.357Z"
   },
   {
    "duration": 5257,
    "start_time": "2023-06-01T21:23:59.334Z"
   },
   {
    "duration": 3432,
    "start_time": "2023-06-01T21:24:45.182Z"
   },
   {
    "duration": 1787,
    "start_time": "2023-06-01T21:24:55.773Z"
   },
   {
    "duration": 5440,
    "start_time": "2023-06-01T21:25:25.882Z"
   },
   {
    "duration": 4551,
    "start_time": "2023-06-01T21:27:44.274Z"
   },
   {
    "duration": 4564,
    "start_time": "2023-06-01T21:27:57.612Z"
   },
   {
    "duration": 1832,
    "start_time": "2023-06-01T21:28:10.615Z"
   },
   {
    "duration": 2312,
    "start_time": "2023-06-01T21:28:21.480Z"
   },
   {
    "duration": 1943,
    "start_time": "2023-06-01T21:28:37.417Z"
   },
   {
    "duration": 2183,
    "start_time": "2023-06-01T21:28:49.173Z"
   },
   {
    "duration": 2052,
    "start_time": "2023-06-01T21:29:07.677Z"
   },
   {
    "duration": 1998,
    "start_time": "2023-06-01T21:29:47.973Z"
   },
   {
    "duration": 2139,
    "start_time": "2023-06-01T21:30:00.580Z"
   },
   {
    "duration": 2199,
    "start_time": "2023-06-01T21:30:09.526Z"
   },
   {
    "duration": 2246,
    "start_time": "2023-06-01T21:30:15.942Z"
   },
   {
    "duration": 611,
    "start_time": "2023-06-01T21:30:39.109Z"
   },
   {
    "duration": 66,
    "start_time": "2023-06-01T21:30:39.722Z"
   },
   {
    "duration": 10,
    "start_time": "2023-06-01T21:30:39.792Z"
   },
   {
    "duration": 8,
    "start_time": "2023-06-01T21:30:39.804Z"
   },
   {
    "duration": 8,
    "start_time": "2023-06-01T21:30:39.813Z"
   },
   {
    "duration": 5,
    "start_time": "2023-06-01T21:30:39.823Z"
   },
   {
    "duration": 9,
    "start_time": "2023-06-01T21:30:39.830Z"
   },
   {
    "duration": 5,
    "start_time": "2023-06-01T21:30:39.840Z"
   },
   {
    "duration": 20,
    "start_time": "2023-06-01T21:30:39.846Z"
   },
   {
    "duration": 14,
    "start_time": "2023-06-01T21:30:39.867Z"
   },
   {
    "duration": 11,
    "start_time": "2023-06-01T21:30:39.882Z"
   },
   {
    "duration": 2,
    "start_time": "2023-06-01T21:30:39.924Z"
   },
   {
    "duration": 174,
    "start_time": "2023-06-01T21:30:39.929Z"
   },
   {
    "duration": 138,
    "start_time": "2023-06-01T21:30:40.105Z"
   },
   {
    "duration": 249,
    "start_time": "2023-06-01T21:30:40.245Z"
   },
   {
    "duration": 334,
    "start_time": "2023-06-01T21:30:40.495Z"
   },
   {
    "duration": 294,
    "start_time": "2023-06-01T21:30:40.830Z"
   },
   {
    "duration": 2,
    "start_time": "2023-06-01T21:30:41.126Z"
   },
   {
    "duration": 18,
    "start_time": "2023-06-01T21:30:41.129Z"
   },
   {
    "duration": 7,
    "start_time": "2023-06-01T21:30:41.148Z"
   },
   {
    "duration": 6,
    "start_time": "2023-06-01T21:30:41.157Z"
   },
   {
    "duration": 295,
    "start_time": "2023-06-01T21:30:41.164Z"
   },
   {
    "duration": 233,
    "start_time": "2023-06-01T21:30:41.460Z"
   },
   {
    "duration": 268,
    "start_time": "2023-06-01T21:30:41.694Z"
   },
   {
    "duration": 241,
    "start_time": "2023-06-01T21:30:41.963Z"
   },
   {
    "duration": 2,
    "start_time": "2023-06-01T21:30:42.206Z"
   },
   {
    "duration": 5,
    "start_time": "2023-06-01T21:30:42.210Z"
   },
   {
    "duration": 4,
    "start_time": "2023-06-01T21:30:42.224Z"
   },
   {
    "duration": 15,
    "start_time": "2023-06-01T21:30:42.229Z"
   },
   {
    "duration": 9,
    "start_time": "2023-06-01T21:30:42.245Z"
   },
   {
    "duration": 2330,
    "start_time": "2023-06-01T21:30:42.256Z"
   },
   {
    "duration": 2159,
    "start_time": "2023-06-01T21:30:44.588Z"
   },
   {
    "duration": 681,
    "start_time": "2023-06-01T21:31:39.240Z"
   },
   {
    "duration": 68,
    "start_time": "2023-06-01T21:31:39.925Z"
   },
   {
    "duration": 14,
    "start_time": "2023-06-01T21:31:39.995Z"
   },
   {
    "duration": 40,
    "start_time": "2023-06-01T21:31:40.011Z"
   },
   {
    "duration": 33,
    "start_time": "2023-06-01T21:31:40.053Z"
   },
   {
    "duration": 17,
    "start_time": "2023-06-01T21:31:40.087Z"
   },
   {
    "duration": 21,
    "start_time": "2023-06-01T21:31:40.106Z"
   },
   {
    "duration": 17,
    "start_time": "2023-06-01T21:31:40.129Z"
   },
   {
    "duration": 32,
    "start_time": "2023-06-01T21:31:40.148Z"
   },
   {
    "duration": 17,
    "start_time": "2023-06-01T21:31:40.181Z"
   },
   {
    "duration": 13,
    "start_time": "2023-06-01T21:31:40.199Z"
   },
   {
    "duration": 2,
    "start_time": "2023-06-01T21:31:40.225Z"
   },
   {
    "duration": 205,
    "start_time": "2023-06-01T21:31:40.229Z"
   },
   {
    "duration": 148,
    "start_time": "2023-06-01T21:31:40.437Z"
   },
   {
    "duration": 261,
    "start_time": "2023-06-01T21:31:40.586Z"
   },
   {
    "duration": 384,
    "start_time": "2023-06-01T21:31:40.849Z"
   },
   {
    "duration": 290,
    "start_time": "2023-06-01T21:31:41.235Z"
   },
   {
    "duration": 2,
    "start_time": "2023-06-01T21:31:41.527Z"
   },
   {
    "duration": 30,
    "start_time": "2023-06-01T21:31:41.531Z"
   },
   {
    "duration": 23,
    "start_time": "2023-06-01T21:31:41.562Z"
   },
   {
    "duration": 7,
    "start_time": "2023-06-01T21:31:41.586Z"
   },
   {
    "duration": 262,
    "start_time": "2023-06-01T21:31:41.594Z"
   },
   {
    "duration": 226,
    "start_time": "2023-06-01T21:31:41.858Z"
   },
   {
    "duration": 276,
    "start_time": "2023-06-01T21:31:42.085Z"
   },
   {
    "duration": 249,
    "start_time": "2023-06-01T21:31:42.363Z"
   },
   {
    "duration": 2,
    "start_time": "2023-06-01T21:31:42.614Z"
   },
   {
    "duration": 11,
    "start_time": "2023-06-01T21:31:42.623Z"
   },
   {
    "duration": 15,
    "start_time": "2023-06-01T21:31:42.636Z"
   },
   {
    "duration": 48,
    "start_time": "2023-06-01T21:31:42.652Z"
   },
   {
    "duration": 17,
    "start_time": "2023-06-01T21:31:42.702Z"
   },
   {
    "duration": 2250,
    "start_time": "2023-06-01T21:31:42.720Z"
   },
   {
    "duration": 1372,
    "start_time": "2023-06-01T21:31:44.972Z"
   },
   {
    "duration": 2148,
    "start_time": "2023-06-01T21:32:55.954Z"
   },
   {
    "duration": 1439,
    "start_time": "2023-06-01T21:33:04.555Z"
   },
   {
    "duration": 598,
    "start_time": "2023-06-01T21:33:21.947Z"
   },
   {
    "duration": 65,
    "start_time": "2023-06-01T21:33:22.546Z"
   },
   {
    "duration": 11,
    "start_time": "2023-06-01T21:33:22.613Z"
   },
   {
    "duration": 11,
    "start_time": "2023-06-01T21:33:22.626Z"
   },
   {
    "duration": 20,
    "start_time": "2023-06-01T21:33:22.639Z"
   },
   {
    "duration": 20,
    "start_time": "2023-06-01T21:33:22.661Z"
   },
   {
    "duration": 18,
    "start_time": "2023-06-01T21:33:22.683Z"
   },
   {
    "duration": 12,
    "start_time": "2023-06-01T21:33:22.703Z"
   },
   {
    "duration": 25,
    "start_time": "2023-06-01T21:33:22.717Z"
   },
   {
    "duration": 15,
    "start_time": "2023-06-01T21:33:22.745Z"
   },
   {
    "duration": 30,
    "start_time": "2023-06-01T21:33:22.761Z"
   },
   {
    "duration": 22,
    "start_time": "2023-06-01T21:33:22.793Z"
   },
   {
    "duration": 178,
    "start_time": "2023-06-01T21:33:22.817Z"
   },
   {
    "duration": 139,
    "start_time": "2023-06-01T21:33:22.996Z"
   },
   {
    "duration": 254,
    "start_time": "2023-06-01T21:33:23.137Z"
   },
   {
    "duration": 360,
    "start_time": "2023-06-01T21:33:23.393Z"
   },
   {
    "duration": 270,
    "start_time": "2023-06-01T21:33:23.755Z"
   },
   {
    "duration": 2,
    "start_time": "2023-06-01T21:33:24.026Z"
   },
   {
    "duration": 29,
    "start_time": "2023-06-01T21:33:24.030Z"
   },
   {
    "duration": 16,
    "start_time": "2023-06-01T21:33:24.060Z"
   },
   {
    "duration": 18,
    "start_time": "2023-06-01T21:33:24.078Z"
   },
   {
    "duration": 258,
    "start_time": "2023-06-01T21:33:24.097Z"
   },
   {
    "duration": 223,
    "start_time": "2023-06-01T21:33:24.356Z"
   },
   {
    "duration": 285,
    "start_time": "2023-06-01T21:33:24.581Z"
   },
   {
    "duration": 222,
    "start_time": "2023-06-01T21:33:24.868Z"
   },
   {
    "duration": 2,
    "start_time": "2023-06-01T21:33:25.091Z"
   },
   {
    "duration": 44,
    "start_time": "2023-06-01T21:33:25.095Z"
   },
   {
    "duration": 33,
    "start_time": "2023-06-01T21:33:25.142Z"
   },
   {
    "duration": 29,
    "start_time": "2023-06-01T21:33:25.177Z"
   },
   {
    "duration": 14,
    "start_time": "2023-06-01T21:33:25.207Z"
   },
   {
    "duration": 2207,
    "start_time": "2023-06-01T21:33:25.223Z"
   },
   {
    "duration": 1395,
    "start_time": "2023-06-01T21:33:27.431Z"
   },
   {
    "duration": 3,
    "start_time": "2023-06-01T21:34:21.317Z"
   },
   {
    "duration": 475,
    "start_time": "2023-06-01T21:38:40.614Z"
   },
   {
    "duration": 84,
    "start_time": "2023-06-01T21:55:07.778Z"
   },
   {
    "duration": 86,
    "start_time": "2023-06-01T21:55:14.890Z"
   },
   {
    "duration": 18,
    "start_time": "2023-06-01T21:55:19.298Z"
   },
   {
    "duration": 9,
    "start_time": "2023-06-01T21:55:41.165Z"
   },
   {
    "duration": 3,
    "start_time": "2023-06-01T21:56:06.464Z"
   },
   {
    "duration": 5,
    "start_time": "2023-06-01T21:56:10.153Z"
   },
   {
    "duration": 6,
    "start_time": "2023-06-01T21:56:37.293Z"
   },
   {
    "duration": 6,
    "start_time": "2023-06-01T21:57:24.538Z"
   },
   {
    "duration": 4,
    "start_time": "2023-06-01T21:59:22.273Z"
   },
   {
    "duration": 6,
    "start_time": "2023-06-01T22:00:36.362Z"
   },
   {
    "duration": 5,
    "start_time": "2023-06-01T22:04:39.256Z"
   },
   {
    "duration": 4,
    "start_time": "2023-06-01T22:04:49.042Z"
   },
   {
    "duration": 6,
    "start_time": "2023-06-01T22:05:04.002Z"
   },
   {
    "duration": 7,
    "start_time": "2023-06-01T22:05:14.850Z"
   },
   {
    "duration": 5,
    "start_time": "2023-06-01T22:05:49.409Z"
   },
   {
    "duration": 10,
    "start_time": "2023-06-01T22:07:03.362Z"
   },
   {
    "duration": 5,
    "start_time": "2023-06-01T22:07:12.507Z"
   },
   {
    "duration": 5,
    "start_time": "2023-06-01T22:07:15.380Z"
   },
   {
    "duration": 6,
    "start_time": "2023-06-01T22:07:24.516Z"
   },
   {
    "duration": 4,
    "start_time": "2023-06-01T22:08:05.851Z"
   },
   {
    "duration": 5,
    "start_time": "2023-06-01T22:08:07.891Z"
   },
   {
    "duration": 7,
    "start_time": "2023-06-01T22:08:45.287Z"
   },
   {
    "duration": 1067,
    "start_time": "2023-06-01T22:09:00.633Z"
   },
   {
    "duration": 66,
    "start_time": "2023-06-01T22:09:01.702Z"
   },
   {
    "duration": 10,
    "start_time": "2023-06-01T22:09:01.769Z"
   },
   {
    "duration": 25,
    "start_time": "2023-06-01T22:09:01.781Z"
   },
   {
    "duration": 21,
    "start_time": "2023-06-01T22:09:01.808Z"
   },
   {
    "duration": 32,
    "start_time": "2023-06-01T22:09:01.830Z"
   },
   {
    "duration": 24,
    "start_time": "2023-06-01T22:09:01.864Z"
   },
   {
    "duration": 9,
    "start_time": "2023-06-01T22:09:01.889Z"
   },
   {
    "duration": 23,
    "start_time": "2023-06-01T22:09:01.900Z"
   },
   {
    "duration": 70,
    "start_time": "2023-06-01T22:09:01.924Z"
   },
   {
    "duration": 95,
    "start_time": "2023-06-01T22:09:01.995Z"
   },
   {
    "duration": 65,
    "start_time": "2023-06-01T22:09:02.092Z"
   },
   {
    "duration": 276,
    "start_time": "2023-06-01T22:09:02.159Z"
   },
   {
    "duration": 129,
    "start_time": "2023-06-01T22:09:02.438Z"
   },
   {
    "duration": 246,
    "start_time": "2023-06-01T22:09:02.568Z"
   },
   {
    "duration": 311,
    "start_time": "2023-06-01T22:09:02.815Z"
   },
   {
    "duration": 299,
    "start_time": "2023-06-01T22:09:03.127Z"
   },
   {
    "duration": 3,
    "start_time": "2023-06-01T22:09:03.427Z"
   },
   {
    "duration": 38,
    "start_time": "2023-06-01T22:09:03.431Z"
   },
   {
    "duration": 8,
    "start_time": "2023-06-01T22:09:03.470Z"
   },
   {
    "duration": 23,
    "start_time": "2023-06-01T22:09:03.480Z"
   },
   {
    "duration": 258,
    "start_time": "2023-06-01T22:09:03.504Z"
   },
   {
    "duration": 219,
    "start_time": "2023-06-01T22:09:03.763Z"
   },
   {
    "duration": 261,
    "start_time": "2023-06-01T22:09:03.983Z"
   },
   {
    "duration": 292,
    "start_time": "2023-06-01T22:09:04.246Z"
   },
   {
    "duration": 3,
    "start_time": "2023-06-01T22:09:04.539Z"
   },
   {
    "duration": 100,
    "start_time": "2023-06-01T22:09:04.543Z"
   },
   {
    "duration": 17,
    "start_time": "2023-06-01T22:09:04.645Z"
   },
   {
    "duration": 36,
    "start_time": "2023-06-01T22:09:04.664Z"
   },
   {
    "duration": 11,
    "start_time": "2023-06-01T22:09:04.701Z"
   },
   {
    "duration": 2135,
    "start_time": "2023-06-01T22:09:04.713Z"
   },
   {
    "duration": 1418,
    "start_time": "2023-06-01T22:09:06.850Z"
   },
   {
    "duration": 105,
    "start_time": "2023-06-01T22:09:08.269Z"
   },
   {
    "duration": 0,
    "start_time": "2023-06-01T22:09:08.375Z"
   },
   {
    "duration": 5,
    "start_time": "2023-06-01T22:09:25.948Z"
   },
   {
    "duration": 6,
    "start_time": "2023-06-01T22:09:28.044Z"
   },
   {
    "duration": 6,
    "start_time": "2023-06-01T22:10:46.086Z"
   },
   {
    "duration": 5,
    "start_time": "2023-06-01T22:10:48.390Z"
   },
   {
    "duration": 4,
    "start_time": "2023-06-01T22:11:19.323Z"
   },
   {
    "duration": 4,
    "start_time": "2023-06-01T22:11:21.699Z"
   },
   {
    "duration": 4,
    "start_time": "2023-06-01T22:12:50.037Z"
   },
   {
    "duration": 4,
    "start_time": "2023-06-01T22:12:55.903Z"
   },
   {
    "duration": 8,
    "start_time": "2023-06-01T22:26:47.008Z"
   },
   {
    "duration": 2,
    "start_time": "2023-06-01T22:43:22.667Z"
   },
   {
    "duration": 834,
    "start_time": "2023-06-01T22:43:27.819Z"
   },
   {
    "duration": 64,
    "start_time": "2023-06-01T22:43:28.655Z"
   },
   {
    "duration": 21,
    "start_time": "2023-06-01T22:43:28.721Z"
   },
   {
    "duration": 31,
    "start_time": "2023-06-01T22:43:28.743Z"
   },
   {
    "duration": 30,
    "start_time": "2023-06-01T22:43:28.775Z"
   },
   {
    "duration": 8,
    "start_time": "2023-06-01T22:43:28.806Z"
   },
   {
    "duration": 29,
    "start_time": "2023-06-01T22:43:28.815Z"
   },
   {
    "duration": 23,
    "start_time": "2023-06-01T22:43:28.846Z"
   },
   {
    "duration": 20,
    "start_time": "2023-06-01T22:43:28.870Z"
   },
   {
    "duration": 13,
    "start_time": "2023-06-01T22:43:28.892Z"
   },
   {
    "duration": 19,
    "start_time": "2023-06-01T22:43:28.906Z"
   },
   {
    "duration": 26,
    "start_time": "2023-06-01T22:43:28.927Z"
   },
   {
    "duration": 547,
    "start_time": "2023-06-01T22:43:28.955Z"
   },
   {
    "duration": 0,
    "start_time": "2023-06-01T22:43:29.504Z"
   },
   {
    "duration": 0,
    "start_time": "2023-06-01T22:43:29.505Z"
   },
   {
    "duration": 0,
    "start_time": "2023-06-01T22:43:29.506Z"
   },
   {
    "duration": 0,
    "start_time": "2023-06-01T22:43:29.507Z"
   },
   {
    "duration": 0,
    "start_time": "2023-06-01T22:43:29.508Z"
   },
   {
    "duration": 0,
    "start_time": "2023-06-01T22:43:29.509Z"
   },
   {
    "duration": 0,
    "start_time": "2023-06-01T22:43:29.510Z"
   },
   {
    "duration": 0,
    "start_time": "2023-06-01T22:43:29.528Z"
   },
   {
    "duration": 0,
    "start_time": "2023-06-01T22:43:29.531Z"
   },
   {
    "duration": 0,
    "start_time": "2023-06-01T22:43:29.531Z"
   },
   {
    "duration": 0,
    "start_time": "2023-06-01T22:43:29.532Z"
   },
   {
    "duration": 0,
    "start_time": "2023-06-01T22:43:29.536Z"
   },
   {
    "duration": 0,
    "start_time": "2023-06-01T22:43:29.537Z"
   },
   {
    "duration": 0,
    "start_time": "2023-06-01T22:43:29.537Z"
   },
   {
    "duration": 0,
    "start_time": "2023-06-01T22:43:29.538Z"
   },
   {
    "duration": 0,
    "start_time": "2023-06-01T22:43:29.539Z"
   },
   {
    "duration": 0,
    "start_time": "2023-06-01T22:43:29.540Z"
   },
   {
    "duration": 0,
    "start_time": "2023-06-01T22:43:29.542Z"
   },
   {
    "duration": 0,
    "start_time": "2023-06-01T22:43:29.544Z"
   },
   {
    "duration": 0,
    "start_time": "2023-06-01T22:43:29.545Z"
   },
   {
    "duration": 0,
    "start_time": "2023-06-01T22:43:29.546Z"
   },
   {
    "duration": 0,
    "start_time": "2023-06-01T22:43:29.547Z"
   },
   {
    "duration": 0,
    "start_time": "2023-06-01T22:43:29.548Z"
   },
   {
    "duration": 16,
    "start_time": "2023-06-01T22:44:41.373Z"
   },
   {
    "duration": 16,
    "start_time": "2023-06-01T22:44:44.261Z"
   },
   {
    "duration": 20,
    "start_time": "2023-06-01T22:45:27.834Z"
   },
   {
    "duration": 18,
    "start_time": "2023-06-01T22:45:31.237Z"
   },
   {
    "duration": 36,
    "start_time": "2023-06-01T22:45:33.403Z"
   },
   {
    "duration": 6,
    "start_time": "2023-06-01T22:45:43.413Z"
   },
   {
    "duration": 1008,
    "start_time": "2023-06-01T22:49:50.164Z"
   },
   {
    "duration": 77,
    "start_time": "2023-06-01T22:49:51.174Z"
   },
   {
    "duration": 22,
    "start_time": "2023-06-01T22:49:51.252Z"
   },
   {
    "duration": 28,
    "start_time": "2023-06-01T22:49:51.276Z"
   },
   {
    "duration": 6,
    "start_time": "2023-06-01T22:49:51.306Z"
   },
   {
    "duration": 5,
    "start_time": "2023-06-01T22:49:51.313Z"
   },
   {
    "duration": 23,
    "start_time": "2023-06-01T22:49:51.319Z"
   },
   {
    "duration": 12,
    "start_time": "2023-06-01T22:49:51.344Z"
   },
   {
    "duration": 27,
    "start_time": "2023-06-01T22:49:51.357Z"
   },
   {
    "duration": 12,
    "start_time": "2023-06-01T22:49:51.385Z"
   },
   {
    "duration": 17,
    "start_time": "2023-06-01T22:49:51.398Z"
   },
   {
    "duration": 20,
    "start_time": "2023-06-01T22:49:51.417Z"
   },
   {
    "duration": 171,
    "start_time": "2023-06-01T22:49:51.438Z"
   },
   {
    "duration": 133,
    "start_time": "2023-06-01T22:49:51.612Z"
   },
   {
    "duration": 232,
    "start_time": "2023-06-01T22:49:51.746Z"
   },
   {
    "duration": 282,
    "start_time": "2023-06-01T22:49:51.979Z"
   },
   {
    "duration": 278,
    "start_time": "2023-06-01T22:49:52.263Z"
   },
   {
    "duration": 2,
    "start_time": "2023-06-01T22:49:52.543Z"
   },
   {
    "duration": 25,
    "start_time": "2023-06-01T22:49:52.546Z"
   },
   {
    "duration": 8,
    "start_time": "2023-06-01T22:49:52.573Z"
   },
   {
    "duration": 13,
    "start_time": "2023-06-01T22:49:52.582Z"
   },
   {
    "duration": 258,
    "start_time": "2023-06-01T22:49:52.597Z"
   },
   {
    "duration": 224,
    "start_time": "2023-06-01T22:49:52.857Z"
   },
   {
    "duration": 265,
    "start_time": "2023-06-01T22:49:53.083Z"
   },
   {
    "duration": 295,
    "start_time": "2023-06-01T22:49:53.349Z"
   },
   {
    "duration": 2,
    "start_time": "2023-06-01T22:49:53.645Z"
   },
   {
    "duration": 11,
    "start_time": "2023-06-01T22:49:53.649Z"
   },
   {
    "duration": 4,
    "start_time": "2023-06-01T22:49:53.661Z"
   },
   {
    "duration": 21,
    "start_time": "2023-06-01T22:49:53.667Z"
   },
   {
    "duration": 12,
    "start_time": "2023-06-01T22:49:53.690Z"
   },
   {
    "duration": 2052,
    "start_time": "2023-06-01T22:49:53.703Z"
   },
   {
    "duration": 1376,
    "start_time": "2023-06-01T22:49:55.756Z"
   },
   {
    "duration": 5,
    "start_time": "2023-06-01T22:49:57.141Z"
   },
   {
    "duration": 22,
    "start_time": "2023-06-01T22:49:57.147Z"
   },
   {
    "duration": 17,
    "start_time": "2023-06-01T22:49:57.170Z"
   },
   {
    "duration": 100,
    "start_time": "2023-06-01T22:49:57.189Z"
   },
   {
    "duration": 5,
    "start_time": "2023-06-01T23:05:17.697Z"
   },
   {
    "duration": 11,
    "start_time": "2023-06-01T23:09:29.855Z"
   },
   {
    "duration": 5,
    "start_time": "2023-06-01T23:10:35.496Z"
   },
   {
    "duration": 11,
    "start_time": "2023-06-01T23:11:04.139Z"
   },
   {
    "duration": 101,
    "start_time": "2023-06-01T23:12:29.582Z"
   },
   {
    "duration": 1271,
    "start_time": "2023-06-02T09:16:12.293Z"
   },
   {
    "duration": 92,
    "start_time": "2023-06-02T09:16:13.566Z"
   },
   {
    "duration": 44,
    "start_time": "2023-06-02T09:16:13.660Z"
   },
   {
    "duration": 29,
    "start_time": "2023-06-02T09:16:13.707Z"
   },
   {
    "duration": 8,
    "start_time": "2023-06-02T09:16:13.738Z"
   },
   {
    "duration": 12,
    "start_time": "2023-06-02T09:16:13.747Z"
   },
   {
    "duration": 48,
    "start_time": "2023-06-02T09:16:13.761Z"
   },
   {
    "duration": 21,
    "start_time": "2023-06-02T09:16:13.811Z"
   },
   {
    "duration": 30,
    "start_time": "2023-06-02T09:16:13.834Z"
   },
   {
    "duration": 42,
    "start_time": "2023-06-02T09:16:13.866Z"
   },
   {
    "duration": 13,
    "start_time": "2023-06-02T09:16:13.914Z"
   },
   {
    "duration": 15,
    "start_time": "2023-06-02T09:16:13.928Z"
   },
   {
    "duration": 246,
    "start_time": "2023-06-02T09:16:13.944Z"
   },
   {
    "duration": 213,
    "start_time": "2023-06-02T09:16:14.192Z"
   },
   {
    "duration": 337,
    "start_time": "2023-06-02T09:16:14.407Z"
   },
   {
    "duration": 420,
    "start_time": "2023-06-02T09:16:14.747Z"
   },
   {
    "duration": 365,
    "start_time": "2023-06-02T09:16:15.169Z"
   },
   {
    "duration": 3,
    "start_time": "2023-06-02T09:16:15.536Z"
   },
   {
    "duration": 51,
    "start_time": "2023-06-02T09:16:15.541Z"
   },
   {
    "duration": 15,
    "start_time": "2023-06-02T09:16:15.596Z"
   },
   {
    "duration": 8,
    "start_time": "2023-06-02T09:16:15.614Z"
   },
   {
    "duration": 377,
    "start_time": "2023-06-02T09:16:15.624Z"
   },
   {
    "duration": 266,
    "start_time": "2023-06-02T09:16:16.007Z"
   },
   {
    "duration": 354,
    "start_time": "2023-06-02T09:16:16.275Z"
   },
   {
    "duration": 340,
    "start_time": "2023-06-02T09:16:16.631Z"
   },
   {
    "duration": 6,
    "start_time": "2023-06-02T09:16:16.977Z"
   },
   {
    "duration": 20,
    "start_time": "2023-06-02T09:16:16.985Z"
   },
   {
    "duration": 3,
    "start_time": "2023-06-02T09:16:17.014Z"
   },
   {
    "duration": 19,
    "start_time": "2023-06-02T09:16:17.019Z"
   },
   {
    "duration": 14,
    "start_time": "2023-06-02T09:16:17.041Z"
   },
   {
    "duration": 2737,
    "start_time": "2023-06-02T09:16:17.057Z"
   },
   {
    "duration": 1897,
    "start_time": "2023-06-02T09:16:19.800Z"
   },
   {
    "duration": 11,
    "start_time": "2023-06-02T09:16:21.699Z"
   },
   {
    "duration": 8,
    "start_time": "2023-06-02T09:16:21.715Z"
   },
   {
    "duration": 18,
    "start_time": "2023-06-02T09:16:21.725Z"
   },
   {
    "duration": 172,
    "start_time": "2023-06-02T09:16:21.745Z"
   },
   {
    "duration": 1258,
    "start_time": "2023-06-02T13:24:11.705Z"
   },
   {
    "duration": 328,
    "start_time": "2023-06-02T13:24:12.965Z"
   },
   {
    "duration": 21,
    "start_time": "2023-06-02T13:24:13.295Z"
   },
   {
    "duration": 20,
    "start_time": "2023-06-02T13:24:13.318Z"
   },
   {
    "duration": 17,
    "start_time": "2023-06-02T13:24:13.339Z"
   },
   {
    "duration": 10,
    "start_time": "2023-06-02T13:24:13.357Z"
   },
   {
    "duration": 8,
    "start_time": "2023-06-02T13:24:13.369Z"
   },
   {
    "duration": 7,
    "start_time": "2023-06-02T13:24:13.378Z"
   },
   {
    "duration": 16,
    "start_time": "2023-06-02T13:24:13.386Z"
   },
   {
    "duration": 24,
    "start_time": "2023-06-02T13:24:13.404Z"
   },
   {
    "duration": 9,
    "start_time": "2023-06-02T13:24:13.430Z"
   },
   {
    "duration": 1,
    "start_time": "2023-06-02T13:24:13.441Z"
   },
   {
    "duration": 169,
    "start_time": "2023-06-02T13:24:13.444Z"
   },
   {
    "duration": 129,
    "start_time": "2023-06-02T13:24:13.615Z"
   },
   {
    "duration": 242,
    "start_time": "2023-06-02T13:24:13.745Z"
   },
   {
    "duration": 274,
    "start_time": "2023-06-02T13:24:13.988Z"
   },
   {
    "duration": 265,
    "start_time": "2023-06-02T13:24:14.264Z"
   },
   {
    "duration": 2,
    "start_time": "2023-06-02T13:24:14.530Z"
   },
   {
    "duration": 26,
    "start_time": "2023-06-02T13:24:14.534Z"
   },
   {
    "duration": 9,
    "start_time": "2023-06-02T13:24:14.561Z"
   },
   {
    "duration": 7,
    "start_time": "2023-06-02T13:24:14.571Z"
   },
   {
    "duration": 277,
    "start_time": "2023-06-02T13:24:14.579Z"
   },
   {
    "duration": 248,
    "start_time": "2023-06-02T13:24:14.858Z"
   },
   {
    "duration": 260,
    "start_time": "2023-06-02T13:24:15.108Z"
   },
   {
    "duration": 306,
    "start_time": "2023-06-02T13:24:15.370Z"
   },
   {
    "duration": 2,
    "start_time": "2023-06-02T13:24:15.678Z"
   },
   {
    "duration": 7,
    "start_time": "2023-06-02T13:24:15.682Z"
   },
   {
    "duration": 3,
    "start_time": "2023-06-02T13:24:15.692Z"
   },
   {
    "duration": 12,
    "start_time": "2023-06-02T13:24:15.697Z"
   },
   {
    "duration": 22,
    "start_time": "2023-06-02T13:24:15.710Z"
   },
   {
    "duration": 2188,
    "start_time": "2023-06-02T13:24:15.733Z"
   },
   {
    "duration": 1428,
    "start_time": "2023-06-02T13:24:17.925Z"
   },
   {
    "duration": 5,
    "start_time": "2023-06-02T13:24:19.354Z"
   },
   {
    "duration": 5,
    "start_time": "2023-06-02T13:24:19.360Z"
   },
   {
    "duration": 13,
    "start_time": "2023-06-02T13:24:19.366Z"
   },
   {
    "duration": 110,
    "start_time": "2023-06-02T13:24:19.380Z"
   },
   {
    "duration": 8,
    "start_time": "2023-06-02T13:41:29.713Z"
   },
   {
    "duration": 5,
    "start_time": "2023-06-02T13:45:57.591Z"
   },
   {
    "duration": 4,
    "start_time": "2023-06-02T13:46:18.256Z"
   },
   {
    "duration": 8,
    "start_time": "2023-06-02T13:46:48.215Z"
   },
   {
    "duration": 9,
    "start_time": "2023-06-02T13:47:17.076Z"
   },
   {
    "duration": 4,
    "start_time": "2023-06-02T13:47:34.164Z"
   },
   {
    "duration": 4,
    "start_time": "2023-06-02T13:47:46.777Z"
   },
   {
    "duration": 4,
    "start_time": "2023-06-02T13:48:01.512Z"
   },
   {
    "duration": 3,
    "start_time": "2023-06-02T13:48:16.469Z"
   },
   {
    "duration": 3,
    "start_time": "2023-06-02T13:48:32.200Z"
   },
   {
    "duration": 4,
    "start_time": "2023-06-02T13:49:02.037Z"
   },
   {
    "duration": 4,
    "start_time": "2023-06-02T13:49:25.325Z"
   },
   {
    "duration": 6,
    "start_time": "2023-06-02T13:51:51.185Z"
   },
   {
    "duration": 7,
    "start_time": "2023-06-02T13:52:03.822Z"
   },
   {
    "duration": 280,
    "start_time": "2023-06-02T16:28:04.360Z"
   },
   {
    "duration": 74,
    "start_time": "2023-06-02T16:31:08.009Z"
   },
   {
    "duration": 1372,
    "start_time": "2023-06-02T16:31:15.537Z"
   },
   {
    "duration": 557,
    "start_time": "2023-06-02T16:31:16.912Z"
   },
   {
    "duration": 48,
    "start_time": "2023-06-02T16:31:17.471Z"
   },
   {
    "duration": 40,
    "start_time": "2023-06-02T16:31:17.522Z"
   },
   {
    "duration": 17,
    "start_time": "2023-06-02T16:31:17.564Z"
   },
   {
    "duration": 3,
    "start_time": "2023-06-02T16:31:17.583Z"
   },
   {
    "duration": 46,
    "start_time": "2023-06-02T16:31:17.588Z"
   },
   {
    "duration": 15,
    "start_time": "2023-06-02T16:31:17.637Z"
   },
   {
    "duration": 23,
    "start_time": "2023-06-02T16:31:17.654Z"
   },
   {
    "duration": 17,
    "start_time": "2023-06-02T16:31:17.680Z"
   },
   {
    "duration": 38,
    "start_time": "2023-06-02T16:31:17.699Z"
   },
   {
    "duration": 8,
    "start_time": "2023-06-02T16:31:17.739Z"
   },
   {
    "duration": 245,
    "start_time": "2023-06-02T16:31:17.749Z"
   },
   {
    "duration": 162,
    "start_time": "2023-06-02T16:31:17.996Z"
   },
   {
    "duration": 295,
    "start_time": "2023-06-02T16:31:18.160Z"
   },
   {
    "duration": 430,
    "start_time": "2023-06-02T16:31:18.457Z"
   },
   {
    "duration": 324,
    "start_time": "2023-06-02T16:31:18.889Z"
   },
   {
    "duration": 3,
    "start_time": "2023-06-02T16:31:19.215Z"
   },
   {
    "duration": 31,
    "start_time": "2023-06-02T16:31:19.220Z"
   },
   {
    "duration": 8,
    "start_time": "2023-06-02T16:31:19.253Z"
   },
   {
    "duration": 6,
    "start_time": "2023-06-02T16:31:19.263Z"
   },
   {
    "duration": 319,
    "start_time": "2023-06-02T16:31:19.271Z"
   },
   {
    "duration": 301,
    "start_time": "2023-06-02T16:31:19.592Z"
   },
   {
    "duration": 298,
    "start_time": "2023-06-02T16:31:19.895Z"
   },
   {
    "duration": 420,
    "start_time": "2023-06-02T16:31:20.196Z"
   },
   {
    "duration": 7,
    "start_time": "2023-06-02T16:31:20.618Z"
   },
   {
    "duration": 6,
    "start_time": "2023-06-02T16:31:20.627Z"
   },
   {
    "duration": 3,
    "start_time": "2023-06-02T16:31:20.638Z"
   },
   {
    "duration": 18,
    "start_time": "2023-06-02T16:31:20.644Z"
   },
   {
    "duration": 12,
    "start_time": "2023-06-02T16:31:20.665Z"
   },
   {
    "duration": 2658,
    "start_time": "2023-06-02T16:31:20.679Z"
   },
   {
    "duration": 1744,
    "start_time": "2023-06-02T16:31:23.340Z"
   },
   {
    "duration": 6,
    "start_time": "2023-06-02T16:31:25.086Z"
   },
   {
    "duration": 6,
    "start_time": "2023-06-02T16:31:25.094Z"
   },
   {
    "duration": 37,
    "start_time": "2023-06-02T16:31:25.103Z"
   },
   {
    "duration": 129,
    "start_time": "2023-06-02T16:31:25.144Z"
   },
   {
    "duration": 22,
    "start_time": "2023-06-02T16:32:31.857Z"
   },
   {
    "duration": 108,
    "start_time": "2023-06-02T16:33:46.402Z"
   },
   {
    "duration": 41,
    "start_time": "2023-06-02T16:37:09.944Z"
   },
   {
    "duration": 46,
    "start_time": "2023-06-02T16:37:14.773Z"
   },
   {
    "duration": 59,
    "start_time": "2023-06-02T16:37:26.352Z"
   },
   {
    "duration": 49,
    "start_time": "2023-06-02T16:37:36.994Z"
   },
   {
    "duration": 1444,
    "start_time": "2023-06-02T16:47:13.348Z"
   },
   {
    "duration": 97,
    "start_time": "2023-06-02T16:47:14.795Z"
   },
   {
    "duration": 61,
    "start_time": "2023-06-02T16:47:14.894Z"
   },
   {
    "duration": 49,
    "start_time": "2023-06-02T16:47:14.959Z"
   },
   {
    "duration": 48,
    "start_time": "2023-06-02T16:47:15.011Z"
   },
   {
    "duration": 2,
    "start_time": "2023-06-02T16:47:15.061Z"
   },
   {
    "duration": 19,
    "start_time": "2023-06-02T16:47:15.066Z"
   },
   {
    "duration": 13,
    "start_time": "2023-06-02T16:47:15.087Z"
   },
   {
    "duration": 45,
    "start_time": "2023-06-02T16:47:15.102Z"
   },
   {
    "duration": 23,
    "start_time": "2023-06-02T16:47:15.151Z"
   },
   {
    "duration": 15,
    "start_time": "2023-06-02T16:47:15.177Z"
   },
   {
    "duration": 3,
    "start_time": "2023-06-02T16:47:15.194Z"
   },
   {
    "duration": 306,
    "start_time": "2023-06-02T16:47:15.199Z"
   },
   {
    "duration": 247,
    "start_time": "2023-06-02T16:47:15.507Z"
   },
   {
    "duration": 410,
    "start_time": "2023-06-02T16:47:15.759Z"
   },
   {
    "duration": 441,
    "start_time": "2023-06-02T16:47:16.170Z"
   },
   {
    "duration": 421,
    "start_time": "2023-06-02T16:47:16.614Z"
   },
   {
    "duration": 6,
    "start_time": "2023-06-02T16:47:17.038Z"
   },
   {
    "duration": 24,
    "start_time": "2023-06-02T16:47:17.050Z"
   },
   {
    "duration": 13,
    "start_time": "2023-06-02T16:47:17.076Z"
   },
   {
    "duration": 12,
    "start_time": "2023-06-02T16:47:17.092Z"
   },
   {
    "duration": 440,
    "start_time": "2023-06-02T16:47:17.107Z"
   },
   {
    "duration": 377,
    "start_time": "2023-06-02T16:47:17.549Z"
   },
   {
    "duration": 429,
    "start_time": "2023-06-02T16:47:17.928Z"
   },
   {
    "duration": 457,
    "start_time": "2023-06-02T16:47:18.361Z"
   },
   {
    "duration": 7,
    "start_time": "2023-06-02T16:47:18.832Z"
   },
   {
    "duration": 6,
    "start_time": "2023-06-02T16:47:18.841Z"
   },
   {
    "duration": 10,
    "start_time": "2023-06-02T16:47:18.861Z"
   },
   {
    "duration": 23,
    "start_time": "2023-06-02T16:47:18.875Z"
   },
   {
    "duration": 25,
    "start_time": "2023-06-02T16:47:18.901Z"
   },
   {
    "duration": 3202,
    "start_time": "2023-06-02T16:47:18.934Z"
   },
   {
    "duration": 1840,
    "start_time": "2023-06-02T16:47:22.139Z"
   },
   {
    "duration": 7,
    "start_time": "2023-06-02T16:47:23.981Z"
   },
   {
    "duration": 6,
    "start_time": "2023-06-02T16:47:23.991Z"
   },
   {
    "duration": 35,
    "start_time": "2023-06-02T16:47:23.999Z"
   },
   {
    "duration": 121,
    "start_time": "2023-06-02T16:47:24.036Z"
   },
   {
    "duration": 17,
    "start_time": "2023-06-02T16:55:50.384Z"
   },
   {
    "duration": 214,
    "start_time": "2023-06-02T17:08:09.882Z"
   },
   {
    "duration": 185,
    "start_time": "2023-06-02T17:09:20.707Z"
   },
   {
    "duration": 193,
    "start_time": "2023-06-02T17:13:57.859Z"
   },
   {
    "duration": 249,
    "start_time": "2023-06-02T17:14:20.411Z"
   },
   {
    "duration": 218,
    "start_time": "2023-06-02T17:14:48.519Z"
   },
   {
    "duration": 178,
    "start_time": "2023-06-02T17:14:56.379Z"
   },
   {
    "duration": 225,
    "start_time": "2023-06-02T17:15:01.871Z"
   },
   {
    "duration": 199,
    "start_time": "2023-06-02T17:15:26.794Z"
   },
   {
    "duration": 204,
    "start_time": "2023-06-02T17:15:31.560Z"
   },
   {
    "duration": 258,
    "start_time": "2023-06-02T17:15:41.141Z"
   },
   {
    "duration": 183,
    "start_time": "2023-06-02T17:17:13.559Z"
   },
   {
    "duration": 151,
    "start_time": "2023-06-02T17:17:18.697Z"
   },
   {
    "duration": 172,
    "start_time": "2023-06-02T17:17:22.226Z"
   },
   {
    "duration": 180,
    "start_time": "2023-06-02T17:18:16.094Z"
   },
   {
    "duration": 190,
    "start_time": "2023-06-02T17:18:26.817Z"
   },
   {
    "duration": 161,
    "start_time": "2023-06-02T17:20:23.481Z"
   },
   {
    "duration": 91,
    "start_time": "2023-06-02T17:21:37.519Z"
   },
   {
    "duration": 105,
    "start_time": "2023-06-02T17:21:57.661Z"
   },
   {
    "duration": 131,
    "start_time": "2023-06-02T17:22:36.578Z"
   },
   {
    "duration": 128,
    "start_time": "2023-06-02T17:23:49.012Z"
   },
   {
    "duration": 103,
    "start_time": "2023-06-02T17:24:29.168Z"
   },
   {
    "duration": 101,
    "start_time": "2023-06-02T17:25:02.259Z"
   },
   {
    "duration": 96,
    "start_time": "2023-06-02T17:25:22.015Z"
   },
   {
    "duration": 241,
    "start_time": "2023-06-02T17:26:51.603Z"
   },
   {
    "duration": 273,
    "start_time": "2023-06-02T17:26:59.171Z"
   },
   {
    "duration": 252,
    "start_time": "2023-06-02T17:27:14.364Z"
   },
   {
    "duration": 161,
    "start_time": "2023-06-02T17:27:22.015Z"
   },
   {
    "duration": 267,
    "start_time": "2023-06-02T17:27:26.109Z"
   },
   {
    "duration": 515,
    "start_time": "2023-06-02T17:28:32.383Z"
   },
   {
    "duration": 273,
    "start_time": "2023-06-02T17:28:39.001Z"
   },
   {
    "duration": 351,
    "start_time": "2023-06-02T17:28:44.361Z"
   },
   {
    "duration": 170,
    "start_time": "2023-06-02T17:29:44.216Z"
   },
   {
    "duration": 331,
    "start_time": "2023-06-02T17:30:01.946Z"
   },
   {
    "duration": 109,
    "start_time": "2023-06-02T17:30:18.669Z"
   },
   {
    "duration": 168,
    "start_time": "2023-06-02T17:30:22.501Z"
   },
   {
    "duration": 170,
    "start_time": "2023-06-02T17:30:25.621Z"
   },
   {
    "duration": 160,
    "start_time": "2023-06-02T17:30:28.550Z"
   },
   {
    "duration": 177,
    "start_time": "2023-06-02T17:30:34.079Z"
   },
   {
    "duration": 115,
    "start_time": "2023-06-02T17:30:43.007Z"
   },
   {
    "duration": 290,
    "start_time": "2023-06-02T17:30:45.898Z"
   },
   {
    "duration": 272,
    "start_time": "2023-06-02T17:30:53.481Z"
   },
   {
    "duration": 231,
    "start_time": "2023-06-02T17:32:54.048Z"
   },
   {
    "duration": 130,
    "start_time": "2023-06-02T17:34:48.041Z"
   },
   {
    "duration": 177,
    "start_time": "2023-06-02T17:35:01.869Z"
   },
   {
    "duration": 164,
    "start_time": "2023-06-02T17:36:16.530Z"
   },
   {
    "duration": 176,
    "start_time": "2023-06-02T17:36:32.279Z"
   },
   {
    "duration": 1974,
    "start_time": "2023-06-02T17:39:19.859Z"
   },
   {
    "duration": 1068,
    "start_time": "2023-06-02T17:39:32.345Z"
   },
   {
    "duration": 72,
    "start_time": "2023-06-02T17:39:33.414Z"
   },
   {
    "duration": 28,
    "start_time": "2023-06-02T17:39:33.488Z"
   },
   {
    "duration": 38,
    "start_time": "2023-06-02T17:39:33.518Z"
   },
   {
    "duration": 17,
    "start_time": "2023-06-02T17:39:33.559Z"
   },
   {
    "duration": 2,
    "start_time": "2023-06-02T17:39:33.578Z"
   },
   {
    "duration": 11,
    "start_time": "2023-06-02T17:39:33.582Z"
   },
   {
    "duration": 36,
    "start_time": "2023-06-02T17:39:33.594Z"
   },
   {
    "duration": 23,
    "start_time": "2023-06-02T17:39:33.632Z"
   },
   {
    "duration": 13,
    "start_time": "2023-06-02T17:39:33.656Z"
   },
   {
    "duration": 9,
    "start_time": "2023-06-02T17:39:33.671Z"
   },
   {
    "duration": 3,
    "start_time": "2023-06-02T17:39:33.681Z"
   },
   {
    "duration": 200,
    "start_time": "2023-06-02T17:39:33.685Z"
   },
   {
    "duration": 98,
    "start_time": "2023-06-02T17:39:33.888Z"
   },
   {
    "duration": 199,
    "start_time": "2023-06-02T17:39:33.988Z"
   },
   {
    "duration": 2030,
    "start_time": "2023-06-02T17:39:34.189Z"
   },
   {
    "duration": 0,
    "start_time": "2023-06-02T17:39:36.221Z"
   },
   {
    "duration": 0,
    "start_time": "2023-06-02T17:39:36.226Z"
   },
   {
    "duration": 0,
    "start_time": "2023-06-02T17:39:36.227Z"
   },
   {
    "duration": 0,
    "start_time": "2023-06-02T17:39:36.228Z"
   },
   {
    "duration": 0,
    "start_time": "2023-06-02T17:39:36.228Z"
   },
   {
    "duration": 0,
    "start_time": "2023-06-02T17:39:36.235Z"
   },
   {
    "duration": 0,
    "start_time": "2023-06-02T17:39:36.235Z"
   },
   {
    "duration": 0,
    "start_time": "2023-06-02T17:39:36.236Z"
   },
   {
    "duration": 0,
    "start_time": "2023-06-02T17:39:36.237Z"
   },
   {
    "duration": 0,
    "start_time": "2023-06-02T17:39:36.238Z"
   },
   {
    "duration": 0,
    "start_time": "2023-06-02T17:39:36.240Z"
   },
   {
    "duration": 0,
    "start_time": "2023-06-02T17:39:36.241Z"
   },
   {
    "duration": 0,
    "start_time": "2023-06-02T17:39:36.242Z"
   },
   {
    "duration": 0,
    "start_time": "2023-06-02T17:39:36.244Z"
   },
   {
    "duration": 0,
    "start_time": "2023-06-02T17:39:36.245Z"
   },
   {
    "duration": 0,
    "start_time": "2023-06-02T17:39:36.246Z"
   },
   {
    "duration": 0,
    "start_time": "2023-06-02T17:39:36.247Z"
   },
   {
    "duration": 0,
    "start_time": "2023-06-02T17:39:36.248Z"
   },
   {
    "duration": 0,
    "start_time": "2023-06-02T17:39:36.250Z"
   },
   {
    "duration": 0,
    "start_time": "2023-06-02T17:39:36.252Z"
   },
   {
    "duration": 129,
    "start_time": "2023-06-02T17:40:29.452Z"
   },
   {
    "duration": 318,
    "start_time": "2023-06-02T17:40:39.996Z"
   },
   {
    "duration": 162,
    "start_time": "2023-06-02T17:40:55.247Z"
   },
   {
    "duration": 233,
    "start_time": "2023-06-02T17:43:03.398Z"
   },
   {
    "duration": 256,
    "start_time": "2023-06-02T17:44:28.280Z"
   },
   {
    "duration": 230,
    "start_time": "2023-06-02T17:44:57.556Z"
   },
   {
    "duration": 262,
    "start_time": "2023-06-02T17:47:01.897Z"
   },
   {
    "duration": 245,
    "start_time": "2023-06-02T17:47:05.596Z"
   },
   {
    "duration": 1080,
    "start_time": "2023-06-02T17:49:13.931Z"
   },
   {
    "duration": 85,
    "start_time": "2023-06-02T17:49:15.013Z"
   },
   {
    "duration": 42,
    "start_time": "2023-06-02T17:49:15.100Z"
   },
   {
    "duration": 29,
    "start_time": "2023-06-02T17:49:15.143Z"
   },
   {
    "duration": 13,
    "start_time": "2023-06-02T17:49:15.174Z"
   },
   {
    "duration": 2,
    "start_time": "2023-06-02T17:49:15.189Z"
   },
   {
    "duration": 11,
    "start_time": "2023-06-02T17:49:15.192Z"
   },
   {
    "duration": 30,
    "start_time": "2023-06-02T17:49:15.204Z"
   },
   {
    "duration": 19,
    "start_time": "2023-06-02T17:49:15.235Z"
   },
   {
    "duration": 13,
    "start_time": "2023-06-02T17:49:15.256Z"
   },
   {
    "duration": 9,
    "start_time": "2023-06-02T17:49:15.270Z"
   },
   {
    "duration": 3,
    "start_time": "2023-06-02T17:49:15.280Z"
   },
   {
    "duration": 209,
    "start_time": "2023-06-02T17:49:15.284Z"
   },
   {
    "duration": 112,
    "start_time": "2023-06-02T17:49:15.496Z"
   },
   {
    "duration": 209,
    "start_time": "2023-06-02T17:49:15.610Z"
   },
   {
    "duration": 639,
    "start_time": "2023-06-02T17:49:15.821Z"
   },
   {
    "duration": 504,
    "start_time": "2023-06-02T17:49:16.462Z"
   },
   {
    "duration": 2,
    "start_time": "2023-06-02T17:49:16.968Z"
   },
   {
    "duration": 71,
    "start_time": "2023-06-02T17:49:16.971Z"
   },
   {
    "duration": 12,
    "start_time": "2023-06-02T17:49:17.044Z"
   },
   {
    "duration": 5,
    "start_time": "2023-06-02T17:49:17.058Z"
   },
   {
    "duration": 602,
    "start_time": "2023-06-02T17:49:17.064Z"
   },
   {
    "duration": 247,
    "start_time": "2023-06-02T17:49:17.668Z"
   },
   {
    "duration": 277,
    "start_time": "2023-06-02T17:49:17.916Z"
   },
   {
    "duration": 247,
    "start_time": "2023-06-02T17:49:18.195Z"
   },
   {
    "duration": 4,
    "start_time": "2023-06-02T17:49:18.444Z"
   },
   {
    "duration": 31,
    "start_time": "2023-06-02T17:49:18.449Z"
   },
   {
    "duration": 4,
    "start_time": "2023-06-02T17:49:18.482Z"
   },
   {
    "duration": 12,
    "start_time": "2023-06-02T17:49:18.488Z"
   },
   {
    "duration": 9,
    "start_time": "2023-06-02T17:49:18.502Z"
   },
   {
    "duration": 2645,
    "start_time": "2023-06-02T17:49:18.513Z"
   },
   {
    "duration": 1703,
    "start_time": "2023-06-02T17:49:21.160Z"
   },
   {
    "duration": 5,
    "start_time": "2023-06-02T17:49:22.865Z"
   },
   {
    "duration": 5,
    "start_time": "2023-06-02T17:49:22.872Z"
   },
   {
    "duration": 12,
    "start_time": "2023-06-02T17:49:22.879Z"
   },
   {
    "duration": 144,
    "start_time": "2023-06-02T17:49:22.893Z"
   },
   {
    "duration": 23,
    "start_time": "2023-06-02T17:50:31.769Z"
   },
   {
    "duration": 26,
    "start_time": "2023-06-02T17:50:40.123Z"
   },
   {
    "duration": 1072,
    "start_time": "2023-06-02T17:50:55.381Z"
   },
   {
    "duration": 72,
    "start_time": "2023-06-02T17:50:56.455Z"
   },
   {
    "duration": 30,
    "start_time": "2023-06-02T17:50:56.531Z"
   },
   {
    "duration": 30,
    "start_time": "2023-06-02T17:50:56.562Z"
   },
   {
    "duration": 44,
    "start_time": "2023-06-02T17:50:56.594Z"
   },
   {
    "duration": 2,
    "start_time": "2023-06-02T17:50:56.640Z"
   },
   {
    "duration": 14,
    "start_time": "2023-06-02T17:50:56.644Z"
   },
   {
    "duration": 8,
    "start_time": "2023-06-02T17:50:56.660Z"
   },
   {
    "duration": 22,
    "start_time": "2023-06-02T17:50:56.669Z"
   },
   {
    "duration": 32,
    "start_time": "2023-06-02T17:50:56.693Z"
   },
   {
    "duration": 20,
    "start_time": "2023-06-02T17:50:56.726Z"
   },
   {
    "duration": 6,
    "start_time": "2023-06-02T17:50:56.748Z"
   },
   {
    "duration": 401,
    "start_time": "2023-06-02T17:50:56.755Z"
   },
   {
    "duration": 202,
    "start_time": "2023-06-02T17:50:57.159Z"
   },
   {
    "duration": 394,
    "start_time": "2023-06-02T17:50:57.363Z"
   },
   {
    "duration": 512,
    "start_time": "2023-06-02T17:50:57.758Z"
   },
   {
    "duration": 431,
    "start_time": "2023-06-02T17:50:58.272Z"
   },
   {
    "duration": 3,
    "start_time": "2023-06-02T17:50:58.704Z"
   },
   {
    "duration": 36,
    "start_time": "2023-06-02T17:50:58.708Z"
   },
   {
    "duration": 9,
    "start_time": "2023-06-02T17:50:58.745Z"
   },
   {
    "duration": 19,
    "start_time": "2023-06-02T17:50:58.755Z"
   },
   {
    "duration": 300,
    "start_time": "2023-06-02T17:50:58.775Z"
   },
   {
    "duration": 212,
    "start_time": "2023-06-02T17:50:59.077Z"
   },
   {
    "duration": 284,
    "start_time": "2023-06-02T17:50:59.291Z"
   },
   {
    "duration": 287,
    "start_time": "2023-06-02T17:50:59.577Z"
   },
   {
    "duration": 3,
    "start_time": "2023-06-02T17:50:59.866Z"
   },
   {
    "duration": 5,
    "start_time": "2023-06-02T17:50:59.871Z"
   },
   {
    "duration": 5,
    "start_time": "2023-06-02T17:50:59.878Z"
   },
   {
    "duration": 40,
    "start_time": "2023-06-02T17:50:59.886Z"
   },
   {
    "duration": 14,
    "start_time": "2023-06-02T17:50:59.929Z"
   },
   {
    "duration": 2639,
    "start_time": "2023-06-02T17:50:59.945Z"
   },
   {
    "duration": 1753,
    "start_time": "2023-06-02T17:51:02.585Z"
   },
   {
    "duration": 6,
    "start_time": "2023-06-02T17:51:04.340Z"
   },
   {
    "duration": 17,
    "start_time": "2023-06-02T17:51:04.348Z"
   },
   {
    "duration": 30,
    "start_time": "2023-06-02T17:51:04.367Z"
   },
   {
    "duration": 142,
    "start_time": "2023-06-02T17:51:04.400Z"
   },
   {
    "duration": 20,
    "start_time": "2023-06-02T17:51:16.688Z"
   },
   {
    "duration": 14,
    "start_time": "2023-06-02T17:51:31.605Z"
   },
   {
    "duration": 35,
    "start_time": "2023-06-02T17:51:45.107Z"
   },
   {
    "duration": 29,
    "start_time": "2023-06-02T17:51:59.446Z"
   },
   {
    "duration": 18,
    "start_time": "2023-06-02T17:52:14.161Z"
   },
   {
    "duration": 23,
    "start_time": "2023-06-02T17:52:48.876Z"
   },
   {
    "duration": 168,
    "start_time": "2023-06-02T17:52:57.044Z"
   },
   {
    "duration": 1789,
    "start_time": "2023-06-02T17:53:02.925Z"
   },
   {
    "duration": 14,
    "start_time": "2023-06-02T17:53:08.774Z"
   },
   {
    "duration": 17,
    "start_time": "2023-06-02T17:53:28.464Z"
   },
   {
    "duration": 22,
    "start_time": "2023-06-02T17:53:36.681Z"
   },
   {
    "duration": 16,
    "start_time": "2023-06-02T17:53:53.640Z"
   },
   {
    "duration": 26,
    "start_time": "2023-06-02T17:54:18.939Z"
   },
   {
    "duration": 37,
    "start_time": "2023-06-02T17:54:41.306Z"
   },
   {
    "duration": 243,
    "start_time": "2023-06-02T17:57:42.698Z"
   },
   {
    "duration": 230,
    "start_time": "2023-06-02T17:57:51.381Z"
   },
   {
    "duration": 138,
    "start_time": "2023-06-02T17:58:03.017Z"
   },
   {
    "duration": 218,
    "start_time": "2023-06-02T17:58:06.355Z"
   },
   {
    "duration": 224,
    "start_time": "2023-06-02T17:58:21.852Z"
   },
   {
    "duration": 224,
    "start_time": "2023-06-02T17:58:28.791Z"
   },
   {
    "duration": 242,
    "start_time": "2023-06-02T17:59:18.751Z"
   },
   {
    "duration": 216,
    "start_time": "2023-06-02T17:59:29.301Z"
   },
   {
    "duration": 247,
    "start_time": "2023-06-02T17:59:48.920Z"
   },
   {
    "duration": 221,
    "start_time": "2023-06-02T18:00:20.254Z"
   },
   {
    "duration": 327,
    "start_time": "2023-06-02T18:00:22.353Z"
   },
   {
    "duration": 131,
    "start_time": "2023-06-02T18:03:43.397Z"
   },
   {
    "duration": 329,
    "start_time": "2023-06-02T18:03:58.142Z"
   },
   {
    "duration": 313,
    "start_time": "2023-06-02T18:04:17.637Z"
   },
   {
    "duration": 361,
    "start_time": "2023-06-02T18:05:31.547Z"
   },
   {
    "duration": 359,
    "start_time": "2023-06-02T18:05:40.884Z"
   },
   {
    "duration": 444,
    "start_time": "2023-06-02T18:06:07.111Z"
   },
   {
    "duration": 351,
    "start_time": "2023-06-02T18:07:30.643Z"
   },
   {
    "duration": 2,
    "start_time": "2023-06-02T18:07:38.053Z"
   },
   {
    "duration": 3,
    "start_time": "2023-06-02T18:07:41.844Z"
   },
   {
    "duration": 416,
    "start_time": "2023-06-02T18:08:55.243Z"
   },
   {
    "duration": 384,
    "start_time": "2023-06-02T18:09:24.378Z"
   },
   {
    "duration": 1382,
    "start_time": "2023-06-02T18:16:39.734Z"
   },
   {
    "duration": 147,
    "start_time": "2023-06-02T18:16:41.125Z"
   },
   {
    "duration": 79,
    "start_time": "2023-06-02T18:16:41.274Z"
   },
   {
    "duration": 128,
    "start_time": "2023-06-02T18:16:41.356Z"
   },
   {
    "duration": 71,
    "start_time": "2023-06-02T18:16:41.486Z"
   },
   {
    "duration": 10,
    "start_time": "2023-06-02T18:16:41.559Z"
   },
   {
    "duration": 23,
    "start_time": "2023-06-02T18:16:41.571Z"
   },
   {
    "duration": 32,
    "start_time": "2023-06-02T18:16:41.597Z"
   },
   {
    "duration": 57,
    "start_time": "2023-06-02T18:16:41.632Z"
   },
   {
    "duration": 34,
    "start_time": "2023-06-02T18:16:41.729Z"
   },
   {
    "duration": 67,
    "start_time": "2023-06-02T18:16:41.766Z"
   },
   {
    "duration": 14,
    "start_time": "2023-06-02T18:16:41.835Z"
   },
   {
    "duration": 485,
    "start_time": "2023-06-02T18:16:41.852Z"
   },
   {
    "duration": 234,
    "start_time": "2023-06-02T18:16:42.339Z"
   },
   {
    "duration": 581,
    "start_time": "2023-06-02T18:16:42.575Z"
   },
   {
    "duration": 467,
    "start_time": "2023-06-02T18:16:43.158Z"
   },
   {
    "duration": 307,
    "start_time": "2023-06-02T18:16:43.634Z"
   },
   {
    "duration": 2,
    "start_time": "2023-06-02T18:16:43.943Z"
   },
   {
    "duration": 45,
    "start_time": "2023-06-02T18:16:43.947Z"
   },
   {
    "duration": 9,
    "start_time": "2023-06-02T18:16:43.994Z"
   },
   {
    "duration": 11,
    "start_time": "2023-06-02T18:16:44.005Z"
   },
   {
    "duration": 584,
    "start_time": "2023-06-02T18:16:44.017Z"
   },
   {
    "duration": 4,
    "start_time": "2023-06-02T18:16:44.603Z"
   },
   {
    "duration": 581,
    "start_time": "2023-06-02T18:16:44.610Z"
   },
   {
    "duration": 3,
    "start_time": "2023-06-02T18:16:45.193Z"
   },
   {
    "duration": 7,
    "start_time": "2023-06-02T18:16:45.198Z"
   },
   {
    "duration": 6,
    "start_time": "2023-06-02T18:16:45.206Z"
   },
   {
    "duration": 16,
    "start_time": "2023-06-02T18:16:45.215Z"
   },
   {
    "duration": 24,
    "start_time": "2023-06-02T18:16:45.235Z"
   },
   {
    "duration": 33,
    "start_time": "2023-06-02T18:16:45.264Z"
   },
   {
    "duration": 14,
    "start_time": "2023-06-02T18:16:45.300Z"
   },
   {
    "duration": 3189,
    "start_time": "2023-06-02T18:16:45.317Z"
   },
   {
    "duration": 1905,
    "start_time": "2023-06-02T18:16:48.507Z"
   },
   {
    "duration": 8,
    "start_time": "2023-06-02T18:16:50.419Z"
   },
   {
    "duration": 10,
    "start_time": "2023-06-02T18:16:50.429Z"
   },
   {
    "duration": 27,
    "start_time": "2023-06-02T18:16:50.441Z"
   },
   {
    "duration": 130,
    "start_time": "2023-06-02T18:16:50.482Z"
   },
   {
    "duration": 9,
    "start_time": "2023-06-02T18:17:55.175Z"
   },
   {
    "duration": 1699,
    "start_time": "2023-06-02T18:18:18.164Z"
   },
   {
    "duration": 169,
    "start_time": "2023-06-02T18:18:19.869Z"
   },
   {
    "duration": 88,
    "start_time": "2023-06-02T18:18:20.041Z"
   },
   {
    "duration": 59,
    "start_time": "2023-06-02T18:18:20.131Z"
   },
   {
    "duration": 77,
    "start_time": "2023-06-02T18:18:20.195Z"
   },
   {
    "duration": 197,
    "start_time": "2023-06-02T18:18:20.275Z"
   },
   {
    "duration": 58,
    "start_time": "2023-06-02T18:18:20.475Z"
   },
   {
    "duration": 14,
    "start_time": "2023-06-02T18:18:20.535Z"
   },
   {
    "duration": 86,
    "start_time": "2023-06-02T18:18:20.551Z"
   },
   {
    "duration": 90,
    "start_time": "2023-06-02T18:18:20.639Z"
   },
   {
    "duration": 35,
    "start_time": "2023-06-02T18:18:20.730Z"
   },
   {
    "duration": 23,
    "start_time": "2023-06-02T18:18:20.767Z"
   },
   {
    "duration": 463,
    "start_time": "2023-06-02T18:18:20.792Z"
   },
   {
    "duration": 109,
    "start_time": "2023-06-02T18:18:21.262Z"
   },
   {
    "duration": 207,
    "start_time": "2023-06-02T18:18:21.373Z"
   },
   {
    "duration": 260,
    "start_time": "2023-06-02T18:18:21.582Z"
   },
   {
    "duration": 250,
    "start_time": "2023-06-02T18:18:21.845Z"
   },
   {
    "duration": 3,
    "start_time": "2023-06-02T18:18:22.097Z"
   },
   {
    "duration": 54,
    "start_time": "2023-06-02T18:18:22.102Z"
   },
   {
    "duration": 11,
    "start_time": "2023-06-02T18:18:22.162Z"
   },
   {
    "duration": 19,
    "start_time": "2023-06-02T18:18:22.175Z"
   },
   {
    "duration": 399,
    "start_time": "2023-06-02T18:18:22.195Z"
   },
   {
    "duration": 2,
    "start_time": "2023-06-02T18:18:22.596Z"
   },
   {
    "duration": 470,
    "start_time": "2023-06-02T18:18:22.601Z"
   },
   {
    "duration": 3,
    "start_time": "2023-06-02T18:18:23.073Z"
   },
   {
    "duration": 30,
    "start_time": "2023-06-02T18:18:23.079Z"
   },
   {
    "duration": 26,
    "start_time": "2023-06-02T18:18:23.110Z"
   },
   {
    "duration": 24,
    "start_time": "2023-06-02T18:18:23.139Z"
   },
   {
    "duration": 8,
    "start_time": "2023-06-02T18:18:23.166Z"
   },
   {
    "duration": 27,
    "start_time": "2023-06-02T18:18:23.176Z"
   },
   {
    "duration": 10,
    "start_time": "2023-06-02T18:18:23.205Z"
   },
   {
    "duration": 2995,
    "start_time": "2023-06-02T18:18:23.216Z"
   },
   {
    "duration": 1869,
    "start_time": "2023-06-02T18:18:26.212Z"
   },
   {
    "duration": 6,
    "start_time": "2023-06-02T18:18:28.083Z"
   },
   {
    "duration": 27,
    "start_time": "2023-06-02T18:18:28.091Z"
   },
   {
    "duration": 35,
    "start_time": "2023-06-02T18:18:28.120Z"
   },
   {
    "duration": 124,
    "start_time": "2023-06-02T18:18:28.157Z"
   },
   {
    "duration": 1927,
    "start_time": "2023-06-02T18:19:18.663Z"
   },
   {
    "duration": 1769,
    "start_time": "2023-06-02T18:19:24.652Z"
   },
   {
    "duration": 175,
    "start_time": "2023-06-02T18:19:36.914Z"
   },
   {
    "duration": 17,
    "start_time": "2023-06-02T18:19:39.554Z"
   },
   {
    "duration": 2089,
    "start_time": "2023-06-02T18:20:00.875Z"
   },
   {
    "duration": 21,
    "start_time": "2023-06-02T18:20:15.496Z"
   },
   {
    "duration": 2558,
    "start_time": "2023-06-02T18:20:39.123Z"
   },
   {
    "duration": 2701,
    "start_time": "2023-06-02T18:20:47.760Z"
   },
   {
    "duration": 1771,
    "start_time": "2023-06-02T18:21:03.358Z"
   },
   {
    "duration": 5,
    "start_time": "2023-06-02T18:21:07.912Z"
   },
   {
    "duration": 8,
    "start_time": "2023-06-02T18:22:10.016Z"
   },
   {
    "duration": 5,
    "start_time": "2023-06-02T18:22:14.088Z"
   },
   {
    "duration": 1371,
    "start_time": "2023-06-02T18:23:39.713Z"
   },
   {
    "duration": 77,
    "start_time": "2023-06-02T18:23:41.087Z"
   },
   {
    "duration": 37,
    "start_time": "2023-06-02T18:23:41.166Z"
   },
   {
    "duration": 47,
    "start_time": "2023-06-02T18:23:41.204Z"
   },
   {
    "duration": 25,
    "start_time": "2023-06-02T18:23:41.254Z"
   },
   {
    "duration": 2,
    "start_time": "2023-06-02T18:23:41.282Z"
   },
   {
    "duration": 10,
    "start_time": "2023-06-02T18:23:41.286Z"
   },
   {
    "duration": 9,
    "start_time": "2023-06-02T18:23:41.297Z"
   },
   {
    "duration": 62,
    "start_time": "2023-06-02T18:23:41.308Z"
   },
   {
    "duration": 17,
    "start_time": "2023-06-02T18:23:41.372Z"
   },
   {
    "duration": 15,
    "start_time": "2023-06-02T18:23:41.391Z"
   },
   {
    "duration": 22,
    "start_time": "2023-06-02T18:23:41.408Z"
   },
   {
    "duration": 511,
    "start_time": "2023-06-02T18:23:41.435Z"
   },
   {
    "duration": 297,
    "start_time": "2023-06-02T18:23:41.950Z"
   },
   {
    "duration": 539,
    "start_time": "2023-06-02T18:23:42.250Z"
   },
   {
    "duration": 765,
    "start_time": "2023-06-02T18:23:42.791Z"
   },
   {
    "duration": 614,
    "start_time": "2023-06-02T18:23:43.559Z"
   },
   {
    "duration": 50,
    "start_time": "2023-06-02T18:23:44.175Z"
   },
   {
    "duration": 50,
    "start_time": "2023-06-02T18:23:44.229Z"
   },
   {
    "duration": 9,
    "start_time": "2023-06-02T18:23:44.282Z"
   },
   {
    "duration": 8,
    "start_time": "2023-06-02T18:23:44.293Z"
   },
   {
    "duration": 460,
    "start_time": "2023-06-02T18:23:44.326Z"
   },
   {
    "duration": 4,
    "start_time": "2023-06-02T18:23:44.787Z"
   },
   {
    "duration": 436,
    "start_time": "2023-06-02T18:23:44.793Z"
   },
   {
    "duration": 3,
    "start_time": "2023-06-02T18:23:45.231Z"
   },
   {
    "duration": 3,
    "start_time": "2023-06-02T18:23:45.236Z"
   },
   {
    "duration": 6,
    "start_time": "2023-06-02T18:23:45.241Z"
   },
   {
    "duration": 6,
    "start_time": "2023-06-02T18:23:45.249Z"
   },
   {
    "duration": 6,
    "start_time": "2023-06-02T18:23:45.257Z"
   },
   {
    "duration": 19,
    "start_time": "2023-06-02T18:23:45.265Z"
   },
   {
    "duration": 11,
    "start_time": "2023-06-02T18:23:45.286Z"
   },
   {
    "duration": 3238,
    "start_time": "2023-06-02T18:23:45.329Z"
   },
   {
    "duration": 2346,
    "start_time": "2023-06-02T18:23:48.569Z"
   },
   {
    "duration": 20,
    "start_time": "2023-06-02T18:23:50.917Z"
   },
   {
    "duration": 19,
    "start_time": "2023-06-02T18:23:50.940Z"
   },
   {
    "duration": 20,
    "start_time": "2023-06-02T18:23:50.962Z"
   },
   {
    "duration": 149,
    "start_time": "2023-06-02T18:23:50.984Z"
   },
   {
    "duration": 2903,
    "start_time": "2023-06-02T18:24:21.559Z"
   },
   {
    "duration": 1905,
    "start_time": "2023-06-02T18:24:34.252Z"
   },
   {
    "duration": 2245,
    "start_time": "2023-06-02T18:26:01.490Z"
   },
   {
    "duration": 28,
    "start_time": "2023-06-02T18:26:09.449Z"
   },
   {
    "duration": 2095,
    "start_time": "2023-06-02T18:26:40.450Z"
   },
   {
    "duration": 125,
    "start_time": "2023-06-02T18:26:42.547Z"
   },
   {
    "duration": 100,
    "start_time": "2023-06-02T18:26:42.674Z"
   },
   {
    "duration": 120,
    "start_time": "2023-06-02T18:26:42.779Z"
   },
   {
    "duration": 36,
    "start_time": "2023-06-02T18:26:42.901Z"
   },
   {
    "duration": 2,
    "start_time": "2023-06-02T18:26:42.939Z"
   },
   {
    "duration": 10,
    "start_time": "2023-06-02T18:26:42.943Z"
   },
   {
    "duration": 26,
    "start_time": "2023-06-02T18:26:42.955Z"
   },
   {
    "duration": 23,
    "start_time": "2023-06-02T18:26:42.984Z"
   },
   {
    "duration": 27,
    "start_time": "2023-06-02T18:26:43.024Z"
   },
   {
    "duration": 19,
    "start_time": "2023-06-02T18:26:43.053Z"
   },
   {
    "duration": 3,
    "start_time": "2023-06-02T18:26:43.074Z"
   },
   {
    "duration": 489,
    "start_time": "2023-06-02T18:26:43.079Z"
   },
   {
    "duration": 264,
    "start_time": "2023-06-02T18:26:43.572Z"
   },
   {
    "duration": 406,
    "start_time": "2023-06-02T18:26:43.838Z"
   },
   {
    "duration": 283,
    "start_time": "2023-06-02T18:26:44.248Z"
   },
   {
    "duration": 283,
    "start_time": "2023-06-02T18:26:44.535Z"
   },
   {
    "duration": 40,
    "start_time": "2023-06-02T18:26:44.820Z"
   },
   {
    "duration": 45,
    "start_time": "2023-06-02T18:26:44.865Z"
   },
   {
    "duration": 9,
    "start_time": "2023-06-02T18:26:44.912Z"
   },
   {
    "duration": 12,
    "start_time": "2023-06-02T18:26:44.923Z"
   },
   {
    "duration": 457,
    "start_time": "2023-06-02T18:26:44.944Z"
   },
   {
    "duration": 3,
    "start_time": "2023-06-02T18:26:45.402Z"
   },
   {
    "duration": 530,
    "start_time": "2023-06-02T18:26:45.407Z"
   },
   {
    "duration": 2,
    "start_time": "2023-06-02T18:26:45.939Z"
   },
   {
    "duration": 17,
    "start_time": "2023-06-02T18:26:45.943Z"
   },
   {
    "duration": 15,
    "start_time": "2023-06-02T18:26:45.962Z"
   },
   {
    "duration": 14,
    "start_time": "2023-06-02T18:26:45.979Z"
   },
   {
    "duration": 15,
    "start_time": "2023-06-02T18:26:45.995Z"
   },
   {
    "duration": 69,
    "start_time": "2023-06-02T18:26:46.012Z"
   },
   {
    "duration": 17,
    "start_time": "2023-06-02T18:26:46.084Z"
   },
   {
    "duration": 2792,
    "start_time": "2023-06-02T18:26:46.103Z"
   },
   {
    "duration": 2403,
    "start_time": "2023-06-02T18:26:48.896Z"
   },
   {
    "duration": 5,
    "start_time": "2023-06-02T18:26:51.300Z"
   },
   {
    "duration": 35,
    "start_time": "2023-06-02T18:26:51.307Z"
   },
   {
    "duration": 12,
    "start_time": "2023-06-02T18:26:51.344Z"
   },
   {
    "duration": 142,
    "start_time": "2023-06-02T18:26:51.358Z"
   },
   {
    "duration": 2708,
    "start_time": "2023-06-02T18:27:06.147Z"
   },
   {
    "duration": 11,
    "start_time": "2023-06-02T19:07:19.172Z"
   },
   {
    "duration": 6,
    "start_time": "2023-06-02T19:07:36.939Z"
   },
   {
    "duration": 7,
    "start_time": "2023-06-02T19:07:40.969Z"
   },
   {
    "duration": 353,
    "start_time": "2023-06-02T19:11:30.817Z"
   },
   {
    "duration": 292,
    "start_time": "2023-06-02T19:12:22.720Z"
   },
   {
    "duration": 525,
    "start_time": "2023-06-02T19:12:30.704Z"
   },
   {
    "duration": 425,
    "start_time": "2023-06-02T19:12:41.378Z"
   },
   {
    "duration": 393,
    "start_time": "2023-06-02T19:13:04.613Z"
   },
   {
    "duration": 431,
    "start_time": "2023-06-02T19:14:23.789Z"
   },
   {
    "duration": 368,
    "start_time": "2023-06-02T19:15:26.207Z"
   },
   {
    "duration": 363,
    "start_time": "2023-06-02T19:15:34.652Z"
   },
   {
    "duration": 350,
    "start_time": "2023-06-02T19:15:41.352Z"
   },
   {
    "duration": 6,
    "start_time": "2023-06-02T19:21:32.394Z"
   },
   {
    "duration": 164,
    "start_time": "2023-06-02T19:24:59.658Z"
   },
   {
    "duration": 4,
    "start_time": "2023-06-02T19:29:15.598Z"
   },
   {
    "duration": 6,
    "start_time": "2023-06-02T19:29:22.276Z"
   },
   {
    "duration": 6,
    "start_time": "2023-06-02T19:31:42.616Z"
   },
   {
    "duration": 5,
    "start_time": "2023-06-02T19:32:25.198Z"
   },
   {
    "duration": 11,
    "start_time": "2023-06-02T19:32:29.022Z"
   },
   {
    "duration": 15,
    "start_time": "2023-06-02T19:32:57.454Z"
   },
   {
    "duration": 17,
    "start_time": "2023-06-02T19:33:08.152Z"
   },
   {
    "duration": 9,
    "start_time": "2023-06-02T19:34:20.957Z"
   },
   {
    "duration": 11,
    "start_time": "2023-06-02T19:35:32.958Z"
   },
   {
    "duration": 6,
    "start_time": "2023-06-02T19:38:36.807Z"
   },
   {
    "duration": 2244,
    "start_time": "2023-06-02T19:43:22.579Z"
   },
   {
    "duration": 1622,
    "start_time": "2023-06-02T19:43:49.619Z"
   },
   {
    "duration": 127,
    "start_time": "2023-06-02T19:43:51.248Z"
   },
   {
    "duration": 87,
    "start_time": "2023-06-02T19:43:51.378Z"
   },
   {
    "duration": 123,
    "start_time": "2023-06-02T19:43:51.467Z"
   },
   {
    "duration": 73,
    "start_time": "2023-06-02T19:43:51.592Z"
   },
   {
    "duration": 6,
    "start_time": "2023-06-02T19:43:51.667Z"
   },
   {
    "duration": 23,
    "start_time": "2023-06-02T19:43:51.675Z"
   },
   {
    "duration": 35,
    "start_time": "2023-06-02T19:43:51.727Z"
   },
   {
    "duration": 84,
    "start_time": "2023-06-02T19:43:51.764Z"
   },
   {
    "duration": 23,
    "start_time": "2023-06-02T19:43:51.850Z"
   },
   {
    "duration": 53,
    "start_time": "2023-06-02T19:43:51.875Z"
   },
   {
    "duration": 7,
    "start_time": "2023-06-02T19:43:51.930Z"
   },
   {
    "duration": 499,
    "start_time": "2023-06-02T19:43:51.938Z"
   },
   {
    "duration": 222,
    "start_time": "2023-06-02T19:43:52.442Z"
   },
   {
    "duration": 217,
    "start_time": "2023-06-02T19:43:52.672Z"
   },
   {
    "duration": 238,
    "start_time": "2023-06-02T19:43:52.891Z"
   },
   {
    "duration": 259,
    "start_time": "2023-06-02T19:43:53.130Z"
   },
   {
    "duration": 2,
    "start_time": "2023-06-02T19:43:53.391Z"
   },
   {
    "duration": 43,
    "start_time": "2023-06-02T19:43:53.395Z"
   },
   {
    "duration": 12,
    "start_time": "2023-06-02T19:43:53.439Z"
   },
   {
    "duration": 49,
    "start_time": "2023-06-02T19:43:53.453Z"
   },
   {
    "duration": 379,
    "start_time": "2023-06-02T19:43:53.505Z"
   },
   {
    "duration": 2,
    "start_time": "2023-06-02T19:43:53.886Z"
   },
   {
    "duration": 354,
    "start_time": "2023-06-02T19:43:53.889Z"
   },
   {
    "duration": 3,
    "start_time": "2023-06-02T19:43:54.245Z"
   },
   {
    "duration": 14,
    "start_time": "2023-06-02T19:43:54.250Z"
   },
   {
    "duration": 17,
    "start_time": "2023-06-02T19:43:54.266Z"
   },
   {
    "duration": 6,
    "start_time": "2023-06-02T19:43:54.285Z"
   },
   {
    "duration": 10,
    "start_time": "2023-06-02T19:43:54.292Z"
   },
   {
    "duration": 15,
    "start_time": "2023-06-02T19:43:54.303Z"
   },
   {
    "duration": 19,
    "start_time": "2023-06-02T19:43:54.320Z"
   },
   {
    "duration": 2351,
    "start_time": "2023-06-02T19:43:54.346Z"
   },
   {
    "duration": 1699,
    "start_time": "2023-06-02T19:43:56.698Z"
   },
   {
    "duration": 118,
    "start_time": "2023-06-02T19:43:58.399Z"
   },
   {
    "duration": 0,
    "start_time": "2023-06-02T19:43:58.518Z"
   },
   {
    "duration": 0,
    "start_time": "2023-06-02T19:43:58.524Z"
   },
   {
    "duration": 0,
    "start_time": "2023-06-02T19:43:58.525Z"
   },
   {
    "duration": 7,
    "start_time": "2023-06-02T19:44:07.479Z"
   },
   {
    "duration": 7,
    "start_time": "2023-06-02T19:44:11.472Z"
   },
   {
    "duration": 2429,
    "start_time": "2023-06-02T19:44:13.626Z"
   },
   {
    "duration": 2424,
    "start_time": "2023-06-02T19:44:26.219Z"
   },
   {
    "duration": 9,
    "start_time": "2023-06-02T19:44:58.074Z"
   },
   {
    "duration": 10,
    "start_time": "2023-06-02T19:45:10.870Z"
   },
   {
    "duration": 151,
    "start_time": "2023-06-02T19:45:49.813Z"
   },
   {
    "duration": 8,
    "start_time": "2023-06-02T20:14:47.155Z"
   },
   {
    "duration": 30,
    "start_time": "2023-06-02T20:21:27.395Z"
   },
   {
    "duration": 25,
    "start_time": "2023-06-02T20:21:46.297Z"
   },
   {
    "duration": 27,
    "start_time": "2023-06-02T20:21:52.980Z"
   },
   {
    "duration": 34,
    "start_time": "2023-06-02T20:22:00.674Z"
   },
   {
    "duration": 49,
    "start_time": "2023-06-02T20:22:41.824Z"
   },
   {
    "duration": 1315,
    "start_time": "2023-06-03T12:12:42.020Z"
   },
   {
    "duration": 195,
    "start_time": "2023-06-03T12:12:43.337Z"
   },
   {
    "duration": 32,
    "start_time": "2023-06-03T12:12:43.534Z"
   },
   {
    "duration": 29,
    "start_time": "2023-06-03T12:12:43.569Z"
   },
   {
    "duration": 29,
    "start_time": "2023-06-03T12:12:43.600Z"
   },
   {
    "duration": 5,
    "start_time": "2023-06-03T12:12:43.631Z"
   },
   {
    "duration": 38,
    "start_time": "2023-06-03T12:12:43.638Z"
   },
   {
    "duration": 35,
    "start_time": "2023-06-03T12:12:43.677Z"
   },
   {
    "duration": 39,
    "start_time": "2023-06-03T12:12:43.714Z"
   },
   {
    "duration": 14,
    "start_time": "2023-06-03T12:12:43.756Z"
   },
   {
    "duration": 12,
    "start_time": "2023-06-03T12:12:43.771Z"
   },
   {
    "duration": 30,
    "start_time": "2023-06-03T12:12:43.784Z"
   },
   {
    "duration": 196,
    "start_time": "2023-06-03T12:12:43.816Z"
   },
   {
    "duration": 89,
    "start_time": "2023-06-03T12:12:44.013Z"
   },
   {
    "duration": 233,
    "start_time": "2023-06-03T12:12:44.104Z"
   },
   {
    "duration": 221,
    "start_time": "2023-06-03T12:12:44.339Z"
   },
   {
    "duration": 209,
    "start_time": "2023-06-03T12:12:44.563Z"
   },
   {
    "duration": 2,
    "start_time": "2023-06-03T12:12:44.774Z"
   },
   {
    "duration": 43,
    "start_time": "2023-06-03T12:12:44.778Z"
   },
   {
    "duration": 7,
    "start_time": "2023-06-03T12:12:44.823Z"
   },
   {
    "duration": 13,
    "start_time": "2023-06-03T12:12:44.832Z"
   },
   {
    "duration": 327,
    "start_time": "2023-06-03T12:12:44.846Z"
   },
   {
    "duration": 293,
    "start_time": "2023-06-03T12:12:45.174Z"
   },
   {
    "duration": 3,
    "start_time": "2023-06-03T12:12:45.469Z"
   },
   {
    "duration": 6,
    "start_time": "2023-06-03T12:12:45.473Z"
   },
   {
    "duration": 6,
    "start_time": "2023-06-03T12:12:45.481Z"
   },
   {
    "duration": 8,
    "start_time": "2023-06-03T12:12:45.488Z"
   },
   {
    "duration": 10,
    "start_time": "2023-06-03T12:12:45.517Z"
   },
   {
    "duration": 8,
    "start_time": "2023-06-03T12:12:45.529Z"
   },
   {
    "duration": 2123,
    "start_time": "2023-06-03T12:12:45.539Z"
   },
   {
    "duration": 1456,
    "start_time": "2023-06-03T12:12:47.664Z"
   },
   {
    "duration": 7,
    "start_time": "2023-06-03T12:12:49.123Z"
   },
   {
    "duration": 16,
    "start_time": "2023-06-03T12:12:49.131Z"
   },
   {
    "duration": 16,
    "start_time": "2023-06-03T12:12:49.149Z"
   },
   {
    "duration": 118,
    "start_time": "2023-06-03T12:12:49.167Z"
   },
   {
    "duration": 4,
    "start_time": "2023-06-03T12:25:19.991Z"
   },
   {
    "duration": 6,
    "start_time": "2023-06-03T12:25:31.177Z"
   },
   {
    "duration": 5,
    "start_time": "2023-06-03T12:25:44.343Z"
   },
   {
    "duration": 4,
    "start_time": "2023-06-03T12:25:58.372Z"
   },
   {
    "duration": 4,
    "start_time": "2023-06-03T12:26:11.382Z"
   },
   {
    "duration": 4,
    "start_time": "2023-06-03T12:26:30.083Z"
   },
   {
    "duration": 3,
    "start_time": "2023-06-03T12:26:43.133Z"
   },
   {
    "duration": 4,
    "start_time": "2023-06-03T12:26:55.812Z"
   },
   {
    "duration": 5,
    "start_time": "2023-06-03T12:33:33.739Z"
   },
   {
    "duration": 43,
    "start_time": "2023-06-03T12:50:13.174Z"
   },
   {
    "duration": 1281,
    "start_time": "2023-06-03T12:50:20.411Z"
   },
   {
    "duration": 62,
    "start_time": "2023-06-03T12:50:35.105Z"
   },
   {
    "duration": 1023,
    "start_time": "2023-06-03T12:50:42.439Z"
   },
   {
    "duration": 588,
    "start_time": "2023-06-03T12:50:43.464Z"
   },
   {
    "duration": 30,
    "start_time": "2023-06-03T12:50:44.054Z"
   },
   {
    "duration": 28,
    "start_time": "2023-06-03T12:50:44.086Z"
   },
   {
    "duration": 15,
    "start_time": "2023-06-03T12:50:44.115Z"
   },
   {
    "duration": 7,
    "start_time": "2023-06-03T12:50:44.133Z"
   },
   {
    "duration": 8,
    "start_time": "2023-06-03T12:50:44.142Z"
   },
   {
    "duration": 5,
    "start_time": "2023-06-03T12:50:44.151Z"
   },
   {
    "duration": 15,
    "start_time": "2023-06-03T12:50:44.157Z"
   },
   {
    "duration": 13,
    "start_time": "2023-06-03T12:50:44.174Z"
   },
   {
    "duration": 40,
    "start_time": "2023-06-03T12:50:44.189Z"
   },
   {
    "duration": 5,
    "start_time": "2023-06-03T12:50:44.230Z"
   },
   {
    "duration": 173,
    "start_time": "2023-06-03T12:50:44.237Z"
   },
   {
    "duration": 91,
    "start_time": "2023-06-03T12:50:44.412Z"
   },
   {
    "duration": 179,
    "start_time": "2023-06-03T12:50:44.504Z"
   },
   {
    "duration": 220,
    "start_time": "2023-06-03T12:50:44.685Z"
   },
   {
    "duration": 221,
    "start_time": "2023-06-03T12:50:44.906Z"
   },
   {
    "duration": 5,
    "start_time": "2023-06-03T12:50:45.129Z"
   },
   {
    "duration": 44,
    "start_time": "2023-06-03T12:50:45.135Z"
   },
   {
    "duration": 6,
    "start_time": "2023-06-03T12:50:45.180Z"
   },
   {
    "duration": 9,
    "start_time": "2023-06-03T12:50:45.188Z"
   },
   {
    "duration": 289,
    "start_time": "2023-06-03T12:50:45.198Z"
   },
   {
    "duration": 298,
    "start_time": "2023-06-03T12:50:45.488Z"
   },
   {
    "duration": 3,
    "start_time": "2023-06-03T12:50:45.787Z"
   },
   {
    "duration": 9,
    "start_time": "2023-06-03T12:50:45.791Z"
   },
   {
    "duration": 6,
    "start_time": "2023-06-03T12:50:45.801Z"
   },
   {
    "duration": 31,
    "start_time": "2023-06-03T12:50:45.808Z"
   },
   {
    "duration": 40,
    "start_time": "2023-06-03T12:50:45.843Z"
   },
   {
    "duration": 12,
    "start_time": "2023-06-03T12:50:45.885Z"
   },
   {
    "duration": 2066,
    "start_time": "2023-06-03T12:50:45.898Z"
   },
   {
    "duration": 2506,
    "start_time": "2023-06-03T12:50:47.966Z"
   },
   {
    "duration": 5,
    "start_time": "2023-06-03T12:50:50.474Z"
   },
   {
    "duration": 5,
    "start_time": "2023-06-03T12:50:50.481Z"
   },
   {
    "duration": 23,
    "start_time": "2023-06-03T12:50:50.488Z"
   },
   {
    "duration": 101,
    "start_time": "2023-06-03T12:50:50.512Z"
   },
   {
    "duration": 13,
    "start_time": "2023-06-03T13:01:13.533Z"
   },
   {
    "duration": 12,
    "start_time": "2023-06-03T13:01:24.302Z"
   },
   {
    "duration": 8,
    "start_time": "2023-06-03T13:02:20.397Z"
   },
   {
    "duration": 8,
    "start_time": "2023-06-03T13:02:50.289Z"
   },
   {
    "duration": 9,
    "start_time": "2023-06-03T13:02:59.913Z"
   },
   {
    "duration": 1150,
    "start_time": "2023-06-04T12:12:22.537Z"
   },
   {
    "duration": 282,
    "start_time": "2023-06-04T12:12:23.689Z"
   },
   {
    "duration": 30,
    "start_time": "2023-06-04T12:12:23.972Z"
   },
   {
    "duration": 27,
    "start_time": "2023-06-04T12:12:24.003Z"
   },
   {
    "duration": 24,
    "start_time": "2023-06-04T12:12:24.032Z"
   },
   {
    "duration": 2,
    "start_time": "2023-06-04T12:12:24.058Z"
   },
   {
    "duration": 12,
    "start_time": "2023-06-04T12:12:24.061Z"
   },
   {
    "duration": 7,
    "start_time": "2023-06-04T12:12:24.074Z"
   },
   {
    "duration": 25,
    "start_time": "2023-06-04T12:12:24.082Z"
   },
   {
    "duration": 13,
    "start_time": "2023-06-04T12:12:24.109Z"
   },
   {
    "duration": 18,
    "start_time": "2023-06-04T12:12:24.123Z"
   },
   {
    "duration": 12,
    "start_time": "2023-06-04T12:12:24.143Z"
   },
   {
    "duration": 180,
    "start_time": "2023-06-04T12:12:24.156Z"
   },
   {
    "duration": 86,
    "start_time": "2023-06-04T12:12:24.338Z"
   },
   {
    "duration": 157,
    "start_time": "2023-06-04T12:12:24.425Z"
   },
   {
    "duration": 195,
    "start_time": "2023-06-04T12:12:24.583Z"
   },
   {
    "duration": 205,
    "start_time": "2023-06-04T12:12:24.779Z"
   },
   {
    "duration": 3,
    "start_time": "2023-06-04T12:12:24.985Z"
   },
   {
    "duration": 28,
    "start_time": "2023-06-04T12:12:24.989Z"
   },
   {
    "duration": 8,
    "start_time": "2023-06-04T12:12:25.018Z"
   },
   {
    "duration": 9,
    "start_time": "2023-06-04T12:12:25.027Z"
   },
   {
    "duration": 281,
    "start_time": "2023-06-04T12:12:25.038Z"
   },
   {
    "duration": 264,
    "start_time": "2023-06-04T12:12:25.320Z"
   },
   {
    "duration": 2,
    "start_time": "2023-06-04T12:12:25.586Z"
   },
   {
    "duration": 7,
    "start_time": "2023-06-04T12:12:25.589Z"
   },
   {
    "duration": 3,
    "start_time": "2023-06-04T12:12:25.606Z"
   },
   {
    "duration": 7,
    "start_time": "2023-06-04T12:12:25.610Z"
   },
   {
    "duration": 12,
    "start_time": "2023-06-04T12:12:25.619Z"
   },
   {
    "duration": 9,
    "start_time": "2023-06-04T12:12:25.632Z"
   },
   {
    "duration": 1803,
    "start_time": "2023-06-04T12:12:25.643Z"
   },
   {
    "duration": 1168,
    "start_time": "2023-06-04T12:12:27.447Z"
   },
   {
    "duration": 5,
    "start_time": "2023-06-04T12:12:28.617Z"
   },
   {
    "duration": 9,
    "start_time": "2023-06-04T12:12:28.623Z"
   },
   {
    "duration": 15,
    "start_time": "2023-06-04T12:12:28.633Z"
   }
  ],
  "kernelspec": {
   "display_name": "Python 3 (ipykernel)",
   "language": "python",
   "name": "python3"
  },
  "language_info": {
   "codemirror_mode": {
    "name": "ipython",
    "version": 3
   },
   "file_extension": ".py",
   "mimetype": "text/x-python",
   "name": "python",
   "nbconvert_exporter": "python",
   "pygments_lexer": "ipython3",
   "version": "3.9.5"
  },
  "toc": {
   "base_numbering": 1,
   "nav_menu": {},
   "number_sections": true,
   "sideBar": true,
   "skip_h1_title": true,
   "title_cell": "Table of Contents",
   "title_sidebar": "Contents",
   "toc_cell": false,
   "toc_position": {
    "height": "calc(100% - 180px)",
    "left": "10px",
    "top": "150px",
    "width": "210.4px"
   },
   "toc_section_display": true,
   "toc_window_display": true
  }
 },
 "nbformat": 4,
 "nbformat_minor": 5
}
