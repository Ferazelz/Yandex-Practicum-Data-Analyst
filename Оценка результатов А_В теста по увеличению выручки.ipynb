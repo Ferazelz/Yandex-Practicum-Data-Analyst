{
 "cells": [
  {
   "cell_type": "markdown",
   "metadata": {},
   "source": [
    "### Описание проекта\n",
    "Вы — аналитик крупного интернет-магазина. Вместе с отделом маркетинга вы подготовили список гипотез для увеличения выручки. <br>\n",
    "Приоритизируйте гипотезы, запустите A/B-тест и проанализируйте результаты. \n"
   ]
  },
  {
   "cell_type": "markdown",
   "metadata": {},
   "source": [
    "### Описание данных\n",
    "Гипотезы - /datasets/hypothesis.csv. <br><br>\n",
    "<li>Hypothesis — краткое описание гипотезы;\n",
    "<li>Reach — охват пользователей по 10-балльной шкале;\n",
    "<li>Impact — влияние на пользователей по 10-балльной шкале;\n",
    "<li>Confidence — уверенность в гипотезе по 10-балльной шкале;\n",
    "<li>Efforts — затраты ресурсов на проверку гипотезы по 10-балльной шкале. Чем больше значение Efforts, тем дороже проверка гипотезы.\n",
    "<br><br>\n",
    "Файл /datasets/orders.csv. \n",
    "<br><br>\n",
    "<li>transactionId — идентификатор заказа;\n",
    "<li>visitorId — идентификатор пользователя, совершившего заказ;\n",
    "<li>date — дата, когда был совершён заказ;\n",
    "<li>revenue — выручка заказа;\n",
    "<li>group — группа A/B-теста, в которую попал заказ.\n",
    "<br><br>\n",
    "Файл /datasets/visitors.csv. \n",
    "<br><br>\n",
    "<li>date — дата;\n",
    "<li>group — группа A/B-теста;\n",
    "<li>visitors — количество пользователей в указанную дату в указанной группе A/B-теста"
   ]
  },
  {
   "cell_type": "markdown",
   "metadata": {},
   "source": [
    "### Приоритизация гипотез"
   ]
  },
  {
   "cell_type": "markdown",
   "metadata": {},
   "source": [
    "Прежде чем начну задание, проведу класическую предобработку"
   ]
  },
  {
   "cell_type": "code",
   "execution_count": 1,
   "metadata": {},
   "outputs": [],
   "source": [
    "# Загружаю библиотеки\n",
    "import pandas as pd\n",
    "import numpy as np\n",
    "from matplotlib import pyplot as plt\n",
    "from scipy import stats as st\n",
    "import math\n",
    "pd.options.display.max_colwidth = 150"
   ]
  },
  {
   "cell_type": "code",
   "execution_count": 2,
   "metadata": {},
   "outputs": [],
   "source": [
    "# Загружаю датафреймы\n",
    "try:\n",
    "    hypothesis = pd.read_csv(r'./datasets/hypothesis.csv')\n",
    "    orders = pd.read_csv(r'./datasets/orders.csv')\n",
    "    visitors = pd.read_csv(r'./datasets/visitors.csv')\n",
    "except:\n",
    "    hypothesis = pd.read_csv('/datasets/hypothesis.csv')\n",
    "    orders = pd.read_csv('/datasets/orders.csv')\n",
    "    visitors = pd.read_csv('/datasets/visitors.csv')"
   ]
  },
  {
   "cell_type": "code",
   "execution_count": 3,
   "metadata": {
    "scrolled": false
   },
   "outputs": [
    {
     "name": "stdout",
     "output_type": "stream",
     "text": [
      "<class 'pandas.core.frame.DataFrame'>\n",
      "RangeIndex: 9 entries, 0 to 8\n",
      "Data columns (total 5 columns):\n",
      " #   Column      Non-Null Count  Dtype \n",
      "---  ------      --------------  ----- \n",
      " 0   Hypothesis  9 non-null      object\n",
      " 1   Reach       9 non-null      int64 \n",
      " 2   Impact      9 non-null      int64 \n",
      " 3   Confidence  9 non-null      int64 \n",
      " 4   Efforts     9 non-null      int64 \n",
      "dtypes: int64(4), object(1)\n",
      "memory usage: 488.0+ bytes\n",
      "<class 'pandas.core.frame.DataFrame'>\n",
      "RangeIndex: 1197 entries, 0 to 1196\n",
      "Data columns (total 5 columns):\n",
      " #   Column         Non-Null Count  Dtype \n",
      "---  ------         --------------  ----- \n",
      " 0   transactionId  1197 non-null   int64 \n",
      " 1   visitorId      1197 non-null   int64 \n",
      " 2   date           1197 non-null   object\n",
      " 3   revenue        1197 non-null   int64 \n",
      " 4   group          1197 non-null   object\n",
      "dtypes: int64(3), object(2)\n",
      "memory usage: 46.9+ KB\n",
      "<class 'pandas.core.frame.DataFrame'>\n",
      "RangeIndex: 62 entries, 0 to 61\n",
      "Data columns (total 3 columns):\n",
      " #   Column    Non-Null Count  Dtype \n",
      "---  ------    --------------  ----- \n",
      " 0   date      62 non-null     object\n",
      " 1   group     62 non-null     object\n",
      " 2   visitors  62 non-null     int64 \n",
      "dtypes: int64(1), object(2)\n",
      "memory usage: 1.6+ KB\n"
     ]
    }
   ],
   "source": [
    "hypothesis.info()\n",
    "orders.info()\n",
    "visitors.info()"
   ]
  },
  {
   "cell_type": "code",
   "execution_count": 4,
   "metadata": {
    "scrolled": true
   },
   "outputs": [
    {
     "data": {
      "text/html": [
       "<div>\n",
       "<style scoped>\n",
       "    .dataframe tbody tr th:only-of-type {\n",
       "        vertical-align: middle;\n",
       "    }\n",
       "\n",
       "    .dataframe tbody tr th {\n",
       "        vertical-align: top;\n",
       "    }\n",
       "\n",
       "    .dataframe thead th {\n",
       "        text-align: right;\n",
       "    }\n",
       "</style>\n",
       "<table border=\"1\" class=\"dataframe\">\n",
       "  <thead>\n",
       "    <tr style=\"text-align: right;\">\n",
       "      <th></th>\n",
       "      <th>Hypothesis</th>\n",
       "      <th>Reach</th>\n",
       "      <th>Impact</th>\n",
       "      <th>Confidence</th>\n",
       "      <th>Efforts</th>\n",
       "    </tr>\n",
       "  </thead>\n",
       "  <tbody>\n",
       "    <tr>\n",
       "      <th>0</th>\n",
       "      <td>Добавить два новых канала привлечения трафика, что позволит привлекать на 30% больше пользователей</td>\n",
       "      <td>3</td>\n",
       "      <td>10</td>\n",
       "      <td>8</td>\n",
       "      <td>6</td>\n",
       "    </tr>\n",
       "    <tr>\n",
       "      <th>1</th>\n",
       "      <td>Запустить собственную службу доставки, что сократит срок доставки заказов</td>\n",
       "      <td>2</td>\n",
       "      <td>5</td>\n",
       "      <td>4</td>\n",
       "      <td>10</td>\n",
       "    </tr>\n",
       "    <tr>\n",
       "      <th>2</th>\n",
       "      <td>Добавить блоки рекомендаций товаров на сайт интернет магазина, чтобы повысить конверсию и средний чек заказа</td>\n",
       "      <td>8</td>\n",
       "      <td>3</td>\n",
       "      <td>7</td>\n",
       "      <td>3</td>\n",
       "    </tr>\n",
       "    <tr>\n",
       "      <th>3</th>\n",
       "      <td>Изменить структура категорий, что увеличит конверсию, т.к. пользователи быстрее найдут нужный товар</td>\n",
       "      <td>8</td>\n",
       "      <td>3</td>\n",
       "      <td>3</td>\n",
       "      <td>8</td>\n",
       "    </tr>\n",
       "    <tr>\n",
       "      <th>4</th>\n",
       "      <td>Изменить цвет фона главной страницы, чтобы увеличить вовлеченность пользователей</td>\n",
       "      <td>3</td>\n",
       "      <td>1</td>\n",
       "      <td>1</td>\n",
       "      <td>1</td>\n",
       "    </tr>\n",
       "  </tbody>\n",
       "</table>\n",
       "</div>"
      ],
      "text/plain": [
       "                                                                                                     Hypothesis  \\\n",
       "0            Добавить два новых канала привлечения трафика, что позволит привлекать на 30% больше пользователей   \n",
       "1                                     Запустить собственную службу доставки, что сократит срок доставки заказов   \n",
       "2  Добавить блоки рекомендаций товаров на сайт интернет магазина, чтобы повысить конверсию и средний чек заказа   \n",
       "3           Изменить структура категорий, что увеличит конверсию, т.к. пользователи быстрее найдут нужный товар   \n",
       "4                              Изменить цвет фона главной страницы, чтобы увеличить вовлеченность пользователей   \n",
       "\n",
       "   Reach  Impact  Confidence  Efforts  \n",
       "0      3      10           8        6  \n",
       "1      2       5           4       10  \n",
       "2      8       3           7        3  \n",
       "3      8       3           3        8  \n",
       "4      3       1           1        1  "
      ]
     },
     "metadata": {},
     "output_type": "display_data"
    },
    {
     "data": {
      "text/html": [
       "<div>\n",
       "<style scoped>\n",
       "    .dataframe tbody tr th:only-of-type {\n",
       "        vertical-align: middle;\n",
       "    }\n",
       "\n",
       "    .dataframe tbody tr th {\n",
       "        vertical-align: top;\n",
       "    }\n",
       "\n",
       "    .dataframe thead th {\n",
       "        text-align: right;\n",
       "    }\n",
       "</style>\n",
       "<table border=\"1\" class=\"dataframe\">\n",
       "  <thead>\n",
       "    <tr style=\"text-align: right;\">\n",
       "      <th></th>\n",
       "      <th>transactionId</th>\n",
       "      <th>visitorId</th>\n",
       "      <th>date</th>\n",
       "      <th>revenue</th>\n",
       "      <th>group</th>\n",
       "    </tr>\n",
       "  </thead>\n",
       "  <tbody>\n",
       "    <tr>\n",
       "      <th>0</th>\n",
       "      <td>3667963787</td>\n",
       "      <td>3312258926</td>\n",
       "      <td>2019-08-15</td>\n",
       "      <td>1650</td>\n",
       "      <td>B</td>\n",
       "    </tr>\n",
       "    <tr>\n",
       "      <th>1</th>\n",
       "      <td>2804400009</td>\n",
       "      <td>3642806036</td>\n",
       "      <td>2019-08-15</td>\n",
       "      <td>730</td>\n",
       "      <td>B</td>\n",
       "    </tr>\n",
       "    <tr>\n",
       "      <th>2</th>\n",
       "      <td>2961555356</td>\n",
       "      <td>4069496402</td>\n",
       "      <td>2019-08-15</td>\n",
       "      <td>400</td>\n",
       "      <td>A</td>\n",
       "    </tr>\n",
       "    <tr>\n",
       "      <th>3</th>\n",
       "      <td>3797467345</td>\n",
       "      <td>1196621759</td>\n",
       "      <td>2019-08-15</td>\n",
       "      <td>9759</td>\n",
       "      <td>B</td>\n",
       "    </tr>\n",
       "    <tr>\n",
       "      <th>4</th>\n",
       "      <td>2282983706</td>\n",
       "      <td>2322279887</td>\n",
       "      <td>2019-08-15</td>\n",
       "      <td>2308</td>\n",
       "      <td>B</td>\n",
       "    </tr>\n",
       "  </tbody>\n",
       "</table>\n",
       "</div>"
      ],
      "text/plain": [
       "   transactionId   visitorId        date  revenue group\n",
       "0     3667963787  3312258926  2019-08-15     1650     B\n",
       "1     2804400009  3642806036  2019-08-15      730     B\n",
       "2     2961555356  4069496402  2019-08-15      400     A\n",
       "3     3797467345  1196621759  2019-08-15     9759     B\n",
       "4     2282983706  2322279887  2019-08-15     2308     B"
      ]
     },
     "metadata": {},
     "output_type": "display_data"
    },
    {
     "data": {
      "text/html": [
       "<div>\n",
       "<style scoped>\n",
       "    .dataframe tbody tr th:only-of-type {\n",
       "        vertical-align: middle;\n",
       "    }\n",
       "\n",
       "    .dataframe tbody tr th {\n",
       "        vertical-align: top;\n",
       "    }\n",
       "\n",
       "    .dataframe thead th {\n",
       "        text-align: right;\n",
       "    }\n",
       "</style>\n",
       "<table border=\"1\" class=\"dataframe\">\n",
       "  <thead>\n",
       "    <tr style=\"text-align: right;\">\n",
       "      <th></th>\n",
       "      <th>date</th>\n",
       "      <th>group</th>\n",
       "      <th>visitors</th>\n",
       "    </tr>\n",
       "  </thead>\n",
       "  <tbody>\n",
       "    <tr>\n",
       "      <th>0</th>\n",
       "      <td>2019-08-01</td>\n",
       "      <td>A</td>\n",
       "      <td>719</td>\n",
       "    </tr>\n",
       "    <tr>\n",
       "      <th>1</th>\n",
       "      <td>2019-08-02</td>\n",
       "      <td>A</td>\n",
       "      <td>619</td>\n",
       "    </tr>\n",
       "    <tr>\n",
       "      <th>2</th>\n",
       "      <td>2019-08-03</td>\n",
       "      <td>A</td>\n",
       "      <td>507</td>\n",
       "    </tr>\n",
       "    <tr>\n",
       "      <th>3</th>\n",
       "      <td>2019-08-04</td>\n",
       "      <td>A</td>\n",
       "      <td>717</td>\n",
       "    </tr>\n",
       "    <tr>\n",
       "      <th>4</th>\n",
       "      <td>2019-08-05</td>\n",
       "      <td>A</td>\n",
       "      <td>756</td>\n",
       "    </tr>\n",
       "  </tbody>\n",
       "</table>\n",
       "</div>"
      ],
      "text/plain": [
       "         date group  visitors\n",
       "0  2019-08-01     A       719\n",
       "1  2019-08-02     A       619\n",
       "2  2019-08-03     A       507\n",
       "3  2019-08-04     A       717\n",
       "4  2019-08-05     A       756"
      ]
     },
     "metadata": {},
     "output_type": "display_data"
    }
   ],
   "source": [
    "display(hypothesis.head())\n",
    "display(orders.head())\n",
    "display(visitors.head())"
   ]
  },
  {
   "cell_type": "code",
   "execution_count": 5,
   "metadata": {
    "scrolled": true
   },
   "outputs": [
    {
     "data": {
      "text/plain": [
       "Hypothesis    0\n",
       "Reach         0\n",
       "Impact        0\n",
       "Confidence    0\n",
       "Efforts       0\n",
       "dtype: int64"
      ]
     },
     "metadata": {},
     "output_type": "display_data"
    },
    {
     "data": {
      "text/plain": [
       "transactionId    0\n",
       "visitorId        0\n",
       "date             0\n",
       "revenue          0\n",
       "group            0\n",
       "dtype: int64"
      ]
     },
     "metadata": {},
     "output_type": "display_data"
    },
    {
     "data": {
      "text/plain": [
       "date        0\n",
       "group       0\n",
       "visitors    0\n",
       "dtype: int64"
      ]
     },
     "metadata": {},
     "output_type": "display_data"
    }
   ],
   "source": [
    "display(hypothesis.isna().sum())\n",
    "display(orders.isna().sum())\n",
    "display(visitors.isna().sum())"
   ]
  },
  {
   "cell_type": "code",
   "execution_count": 6,
   "metadata": {},
   "outputs": [
    {
     "data": {
      "text/plain": [
       "0"
      ]
     },
     "metadata": {},
     "output_type": "display_data"
    },
    {
     "data": {
      "text/plain": [
       "0"
      ]
     },
     "metadata": {},
     "output_type": "display_data"
    },
    {
     "data": {
      "text/plain": [
       "0"
      ]
     },
     "metadata": {},
     "output_type": "display_data"
    }
   ],
   "source": [
    "display(hypothesis.duplicated().sum())\n",
    "display(orders.duplicated().sum())\n",
    "display(visitors.duplicated().sum())"
   ]
  },
  {
   "cell_type": "code",
   "execution_count": 7,
   "metadata": {},
   "outputs": [],
   "source": [
    "orders['date'] = pd.to_datetime(orders['date'])\n",
    "visitors['date'] = pd.to_datetime(visitors['date'])\n",
    "orders.rename(columns={'transactionId':'transactionid', 'visitorId':'visitorid'}, inplace=True)"
   ]
  },
  {
   "cell_type": "code",
   "execution_count": 8,
   "metadata": {
    "scrolled": true
   },
   "outputs": [
    {
     "data": {
      "text/html": [
       "<div>\n",
       "<style scoped>\n",
       "    .dataframe tbody tr th:only-of-type {\n",
       "        vertical-align: middle;\n",
       "    }\n",
       "\n",
       "    .dataframe tbody tr th {\n",
       "        vertical-align: top;\n",
       "    }\n",
       "\n",
       "    .dataframe thead th {\n",
       "        text-align: right;\n",
       "    }\n",
       "</style>\n",
       "<table border=\"1\" class=\"dataframe\">\n",
       "  <thead>\n",
       "    <tr style=\"text-align: right;\">\n",
       "      <th></th>\n",
       "      <th>Hypothesis</th>\n",
       "      <th>Reach</th>\n",
       "      <th>Impact</th>\n",
       "      <th>Confidence</th>\n",
       "      <th>Efforts</th>\n",
       "      <th>ICE</th>\n",
       "    </tr>\n",
       "  </thead>\n",
       "  <tbody>\n",
       "    <tr>\n",
       "      <th>8</th>\n",
       "      <td>Запустить акцию, дающую скидку на товар в день рождения</td>\n",
       "      <td>1</td>\n",
       "      <td>9</td>\n",
       "      <td>9</td>\n",
       "      <td>5</td>\n",
       "      <td>16.20</td>\n",
       "    </tr>\n",
       "    <tr>\n",
       "      <th>0</th>\n",
       "      <td>Добавить два новых канала привлечения трафика, что позволит привлекать на 30% больше пользователей</td>\n",
       "      <td>3</td>\n",
       "      <td>10</td>\n",
       "      <td>8</td>\n",
       "      <td>6</td>\n",
       "      <td>13.33</td>\n",
       "    </tr>\n",
       "    <tr>\n",
       "      <th>7</th>\n",
       "      <td>Добавить форму подписки на все основные страницы, чтобы собрать базу клиентов для email-рассылок</td>\n",
       "      <td>10</td>\n",
       "      <td>7</td>\n",
       "      <td>8</td>\n",
       "      <td>5</td>\n",
       "      <td>11.20</td>\n",
       "    </tr>\n",
       "    <tr>\n",
       "      <th>6</th>\n",
       "      <td>Показать на главной странице баннеры с актуальными акциями и распродажами, чтобы увеличить конверсию</td>\n",
       "      <td>5</td>\n",
       "      <td>3</td>\n",
       "      <td>8</td>\n",
       "      <td>3</td>\n",
       "      <td>8.00</td>\n",
       "    </tr>\n",
       "    <tr>\n",
       "      <th>2</th>\n",
       "      <td>Добавить блоки рекомендаций товаров на сайт интернет магазина, чтобы повысить конверсию и средний чек заказа</td>\n",
       "      <td>8</td>\n",
       "      <td>3</td>\n",
       "      <td>7</td>\n",
       "      <td>3</td>\n",
       "      <td>7.00</td>\n",
       "    </tr>\n",
       "    <tr>\n",
       "      <th>1</th>\n",
       "      <td>Запустить собственную службу доставки, что сократит срок доставки заказов</td>\n",
       "      <td>2</td>\n",
       "      <td>5</td>\n",
       "      <td>4</td>\n",
       "      <td>10</td>\n",
       "      <td>2.00</td>\n",
       "    </tr>\n",
       "    <tr>\n",
       "      <th>5</th>\n",
       "      <td>Добавить страницу отзывов клиентов о магазине, что позволит увеличить количество заказов</td>\n",
       "      <td>3</td>\n",
       "      <td>2</td>\n",
       "      <td>2</td>\n",
       "      <td>3</td>\n",
       "      <td>1.33</td>\n",
       "    </tr>\n",
       "    <tr>\n",
       "      <th>3</th>\n",
       "      <td>Изменить структура категорий, что увеличит конверсию, т.к. пользователи быстрее найдут нужный товар</td>\n",
       "      <td>8</td>\n",
       "      <td>3</td>\n",
       "      <td>3</td>\n",
       "      <td>8</td>\n",
       "      <td>1.12</td>\n",
       "    </tr>\n",
       "    <tr>\n",
       "      <th>4</th>\n",
       "      <td>Изменить цвет фона главной страницы, чтобы увеличить вовлеченность пользователей</td>\n",
       "      <td>3</td>\n",
       "      <td>1</td>\n",
       "      <td>1</td>\n",
       "      <td>1</td>\n",
       "      <td>1.00</td>\n",
       "    </tr>\n",
       "  </tbody>\n",
       "</table>\n",
       "</div>"
      ],
      "text/plain": [
       "                                                                                                     Hypothesis  \\\n",
       "8                                                       Запустить акцию, дающую скидку на товар в день рождения   \n",
       "0            Добавить два новых канала привлечения трафика, что позволит привлекать на 30% больше пользователей   \n",
       "7              Добавить форму подписки на все основные страницы, чтобы собрать базу клиентов для email-рассылок   \n",
       "6          Показать на главной странице баннеры с актуальными акциями и распродажами, чтобы увеличить конверсию   \n",
       "2  Добавить блоки рекомендаций товаров на сайт интернет магазина, чтобы повысить конверсию и средний чек заказа   \n",
       "1                                     Запустить собственную службу доставки, что сократит срок доставки заказов   \n",
       "5                      Добавить страницу отзывов клиентов о магазине, что позволит увеличить количество заказов   \n",
       "3           Изменить структура категорий, что увеличит конверсию, т.к. пользователи быстрее найдут нужный товар   \n",
       "4                              Изменить цвет фона главной страницы, чтобы увеличить вовлеченность пользователей   \n",
       "\n",
       "   Reach  Impact  Confidence  Efforts    ICE  \n",
       "8      1       9           9        5  16.20  \n",
       "0      3      10           8        6  13.33  \n",
       "7     10       7           8        5  11.20  \n",
       "6      5       3           8        3   8.00  \n",
       "2      8       3           7        3   7.00  \n",
       "1      2       5           4       10   2.00  \n",
       "5      3       2           2        3   1.33  \n",
       "3      8       3           3        8   1.12  \n",
       "4      3       1           1        1   1.00  "
      ]
     },
     "execution_count": 8,
     "metadata": {},
     "output_type": "execute_result"
    }
   ],
   "source": [
    "# Применяю фреймворк ICE для приоритизации гипотез. Сортирую по убыванию приоритета.\n",
    "hypothesis['ICE'] = round(hypothesis['Impact'] * hypothesis['Confidence'] / hypothesis['Efforts'],2)\n",
    "hypothesis.sort_values('ICE', ascending=False).head(10)"
   ]
  },
  {
   "cell_type": "code",
   "execution_count": 9,
   "metadata": {
    "scrolled": true
   },
   "outputs": [
    {
     "data": {
      "text/html": [
       "<div>\n",
       "<style scoped>\n",
       "    .dataframe tbody tr th:only-of-type {\n",
       "        vertical-align: middle;\n",
       "    }\n",
       "\n",
       "    .dataframe tbody tr th {\n",
       "        vertical-align: top;\n",
       "    }\n",
       "\n",
       "    .dataframe thead th {\n",
       "        text-align: right;\n",
       "    }\n",
       "</style>\n",
       "<table border=\"1\" class=\"dataframe\">\n",
       "  <thead>\n",
       "    <tr style=\"text-align: right;\">\n",
       "      <th></th>\n",
       "      <th>Hypothesis</th>\n",
       "      <th>Reach</th>\n",
       "      <th>Impact</th>\n",
       "      <th>Confidence</th>\n",
       "      <th>Efforts</th>\n",
       "      <th>ICE</th>\n",
       "      <th>RICE</th>\n",
       "    </tr>\n",
       "  </thead>\n",
       "  <tbody>\n",
       "    <tr>\n",
       "      <th>7</th>\n",
       "      <td>Добавить форму подписки на все основные страницы, чтобы собрать базу клиентов для email-рассылок</td>\n",
       "      <td>10</td>\n",
       "      <td>7</td>\n",
       "      <td>8</td>\n",
       "      <td>5</td>\n",
       "      <td>11.20</td>\n",
       "      <td>112.0</td>\n",
       "    </tr>\n",
       "    <tr>\n",
       "      <th>2</th>\n",
       "      <td>Добавить блоки рекомендаций товаров на сайт интернет магазина, чтобы повысить конверсию и средний чек заказа</td>\n",
       "      <td>8</td>\n",
       "      <td>3</td>\n",
       "      <td>7</td>\n",
       "      <td>3</td>\n",
       "      <td>7.00</td>\n",
       "      <td>56.0</td>\n",
       "    </tr>\n",
       "    <tr>\n",
       "      <th>0</th>\n",
       "      <td>Добавить два новых канала привлечения трафика, что позволит привлекать на 30% больше пользователей</td>\n",
       "      <td>3</td>\n",
       "      <td>10</td>\n",
       "      <td>8</td>\n",
       "      <td>6</td>\n",
       "      <td>13.33</td>\n",
       "      <td>40.0</td>\n",
       "    </tr>\n",
       "    <tr>\n",
       "      <th>6</th>\n",
       "      <td>Показать на главной странице баннеры с актуальными акциями и распродажами, чтобы увеличить конверсию</td>\n",
       "      <td>5</td>\n",
       "      <td>3</td>\n",
       "      <td>8</td>\n",
       "      <td>3</td>\n",
       "      <td>8.00</td>\n",
       "      <td>40.0</td>\n",
       "    </tr>\n",
       "    <tr>\n",
       "      <th>8</th>\n",
       "      <td>Запустить акцию, дающую скидку на товар в день рождения</td>\n",
       "      <td>1</td>\n",
       "      <td>9</td>\n",
       "      <td>9</td>\n",
       "      <td>5</td>\n",
       "      <td>16.20</td>\n",
       "      <td>16.2</td>\n",
       "    </tr>\n",
       "    <tr>\n",
       "      <th>3</th>\n",
       "      <td>Изменить структура категорий, что увеличит конверсию, т.к. пользователи быстрее найдут нужный товар</td>\n",
       "      <td>8</td>\n",
       "      <td>3</td>\n",
       "      <td>3</td>\n",
       "      <td>8</td>\n",
       "      <td>1.12</td>\n",
       "      <td>9.0</td>\n",
       "    </tr>\n",
       "    <tr>\n",
       "      <th>1</th>\n",
       "      <td>Запустить собственную службу доставки, что сократит срок доставки заказов</td>\n",
       "      <td>2</td>\n",
       "      <td>5</td>\n",
       "      <td>4</td>\n",
       "      <td>10</td>\n",
       "      <td>2.00</td>\n",
       "      <td>4.0</td>\n",
       "    </tr>\n",
       "    <tr>\n",
       "      <th>5</th>\n",
       "      <td>Добавить страницу отзывов клиентов о магазине, что позволит увеличить количество заказов</td>\n",
       "      <td>3</td>\n",
       "      <td>2</td>\n",
       "      <td>2</td>\n",
       "      <td>3</td>\n",
       "      <td>1.33</td>\n",
       "      <td>4.0</td>\n",
       "    </tr>\n",
       "    <tr>\n",
       "      <th>4</th>\n",
       "      <td>Изменить цвет фона главной страницы, чтобы увеличить вовлеченность пользователей</td>\n",
       "      <td>3</td>\n",
       "      <td>1</td>\n",
       "      <td>1</td>\n",
       "      <td>1</td>\n",
       "      <td>1.00</td>\n",
       "      <td>3.0</td>\n",
       "    </tr>\n",
       "  </tbody>\n",
       "</table>\n",
       "</div>"
      ],
      "text/plain": [
       "                                                                                                     Hypothesis  \\\n",
       "7              Добавить форму подписки на все основные страницы, чтобы собрать базу клиентов для email-рассылок   \n",
       "2  Добавить блоки рекомендаций товаров на сайт интернет магазина, чтобы повысить конверсию и средний чек заказа   \n",
       "0            Добавить два новых канала привлечения трафика, что позволит привлекать на 30% больше пользователей   \n",
       "6          Показать на главной странице баннеры с актуальными акциями и распродажами, чтобы увеличить конверсию   \n",
       "8                                                       Запустить акцию, дающую скидку на товар в день рождения   \n",
       "3           Изменить структура категорий, что увеличит конверсию, т.к. пользователи быстрее найдут нужный товар   \n",
       "1                                     Запустить собственную службу доставки, что сократит срок доставки заказов   \n",
       "5                      Добавить страницу отзывов клиентов о магазине, что позволит увеличить количество заказов   \n",
       "4                              Изменить цвет фона главной страницы, чтобы увеличить вовлеченность пользователей   \n",
       "\n",
       "   Reach  Impact  Confidence  Efforts    ICE   RICE  \n",
       "7     10       7           8        5  11.20  112.0  \n",
       "2      8       3           7        3   7.00   56.0  \n",
       "0      3      10           8        6  13.33   40.0  \n",
       "6      5       3           8        3   8.00   40.0  \n",
       "8      1       9           9        5  16.20   16.2  \n",
       "3      8       3           3        8   1.12    9.0  \n",
       "1      2       5           4       10   2.00    4.0  \n",
       "5      3       2           2        3   1.33    4.0  \n",
       "4      3       1           1        1   1.00    3.0  "
      ]
     },
     "execution_count": 9,
     "metadata": {},
     "output_type": "execute_result"
    }
   ],
   "source": [
    "# Применяю фреймворк RICE для приоритизации гипотез\n",
    "hypothesis['RICE'] = hypothesis['Reach'] * hypothesis['Impact'] * hypothesis['Confidence'] / hypothesis['Efforts']\n",
    "hypothesis.sort_values('RICE', ascending=False).head(10)"
   ]
  },
  {
   "cell_type": "markdown",
   "metadata": {},
   "source": [
    "ICE не учитывает охват, тогда как RICE учитывает охват, из-за этого метрики отличаются\n",
    "\n",
    "Топ-5 гипотез по фреймворку ICE, являются гипотезы под номерами 8; 0; 7; 6; 2.\n",
    "\n",
    "При смене фреймворка на RICE, топ-5 остается прежним, но со смещенными местами в виде: 7; 2; 0; 6; 8"
   ]
  },
  {
   "cell_type": "markdown",
   "metadata": {},
   "source": [
    "### Анализ A/B-теста"
   ]
  },
  {
   "cell_type": "code",
   "execution_count": 10,
   "metadata": {},
   "outputs": [
    {
     "name": "stdout",
     "output_type": "stream",
     "text": [
      "58\n"
     ]
    }
   ],
   "source": [
    "# Удаляю дубли\n",
    "dubles = orders.groupby(['visitorid']).agg({'group':'nunique', 'transactionid':'count', 'revenue':'sum'}).reset_index()\n",
    "dubles_list = list(dubles[dubles.group != 1]['visitorid'])\n",
    "print(len(dubles_list))\n",
    "orders = orders.query('visitorid not in @dubles_list')"
   ]
  },
  {
   "cell_type": "code",
   "execution_count": 11,
   "metadata": {},
   "outputs": [
    {
     "data": {
      "text/html": [
       "<div>\n",
       "<style scoped>\n",
       "    .dataframe tbody tr th:only-of-type {\n",
       "        vertical-align: middle;\n",
       "    }\n",
       "\n",
       "    .dataframe tbody tr th {\n",
       "        vertical-align: top;\n",
       "    }\n",
       "\n",
       "    .dataframe thead th {\n",
       "        text-align: right;\n",
       "    }\n",
       "</style>\n",
       "<table border=\"1\" class=\"dataframe\">\n",
       "  <thead>\n",
       "    <tr style=\"text-align: right;\">\n",
       "      <th></th>\n",
       "      <th>date</th>\n",
       "      <th>group</th>\n",
       "      <th>orders</th>\n",
       "      <th>buyers</th>\n",
       "      <th>revenue</th>\n",
       "      <th>visitors</th>\n",
       "      <th>average_check</th>\n",
       "      <th>conversion</th>\n",
       "    </tr>\n",
       "  </thead>\n",
       "  <tbody>\n",
       "    <tr>\n",
       "      <th>0</th>\n",
       "      <td>2019-08-01</td>\n",
       "      <td>A</td>\n",
       "      <td>23</td>\n",
       "      <td>19</td>\n",
       "      <td>142779</td>\n",
       "      <td>719</td>\n",
       "      <td>6207.782609</td>\n",
       "      <td>0.031989</td>\n",
       "    </tr>\n",
       "    <tr>\n",
       "      <th>1</th>\n",
       "      <td>2019-08-01</td>\n",
       "      <td>B</td>\n",
       "      <td>17</td>\n",
       "      <td>17</td>\n",
       "      <td>59758</td>\n",
       "      <td>713</td>\n",
       "      <td>3515.176471</td>\n",
       "      <td>0.023843</td>\n",
       "    </tr>\n",
       "    <tr>\n",
       "      <th>2</th>\n",
       "      <td>2019-08-02</td>\n",
       "      <td>A</td>\n",
       "      <td>42</td>\n",
       "      <td>37</td>\n",
       "      <td>234381</td>\n",
       "      <td>1338</td>\n",
       "      <td>5580.500000</td>\n",
       "      <td>0.031390</td>\n",
       "    </tr>\n",
       "    <tr>\n",
       "      <th>3</th>\n",
       "      <td>2019-08-02</td>\n",
       "      <td>B</td>\n",
       "      <td>40</td>\n",
       "      <td>39</td>\n",
       "      <td>221801</td>\n",
       "      <td>1294</td>\n",
       "      <td>5545.025000</td>\n",
       "      <td>0.030912</td>\n",
       "    </tr>\n",
       "    <tr>\n",
       "      <th>4</th>\n",
       "      <td>2019-08-03</td>\n",
       "      <td>A</td>\n",
       "      <td>66</td>\n",
       "      <td>61</td>\n",
       "      <td>346854</td>\n",
       "      <td>1845</td>\n",
       "      <td>5255.363636</td>\n",
       "      <td>0.035772</td>\n",
       "    </tr>\n",
       "  </tbody>\n",
       "</table>\n",
       "</div>"
      ],
      "text/plain": [
       "        date group  orders  buyers  revenue  visitors  average_check  \\\n",
       "0 2019-08-01     A      23      19   142779       719    6207.782609   \n",
       "1 2019-08-01     B      17      17    59758       713    3515.176471   \n",
       "2 2019-08-02     A      42      37   234381      1338    5580.500000   \n",
       "3 2019-08-02     B      40      39   221801      1294    5545.025000   \n",
       "4 2019-08-03     A      66      61   346854      1845    5255.363636   \n",
       "\n",
       "   conversion  \n",
       "0    0.031989  \n",
       "1    0.023843  \n",
       "2    0.031390  \n",
       "3    0.030912  \n",
       "4    0.035772  "
      ]
     },
     "execution_count": 11,
     "metadata": {},
     "output_type": "execute_result"
    }
   ],
   "source": [
    "# Групирую заказы и формирую кумулятивную выручку по группам\n",
    "orders_grouped = (orders.groupby(['date','group'], as_index=False)\n",
    "                   .agg({'transactionid':'nunique','visitorid':'nunique','revenue':'sum'}))\\\n",
    "                   .rename(columns={'transactionid':'orders','visitorid':'buyers'})\n",
    "orders_grouped['group_copy'] = orders_grouped['group']\n",
    "orders_grouped = orders_grouped.set_index(['date','group'])\n",
    "orders_cumsum = orders_grouped.sort_values(['date','group']).groupby('group_copy').cumsum().reset_index()\n",
    "\n",
    "visitors_cumsum = visitors.groupby(['date','group'], as_index=False).agg({'visitors':'sum'}).sort_values(['date','group'])\n",
    "visitors_cumsum['group_copy'] = visitors_cumsum['group']\n",
    "visitors_cumsum = visitors_cumsum.set_index(['date','group']).groupby('group_copy').cumsum().reset_index()\n",
    "\n",
    "cummulative = orders_cumsum.join(visitors_cumsum[['visitors']])\n",
    "cummulative['average_check'] = cummulative['revenue'] / cummulative['orders']\n",
    "cummulative['conversion'] = cummulative['orders'] / cummulative['visitors']\n",
    "cummulative.head()"
   ]
  },
  {
   "cell_type": "markdown",
   "metadata": {},
   "source": [
    "#### Постройте график кумулятивной выручки по группам."
   ]
  },
  {
   "cell_type": "code",
   "execution_count": 13,
   "metadata": {
    "scrolled": false
   },
   "outputs": [
    {
     "data": {
      "image/png": "[encoded data removed]",
      "text/plain": [
       "<Figure size 1080x720 with 1 Axes>"
      ]
     },
     "metadata": {
      "needs_background": "light"
     },
     "output_type": "display_data"
    }
   ],
   "source": [
    "plt.figure(figsize=(15,10))\n",
    "cummulativeA = cummulative[cummulative['group']=='A'][['date', 'revenue']]\n",
    "cummulativeB = cummulative[cummulative['group']=='B'][['date', 'revenue']]\n",
    "plt.plot(cummulativeA.iloc[:,0].to_frame(), cummulativeA.iloc[:,1].to_frame(), label='A')\n",
    "plt.plot(cummulativeB.iloc[:,0].to_frame(), cummulativeB.iloc[:,1].to_frame(), label='B')\n",
    "plt.title('График кумулятивной выручки по группам')\n",
    "plt.xlabel('Дата')\n",
    "plt.ylabel('Выручка')\n",
    "plt.grid()\n",
    "plt.legend()\n",
    "plt.show()"
   ]
  },
  {
   "cell_type": "markdown",
   "metadata": {},
   "source": [
    "B - обладает выбросом, тогда как А - растет без сильных выбросов"
   ]
  },
  {
   "cell_type": "code",
   "execution_count": null,
   "metadata": {
    "scrolled": false
   },
   "outputs": [
    {
     "data": {
      "image/png": "[encoded data removed]",
      "text/plain": [
       "<Figure size 1080x720 with 1 Axes>"
      ]
     },
     "metadata": {
      "needs_background": "light"
     },
     "output_type": "display_data"
    }
   ],
   "source": [
    "# Строю график кумулятивного среднего чека по группам\n",
    "plt.figure(figsize=(15,10))\n",
    "cummulativeA = cummulative[cummulative['group']=='A'][['date', 'average_check']]\n",
    "cummulativeB = cummulative[cummulative['group']=='B'][['date', 'average_check']]\n",
    "plt.plot(cummulativeA.iloc[:,0].to_frame(), cummulativeA.iloc[:,1].to_frame(), label='A')\n",
    "plt.plot(cummulativeB.iloc[:,0].to_frame(), cummulativeB.iloc[:,1].to_frame(), label='B')\n",
    "plt.title('График кумулятивного среднего чека по группам')\n",
    "plt.xlabel('Дата')\n",
    "plt.ylabel('Выручка')\n",
    "plt.grid()\n",
    "plt.legend()\n",
    "plt.show()"
   ]
  },
  {
   "cell_type": "markdown",
   "metadata": {},
   "source": [
    "B - обладает выбросом, тогда как А - растет без сильных выбросов"
   ]
  },
  {
   "cell_type": "code",
   "execution_count": null,
   "metadata": {
    "scrolled": false
   },
   "outputs": [
    {
     "data": {
      "image/png": "[encoded data removed]",
      "text/plain": [
       "<Figure size 1080x720 with 1 Axes>"
      ]
     },
     "metadata": {
      "needs_background": "light"
     },
     "output_type": "display_data"
    }
   ],
   "source": [
    "# Строю график относительного изменения кумулятивного среднего чека группы B к группе A.\n",
    "orders_agg = (cummulativeA[['date', 'average_check']].merge(cummulativeB[['date', 'average_check']], \n",
    "                                            left_on='date', right_on='date', how='left', suffixes=['_A', '_B']))\n",
    "\n",
    "plt.figure(figsize=(15,10))\n",
    "plt.plot(orders_agg['date'], orders_agg['average_check_B'] / orders_agg['average_check_A']-1)\n",
    "plt.title('График относительного изменения кумулятивного среднего чека группы B к группе A')\n",
    "plt.xlabel('Дата')\n",
    "plt.ylabel('Изменение')\n",
    "plt.axhline(y=0, color='red', linestyle='-')\n",
    "plt.grid()\n",
    "plt.show()"
   ]
  },
  {
   "cell_type": "markdown",
   "metadata": {},
   "source": [
    "Также замечены всплески"
   ]
  },
  {
   "cell_type": "code",
   "execution_count": 16,
   "metadata": {
    "scrolled": false
   },
   "outputs": [
    {
     "data": {
      "image/png": "[encoded data removed]",
      "text/plain": [
       "<Figure size 1080x720 with 1 Axes>"
      ]
     },
     "metadata": {
      "needs_background": "light"
     },
     "output_type": "display_data"
    }
   ],
   "source": [
    "# Постройте график кумулятивного среднего количества заказов на посетителя по группам.\n",
    "plt.figure(figsize=(15,10))\n",
    "cummulativeA = cummulative[cummulative['group']=='A'][['date', 'conversion']]\n",
    "cummulativeB = cummulative[cummulative['group']=='B'][['date', 'conversion']]\n",
    "plt.plot(cummulativeA.iloc[:,0].to_frame(), cummulativeA.iloc[:,1].to_frame(), label='A')\n",
    "plt.plot(cummulativeB.iloc[:,0].to_frame(), cummulativeB.iloc[:,1].to_frame(), label='B')\n",
    "plt.title('График кумулятивного среднего количества заказов на посетителя по группам')\n",
    "plt.xlabel('Дата')\n",
    "plt.ylabel('Среднее количество заказов на посетителя')\n",
    "plt.legend()\n",
    "plt.grid()\n",
    "plt.show()"
   ]
  },
  {
   "cell_type": "markdown",
   "metadata": {},
   "source": [
    "Обе группы стабилизировались. Группа B показывает стабильно результат выше, нежели группа А"
   ]
  },
  {
   "cell_type": "code",
   "execution_count": 17,
   "metadata": {
    "scrolled": false
   },
   "outputs": [
    {
     "data": {
      "image/png": "[encoded data removed]",
      "text/plain": [
       "<Figure size 1080x720 with 1 Axes>"
      ]
     },
     "metadata": {
      "needs_background": "light"
     },
     "output_type": "display_data"
    }
   ],
   "source": [
    "# Строю график относительного изменения кумулятивного среднего количества заказов на посетителя группы B к группе A\n",
    "temp = (cummulativeA[['date', 'conversion']].merge(cummulativeB[['date', 'conversion']], \n",
    "                                            left_on='date', right_on='date', how='left', suffixes=['_A', '_B']))\n",
    "plt.figure(figsize=(15,10))\n",
    "plt.plot(temp['date'], temp['conversion_B'] / temp['conversion_A']-1)\n",
    "plt.title('График относительного изменения кумулятивной среднего количества заказов на посетителя группы B к группе A')\n",
    "plt.xlabel('Дата')\n",
    "plt.ylabel('Отношение')\n",
    "plt.axhline(y=0, color='red', linestyle='-')\n",
    "plt.grid()\n",
    "plt.show()"
   ]
  },
  {
   "cell_type": "markdown",
   "metadata": {},
   "source": [
    "Конверсия в группе B стабильно лучше конверсии в группе A на 10% спустя 9 дней после начала"
   ]
  },
  {
   "cell_type": "code",
   "execution_count": null,
   "metadata": {
    "scrolled": true
   },
   "outputs": [
    {
     "data": {
      "image/png": "[encoded data removed]",
      "text/plain": [
       "<Figure size 432x288 with 1 Axes>"
      ]
     },
     "metadata": {
      "needs_background": "light"
     },
     "output_type": "display_data"
    }
   ],
   "source": [
    "# Строю точечный график количества заказов по пользователям.\n",
    "ordersByUsers = orders.groupby('visitorid', as_index=False).agg({'transactionid':'nunique'})\\\n",
    "                         .rename(columns={'transactionid':'orders'})\n",
    "x_values = pd.Series(range(0,len(ordersByUsers['orders'])))\n",
    "plt.scatter(x_values, ordersByUsers['orders'], color='red')\n",
    "plt.title('Распределение количество заказов по пользователям')\n",
    "plt.xlabel('Пользователи')\n",
    "plt.ylabel('Количество заказов')\n",
    "plt.show()"
   ]
  },
  {
   "cell_type": "markdown",
   "metadata": {},
   "source": [
    "В основном пользователи делают один заказ, несколько человек - 2 заказа и 6 человек сделали 3 заказа."
   ]
  },
  {
   "cell_type": "code",
   "execution_count": null,
   "metadata": {
    "scrolled": true
   },
   "outputs": [
    {
     "name": "stdout",
     "output_type": "stream",
     "text": [
      "[1. 2.]\n",
      "3\n"
     ]
    }
   ],
   "source": [
    "# Считаю 95-й и 99-й перцентили количества заказов на пользователя\n",
    "print(np.percentile(ordersByUsers['orders'], [95, 99]))\n",
    "print(ordersByUsers['orders'].max())\n",
    "outlaws_1p = ordersByUsers[ordersByUsers['orders'] >= 4]['visitorid'].to_list()"
   ]
  },
  {
   "cell_type": "markdown",
   "metadata": {},
   "source": [
    "99 перцентиль является хорошей границей для определения аномальных пользователей"
   ]
  },
  {
   "cell_type": "code",
   "execution_count": 20,
   "metadata": {
    "scrolled": true
   },
   "outputs": [
    {
     "data": {
      "image/png": "[encoded data removed]",
      "text/plain": [
       "<Figure size 432x288 with 1 Axes>"
      ]
     },
     "metadata": {
      "needs_background": "light"
     },
     "output_type": "display_data"
    }
   ],
   "source": [
    "# Строю точечный график стоимостей заказов.\n",
    "x_values = pd.Series(range(0,len(orders['revenue'])))\n",
    "plt.scatter(x_values, orders['revenue'], color='red')\n",
    "plt.title('Распределение стоимости по пользователям')\n",
    "plt.xlabel('Пользователи')\n",
    "plt.ylabel('Стоимость')\n",
    "plt.show()"
   ]
  },
  {
   "cell_type": "markdown",
   "metadata": {},
   "source": [
    "Есть всего лишь 2 заказа, которые являются выбросами"
   ]
  },
  {
   "cell_type": "markdown",
   "metadata": {},
   "source": [
    "#### Посчитайте 95-й и 99-й перцентили стоимости заказов."
   ]
  },
  {
   "cell_type": "code",
   "execution_count": 21,
   "metadata": {
    "scrolled": true
   },
   "outputs": [
    {
     "name": "stdout",
     "output_type": "stream",
     "text": [
      "[26785. 53904.]\n",
      "1294500\n"
     ]
    }
   ],
   "source": [
    "print(np.percentile(orders['revenue'], [95, 99]))\n",
    "print(orders['revenue'].max())"
   ]
  },
  {
   "cell_type": "markdown",
   "metadata": {},
   "source": [
    "99 перцентиль является хорошей границей для определения аномальных пользователей"
   ]
  },
  {
   "cell_type": "markdown",
   "metadata": {},
   "source": [
    "#### Необходимо посчитать статистическую значимость различий в среднем количестве заказов на посетителя между группами по «сырым» данным."
   ]
  },
  {
   "cell_type": "code",
   "execution_count": 22,
   "metadata": {},
   "outputs": [],
   "source": [
    "ordersByUsersA = orders[orders['group']=='A'].groupby('visitorid', as_index=False).agg({'transactionid':'nunique'})\n",
    "ordersByUsersA.columns = ['visitorid', 'orders']\n",
    "ordersByUsersB = orders[orders['group']=='B'].groupby('visitorid', as_index=False).agg({'transactionid':'nunique'})\n",
    "ordersByUsersB.columns = ['visitorid', 'orders']\n",
    "\n",
    "list_orders_1 = []\n",
    "for i in range(0,(visitors[visitors['group']=='A']['visitors'].sum()-len(ordersByUsersA))):\n",
    "    list_orders_1.append(0)\n",
    "orders_by_non_purchased_users_A = pd.Series(data = list_orders_1, name = 'orders')\n",
    "\n",
    "list_orders_2 = []\n",
    "for i in range(0,(visitors[visitors['group']=='B']['visitors'].sum()-len(ordersByUsersB))):\n",
    "    list_orders_2.append(0)\n",
    "orders_by_non_purchased_users_B = pd.Series(data = list_orders_2, name = 'orders')\n",
    "sampleA = pd.concat([ordersByUsersA['orders'], orders_by_non_purchased_users_A], axis=0)\n",
    "sampleB = pd.concat([ordersByUsersB['orders'], orders_by_non_purchased_users_B], axis=0)"
   ]
  },
  {
   "cell_type": "markdown",
   "metadata": {},
   "source": [
    "    H0: Отсутствуют статистически значимые различия в среднем количестве заказов на посетителя между группами\n",
    "    H1: Статистически значимые различия в среднем количестве заказов на посетителя между группами есть"
   ]
  },
  {
   "cell_type": "code",
   "execution_count": 23,
   "metadata": {},
   "outputs": [
    {
     "name": "stdout",
     "output_type": "stream",
     "text": [
      "p-значение:  0.011018084110014696\n",
      "Отвергаем нулевую гипотезу\n",
      "0.1597977924896936\n"
     ]
    }
   ],
   "source": [
    "alpha=0.05\n",
    "p_value = st.mannwhitneyu(sampleA, sampleB, alternative='two-sided')[1]\n",
    "print('p-значение: ', p_value)\n",
    "if (p_value < alpha):\n",
    "    print(\"Отвергаем нулевую гипотезу\")\n",
    "else:\n",
    "    print(\"Не получилось отвергнуть нулевую гипотезу\")\n",
    "# Вычисление разницы среднего количества заказов\n",
    "print(sampleB.mean()/sampleA.mean()-1)"
   ]
  },
  {
   "cell_type": "markdown",
   "metadata": {},
   "source": [
    "p-value значительно больше 0.05 из-за чего мы не можем отвергнуть нулевую гипотезу. Статистических значимых различий нет.\n",
    "Количество заказов на посетителя между группами различаются на 16%"
   ]
  },
  {
   "cell_type": "markdown",
   "metadata": {},
   "source": [
    "#### Считаю статистическую значимость различий в среднем чеке заказа между группами по «сырым» данным."
   ]
  },
  {
   "cell_type": "markdown",
   "metadata": {},
   "source": [
    "Воспользуемся критерием Манна-Уитни\n",
    "\n",
    "    H0: Отсутсвуют статистические значимые различия между группами в среднем чеке заказа\n",
    "    H1: Статистически значимые различия между группами в среднем чеке заказа есть"
   ]
  },
  {
   "cell_type": "code",
   "execution_count": 24,
   "metadata": {},
   "outputs": [
    {
     "name": "stdout",
     "output_type": "stream",
     "text": [
      "p-значение:  0.8294908998149533\n",
      "Не получилось отвергнуть нулевую гипотезу\n",
      "0.28660287636871096\n"
     ]
    }
   ],
   "source": [
    "p_value = st.mannwhitneyu(orders[orders['group']=='A']['revenue'],orders[orders['group']=='B']['revenue'], \n",
    "                                       alternative=\"two-sided\")[1]\n",
    "print('p-значение: ', p_value)\n",
    "if (p_value < alpha):\n",
    "    print(\"Отвергаем нулевую гипотезу\")\n",
    "else:\n",
    "    print(\"Не получилось отвергнуть нулевую гипотезу\")\n",
    "# Вычисление разницы среднего чека\n",
    "print(orders[orders['group']=='B']['revenue'].mean()/\n",
    "                       orders[orders['group']=='A']['revenue'].mean()-1)"
   ]
  },
  {
   "cell_type": "markdown",
   "metadata": {},
   "source": [
    "P-value больше 0.05, статистически значимых различий в чеке нет. Хотя относительное различие среднего чека между группами больше 28%."
   ]
  },
  {
   "cell_type": "markdown",
   "metadata": {},
   "source": [
    "#### Считаю статистическую значимость различий в среднем количестве заказов на посетителя между группами по «очищенным» данным"
   ]
  },
  {
   "cell_type": "markdown",
   "metadata": {},
   "source": [
    "    H0: Отсутствуют статистически значимые различия в среднем количестве заказов на посетителя между группами\n",
    "    H1: Статистически значимые различия в среднем количестве заказов на посетителя между группами есть"
   ]
  },
  {
   "cell_type": "code",
   "execution_count": 26,
   "metadata": {},
   "outputs": [
    {
     "name": "stdout",
     "output_type": "stream",
     "text": [
      "p-значение:  0.007021302207652193\n",
      "Отвергаем нулевую гипотезу\n",
      "0.18920780766034584\n"
     ]
    }
   ],
   "source": [
    "sampleAFiltered = pd.concat([\n",
    "    ordersByUsersA[np.logical_not(ordersByUsersA['visitorid'].isin(abnormalUsers))]['orders'],\n",
    "    orders_by_non_purchased_users_A], axis = 0)\n",
    "sampleBFiltered = pd.concat([\n",
    "    ordersByUsersB[np.logical_not(ordersByUsersB['visitorid'].isin(abnormalUsers))]['orders'],\n",
    "    orders_by_non_purchased_users_B], axis = 0)\n",
    "p_value = st.mannwhitneyu(sampleAFiltered, sampleBFiltered, alternative=\"two-sided\")[1]\n",
    "print('p-значение: ', p_value)\n",
    "if (p_value < alpha):\n",
    "    print(\"Отвергаем нулевую гипотезу\")\n",
    "else:\n",
    "    print(\"Не получилось отвергнуть нулевую гипотезу\")\n",
    "print(sampleBFiltered.mean() / sampleAFiltered.mean()-1)"
   ]
  },
  {
   "cell_type": "markdown",
   "metadata": {},
   "source": [
    "    p-value меньше 0.05, поэтому мы не можем отвергать нулевую гипотезу о том, что значимых различий между группами нет.\n",
    "    Преимущество группы В над группой А составляет 19%"
   ]
  },
  {
   "cell_type": "markdown",
   "metadata": {},
   "source": [
    "#### Считаю статистическую значимость различий в среднем чеке заказа между группами по «очищенным» данным"
   ]
  },
  {
   "cell_type": "markdown",
   "metadata": {},
   "source": [
    "Воспользуемся критерием Манна-Уитни\n",
    "\n",
    "    H0: Отсутсвуют статистические значимые различия между группами в среднем чеке заказа\n",
    "    H1: Присутствуют статистические значимые различия между группами в среднем чеке заказа"
   ]
  },
  {
   "cell_type": "code",
   "execution_count": 27,
   "metadata": {
    "scrolled": false
   },
   "outputs": [
    {
     "name": "stdout",
     "output_type": "stream",
     "text": [
      "p-значение:  0.7877044862440841\n",
      "Не получилось отвергнуть нулевую гипотезу\n",
      "-0.0323351256932487\n"
     ]
    }
   ],
   "source": [
    "p_value = st.mannwhitneyu(orders[np.logical_and(orders['group']=='A',\\\n",
    "                                                   np.logical_not(orders['visitorid'].isin(abnormalUsers)))]['revenue'],\n",
    "                             orders[np.logical_and(orders['group']=='B', \\\n",
    "                                                   np.logical_not(orders['visitorid'].isin(abnormalUsers)))]['revenue'])[1]\n",
    "print('p-значение: ', p_value)\n",
    "if (p_value < alpha):\n",
    "    print(\"Отвергаем нулевую гипотезу\")\n",
    "else:\n",
    "    print(\"Не получилось отвергнуть нулевую гипотезу\")\n",
    "print(orders[np.logical_and(orders['group']=='B', np.logical_not(orders['visitorid'].isin(abnormalUsers)))]['revenue'].mean()\\\n",
    "/orders[np.logical_and(orders['group']=='A', np.logical_not(orders['visitorid'].isin(abnormalUsers)))]['revenue'].mean()-1)"
   ]
  },
  {
   "cell_type": "markdown",
   "metadata": {},
   "source": [
    "    p-value значительно больше 0.05, что значит, что между группами есть статистические знамимые различия в среднем чеке\n",
    "    Группа B после чистки данных уступила группе А на 3 процента по среднему чеку в заказах"
   ]
  },
  {
   "cell_type": "markdown",
   "metadata": {},
   "source": [
    "#### Вывод"
   ]
  },
  {
   "cell_type": "markdown",
   "metadata": {},
   "source": [
    "    График кумулятивного среднего количества заказов на посетителя показал, что результаты группы B намного лучше результатов группы А и зафиксировались на достаточном уровне\n",
    "    Из графика среднего чека нельзя сделать таких же выводов из-за наличия выбросов\n",
    "    \n",
    "    Различия между средним количеством заказов на посетителя появились только после \"очистки данных\" и составляют 17%\n",
    "    Различий по среднему чеку почти не наблюдается\n",
    "    \n",
    "    Из имеющихся данных, я считаю, что тест можно остановить, т.к. прошло достаточно много времени, данные мало видоизменяются и собранных данных достаточно. Был зафиксирован прирост среднего количества заказов в группе B. На среднем чеке гипотеза не дала подтверждения"
   ]
  }
 ],
 "metadata": {
  "ExecuteTimeLog": [
   {
    "duration": 1397,
    "start_time": "2023-07-04T20:37:45.125Z"
   },
   {
    "duration": 251,
    "start_time": "2023-07-04T20:44:00.838Z"
   },
   {
    "duration": 24,
    "start_time": "2023-07-04T20:46:52.601Z"
   },
   {
    "duration": 17,
    "start_time": "2023-07-04T20:48:42.913Z"
   },
   {
    "duration": 15,
    "start_time": "2023-07-04T20:49:28.526Z"
   },
   {
    "duration": 12,
    "start_time": "2023-07-04T20:49:58.866Z"
   },
   {
    "duration": 8,
    "start_time": "2023-07-04T20:50:11.922Z"
   },
   {
    "duration": 8,
    "start_time": "2023-07-04T20:50:32.601Z"
   },
   {
    "duration": 17,
    "start_time": "2023-07-04T20:52:31.149Z"
   },
   {
    "duration": 14,
    "start_time": "2023-07-04T20:52:42.459Z"
   },
   {
    "duration": 10,
    "start_time": "2023-07-04T20:53:14.204Z"
   },
   {
    "duration": 11,
    "start_time": "2023-07-04T20:54:28.395Z"
   },
   {
    "duration": 3,
    "start_time": "2023-07-04T20:55:07.728Z"
   },
   {
    "duration": 17,
    "start_time": "2023-07-04T20:55:36.036Z"
   },
   {
    "duration": 91,
    "start_time": "2023-07-04T22:08:38.212Z"
   },
   {
    "duration": 32,
    "start_time": "2023-07-04T22:10:34.844Z"
   },
   {
    "duration": 34,
    "start_time": "2023-07-04T22:12:24.402Z"
   },
   {
    "duration": 222,
    "start_time": "2023-07-04T22:12:40.434Z"
   },
   {
    "duration": 144,
    "start_time": "2023-07-04T22:13:24.103Z"
   },
   {
    "duration": 140,
    "start_time": "2023-07-04T22:13:31.901Z"
   },
   {
    "duration": 191,
    "start_time": "2023-07-04T22:14:13.454Z"
   },
   {
    "duration": 17,
    "start_time": "2023-07-04T22:14:21.102Z"
   },
   {
    "duration": 180,
    "start_time": "2023-07-04T22:14:46.405Z"
   },
   {
    "duration": 216,
    "start_time": "2023-07-04T22:14:50.292Z"
   },
   {
    "duration": 198,
    "start_time": "2023-07-04T22:15:25.062Z"
   },
   {
    "duration": 199,
    "start_time": "2023-07-04T22:16:06.332Z"
   },
   {
    "duration": 295,
    "start_time": "2023-07-04T22:16:20.290Z"
   },
   {
    "duration": 210,
    "start_time": "2023-07-04T22:17:53.970Z"
   },
   {
    "duration": 195,
    "start_time": "2023-07-04T22:18:01.067Z"
   },
   {
    "duration": 225,
    "start_time": "2023-07-04T22:21:40.631Z"
   },
   {
    "duration": 47,
    "start_time": "2023-07-05T00:43:10.039Z"
   },
   {
    "duration": 8,
    "start_time": "2023-07-05T00:43:38.048Z"
   },
   {
    "duration": 7,
    "start_time": "2023-07-05T00:45:39.504Z"
   },
   {
    "duration": 8,
    "start_time": "2023-07-05T00:45:55.081Z"
   },
   {
    "duration": 8,
    "start_time": "2023-07-05T00:45:58.066Z"
   },
   {
    "duration": 8,
    "start_time": "2023-07-05T00:46:11.548Z"
   },
   {
    "duration": 100,
    "start_time": "2023-07-05T00:53:41.243Z"
   },
   {
    "duration": 7,
    "start_time": "2023-07-05T00:53:45.253Z"
   },
   {
    "duration": 8,
    "start_time": "2023-07-05T00:53:57.494Z"
   },
   {
    "duration": 8,
    "start_time": "2023-07-05T00:54:49.949Z"
   },
   {
    "duration": 8,
    "start_time": "2023-07-05T00:55:03.462Z"
   },
   {
    "duration": 1214,
    "start_time": "2023-07-05T00:55:20.545Z"
   },
   {
    "duration": 230,
    "start_time": "2023-07-05T00:55:21.761Z"
   },
   {
    "duration": 22,
    "start_time": "2023-07-05T00:55:21.993Z"
   },
   {
    "duration": 40,
    "start_time": "2023-07-05T00:55:22.016Z"
   },
   {
    "duration": 10,
    "start_time": "2023-07-05T00:55:22.058Z"
   },
   {
    "duration": 49,
    "start_time": "2023-07-05T00:55:22.069Z"
   },
   {
    "duration": 20,
    "start_time": "2023-07-05T00:55:22.119Z"
   },
   {
    "duration": 18,
    "start_time": "2023-07-05T00:55:22.141Z"
   },
   {
    "duration": 11,
    "start_time": "2023-07-05T00:55:22.160Z"
   },
   {
    "duration": 5,
    "start_time": "2023-07-05T00:55:22.173Z"
   },
   {
    "duration": 34,
    "start_time": "2023-07-05T00:55:22.179Z"
   },
   {
    "duration": 302,
    "start_time": "2023-07-05T00:55:22.215Z"
   },
   {
    "duration": 224,
    "start_time": "2023-07-05T00:55:22.519Z"
   },
   {
    "duration": 1553,
    "start_time": "2023-07-05T01:00:47.796Z"
   },
   {
    "duration": 129,
    "start_time": "2023-07-05T01:01:24.021Z"
   },
   {
    "duration": 1928,
    "start_time": "2023-07-05T01:01:27.535Z"
   },
   {
    "duration": 351,
    "start_time": "2023-07-05T01:02:48.513Z"
   },
   {
    "duration": 382,
    "start_time": "2023-07-05T01:02:57.626Z"
   },
   {
    "duration": 355,
    "start_time": "2023-07-05T01:03:09.420Z"
   },
   {
    "duration": 311,
    "start_time": "2023-07-05T01:03:13.492Z"
   },
   {
    "duration": 178,
    "start_time": "2023-07-05T01:15:50.851Z"
   },
   {
    "duration": 281,
    "start_time": "2023-07-05T01:15:59.020Z"
   },
   {
    "duration": 294,
    "start_time": "2023-07-05T01:27:15.049Z"
   },
   {
    "duration": 440,
    "start_time": "2023-07-05T01:27:23.041Z"
   },
   {
    "duration": 312,
    "start_time": "2023-07-05T01:27:39.186Z"
   },
   {
    "duration": 375,
    "start_time": "2023-07-05T01:27:54.229Z"
   },
   {
    "duration": 334,
    "start_time": "2023-07-05T01:30:03.294Z"
   },
   {
    "duration": 116,
    "start_time": "2023-07-05T01:35:47.209Z"
   },
   {
    "duration": 6,
    "start_time": "2023-07-05T01:42:01.665Z"
   },
   {
    "duration": 5,
    "start_time": "2023-07-05T01:42:12.713Z"
   },
   {
    "duration": 5,
    "start_time": "2023-07-05T01:42:38.619Z"
   },
   {
    "duration": 182,
    "start_time": "2023-07-05T01:44:50.605Z"
   },
   {
    "duration": 130,
    "start_time": "2023-07-05T01:44:59.614Z"
   },
   {
    "duration": 122,
    "start_time": "2023-07-05T01:45:14.857Z"
   },
   {
    "duration": 143,
    "start_time": "2023-07-05T01:45:19.471Z"
   },
   {
    "duration": 109,
    "start_time": "2023-07-05T01:45:24.049Z"
   },
   {
    "duration": 3,
    "start_time": "2023-07-05T01:46:07.790Z"
   },
   {
    "duration": 4,
    "start_time": "2023-07-05T01:47:41.907Z"
   },
   {
    "duration": 10,
    "start_time": "2023-07-05T01:54:30.957Z"
   },
   {
    "duration": 13,
    "start_time": "2023-07-05T01:55:36.349Z"
   },
   {
    "duration": 90,
    "start_time": "2023-07-05T01:55:57.488Z"
   },
   {
    "duration": 4,
    "start_time": "2023-07-05T01:56:01.177Z"
   },
   {
    "duration": 6,
    "start_time": "2023-07-05T01:56:06.561Z"
   },
   {
    "duration": 13,
    "start_time": "2023-07-05T01:59:57.014Z"
   },
   {
    "duration": 88,
    "start_time": "2023-07-05T02:03:26.994Z"
   },
   {
    "duration": 13,
    "start_time": "2023-07-05T02:06:10.325Z"
   },
   {
    "duration": 9,
    "start_time": "2023-07-05T02:12:08.195Z"
   },
   {
    "duration": 6,
    "start_time": "2023-07-05T02:13:25.554Z"
   },
   {
    "duration": 10,
    "start_time": "2023-07-05T02:13:29.780Z"
   },
   {
    "duration": 24,
    "start_time": "2023-07-05T02:14:14.522Z"
   },
   {
    "duration": 16,
    "start_time": "2023-07-05T02:17:48.931Z"
   },
   {
    "duration": 9,
    "start_time": "2023-07-05T02:17:54.878Z"
   },
   {
    "duration": 19,
    "start_time": "2023-07-05T02:19:31.552Z"
   },
   {
    "duration": 17,
    "start_time": "2023-07-05T02:22:35.729Z"
   },
   {
    "duration": 117,
    "start_time": "2023-07-05T02:29:46.551Z"
   },
   {
    "duration": 971,
    "start_time": "2023-07-05T02:36:22.193Z"
   },
   {
    "duration": 127,
    "start_time": "2023-07-05T02:36:23.166Z"
   },
   {
    "duration": 20,
    "start_time": "2023-07-05T02:36:23.295Z"
   },
   {
    "duration": 17,
    "start_time": "2023-07-05T02:36:23.316Z"
   },
   {
    "duration": 9,
    "start_time": "2023-07-05T02:36:23.335Z"
   },
   {
    "duration": 11,
    "start_time": "2023-07-05T02:36:23.345Z"
   },
   {
    "duration": 22,
    "start_time": "2023-07-05T02:36:23.357Z"
   },
   {
    "duration": 18,
    "start_time": "2023-07-05T02:36:23.380Z"
   },
   {
    "duration": 16,
    "start_time": "2023-07-05T02:36:23.401Z"
   },
   {
    "duration": 51,
    "start_time": "2023-07-05T02:36:23.418Z"
   },
   {
    "duration": 315,
    "start_time": "2023-07-05T02:36:23.471Z"
   },
   {
    "duration": 214,
    "start_time": "2023-07-05T02:36:23.787Z"
   },
   {
    "duration": 341,
    "start_time": "2023-07-05T02:36:24.003Z"
   },
   {
    "duration": 277,
    "start_time": "2023-07-05T02:36:24.347Z"
   },
   {
    "duration": 332,
    "start_time": "2023-07-05T02:36:24.626Z"
   },
   {
    "duration": 103,
    "start_time": "2023-07-05T02:36:24.959Z"
   },
   {
    "duration": 5,
    "start_time": "2023-07-05T02:36:25.064Z"
   },
   {
    "duration": 116,
    "start_time": "2023-07-05T02:36:25.071Z"
   },
   {
    "duration": 4,
    "start_time": "2023-07-05T02:36:25.189Z"
   },
   {
    "duration": 14,
    "start_time": "2023-07-05T02:36:25.194Z"
   },
   {
    "duration": 23,
    "start_time": "2023-07-05T02:36:25.209Z"
   },
   {
    "duration": 11,
    "start_time": "2023-07-05T02:36:25.233Z"
   },
   {
    "duration": 9,
    "start_time": "2023-07-05T02:36:25.245Z"
   },
   {
    "duration": 6,
    "start_time": "2023-07-05T02:36:25.255Z"
   },
   {
    "duration": 14,
    "start_time": "2023-07-05T02:36:25.263Z"
   },
   {
    "duration": 1242,
    "start_time": "2023-07-05T15:45:43.748Z"
   },
   {
    "duration": 461,
    "start_time": "2023-07-05T15:45:44.992Z"
   },
   {
    "duration": 29,
    "start_time": "2023-07-05T15:45:45.455Z"
   },
   {
    "duration": 49,
    "start_time": "2023-07-05T15:45:45.487Z"
   },
   {
    "duration": 35,
    "start_time": "2023-07-05T15:45:45.538Z"
   },
   {
    "duration": 48,
    "start_time": "2023-07-05T15:45:45.575Z"
   },
   {
    "duration": 14,
    "start_time": "2023-07-05T15:45:45.625Z"
   },
   {
    "duration": 35,
    "start_time": "2023-07-05T15:45:45.641Z"
   },
   {
    "duration": 18,
    "start_time": "2023-07-05T15:45:45.678Z"
   },
   {
    "duration": 58,
    "start_time": "2023-07-05T15:45:45.699Z"
   },
   {
    "duration": 373,
    "start_time": "2023-07-05T15:45:45.759Z"
   },
   {
    "duration": 268,
    "start_time": "2023-07-05T15:45:46.134Z"
   },
   {
    "duration": 379,
    "start_time": "2023-07-05T15:45:46.403Z"
   },
   {
    "duration": 301,
    "start_time": "2023-07-05T15:45:46.784Z"
   },
   {
    "duration": 394,
    "start_time": "2023-07-05T15:45:47.087Z"
   },
   {
    "duration": 132,
    "start_time": "2023-07-05T15:45:47.483Z"
   },
   {
    "duration": 8,
    "start_time": "2023-07-05T15:45:47.617Z"
   },
   {
    "duration": 154,
    "start_time": "2023-07-05T15:45:47.627Z"
   },
   {
    "duration": 5,
    "start_time": "2023-07-05T15:45:47.782Z"
   },
   {
    "duration": 24,
    "start_time": "2023-07-05T15:45:47.789Z"
   },
   {
    "duration": 21,
    "start_time": "2023-07-05T15:45:47.815Z"
   },
   {
    "duration": 17,
    "start_time": "2023-07-05T15:45:47.838Z"
   },
   {
    "duration": 11,
    "start_time": "2023-07-05T15:45:47.857Z"
   },
   {
    "duration": 4,
    "start_time": "2023-07-05T15:46:07.264Z"
   },
   {
    "duration": 1437,
    "start_time": "2023-07-05T19:03:22.777Z"
   },
   {
    "duration": 111,
    "start_time": "2023-07-05T19:03:27.615Z"
   },
   {
    "duration": 364,
    "start_time": "2023-07-05T19:03:30.605Z"
   },
   {
    "duration": 24,
    "start_time": "2023-07-05T19:03:32.481Z"
   },
   {
    "duration": 7,
    "start_time": "2023-07-05T19:03:52.555Z"
   },
   {
    "duration": 24,
    "start_time": "2023-07-05T19:03:54.785Z"
   },
   {
    "duration": 21,
    "start_time": "2023-07-05T19:04:56.191Z"
   },
   {
    "duration": 16,
    "start_time": "2023-07-05T19:07:32.492Z"
   },
   {
    "duration": 13,
    "start_time": "2023-07-05T19:07:59.092Z"
   },
   {
    "duration": 13,
    "start_time": "2023-07-05T19:08:37.812Z"
   },
   {
    "duration": 20,
    "start_time": "2023-07-05T20:25:09.871Z"
   },
   {
    "duration": 29,
    "start_time": "2023-07-05T20:25:13.816Z"
   },
   {
    "duration": 1374,
    "start_time": "2023-07-05T20:25:20.173Z"
   },
   {
    "duration": 283,
    "start_time": "2023-07-05T20:25:21.550Z"
   },
   {
    "duration": 43,
    "start_time": "2023-07-05T20:25:21.835Z"
   },
   {
    "duration": 93,
    "start_time": "2023-07-05T20:25:21.880Z"
   },
   {
    "duration": 17,
    "start_time": "2023-07-05T20:25:21.976Z"
   },
   {
    "duration": 77,
    "start_time": "2023-07-05T20:25:21.996Z"
   },
   {
    "duration": 20,
    "start_time": "2023-07-05T20:25:22.075Z"
   },
   {
    "duration": 18,
    "start_time": "2023-07-05T20:25:22.097Z"
   },
   {
    "duration": 45,
    "start_time": "2023-07-05T20:25:22.151Z"
   },
   {
    "duration": 187,
    "start_time": "2023-07-05T20:25:22.198Z"
   },
   {
    "duration": 1013,
    "start_time": "2023-07-05T20:25:22.387Z"
   },
   {
    "duration": 683,
    "start_time": "2023-07-05T20:25:23.402Z"
   },
   {
    "duration": 716,
    "start_time": "2023-07-05T20:25:24.089Z"
   },
   {
    "duration": 765,
    "start_time": "2023-07-05T20:25:24.854Z"
   },
   {
    "duration": 721,
    "start_time": "2023-07-05T20:25:25.659Z"
   },
   {
    "duration": 319,
    "start_time": "2023-07-05T20:25:26.382Z"
   },
   {
    "duration": 76,
    "start_time": "2023-07-05T20:25:26.703Z"
   },
   {
    "duration": 165,
    "start_time": "2023-07-05T20:25:26.781Z"
   },
   {
    "duration": 17,
    "start_time": "2023-07-05T20:25:26.948Z"
   },
   {
    "duration": 40,
    "start_time": "2023-07-05T20:25:26.974Z"
   },
   {
    "duration": 19,
    "start_time": "2023-07-05T20:25:27.016Z"
   },
   {
    "duration": 24,
    "start_time": "2023-07-05T20:25:27.037Z"
   },
   {
    "duration": 19,
    "start_time": "2023-07-05T20:25:27.078Z"
   },
   {
    "duration": 8,
    "start_time": "2023-07-05T20:25:27.100Z"
   },
   {
    "duration": 28,
    "start_time": "2023-07-05T20:25:27.110Z"
   },
   {
    "duration": 304,
    "start_time": "2023-07-05T20:26:05.205Z"
   },
   {
    "duration": 53,
    "start_time": "2023-07-06T23:16:10.235Z"
   },
   {
    "duration": 7,
    "start_time": "2023-07-06T23:16:18.667Z"
   },
   {
    "duration": 11,
    "start_time": "2023-07-06T23:16:25.642Z"
   },
   {
    "duration": 1542,
    "start_time": "2023-07-06T23:16:28.661Z"
   },
   {
    "duration": 287,
    "start_time": "2023-07-06T23:16:30.492Z"
   },
   {
    "duration": 79,
    "start_time": "2023-07-06T23:16:34.949Z"
   },
   {
    "duration": 1221,
    "start_time": "2023-07-06T23:16:51.438Z"
   },
   {
    "duration": 179,
    "start_time": "2023-07-06T23:16:52.661Z"
   },
   {
    "duration": 31,
    "start_time": "2023-07-06T23:16:52.842Z"
   },
   {
    "duration": 21,
    "start_time": "2023-07-06T23:16:52.874Z"
   },
   {
    "duration": 28,
    "start_time": "2023-07-06T23:16:52.897Z"
   },
   {
    "duration": 13,
    "start_time": "2023-07-06T23:16:52.927Z"
   },
   {
    "duration": 15,
    "start_time": "2023-07-06T23:16:52.942Z"
   },
   {
    "duration": 23,
    "start_time": "2023-07-06T23:16:52.959Z"
   },
   {
    "duration": 14,
    "start_time": "2023-07-06T23:16:52.984Z"
   },
   {
    "duration": 132,
    "start_time": "2023-07-06T23:16:52.999Z"
   },
   {
    "duration": 0,
    "start_time": "2023-07-06T23:16:53.133Z"
   },
   {
    "duration": 0,
    "start_time": "2023-07-06T23:16:53.134Z"
   },
   {
    "duration": 0,
    "start_time": "2023-07-06T23:16:53.135Z"
   },
   {
    "duration": 0,
    "start_time": "2023-07-06T23:16:53.136Z"
   },
   {
    "duration": 0,
    "start_time": "2023-07-06T23:16:53.137Z"
   },
   {
    "duration": 0,
    "start_time": "2023-07-06T23:16:53.139Z"
   },
   {
    "duration": 0,
    "start_time": "2023-07-06T23:16:53.140Z"
   },
   {
    "duration": 0,
    "start_time": "2023-07-06T23:16:53.142Z"
   },
   {
    "duration": 0,
    "start_time": "2023-07-06T23:16:53.144Z"
   },
   {
    "duration": 0,
    "start_time": "2023-07-06T23:16:53.145Z"
   },
   {
    "duration": 0,
    "start_time": "2023-07-06T23:16:53.146Z"
   },
   {
    "duration": 0,
    "start_time": "2023-07-06T23:16:53.148Z"
   },
   {
    "duration": 0,
    "start_time": "2023-07-06T23:16:53.150Z"
   },
   {
    "duration": 0,
    "start_time": "2023-07-06T23:16:53.151Z"
   },
   {
    "duration": 0,
    "start_time": "2023-07-06T23:16:53.152Z"
   },
   {
    "duration": 0,
    "start_time": "2023-07-06T23:16:53.153Z"
   },
   {
    "duration": 13,
    "start_time": "2023-07-06T23:17:40.382Z"
   },
   {
    "duration": 10,
    "start_time": "2023-07-06T23:17:47.981Z"
   },
   {
    "duration": 13,
    "start_time": "2023-07-06T23:18:22.212Z"
   },
   {
    "duration": 14,
    "start_time": "2023-07-06T23:37:12.093Z"
   },
   {
    "duration": 50,
    "start_time": "2023-07-06T23:37:16.734Z"
   },
   {
    "duration": 380,
    "start_time": "2023-07-06T23:37:20.949Z"
   },
   {
    "duration": 288,
    "start_time": "2023-07-06T23:42:01.188Z"
   },
   {
    "duration": 340,
    "start_time": "2023-07-06T23:47:17.137Z"
   },
   {
    "duration": 381,
    "start_time": "2023-07-06T23:50:38.602Z"
   },
   {
    "duration": 266,
    "start_time": "2023-07-07T00:06:33.361Z"
   },
   {
    "duration": 270,
    "start_time": "2023-07-07T00:18:46.365Z"
   },
   {
    "duration": 326,
    "start_time": "2023-07-07T00:25:39.639Z"
   },
   {
    "duration": 329,
    "start_time": "2023-07-07T00:27:10.836Z"
   },
   {
    "duration": 235,
    "start_time": "2023-07-07T00:30:44.159Z"
   },
   {
    "duration": 73,
    "start_time": "2023-07-07T11:27:44.318Z"
   },
   {
    "duration": 3542,
    "start_time": "2023-07-07T11:32:51.832Z"
   },
   {
    "duration": 365,
    "start_time": "2023-07-07T11:32:55.377Z"
   },
   {
    "duration": 80,
    "start_time": "2023-07-07T11:32:55.745Z"
   },
   {
    "duration": 114,
    "start_time": "2023-07-07T11:32:55.827Z"
   },
   {
    "duration": 72,
    "start_time": "2023-07-07T11:32:55.946Z"
   },
   {
    "duration": 74,
    "start_time": "2023-07-07T11:32:56.021Z"
   },
   {
    "duration": 38,
    "start_time": "2023-07-07T11:32:56.108Z"
   },
   {
    "duration": 80,
    "start_time": "2023-07-07T11:32:56.149Z"
   },
   {
    "duration": 27,
    "start_time": "2023-07-07T11:32:56.232Z"
   },
   {
    "duration": 47,
    "start_time": "2023-07-07T11:32:56.262Z"
   },
   {
    "duration": 118,
    "start_time": "2023-07-07T11:32:56.317Z"
   },
   {
    "duration": 460,
    "start_time": "2023-07-07T11:32:56.438Z"
   },
   {
    "duration": 367,
    "start_time": "2023-07-07T11:32:56.901Z"
   },
   {
    "duration": 487,
    "start_time": "2023-07-07T11:32:57.271Z"
   },
   {
    "duration": 363,
    "start_time": "2023-07-07T11:32:57.761Z"
   },
   {
    "duration": 404,
    "start_time": "2023-07-07T11:32:58.130Z"
   },
   {
    "duration": 220,
    "start_time": "2023-07-07T11:32:58.536Z"
   },
   {
    "duration": 9,
    "start_time": "2023-07-07T11:32:58.758Z"
   },
   {
    "duration": 170,
    "start_time": "2023-07-07T11:32:58.769Z"
   },
   {
    "duration": 5,
    "start_time": "2023-07-07T11:32:58.942Z"
   },
   {
    "duration": 19,
    "start_time": "2023-07-07T11:32:58.950Z"
   },
   {
    "duration": 40,
    "start_time": "2023-07-07T11:32:58.971Z"
   },
   {
    "duration": 32,
    "start_time": "2023-07-07T11:32:59.013Z"
   },
   {
    "duration": 33,
    "start_time": "2023-07-07T11:32:59.048Z"
   },
   {
    "duration": 12,
    "start_time": "2023-07-07T11:32:59.083Z"
   },
   {
    "duration": 42,
    "start_time": "2023-07-07T11:32:59.098Z"
   },
   {
    "duration": 164,
    "start_time": "2023-07-07T13:29:28.604Z"
   },
   {
    "duration": 274,
    "start_time": "2023-07-07T13:29:39.416Z"
   },
   {
    "duration": 132,
    "start_time": "2023-07-07T13:32:18.656Z"
   },
   {
    "duration": 132,
    "start_time": "2023-07-07T14:57:48.922Z"
   },
   {
    "duration": 28,
    "start_time": "2023-07-07T15:05:24.407Z"
   },
   {
    "duration": 22,
    "start_time": "2023-07-07T15:05:30.658Z"
   },
   {
    "duration": 39,
    "start_time": "2023-07-07T15:19:32.305Z"
   },
   {
    "duration": 136,
    "start_time": "2023-07-07T15:19:40.247Z"
   },
   {
    "duration": 18,
    "start_time": "2023-07-07T15:19:45.988Z"
   },
   {
    "duration": 310,
    "start_time": "2023-07-07T15:19:47.951Z"
   },
   {
    "duration": 28,
    "start_time": "2023-07-07T15:22:06.243Z"
   },
   {
    "duration": 25,
    "start_time": "2023-07-07T15:22:11.492Z"
   },
   {
    "duration": 13,
    "start_time": "2023-07-07T15:22:29.977Z"
   },
   {
    "duration": 305,
    "start_time": "2023-07-07T15:49:44.354Z"
   },
   {
    "duration": 430,
    "start_time": "2023-07-07T15:52:28.246Z"
   },
   {
    "duration": 383,
    "start_time": "2023-07-07T15:52:57.112Z"
   },
   {
    "duration": 13,
    "start_time": "2023-07-07T15:58:58.384Z"
   },
   {
    "duration": 28,
    "start_time": "2023-07-07T15:59:20.053Z"
   },
   {
    "duration": 402,
    "start_time": "2023-07-07T15:59:35.948Z"
   },
   {
    "duration": 19,
    "start_time": "2023-07-07T16:05:07.720Z"
   },
   {
    "duration": 431,
    "start_time": "2023-07-07T16:05:19.658Z"
   },
   {
    "duration": 213,
    "start_time": "2023-07-07T16:07:00.091Z"
   },
   {
    "duration": 10,
    "start_time": "2023-07-07T16:07:05.440Z"
   },
   {
    "duration": 176,
    "start_time": "2023-07-07T16:07:09.002Z"
   },
   {
    "duration": 1416,
    "start_time": "2023-07-07T16:07:14.304Z"
   },
   {
    "duration": 179,
    "start_time": "2023-07-07T16:07:15.727Z"
   },
   {
    "duration": 38,
    "start_time": "2023-07-07T16:07:15.914Z"
   },
   {
    "duration": 100,
    "start_time": "2023-07-07T16:07:15.955Z"
   },
   {
    "duration": 29,
    "start_time": "2023-07-07T16:07:16.060Z"
   },
   {
    "duration": 19,
    "start_time": "2023-07-07T16:07:16.091Z"
   },
   {
    "duration": 60,
    "start_time": "2023-07-07T16:07:16.112Z"
   },
   {
    "duration": 52,
    "start_time": "2023-07-07T16:07:16.175Z"
   },
   {
    "duration": 87,
    "start_time": "2023-07-07T16:07:16.229Z"
   },
   {
    "duration": 60,
    "start_time": "2023-07-07T16:07:16.320Z"
   },
   {
    "duration": 4,
    "start_time": "2023-07-07T16:07:16.383Z"
   },
   {
    "duration": 24,
    "start_time": "2023-07-07T16:07:16.389Z"
   },
   {
    "duration": 490,
    "start_time": "2023-07-07T16:07:16.415Z"
   },
   {
    "duration": 307,
    "start_time": "2023-07-07T16:07:16.910Z"
   },
   {
    "duration": 372,
    "start_time": "2023-07-07T16:07:17.219Z"
   },
   {
    "duration": 26,
    "start_time": "2023-07-07T16:07:17.592Z"
   },
   {
    "duration": 188,
    "start_time": "2023-07-07T16:07:17.622Z"
   },
   {
    "duration": 0,
    "start_time": "2023-07-07T16:07:17.813Z"
   },
   {
    "duration": 0,
    "start_time": "2023-07-07T16:07:17.814Z"
   },
   {
    "duration": 0,
    "start_time": "2023-07-07T16:07:17.815Z"
   },
   {
    "duration": 0,
    "start_time": "2023-07-07T16:07:17.816Z"
   },
   {
    "duration": 0,
    "start_time": "2023-07-07T16:07:17.817Z"
   },
   {
    "duration": 0,
    "start_time": "2023-07-07T16:07:17.818Z"
   },
   {
    "duration": 0,
    "start_time": "2023-07-07T16:07:17.818Z"
   },
   {
    "duration": 0,
    "start_time": "2023-07-07T16:07:17.820Z"
   },
   {
    "duration": 0,
    "start_time": "2023-07-07T16:07:17.823Z"
   },
   {
    "duration": 0,
    "start_time": "2023-07-07T16:07:17.824Z"
   },
   {
    "duration": 0,
    "start_time": "2023-07-07T16:07:17.828Z"
   },
   {
    "duration": 324,
    "start_time": "2023-07-07T16:26:57.840Z"
   },
   {
    "duration": 462,
    "start_time": "2023-07-07T16:27:02.309Z"
   },
   {
    "duration": 169,
    "start_time": "2023-07-07T16:40:49.624Z"
   },
   {
    "duration": 11,
    "start_time": "2023-07-07T16:41:03.789Z"
   },
   {
    "duration": 203,
    "start_time": "2023-07-07T16:41:08.126Z"
   },
   {
    "duration": 14,
    "start_time": "2023-07-07T16:41:14.295Z"
   },
   {
    "duration": 20,
    "start_time": "2023-07-07T16:42:15.830Z"
   },
   {
    "duration": 32,
    "start_time": "2023-07-07T16:47:25.766Z"
   },
   {
    "duration": 1963,
    "start_time": "2023-07-07T16:50:25.227Z"
   },
   {
    "duration": 1920,
    "start_time": "2023-07-07T16:50:34.766Z"
   },
   {
    "duration": 181,
    "start_time": "2023-07-07T16:50:42.087Z"
   },
   {
    "duration": 53,
    "start_time": "2023-07-07T16:55:35.331Z"
   },
   {
    "duration": 35,
    "start_time": "2023-07-07T16:55:42.571Z"
   },
   {
    "duration": 40,
    "start_time": "2023-07-07T16:55:56.424Z"
   },
   {
    "duration": 51,
    "start_time": "2023-07-07T17:32:59.952Z"
   },
   {
    "duration": 33,
    "start_time": "2023-07-07T17:33:18.622Z"
   },
   {
    "duration": 75,
    "start_time": "2023-07-07T17:33:23.689Z"
   },
   {
    "duration": 24,
    "start_time": "2023-07-07T17:33:41.149Z"
   },
   {
    "duration": 24,
    "start_time": "2023-07-07T20:26:34.546Z"
   },
   {
    "duration": 13,
    "start_time": "2023-07-07T20:26:57.785Z"
   },
   {
    "duration": 5,
    "start_time": "2023-07-07T20:27:24.992Z"
   },
   {
    "duration": 15,
    "start_time": "2023-07-07T20:27:28.481Z"
   },
   {
    "duration": 11,
    "start_time": "2023-07-07T20:27:34.658Z"
   },
   {
    "duration": 28,
    "start_time": "2023-07-07T20:27:38.036Z"
   },
   {
    "duration": 57,
    "start_time": "2023-07-07T20:28:09.303Z"
   },
   {
    "duration": 248,
    "start_time": "2023-07-07T20:28:17.181Z"
   },
   {
    "duration": 28,
    "start_time": "2023-07-07T20:28:48.737Z"
   },
   {
    "duration": 20,
    "start_time": "2023-07-07T20:29:04.337Z"
   },
   {
    "duration": 10,
    "start_time": "2023-07-07T20:29:30.504Z"
   },
   {
    "duration": 35,
    "start_time": "2023-07-07T20:29:33.905Z"
   },
   {
    "duration": 11,
    "start_time": "2023-07-07T20:29:48.459Z"
   },
   {
    "duration": 16,
    "start_time": "2023-07-07T20:55:53.803Z"
   },
   {
    "duration": 23,
    "start_time": "2023-07-07T21:12:50.563Z"
   },
   {
    "duration": 23,
    "start_time": "2023-07-07T21:13:42.034Z"
   },
   {
    "duration": 13,
    "start_time": "2023-07-07T21:15:03.995Z"
   },
   {
    "duration": 15,
    "start_time": "2023-07-07T21:22:28.221Z"
   },
   {
    "duration": 1481,
    "start_time": "2023-07-07T21:22:36.701Z"
   },
   {
    "duration": 11,
    "start_time": "2023-07-07T21:22:43.589Z"
   },
   {
    "duration": 33,
    "start_time": "2023-07-07T21:27:37.410Z"
   },
   {
    "duration": 13,
    "start_time": "2023-07-07T21:27:48.709Z"
   },
   {
    "duration": 15,
    "start_time": "2023-07-07T21:28:03.876Z"
   },
   {
    "duration": 14,
    "start_time": "2023-07-07T21:28:24.528Z"
   },
   {
    "duration": 18,
    "start_time": "2023-07-07T21:28:46.155Z"
   },
   {
    "duration": 7,
    "start_time": "2023-07-07T21:28:59.756Z"
   },
   {
    "duration": 10,
    "start_time": "2023-07-07T21:29:20.175Z"
   },
   {
    "duration": 17,
    "start_time": "2023-07-07T21:30:56.103Z"
   },
   {
    "duration": 29,
    "start_time": "2023-07-07T21:31:13.230Z"
   },
   {
    "duration": 29,
    "start_time": "2023-07-07T21:31:52.810Z"
   },
   {
    "duration": 30,
    "start_time": "2023-07-07T21:31:56.995Z"
   },
   {
    "duration": 30,
    "start_time": "2023-07-07T21:32:12.805Z"
   },
   {
    "duration": 9,
    "start_time": "2023-07-07T21:32:35.064Z"
   },
   {
    "duration": 11,
    "start_time": "2023-07-07T21:35:58.937Z"
   },
   {
    "duration": 11,
    "start_time": "2023-07-07T21:36:20.276Z"
   },
   {
    "duration": 18,
    "start_time": "2023-07-07T21:36:31.190Z"
   },
   {
    "duration": 18,
    "start_time": "2023-07-07T21:36:41.903Z"
   },
   {
    "duration": 284,
    "start_time": "2023-07-07T21:41:49.750Z"
   },
   {
    "duration": 4793,
    "start_time": "2023-07-08T21:46:59.089Z"
   },
   {
    "duration": 246,
    "start_time": "2023-07-08T21:47:03.884Z"
   },
   {
    "duration": 65,
    "start_time": "2023-07-08T21:47:04.133Z"
   },
   {
    "duration": 28,
    "start_time": "2023-07-08T21:47:04.200Z"
   },
   {
    "duration": 9,
    "start_time": "2023-07-08T21:47:04.229Z"
   },
   {
    "duration": 11,
    "start_time": "2023-07-08T21:47:04.240Z"
   },
   {
    "duration": 27,
    "start_time": "2023-07-08T21:47:04.252Z"
   },
   {
    "duration": 78,
    "start_time": "2023-07-08T21:47:04.281Z"
   },
   {
    "duration": 56,
    "start_time": "2023-07-08T21:47:04.361Z"
   },
   {
    "duration": 75,
    "start_time": "2023-07-08T21:47:04.419Z"
   },
   {
    "duration": 49,
    "start_time": "2023-07-09T22:46:20.513Z"
   },
   {
    "duration": 1250,
    "start_time": "2023-07-09T22:46:31.170Z"
   },
   {
    "duration": 56,
    "start_time": "2023-07-09T22:46:33.731Z"
   },
   {
    "duration": 295,
    "start_time": "2023-07-09T22:46:36.020Z"
   },
   {
    "duration": 15,
    "start_time": "2023-07-09T22:46:42.396Z"
   },
   {
    "duration": 7,
    "start_time": "2023-07-09T22:46:53.150Z"
   },
   {
    "duration": 28,
    "start_time": "2023-07-09T22:46:57.750Z"
   },
   {
    "duration": 16,
    "start_time": "2023-07-09T22:49:33.835Z"
   },
   {
    "duration": 290,
    "start_time": "2023-07-09T22:49:42.281Z"
   },
   {
    "duration": 1645,
    "start_time": "2023-07-09T22:51:27.735Z"
   },
   {
    "duration": 9,
    "start_time": "2023-07-09T22:51:32.793Z"
   },
   {
    "duration": 263,
    "start_time": "2023-07-09T22:51:34.785Z"
   },
   {
    "duration": 89,
    "start_time": "2023-07-10T14:25:13.132Z"
   },
   {
    "duration": 1423,
    "start_time": "2023-07-10T14:25:20.544Z"
   },
   {
    "duration": 319,
    "start_time": "2023-07-10T14:25:21.969Z"
   },
   {
    "duration": 30,
    "start_time": "2023-07-10T14:25:22.290Z"
   },
   {
    "duration": 23,
    "start_time": "2023-07-10T14:25:22.322Z"
   },
   {
    "duration": 12,
    "start_time": "2023-07-10T14:25:22.349Z"
   },
   {
    "duration": 14,
    "start_time": "2023-07-10T14:25:22.363Z"
   },
   {
    "duration": 8,
    "start_time": "2023-07-10T14:25:22.378Z"
   },
   {
    "duration": 16,
    "start_time": "2023-07-10T14:25:22.388Z"
   },
   {
    "duration": 15,
    "start_time": "2023-07-10T14:25:22.406Z"
   },
   {
    "duration": 43,
    "start_time": "2023-07-10T14:25:22.423Z"
   },
   {
    "duration": 6,
    "start_time": "2023-07-10T14:25:22.468Z"
   },
   {
    "duration": 30,
    "start_time": "2023-07-10T14:25:22.475Z"
   },
   {
    "duration": 415,
    "start_time": "2023-07-10T14:25:22.507Z"
   },
   {
    "duration": 291,
    "start_time": "2023-07-10T14:25:22.927Z"
   },
   {
    "duration": 421,
    "start_time": "2023-07-10T14:25:23.220Z"
   },
   {
    "duration": 16,
    "start_time": "2023-07-10T14:25:23.643Z"
   },
   {
    "duration": 310,
    "start_time": "2023-07-10T14:25:23.661Z"
   },
   {
    "duration": 0,
    "start_time": "2023-07-10T14:25:23.973Z"
   },
   {
    "duration": 0,
    "start_time": "2023-07-10T14:25:23.974Z"
   },
   {
    "duration": 0,
    "start_time": "2023-07-10T14:25:23.976Z"
   },
   {
    "duration": 0,
    "start_time": "2023-07-10T14:25:23.977Z"
   },
   {
    "duration": 0,
    "start_time": "2023-07-10T14:25:23.978Z"
   },
   {
    "duration": 0,
    "start_time": "2023-07-10T14:25:23.979Z"
   },
   {
    "duration": 0,
    "start_time": "2023-07-10T14:25:23.980Z"
   },
   {
    "duration": 0,
    "start_time": "2023-07-10T14:25:23.981Z"
   },
   {
    "duration": 0,
    "start_time": "2023-07-10T14:25:23.982Z"
   },
   {
    "duration": 0,
    "start_time": "2023-07-10T14:25:23.983Z"
   },
   {
    "duration": 0,
    "start_time": "2023-07-10T14:25:23.985Z"
   },
   {
    "duration": 0,
    "start_time": "2023-07-10T14:25:23.986Z"
   },
   {
    "duration": 0,
    "start_time": "2023-07-10T14:25:23.987Z"
   },
   {
    "duration": 10,
    "start_time": "2023-07-10T15:30:42.256Z"
   },
   {
    "duration": 299,
    "start_time": "2023-07-10T15:31:32.743Z"
   },
   {
    "duration": 7,
    "start_time": "2023-07-10T15:31:49.220Z"
   },
   {
    "duration": 99,
    "start_time": "2023-07-10T15:57:37.291Z"
   },
   {
    "duration": 402,
    "start_time": "2023-07-10T15:57:50.318Z"
   },
   {
    "duration": 1299,
    "start_time": "2023-07-10T15:58:04.896Z"
   },
   {
    "duration": 122,
    "start_time": "2023-07-10T15:58:06.198Z"
   },
   {
    "duration": 57,
    "start_time": "2023-07-10T15:58:06.322Z"
   },
   {
    "duration": 102,
    "start_time": "2023-07-10T15:58:06.381Z"
   },
   {
    "duration": 77,
    "start_time": "2023-07-10T15:58:06.487Z"
   },
   {
    "duration": 17,
    "start_time": "2023-07-10T15:58:06.567Z"
   },
   {
    "duration": 73,
    "start_time": "2023-07-10T15:58:06.586Z"
   },
   {
    "duration": 93,
    "start_time": "2023-07-10T15:58:06.662Z"
   },
   {
    "duration": 18,
    "start_time": "2023-07-10T15:58:06.757Z"
   },
   {
    "duration": 87,
    "start_time": "2023-07-10T15:58:06.777Z"
   },
   {
    "duration": 23,
    "start_time": "2023-07-10T15:58:06.867Z"
   },
   {
    "duration": 165,
    "start_time": "2023-07-10T15:58:06.893Z"
   },
   {
    "duration": 804,
    "start_time": "2023-07-10T15:58:07.060Z"
   },
   {
    "duration": 594,
    "start_time": "2023-07-10T15:58:07.868Z"
   },
   {
    "duration": 387,
    "start_time": "2023-07-10T15:58:08.465Z"
   },
   {
    "duration": 9,
    "start_time": "2023-07-10T15:58:08.855Z"
   },
   {
    "duration": 286,
    "start_time": "2023-07-10T15:58:08.866Z"
   },
   {
    "duration": 361,
    "start_time": "2023-07-10T15:58:09.154Z"
   },
   {
    "duration": 186,
    "start_time": "2023-07-10T15:58:09.517Z"
   },
   {
    "duration": 7,
    "start_time": "2023-07-10T15:58:09.705Z"
   },
   {
    "duration": 187,
    "start_time": "2023-07-10T15:58:09.715Z"
   },
   {
    "duration": 6,
    "start_time": "2023-07-10T15:58:09.905Z"
   },
   {
    "duration": 19,
    "start_time": "2023-07-10T15:58:09.913Z"
   },
   {
    "duration": 136,
    "start_time": "2023-07-10T15:58:09.935Z"
   },
   {
    "duration": 0,
    "start_time": "2023-07-10T15:58:10.072Z"
   },
   {
    "duration": 0,
    "start_time": "2023-07-10T15:58:10.074Z"
   },
   {
    "duration": 0,
    "start_time": "2023-07-10T15:58:10.075Z"
   },
   {
    "duration": 0,
    "start_time": "2023-07-10T15:58:10.076Z"
   },
   {
    "duration": 0,
    "start_time": "2023-07-10T15:58:10.078Z"
   },
   {
    "duration": 0,
    "start_time": "2023-07-10T15:58:10.079Z"
   },
   {
    "duration": 418,
    "start_time": "2023-07-10T16:02:00.319Z"
   },
   {
    "duration": 24,
    "start_time": "2023-07-10T16:06:23.415Z"
   },
   {
    "duration": 33,
    "start_time": "2023-07-10T16:07:06.760Z"
   },
   {
    "duration": 161,
    "start_time": "2023-07-10T16:07:09.698Z"
   },
   {
    "duration": 30,
    "start_time": "2023-07-10T16:07:13.028Z"
   },
   {
    "duration": 1262,
    "start_time": "2023-07-10T16:07:19.297Z"
   },
   {
    "duration": 126,
    "start_time": "2023-07-10T16:07:20.561Z"
   },
   {
    "duration": 29,
    "start_time": "2023-07-10T16:07:20.689Z"
   },
   {
    "duration": 37,
    "start_time": "2023-07-10T16:07:20.720Z"
   },
   {
    "duration": 14,
    "start_time": "2023-07-10T16:07:20.759Z"
   },
   {
    "duration": 16,
    "start_time": "2023-07-10T16:07:20.774Z"
   },
   {
    "duration": 9,
    "start_time": "2023-07-10T16:07:20.792Z"
   },
   {
    "duration": 50,
    "start_time": "2023-07-10T16:07:20.802Z"
   },
   {
    "duration": 16,
    "start_time": "2023-07-10T16:07:20.854Z"
   },
   {
    "duration": 25,
    "start_time": "2023-07-10T16:07:20.873Z"
   },
   {
    "duration": 3,
    "start_time": "2023-07-10T16:07:20.900Z"
   },
   {
    "duration": 47,
    "start_time": "2023-07-10T16:07:20.905Z"
   },
   {
    "duration": 385,
    "start_time": "2023-07-10T16:07:20.955Z"
   },
   {
    "duration": 282,
    "start_time": "2023-07-10T16:07:21.342Z"
   },
   {
    "duration": 385,
    "start_time": "2023-07-10T16:07:21.626Z"
   },
   {
    "duration": 10,
    "start_time": "2023-07-10T16:07:22.013Z"
   },
   {
    "duration": 293,
    "start_time": "2023-07-10T16:07:22.026Z"
   },
   {
    "duration": 398,
    "start_time": "2023-07-10T16:07:22.321Z"
   },
   {
    "duration": 179,
    "start_time": "2023-07-10T16:07:22.721Z"
   },
   {
    "duration": 7,
    "start_time": "2023-07-10T16:07:22.902Z"
   },
   {
    "duration": 174,
    "start_time": "2023-07-10T16:07:22.911Z"
   },
   {
    "duration": 8,
    "start_time": "2023-07-10T16:07:23.087Z"
   },
   {
    "duration": 41,
    "start_time": "2023-07-10T16:07:23.097Z"
   },
   {
    "duration": 40,
    "start_time": "2023-07-10T16:07:23.141Z"
   },
   {
    "duration": 181,
    "start_time": "2023-07-10T16:07:23.183Z"
   },
   {
    "duration": 29,
    "start_time": "2023-07-10T16:07:23.367Z"
   },
   {
    "duration": 65,
    "start_time": "2023-07-10T16:07:23.398Z"
   },
   {
    "duration": 92,
    "start_time": "2023-07-10T16:07:23.466Z"
   },
   {
    "duration": 102,
    "start_time": "2023-07-10T16:07:23.560Z"
   },
   {
    "duration": 124,
    "start_time": "2023-07-10T16:07:23.663Z"
   },
   {
    "duration": 34,
    "start_time": "2023-07-10T16:25:48.445Z"
   },
   {
    "duration": 141,
    "start_time": "2023-07-10T16:25:50.561Z"
   },
   {
    "duration": 25,
    "start_time": "2023-07-10T16:30:03.585Z"
   },
   {
    "duration": 24,
    "start_time": "2023-07-10T16:50:30.767Z"
   },
   {
    "duration": 34,
    "start_time": "2023-07-10T18:52:05.522Z"
   },
   {
    "duration": 133,
    "start_time": "2023-07-10T18:52:20.205Z"
   },
   {
    "duration": 34,
    "start_time": "2023-07-10T18:52:26.780Z"
   },
   {
    "duration": 33,
    "start_time": "2023-07-10T18:52:54.409Z"
   },
   {
    "duration": 1135,
    "start_time": "2023-07-10T18:53:11.399Z"
   },
   {
    "duration": 114,
    "start_time": "2023-07-10T18:53:12.536Z"
   },
   {
    "duration": 28,
    "start_time": "2023-07-10T18:53:12.652Z"
   },
   {
    "duration": 30,
    "start_time": "2023-07-10T18:53:12.682Z"
   },
   {
    "duration": 42,
    "start_time": "2023-07-10T18:53:12.715Z"
   },
   {
    "duration": 13,
    "start_time": "2023-07-10T18:53:12.759Z"
   },
   {
    "duration": 10,
    "start_time": "2023-07-10T18:53:12.774Z"
   },
   {
    "duration": 22,
    "start_time": "2023-07-10T18:53:12.787Z"
   },
   {
    "duration": 15,
    "start_time": "2023-07-10T18:53:12.811Z"
   },
   {
    "duration": 19,
    "start_time": "2023-07-10T18:53:12.853Z"
   },
   {
    "duration": 3,
    "start_time": "2023-07-10T18:53:12.874Z"
   },
   {
    "duration": 28,
    "start_time": "2023-07-10T18:53:12.879Z"
   },
   {
    "duration": 369,
    "start_time": "2023-07-10T18:53:12.908Z"
   },
   {
    "duration": 269,
    "start_time": "2023-07-10T18:53:13.280Z"
   },
   {
    "duration": 363,
    "start_time": "2023-07-10T18:53:13.551Z"
   },
   {
    "duration": 10,
    "start_time": "2023-07-10T18:53:13.916Z"
   },
   {
    "duration": 257,
    "start_time": "2023-07-10T18:53:13.928Z"
   },
   {
    "duration": 379,
    "start_time": "2023-07-10T18:53:14.187Z"
   },
   {
    "duration": 307,
    "start_time": "2023-07-10T18:53:14.568Z"
   },
   {
    "duration": 8,
    "start_time": "2023-07-10T18:53:14.876Z"
   },
   {
    "duration": 371,
    "start_time": "2023-07-10T18:53:14.886Z"
   },
   {
    "duration": 5,
    "start_time": "2023-07-10T18:53:15.258Z"
   },
   {
    "duration": 18,
    "start_time": "2023-07-10T18:53:15.265Z"
   },
   {
    "duration": 81,
    "start_time": "2023-07-10T18:53:15.285Z"
   },
   {
    "duration": 324,
    "start_time": "2023-07-10T18:53:15.368Z"
   },
   {
    "duration": 63,
    "start_time": "2023-07-10T18:53:15.694Z"
   },
   {
    "duration": 15,
    "start_time": "2023-07-10T18:53:15.759Z"
   },
   {
    "duration": 10,
    "start_time": "2023-07-10T18:53:15.776Z"
   },
   {
    "duration": 88,
    "start_time": "2023-07-10T18:53:15.788Z"
   },
   {
    "duration": 17,
    "start_time": "2023-07-10T18:53:15.877Z"
   },
   {
    "duration": 23,
    "start_time": "2023-07-10T18:58:58.583Z"
   },
   {
    "duration": 1164,
    "start_time": "2023-07-10T19:01:06.859Z"
   },
   {
    "duration": 166,
    "start_time": "2023-07-10T19:01:08.025Z"
   },
   {
    "duration": 34,
    "start_time": "2023-07-10T19:01:08.193Z"
   },
   {
    "duration": 105,
    "start_time": "2023-07-10T19:01:08.229Z"
   },
   {
    "duration": 22,
    "start_time": "2023-07-10T19:01:08.338Z"
   },
   {
    "duration": 34,
    "start_time": "2023-07-10T19:01:08.364Z"
   },
   {
    "duration": 12,
    "start_time": "2023-07-10T19:01:08.402Z"
   },
   {
    "duration": 24,
    "start_time": "2023-07-10T19:01:08.417Z"
   },
   {
    "duration": 20,
    "start_time": "2023-07-10T19:01:08.443Z"
   },
   {
    "duration": 18,
    "start_time": "2023-07-10T19:01:08.466Z"
   },
   {
    "duration": 13,
    "start_time": "2023-07-10T19:01:08.486Z"
   },
   {
    "duration": 69,
    "start_time": "2023-07-10T19:01:08.502Z"
   },
   {
    "duration": 339,
    "start_time": "2023-07-10T19:01:08.575Z"
   },
   {
    "duration": 281,
    "start_time": "2023-07-10T19:01:08.918Z"
   },
   {
    "duration": 360,
    "start_time": "2023-07-10T19:01:09.201Z"
   },
   {
    "duration": 9,
    "start_time": "2023-07-10T19:01:09.563Z"
   },
   {
    "duration": 242,
    "start_time": "2023-07-10T19:01:09.574Z"
   },
   {
    "duration": 401,
    "start_time": "2023-07-10T19:01:09.818Z"
   },
   {
    "duration": 247,
    "start_time": "2023-07-10T19:01:10.221Z"
   },
   {
    "duration": 7,
    "start_time": "2023-07-10T19:01:10.470Z"
   },
   {
    "duration": 156,
    "start_time": "2023-07-10T19:01:10.479Z"
   },
   {
    "duration": 28,
    "start_time": "2023-07-10T19:01:10.637Z"
   },
   {
    "duration": 14,
    "start_time": "2023-07-10T19:01:10.667Z"
   },
   {
    "duration": 22,
    "start_time": "2023-07-10T19:01:10.683Z"
   },
   {
    "duration": 159,
    "start_time": "2023-07-10T19:01:10.707Z"
   },
   {
    "duration": 9,
    "start_time": "2023-07-10T19:01:10.869Z"
   },
   {
    "duration": 21,
    "start_time": "2023-07-10T19:01:10.879Z"
   },
   {
    "duration": 11,
    "start_time": "2023-07-10T19:01:10.902Z"
   },
   {
    "duration": 55,
    "start_time": "2023-07-10T19:01:10.915Z"
   },
   {
    "duration": 18,
    "start_time": "2023-07-10T19:01:10.971Z"
   },
   {
    "duration": 56,
    "start_time": "2023-07-10T19:22:58.061Z"
   },
   {
    "duration": 6,
    "start_time": "2023-07-10T19:22:59.378Z"
   },
   {
    "duration": 11,
    "start_time": "2023-07-10T19:23:01.995Z"
   },
   {
    "duration": 16,
    "start_time": "2023-07-10T19:25:24.757Z"
   },
   {
    "duration": 8,
    "start_time": "2023-07-10T19:25:46.311Z"
   },
   {
    "duration": 32,
    "start_time": "2023-07-10T19:25:55.024Z"
   },
   {
    "duration": 16,
    "start_time": "2023-07-10T19:26:00.322Z"
   },
   {
    "duration": 46,
    "start_time": "2023-07-11T22:36:42.265Z"
   },
   {
    "duration": 1248,
    "start_time": "2023-07-11T22:36:49.368Z"
   },
   {
    "duration": 249,
    "start_time": "2023-07-11T22:36:50.618Z"
   },
   {
    "duration": 24,
    "start_time": "2023-07-11T22:36:50.869Z"
   },
   {
    "duration": 30,
    "start_time": "2023-07-11T22:36:50.896Z"
   },
   {
    "duration": 12,
    "start_time": "2023-07-11T22:36:50.928Z"
   },
   {
    "duration": 22,
    "start_time": "2023-07-11T22:36:50.941Z"
   },
   {
    "duration": 7,
    "start_time": "2023-07-11T22:36:50.965Z"
   },
   {
    "duration": 34,
    "start_time": "2023-07-11T22:36:50.973Z"
   },
   {
    "duration": 12,
    "start_time": "2023-07-11T22:36:51.009Z"
   },
   {
    "duration": 21,
    "start_time": "2023-07-11T22:36:51.023Z"
   },
   {
    "duration": 35,
    "start_time": "2023-07-11T22:36:51.046Z"
   },
   {
    "duration": 24,
    "start_time": "2023-07-11T22:36:51.083Z"
   },
   {
    "duration": 302,
    "start_time": "2023-07-11T22:36:51.108Z"
   },
   {
    "duration": 230,
    "start_time": "2023-07-11T22:36:51.411Z"
   },
   {
    "duration": 376,
    "start_time": "2023-07-11T22:36:51.643Z"
   },
   {
    "duration": 10,
    "start_time": "2023-07-11T22:36:52.021Z"
   },
   {
    "duration": 244,
    "start_time": "2023-07-11T22:36:52.033Z"
   },
   {
    "duration": 495,
    "start_time": "2023-07-11T22:36:52.279Z"
   },
   {
    "duration": 301,
    "start_time": "2023-07-11T22:36:52.776Z"
   },
   {
    "duration": 6,
    "start_time": "2023-07-11T22:36:53.078Z"
   },
   {
    "duration": 304,
    "start_time": "2023-07-11T22:36:53.086Z"
   },
   {
    "duration": 5,
    "start_time": "2023-07-11T22:36:53.392Z"
   },
   {
    "duration": 96,
    "start_time": "2023-07-11T22:36:53.399Z"
   },
   {
    "duration": 195,
    "start_time": "2023-07-11T22:36:53.497Z"
   },
   {
    "duration": 0,
    "start_time": "2023-07-11T22:36:53.693Z"
   },
   {
    "duration": 0,
    "start_time": "2023-07-11T22:36:53.695Z"
   },
   {
    "duration": 0,
    "start_time": "2023-07-11T22:36:53.696Z"
   },
   {
    "duration": 0,
    "start_time": "2023-07-11T22:36:53.697Z"
   },
   {
    "duration": 0,
    "start_time": "2023-07-11T22:36:53.698Z"
   },
   {
    "duration": 2,
    "start_time": "2023-07-11T22:45:16.257Z"
   },
   {
    "duration": 222,
    "start_time": "2023-07-11T22:48:53.796Z"
   },
   {
    "duration": 294,
    "start_time": "2023-07-11T22:48:59.157Z"
   },
   {
    "duration": 212,
    "start_time": "2023-07-11T22:49:04.725Z"
   },
   {
    "duration": 226,
    "start_time": "2023-07-11T22:49:31.888Z"
   },
   {
    "duration": 19,
    "start_time": "2023-07-11T22:50:30.896Z"
   },
   {
    "duration": 330,
    "start_time": "2023-07-11T22:50:40.345Z"
   },
   {
    "duration": 263,
    "start_time": "2023-07-11T22:53:26.654Z"
   },
   {
    "duration": 334,
    "start_time": "2023-07-11T22:57:12.954Z"
   },
   {
    "duration": 325,
    "start_time": "2023-07-11T22:57:20.963Z"
   },
   {
    "duration": 1077,
    "start_time": "2023-07-11T22:59:01.940Z"
   },
   {
    "duration": 126,
    "start_time": "2023-07-11T22:59:03.019Z"
   },
   {
    "duration": 23,
    "start_time": "2023-07-11T22:59:03.147Z"
   },
   {
    "duration": 28,
    "start_time": "2023-07-11T22:59:03.171Z"
   },
   {
    "duration": 49,
    "start_time": "2023-07-11T22:59:03.201Z"
   },
   {
    "duration": 38,
    "start_time": "2023-07-11T22:59:03.251Z"
   },
   {
    "duration": 43,
    "start_time": "2023-07-11T22:59:03.291Z"
   },
   {
    "duration": 33,
    "start_time": "2023-07-11T22:59:03.336Z"
   },
   {
    "duration": 35,
    "start_time": "2023-07-11T22:59:03.371Z"
   },
   {
    "duration": 30,
    "start_time": "2023-07-11T22:59:03.408Z"
   },
   {
    "duration": 48,
    "start_time": "2023-07-11T22:59:03.439Z"
   },
   {
    "duration": 2,
    "start_time": "2023-07-11T22:59:03.489Z"
   },
   {
    "duration": 328,
    "start_time": "2023-07-11T22:59:03.492Z"
   },
   {
    "duration": 242,
    "start_time": "2023-07-11T22:59:03.822Z"
   },
   {
    "duration": 323,
    "start_time": "2023-07-11T22:59:04.066Z"
   },
   {
    "duration": 286,
    "start_time": "2023-07-11T22:59:04.391Z"
   },
   {
    "duration": 416,
    "start_time": "2023-07-11T22:59:04.679Z"
   },
   {
    "duration": 295,
    "start_time": "2023-07-11T22:59:05.096Z"
   },
   {
    "duration": 6,
    "start_time": "2023-07-11T22:59:05.392Z"
   },
   {
    "duration": 236,
    "start_time": "2023-07-11T22:59:05.456Z"
   },
   {
    "duration": 5,
    "start_time": "2023-07-11T22:59:05.693Z"
   },
   {
    "duration": 75,
    "start_time": "2023-07-11T22:59:05.700Z"
   },
   {
    "duration": 188,
    "start_time": "2023-07-11T22:59:05.777Z"
   },
   {
    "duration": 0,
    "start_time": "2023-07-11T22:59:05.967Z"
   },
   {
    "duration": 0,
    "start_time": "2023-07-11T22:59:05.969Z"
   },
   {
    "duration": 0,
    "start_time": "2023-07-11T22:59:05.970Z"
   },
   {
    "duration": 0,
    "start_time": "2023-07-11T22:59:05.971Z"
   },
   {
    "duration": 0,
    "start_time": "2023-07-11T22:59:05.972Z"
   },
   {
    "duration": 14,
    "start_time": "2023-07-11T23:19:16.805Z"
   },
   {
    "duration": 22,
    "start_time": "2023-07-11T23:34:17.237Z"
   },
   {
    "duration": 24,
    "start_time": "2023-07-11T23:34:29.159Z"
   },
   {
    "duration": 24,
    "start_time": "2023-07-11T23:34:40.463Z"
   },
   {
    "duration": 33,
    "start_time": "2023-07-11T23:35:09.124Z"
   },
   {
    "duration": 48,
    "start_time": "2023-07-11T23:35:15.826Z"
   },
   {
    "duration": 41,
    "start_time": "2023-07-11T23:35:45.537Z"
   },
   {
    "duration": 41,
    "start_time": "2023-07-11T23:37:49.238Z"
   },
   {
    "duration": 10,
    "start_time": "2023-07-11T23:38:47.622Z"
   },
   {
    "duration": 27,
    "start_time": "2023-07-11T23:38:59.256Z"
   },
   {
    "duration": 21,
    "start_time": "2023-07-11T23:39:07.504Z"
   },
   {
    "duration": 20,
    "start_time": "2023-07-11T23:39:17.154Z"
   },
   {
    "duration": 25,
    "start_time": "2023-07-11T23:52:22.994Z"
   },
   {
    "duration": 25,
    "start_time": "2023-07-11T23:52:25.665Z"
   },
   {
    "duration": 11,
    "start_time": "2023-07-11T23:55:26.455Z"
   },
   {
    "duration": 55,
    "start_time": "2023-07-11T23:56:01.220Z"
   },
   {
    "duration": 29,
    "start_time": "2023-07-11T23:56:13.502Z"
   },
   {
    "duration": 10,
    "start_time": "2023-07-12T00:00:14.175Z"
   },
   {
    "duration": 151,
    "start_time": "2023-07-12T00:01:18.667Z"
   },
   {
    "duration": 2538,
    "start_time": "2023-07-12T00:01:38.694Z"
   },
   {
    "duration": 2568,
    "start_time": "2023-07-12T00:01:49.655Z"
   },
   {
    "duration": 10,
    "start_time": "2023-07-12T00:01:58.513Z"
   },
   {
    "duration": 1842,
    "start_time": "2023-07-12T00:03:25.564Z"
   },
   {
    "duration": 2769,
    "start_time": "2023-07-12T00:03:55.039Z"
   },
   {
    "duration": 15,
    "start_time": "2023-07-12T00:04:07.184Z"
   },
   {
    "duration": 31,
    "start_time": "2023-07-12T00:04:17.240Z"
   },
   {
    "duration": 23,
    "start_time": "2023-07-12T00:05:41.978Z"
   },
   {
    "duration": 132,
    "start_time": "2023-07-12T00:07:01.349Z"
   },
   {
    "duration": 6,
    "start_time": "2023-07-12T00:08:44.949Z"
   },
   {
    "duration": 2900,
    "start_time": "2023-07-12T00:08:48.147Z"
   },
   {
    "duration": 1810,
    "start_time": "2023-07-12T00:08:58.748Z"
   },
   {
    "duration": 13,
    "start_time": "2023-07-12T00:09:09.717Z"
   },
   {
    "duration": 16,
    "start_time": "2023-07-12T00:11:07.412Z"
   },
   {
    "duration": 1101,
    "start_time": "2023-07-12T00:11:51.160Z"
   },
   {
    "duration": 124,
    "start_time": "2023-07-12T00:11:52.263Z"
   },
   {
    "duration": 25,
    "start_time": "2023-07-12T00:11:52.388Z"
   },
   {
    "duration": 20,
    "start_time": "2023-07-12T00:11:52.415Z"
   },
   {
    "duration": 11,
    "start_time": "2023-07-12T00:11:52.436Z"
   },
   {
    "duration": 21,
    "start_time": "2023-07-12T00:11:52.449Z"
   },
   {
    "duration": 7,
    "start_time": "2023-07-12T00:11:52.471Z"
   },
   {
    "duration": 15,
    "start_time": "2023-07-12T00:11:52.480Z"
   },
   {
    "duration": 31,
    "start_time": "2023-07-12T00:11:52.496Z"
   },
   {
    "duration": 14,
    "start_time": "2023-07-12T00:11:52.529Z"
   },
   {
    "duration": 43,
    "start_time": "2023-07-12T00:11:52.545Z"
   },
   {
    "duration": 2,
    "start_time": "2023-07-12T00:11:52.590Z"
   },
   {
    "duration": 321,
    "start_time": "2023-07-12T00:11:52.593Z"
   },
   {
    "duration": 237,
    "start_time": "2023-07-12T00:11:52.915Z"
   },
   {
    "duration": 335,
    "start_time": "2023-07-12T00:11:53.154Z"
   },
   {
    "duration": 258,
    "start_time": "2023-07-12T00:11:53.491Z"
   },
   {
    "duration": 344,
    "start_time": "2023-07-12T00:11:53.750Z"
   },
   {
    "duration": 102,
    "start_time": "2023-07-12T00:11:54.095Z"
   },
   {
    "duration": 0,
    "start_time": "2023-07-12T00:11:54.198Z"
   },
   {
    "duration": 0,
    "start_time": "2023-07-12T00:11:54.199Z"
   },
   {
    "duration": 0,
    "start_time": "2023-07-12T00:11:54.200Z"
   },
   {
    "duration": 0,
    "start_time": "2023-07-12T00:11:54.201Z"
   },
   {
    "duration": 0,
    "start_time": "2023-07-12T00:11:54.202Z"
   },
   {
    "duration": 0,
    "start_time": "2023-07-12T00:11:54.203Z"
   },
   {
    "duration": 0,
    "start_time": "2023-07-12T00:11:54.204Z"
   },
   {
    "duration": 0,
    "start_time": "2023-07-12T00:11:54.205Z"
   },
   {
    "duration": 0,
    "start_time": "2023-07-12T00:11:54.206Z"
   },
   {
    "duration": 13,
    "start_time": "2023-07-12T00:12:16.893Z"
   },
   {
    "duration": 134,
    "start_time": "2023-07-12T00:12:24.214Z"
   },
   {
    "duration": 9,
    "start_time": "2023-07-12T00:12:27.726Z"
   },
   {
    "duration": 10,
    "start_time": "2023-07-12T00:12:33.479Z"
   },
   {
    "duration": 8,
    "start_time": "2023-07-12T00:12:37.351Z"
   },
   {
    "duration": 122,
    "start_time": "2023-07-12T00:12:40.904Z"
   },
   {
    "duration": 5,
    "start_time": "2023-07-12T00:12:44.103Z"
   },
   {
    "duration": 23,
    "start_time": "2023-07-12T00:12:47.466Z"
   },
   {
    "duration": 22,
    "start_time": "2023-07-12T00:12:49.832Z"
   },
   {
    "duration": 11,
    "start_time": "2023-07-12T00:13:02.825Z"
   },
   {
    "duration": 9,
    "start_time": "2023-07-12T00:13:16.571Z"
   },
   {
    "duration": 25,
    "start_time": "2023-07-12T00:13:19.765Z"
   },
   {
    "duration": 16,
    "start_time": "2023-07-12T00:13:30.413Z"
   },
   {
    "duration": 49,
    "start_time": "2023-07-13T03:42:49.596Z"
   },
   {
    "duration": 1675,
    "start_time": "2023-07-13T03:42:58.304Z"
   },
   {
    "duration": 317,
    "start_time": "2023-07-13T03:42:59.981Z"
   },
   {
    "duration": 74,
    "start_time": "2023-07-13T03:43:00.300Z"
   },
   {
    "duration": 21,
    "start_time": "2023-07-13T03:43:00.376Z"
   },
   {
    "duration": 90,
    "start_time": "2023-07-13T03:43:00.399Z"
   },
   {
    "duration": 66,
    "start_time": "2023-07-13T03:43:00.491Z"
   },
   {
    "duration": 12,
    "start_time": "2023-07-13T03:43:00.562Z"
   },
   {
    "duration": 91,
    "start_time": "2023-07-13T03:43:00.575Z"
   },
   {
    "duration": 14,
    "start_time": "2023-07-13T03:43:00.672Z"
   },
   {
    "duration": 81,
    "start_time": "2023-07-13T03:43:00.689Z"
   },
   {
    "duration": 125,
    "start_time": "2023-07-13T03:43:00.773Z"
   },
   {
    "duration": 61,
    "start_time": "2023-07-13T03:43:00.900Z"
   },
   {
    "duration": 395,
    "start_time": "2023-07-13T03:43:00.965Z"
   },
   {
    "duration": 275,
    "start_time": "2023-07-13T03:43:01.363Z"
   },
   {
    "duration": 404,
    "start_time": "2023-07-13T03:43:01.641Z"
   },
   {
    "duration": 333,
    "start_time": "2023-07-13T03:43:02.054Z"
   },
   {
    "duration": 334,
    "start_time": "2023-07-13T03:43:02.389Z"
   },
   {
    "duration": 172,
    "start_time": "2023-07-13T03:43:02.725Z"
   },
   {
    "duration": 6,
    "start_time": "2023-07-13T03:43:02.898Z"
   },
   {
    "duration": 166,
    "start_time": "2023-07-13T03:43:02.906Z"
   },
   {
    "duration": 6,
    "start_time": "2023-07-13T03:43:03.073Z"
   },
   {
    "duration": 29,
    "start_time": "2023-07-13T03:43:03.080Z"
   },
   {
    "duration": 23,
    "start_time": "2023-07-13T03:43:03.111Z"
   },
   {
    "duration": 15,
    "start_time": "2023-07-13T03:43:03.152Z"
   },
   {
    "duration": 119,
    "start_time": "2023-07-13T03:43:03.169Z"
   },
   {
    "duration": 0,
    "start_time": "2023-07-13T03:43:03.289Z"
   },
   {
    "duration": 0,
    "start_time": "2023-07-13T03:43:03.291Z"
   },
   {
    "duration": 12,
    "start_time": "2023-07-13T03:43:08.678Z"
   },
   {
    "duration": 12,
    "start_time": "2023-07-13T03:43:34.033Z"
   },
   {
    "duration": 11,
    "start_time": "2023-07-13T03:44:10.479Z"
   },
   {
    "duration": 12,
    "start_time": "2023-07-13T03:44:16.670Z"
   },
   {
    "duration": 16,
    "start_time": "2023-07-13T03:44:52.876Z"
   },
   {
    "duration": 11,
    "start_time": "2023-07-13T03:45:46.506Z"
   },
   {
    "duration": 11,
    "start_time": "2023-07-13T03:47:35.647Z"
   },
   {
    "duration": 1448,
    "start_time": "2023-07-13T03:47:56.138Z"
   },
   {
    "duration": 13,
    "start_time": "2023-07-13T03:48:01.587Z"
   },
   {
    "duration": 10,
    "start_time": "2023-07-13T03:48:11.568Z"
   },
   {
    "duration": 84,
    "start_time": "2023-07-13T03:48:57.585Z"
   },
   {
    "duration": 6,
    "start_time": "2023-07-13T03:49:00.560Z"
   },
   {
    "duration": 1180,
    "start_time": "2023-07-14T01:31:08.955Z"
   },
   {
    "duration": 249,
    "start_time": "2023-07-14T01:31:10.137Z"
   },
   {
    "duration": 25,
    "start_time": "2023-07-14T01:31:10.388Z"
   },
   {
    "duration": 22,
    "start_time": "2023-07-14T01:31:10.415Z"
   },
   {
    "duration": 10,
    "start_time": "2023-07-14T01:31:10.438Z"
   },
   {
    "duration": 12,
    "start_time": "2023-07-14T01:31:10.450Z"
   },
   {
    "duration": 7,
    "start_time": "2023-07-14T01:31:10.463Z"
   },
   {
    "duration": 15,
    "start_time": "2023-07-14T01:31:10.471Z"
   },
   {
    "duration": 15,
    "start_time": "2023-07-14T01:31:10.487Z"
   },
   {
    "duration": 14,
    "start_time": "2023-07-14T01:31:10.504Z"
   },
   {
    "duration": 71,
    "start_time": "2023-07-14T01:31:10.519Z"
   },
   {
    "duration": 3,
    "start_time": "2023-07-14T01:31:10.591Z"
   },
   {
    "duration": 322,
    "start_time": "2023-07-14T01:31:10.595Z"
   },
   {
    "duration": 256,
    "start_time": "2023-07-14T01:31:10.918Z"
   },
   {
    "duration": 327,
    "start_time": "2023-07-14T01:31:11.176Z"
   },
   {
    "duration": 256,
    "start_time": "2023-07-14T01:31:11.504Z"
   },
   {
    "duration": 343,
    "start_time": "2023-07-14T01:31:11.762Z"
   },
   {
    "duration": 147,
    "start_time": "2023-07-14T01:31:12.106Z"
   },
   {
    "duration": 10,
    "start_time": "2023-07-14T01:31:12.254Z"
   },
   {
    "duration": 136,
    "start_time": "2023-07-14T01:31:12.266Z"
   },
   {
    "duration": 5,
    "start_time": "2023-07-14T01:31:12.403Z"
   },
   {
    "duration": 25,
    "start_time": "2023-07-14T01:31:12.409Z"
   },
   {
    "duration": 37,
    "start_time": "2023-07-14T01:31:12.436Z"
   },
   {
    "duration": 10,
    "start_time": "2023-07-14T01:31:12.475Z"
   },
   {
    "duration": 18,
    "start_time": "2023-07-14T01:31:12.487Z"
   },
   {
    "duration": 24,
    "start_time": "2023-07-14T01:31:12.506Z"
   },
   {
    "duration": 36,
    "start_time": "2023-07-14T01:31:12.532Z"
   }
  ],
  "kernelspec": {
   "display_name": "Python 3 (ipykernel)",
   "language": "python",
   "name": "python3"
  },
  "language_info": {
   "codemirror_mode": {
    "name": "ipython",
    "version": 3
   },
   "file_extension": ".py",
   "mimetype": "text/x-python",
   "name": "python",
   "nbconvert_exporter": "python",
   "pygments_lexer": "ipython3",
   "version": "3.9.5"
  },
  "toc": {
   "base_numbering": 1,
   "nav_menu": {},
   "number_sections": true,
   "sideBar": true,
   "skip_h1_title": true,
   "title_cell": "Table of Contents",
   "title_sidebar": "Contents",
   "toc_cell": false,
   "toc_position": {
    "height": "calc(100% - 180px)",
    "left": "10px",
    "top": "150px",
    "width": "371px"
   },
   "toc_section_display": true,
   "toc_window_display": true
  }
 },
 "nbformat": 4,
 "nbformat_minor": 2
}
