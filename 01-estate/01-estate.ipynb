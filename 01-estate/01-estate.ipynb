{
 "cells": [
  {
   "cell_type": "markdown",
   "metadata": {},
   "source": [
    "# Исследование объявлений о продаже квартир\n",
    "\n",
    "В вашем распоряжении данные сервиса Яндекс.Недвижимость — архив объявлений о продаже квартир в Санкт-Петербурге и соседних населённых пунктов за несколько лет. Нужно научиться определять рыночную стоимость объектов недвижимости. Ваша задача — установить параметры. Это позволит построить автоматизированную систему: она отследит аномалии и мошенническую деятельность. \n",
    "\n",
    "По каждой квартире на продажу доступны два вида данных. Первые вписаны пользователем, вторые — получены автоматически на основе картографических данных. Например, расстояние до центра, аэропорта, ближайшего парка и водоёма. "
   ]
  },
  {
   "cell_type": "markdown",
   "metadata": {},
   "source": [
    "### Откройте файл с данными и изучите общую информацию. "
   ]
  },
  {
   "cell_type": "code",
   "execution_count": 1,
   "metadata": {},
   "outputs": [],
   "source": [
    "import pandas as pd\n",
    "import matplotlib.pyplot as plt"
   ]
  },
  {
   "cell_type": "code",
   "execution_count": 2,
   "metadata": {},
   "outputs": [],
   "source": [
    "# Создание датафрейма\n",
    "df = pd.read_csv('/datasets/real_estate_data.csv', sep='\\t')\n",
    "df_old = df"
   ]
  },
  {
   "cell_type": "code",
   "execution_count": 3,
   "metadata": {},
   "outputs": [
    {
     "name": "stdout",
     "output_type": "stream",
     "text": [
      "<class 'pandas.core.frame.DataFrame'>\n",
      "RangeIndex: 23699 entries, 0 to 23698\n",
      "Data columns (total 22 columns):\n",
      " #   Column                Non-Null Count  Dtype  \n",
      "---  ------                --------------  -----  \n",
      " 0   total_images          23699 non-null  int64  \n",
      " 1   last_price            23699 non-null  float64\n",
      " 2   total_area            23699 non-null  float64\n",
      " 3   first_day_exposition  23699 non-null  object \n",
      " 4   rooms                 23699 non-null  int64  \n",
      " 5   ceiling_height        14504 non-null  float64\n",
      " 6   floors_total          23613 non-null  float64\n",
      " 7   living_area           21796 non-null  float64\n",
      " 8   floor                 23699 non-null  int64  \n",
      " 9   is_apartment          2775 non-null   object \n",
      " 10  studio                23699 non-null  bool   \n",
      " 11  open_plan             23699 non-null  bool   \n",
      " 12  kitchen_area          21421 non-null  float64\n",
      " 13  balcony               12180 non-null  float64\n",
      " 14  locality_name         23650 non-null  object \n",
      " 15  airports_nearest      18157 non-null  float64\n",
      " 16  cityCenters_nearest   18180 non-null  float64\n",
      " 17  parks_around3000      18181 non-null  float64\n",
      " 18  parks_nearest         8079 non-null   float64\n",
      " 19  ponds_around3000      18181 non-null  float64\n",
      " 20  ponds_nearest         9110 non-null   float64\n",
      " 21  days_exposition       20518 non-null  float64\n",
      "dtypes: bool(2), float64(14), int64(3), object(3)\n",
      "memory usage: 3.7+ MB\n"
     ]
    },
    {
     "data": {
      "text/plain": [
       "None"
      ]
     },
     "metadata": {},
     "output_type": "display_data"
    },
    {
     "data": {
      "text/html": [
       "<div>\n",
       "<style scoped>\n",
       "    .dataframe tbody tr th:only-of-type {\n",
       "        vertical-align: middle;\n",
       "    }\n",
       "\n",
       "    .dataframe tbody tr th {\n",
       "        vertical-align: top;\n",
       "    }\n",
       "\n",
       "    .dataframe thead th {\n",
       "        text-align: right;\n",
       "    }\n",
       "</style>\n",
       "<table border=\"1\" class=\"dataframe\">\n",
       "  <thead>\n",
       "    <tr style=\"text-align: right;\">\n",
       "      <th></th>\n",
       "      <th>total_images</th>\n",
       "      <th>last_price</th>\n",
       "      <th>total_area</th>\n",
       "      <th>first_day_exposition</th>\n",
       "      <th>rooms</th>\n",
       "      <th>ceiling_height</th>\n",
       "      <th>floors_total</th>\n",
       "      <th>living_area</th>\n",
       "      <th>floor</th>\n",
       "      <th>is_apartment</th>\n",
       "      <th>...</th>\n",
       "      <th>kitchen_area</th>\n",
       "      <th>balcony</th>\n",
       "      <th>locality_name</th>\n",
       "      <th>airports_nearest</th>\n",
       "      <th>cityCenters_nearest</th>\n",
       "      <th>parks_around3000</th>\n",
       "      <th>parks_nearest</th>\n",
       "      <th>ponds_around3000</th>\n",
       "      <th>ponds_nearest</th>\n",
       "      <th>days_exposition</th>\n",
       "    </tr>\n",
       "  </thead>\n",
       "  <tbody>\n",
       "    <tr>\n",
       "      <th>0</th>\n",
       "      <td>20</td>\n",
       "      <td>13000000.0</td>\n",
       "      <td>108.00</td>\n",
       "      <td>2019-03-07T00:00:00</td>\n",
       "      <td>3</td>\n",
       "      <td>2.70</td>\n",
       "      <td>16.0</td>\n",
       "      <td>51.00</td>\n",
       "      <td>8</td>\n",
       "      <td>NaN</td>\n",
       "      <td>...</td>\n",
       "      <td>25.00</td>\n",
       "      <td>NaN</td>\n",
       "      <td>Санкт-Петербург</td>\n",
       "      <td>18863.0</td>\n",
       "      <td>16028.0</td>\n",
       "      <td>1.0</td>\n",
       "      <td>482.0</td>\n",
       "      <td>2.0</td>\n",
       "      <td>755.0</td>\n",
       "      <td>NaN</td>\n",
       "    </tr>\n",
       "    <tr>\n",
       "      <th>1</th>\n",
       "      <td>7</td>\n",
       "      <td>3350000.0</td>\n",
       "      <td>40.40</td>\n",
       "      <td>2018-12-04T00:00:00</td>\n",
       "      <td>1</td>\n",
       "      <td>NaN</td>\n",
       "      <td>11.0</td>\n",
       "      <td>18.60</td>\n",
       "      <td>1</td>\n",
       "      <td>NaN</td>\n",
       "      <td>...</td>\n",
       "      <td>11.00</td>\n",
       "      <td>2.0</td>\n",
       "      <td>посёлок Шушары</td>\n",
       "      <td>12817.0</td>\n",
       "      <td>18603.0</td>\n",
       "      <td>0.0</td>\n",
       "      <td>NaN</td>\n",
       "      <td>0.0</td>\n",
       "      <td>NaN</td>\n",
       "      <td>81.0</td>\n",
       "    </tr>\n",
       "    <tr>\n",
       "      <th>2</th>\n",
       "      <td>10</td>\n",
       "      <td>5196000.0</td>\n",
       "      <td>56.00</td>\n",
       "      <td>2015-08-20T00:00:00</td>\n",
       "      <td>2</td>\n",
       "      <td>NaN</td>\n",
       "      <td>5.0</td>\n",
       "      <td>34.30</td>\n",
       "      <td>4</td>\n",
       "      <td>NaN</td>\n",
       "      <td>...</td>\n",
       "      <td>8.30</td>\n",
       "      <td>0.0</td>\n",
       "      <td>Санкт-Петербург</td>\n",
       "      <td>21741.0</td>\n",
       "      <td>13933.0</td>\n",
       "      <td>1.0</td>\n",
       "      <td>90.0</td>\n",
       "      <td>2.0</td>\n",
       "      <td>574.0</td>\n",
       "      <td>558.0</td>\n",
       "    </tr>\n",
       "    <tr>\n",
       "      <th>3</th>\n",
       "      <td>0</td>\n",
       "      <td>64900000.0</td>\n",
       "      <td>159.00</td>\n",
       "      <td>2015-07-24T00:00:00</td>\n",
       "      <td>3</td>\n",
       "      <td>NaN</td>\n",
       "      <td>14.0</td>\n",
       "      <td>NaN</td>\n",
       "      <td>9</td>\n",
       "      <td>NaN</td>\n",
       "      <td>...</td>\n",
       "      <td>NaN</td>\n",
       "      <td>0.0</td>\n",
       "      <td>Санкт-Петербург</td>\n",
       "      <td>28098.0</td>\n",
       "      <td>6800.0</td>\n",
       "      <td>2.0</td>\n",
       "      <td>84.0</td>\n",
       "      <td>3.0</td>\n",
       "      <td>234.0</td>\n",
       "      <td>424.0</td>\n",
       "    </tr>\n",
       "    <tr>\n",
       "      <th>4</th>\n",
       "      <td>2</td>\n",
       "      <td>10000000.0</td>\n",
       "      <td>100.00</td>\n",
       "      <td>2018-06-19T00:00:00</td>\n",
       "      <td>2</td>\n",
       "      <td>3.03</td>\n",
       "      <td>14.0</td>\n",
       "      <td>32.00</td>\n",
       "      <td>13</td>\n",
       "      <td>NaN</td>\n",
       "      <td>...</td>\n",
       "      <td>41.00</td>\n",
       "      <td>NaN</td>\n",
       "      <td>Санкт-Петербург</td>\n",
       "      <td>31856.0</td>\n",
       "      <td>8098.0</td>\n",
       "      <td>2.0</td>\n",
       "      <td>112.0</td>\n",
       "      <td>1.0</td>\n",
       "      <td>48.0</td>\n",
       "      <td>121.0</td>\n",
       "    </tr>\n",
       "    <tr>\n",
       "      <th>5</th>\n",
       "      <td>10</td>\n",
       "      <td>2890000.0</td>\n",
       "      <td>30.40</td>\n",
       "      <td>2018-09-10T00:00:00</td>\n",
       "      <td>1</td>\n",
       "      <td>NaN</td>\n",
       "      <td>12.0</td>\n",
       "      <td>14.40</td>\n",
       "      <td>5</td>\n",
       "      <td>NaN</td>\n",
       "      <td>...</td>\n",
       "      <td>9.10</td>\n",
       "      <td>NaN</td>\n",
       "      <td>городской посёлок Янино-1</td>\n",
       "      <td>NaN</td>\n",
       "      <td>NaN</td>\n",
       "      <td>NaN</td>\n",
       "      <td>NaN</td>\n",
       "      <td>NaN</td>\n",
       "      <td>NaN</td>\n",
       "      <td>55.0</td>\n",
       "    </tr>\n",
       "    <tr>\n",
       "      <th>6</th>\n",
       "      <td>6</td>\n",
       "      <td>3700000.0</td>\n",
       "      <td>37.30</td>\n",
       "      <td>2017-11-02T00:00:00</td>\n",
       "      <td>1</td>\n",
       "      <td>NaN</td>\n",
       "      <td>26.0</td>\n",
       "      <td>10.60</td>\n",
       "      <td>6</td>\n",
       "      <td>NaN</td>\n",
       "      <td>...</td>\n",
       "      <td>14.40</td>\n",
       "      <td>1.0</td>\n",
       "      <td>посёлок Парголово</td>\n",
       "      <td>52996.0</td>\n",
       "      <td>19143.0</td>\n",
       "      <td>0.0</td>\n",
       "      <td>NaN</td>\n",
       "      <td>0.0</td>\n",
       "      <td>NaN</td>\n",
       "      <td>155.0</td>\n",
       "    </tr>\n",
       "    <tr>\n",
       "      <th>7</th>\n",
       "      <td>5</td>\n",
       "      <td>7915000.0</td>\n",
       "      <td>71.60</td>\n",
       "      <td>2019-04-18T00:00:00</td>\n",
       "      <td>2</td>\n",
       "      <td>NaN</td>\n",
       "      <td>24.0</td>\n",
       "      <td>NaN</td>\n",
       "      <td>22</td>\n",
       "      <td>NaN</td>\n",
       "      <td>...</td>\n",
       "      <td>18.90</td>\n",
       "      <td>2.0</td>\n",
       "      <td>Санкт-Петербург</td>\n",
       "      <td>23982.0</td>\n",
       "      <td>11634.0</td>\n",
       "      <td>0.0</td>\n",
       "      <td>NaN</td>\n",
       "      <td>0.0</td>\n",
       "      <td>NaN</td>\n",
       "      <td>NaN</td>\n",
       "    </tr>\n",
       "    <tr>\n",
       "      <th>8</th>\n",
       "      <td>20</td>\n",
       "      <td>2900000.0</td>\n",
       "      <td>33.16</td>\n",
       "      <td>2018-05-23T00:00:00</td>\n",
       "      <td>1</td>\n",
       "      <td>NaN</td>\n",
       "      <td>27.0</td>\n",
       "      <td>15.43</td>\n",
       "      <td>26</td>\n",
       "      <td>NaN</td>\n",
       "      <td>...</td>\n",
       "      <td>8.81</td>\n",
       "      <td>NaN</td>\n",
       "      <td>посёлок Мурино</td>\n",
       "      <td>NaN</td>\n",
       "      <td>NaN</td>\n",
       "      <td>NaN</td>\n",
       "      <td>NaN</td>\n",
       "      <td>NaN</td>\n",
       "      <td>NaN</td>\n",
       "      <td>189.0</td>\n",
       "    </tr>\n",
       "    <tr>\n",
       "      <th>9</th>\n",
       "      <td>18</td>\n",
       "      <td>5400000.0</td>\n",
       "      <td>61.00</td>\n",
       "      <td>2017-02-26T00:00:00</td>\n",
       "      <td>3</td>\n",
       "      <td>2.50</td>\n",
       "      <td>9.0</td>\n",
       "      <td>43.60</td>\n",
       "      <td>7</td>\n",
       "      <td>NaN</td>\n",
       "      <td>...</td>\n",
       "      <td>6.50</td>\n",
       "      <td>2.0</td>\n",
       "      <td>Санкт-Петербург</td>\n",
       "      <td>50898.0</td>\n",
       "      <td>15008.0</td>\n",
       "      <td>0.0</td>\n",
       "      <td>NaN</td>\n",
       "      <td>0.0</td>\n",
       "      <td>NaN</td>\n",
       "      <td>289.0</td>\n",
       "    </tr>\n",
       "  </tbody>\n",
       "</table>\n",
       "<p>10 rows × 22 columns</p>\n",
       "</div>"
      ],
      "text/plain": [
       "   total_images  last_price  total_area first_day_exposition  rooms  \\\n",
       "0            20  13000000.0      108.00  2019-03-07T00:00:00      3   \n",
       "1             7   3350000.0       40.40  2018-12-04T00:00:00      1   \n",
       "2            10   5196000.0       56.00  2015-08-20T00:00:00      2   \n",
       "3             0  64900000.0      159.00  2015-07-24T00:00:00      3   \n",
       "4             2  10000000.0      100.00  2018-06-19T00:00:00      2   \n",
       "5            10   2890000.0       30.40  2018-09-10T00:00:00      1   \n",
       "6             6   3700000.0       37.30  2017-11-02T00:00:00      1   \n",
       "7             5   7915000.0       71.60  2019-04-18T00:00:00      2   \n",
       "8            20   2900000.0       33.16  2018-05-23T00:00:00      1   \n",
       "9            18   5400000.0       61.00  2017-02-26T00:00:00      3   \n",
       "\n",
       "   ceiling_height  floors_total  living_area  floor is_apartment  ...  \\\n",
       "0            2.70          16.0        51.00      8          NaN  ...   \n",
       "1             NaN          11.0        18.60      1          NaN  ...   \n",
       "2             NaN           5.0        34.30      4          NaN  ...   \n",
       "3             NaN          14.0          NaN      9          NaN  ...   \n",
       "4            3.03          14.0        32.00     13          NaN  ...   \n",
       "5             NaN          12.0        14.40      5          NaN  ...   \n",
       "6             NaN          26.0        10.60      6          NaN  ...   \n",
       "7             NaN          24.0          NaN     22          NaN  ...   \n",
       "8             NaN          27.0        15.43     26          NaN  ...   \n",
       "9            2.50           9.0        43.60      7          NaN  ...   \n",
       "\n",
       "   kitchen_area  balcony              locality_name  airports_nearest  \\\n",
       "0         25.00      NaN            Санкт-Петербург           18863.0   \n",
       "1         11.00      2.0             посёлок Шушары           12817.0   \n",
       "2          8.30      0.0            Санкт-Петербург           21741.0   \n",
       "3           NaN      0.0            Санкт-Петербург           28098.0   \n",
       "4         41.00      NaN            Санкт-Петербург           31856.0   \n",
       "5          9.10      NaN  городской посёлок Янино-1               NaN   \n",
       "6         14.40      1.0          посёлок Парголово           52996.0   \n",
       "7         18.90      2.0            Санкт-Петербург           23982.0   \n",
       "8          8.81      NaN             посёлок Мурино               NaN   \n",
       "9          6.50      2.0            Санкт-Петербург           50898.0   \n",
       "\n",
       "  cityCenters_nearest  parks_around3000  parks_nearest  ponds_around3000  \\\n",
       "0             16028.0               1.0          482.0               2.0   \n",
       "1             18603.0               0.0            NaN               0.0   \n",
       "2             13933.0               1.0           90.0               2.0   \n",
       "3              6800.0               2.0           84.0               3.0   \n",
       "4              8098.0               2.0          112.0               1.0   \n",
       "5                 NaN               NaN            NaN               NaN   \n",
       "6             19143.0               0.0            NaN               0.0   \n",
       "7             11634.0               0.0            NaN               0.0   \n",
       "8                 NaN               NaN            NaN               NaN   \n",
       "9             15008.0               0.0            NaN               0.0   \n",
       "\n",
       "   ponds_nearest  days_exposition  \n",
       "0          755.0              NaN  \n",
       "1            NaN             81.0  \n",
       "2          574.0            558.0  \n",
       "3          234.0            424.0  \n",
       "4           48.0            121.0  \n",
       "5            NaN             55.0  \n",
       "6            NaN            155.0  \n",
       "7            NaN              NaN  \n",
       "8            NaN            189.0  \n",
       "9            NaN            289.0  \n",
       "\n",
       "[10 rows x 22 columns]"
      ]
     },
     "metadata": {},
     "output_type": "display_data"
    }
   ],
   "source": [
    "# Вывод основной информации\n",
    "display(df.info())\n",
    "display(df.head(10))"
   ]
  },
  {
   "cell_type": "code",
   "execution_count": 4,
   "metadata": {},
   "outputs": [
    {
     "data": {
      "image/png": "[encoded data removed]",
      "text/plain": [
       "<Figure size 1080x1440 with 20 Axes>"
      ]
     },
     "metadata": {
      "needs_background": "light"
     },
     "output_type": "display_data"
    }
   ],
   "source": [
    "# Вывод хистограм\n",
    "df.hist(figsize=(15, 20));"
   ]
  },
  {
   "cell_type": "markdown",
   "metadata": {},
   "source": [
    "Вывод: По большинству графиков трудно судить об общем выводе, т.к. основная информация, которая меня интересует, очень некоректно отображается из-за выбросов, которые растягивают графики направо.\n",
    "\n",
    "Также есть пропуски в \"главных\" столбцах данных, где их необходимо минимизировать и необходимо перевести отдельные столбцы в другой тип данных"
   ]
  },
  {
   "cell_type": "markdown",
   "metadata": {},
   "source": [
    "### Предобработка данных"
   ]
  },
  {
   "cell_type": "code",
   "execution_count": 5,
   "metadata": {
    "scrolled": false
   },
   "outputs": [
    {
     "data": {
      "text/plain": [
       "total_images                0\n",
       "last_price                  0\n",
       "total_area                  0\n",
       "first_day_exposition        0\n",
       "rooms                       0\n",
       "ceiling_height           9195\n",
       "floors_total               86\n",
       "living_area              1903\n",
       "floor                       0\n",
       "is_apartment            20924\n",
       "studio                      0\n",
       "open_plan                   0\n",
       "kitchen_area             2278\n",
       "balcony                 11519\n",
       "locality_name              49\n",
       "airports_nearest         5542\n",
       "cityCenters_nearest      5519\n",
       "parks_around3000         5518\n",
       "parks_nearest           15620\n",
       "ponds_around3000         5518\n",
       "ponds_nearest           14589\n",
       "days_exposition          3181\n",
       "dtype: int64"
      ]
     },
     "metadata": {},
     "output_type": "display_data"
    },
    {
     "data": {
      "text/plain": [
       "total_images            0.000000\n",
       "last_price              0.000000\n",
       "total_area              0.000000\n",
       "first_day_exposition    0.000000\n",
       "rooms                   0.000000\n",
       "ceiling_height          0.387991\n",
       "floors_total            0.003629\n",
       "living_area             0.080299\n",
       "floor                   0.000000\n",
       "is_apartment            0.882906\n",
       "studio                  0.000000\n",
       "open_plan               0.000000\n",
       "kitchen_area            0.096122\n",
       "balcony                 0.486054\n",
       "locality_name           0.002068\n",
       "airports_nearest        0.233850\n",
       "cityCenters_nearest     0.232879\n",
       "parks_around3000        0.232837\n",
       "parks_nearest           0.659100\n",
       "ponds_around3000        0.232837\n",
       "ponds_nearest           0.615596\n",
       "days_exposition         0.134225\n",
       "dtype: float64"
      ]
     },
     "metadata": {},
     "output_type": "display_data"
    }
   ],
   "source": [
    "# Определяем пропущенные значения\n",
    "display(df.isna().sum())\n",
    "# Определяем процент пропущенных значений\n",
    "display(df.isna().mean())"
   ]
  },
  {
   "cell_type": "code",
   "execution_count": 7,
   "metadata": {},
   "outputs": [
    {
     "data": {
      "text/plain": [
       "count    14504.000000\n",
       "mean         2.771499\n",
       "std          1.261056\n",
       "min          1.000000\n",
       "25%          2.520000\n",
       "50%          2.650000\n",
       "75%          2.800000\n",
       "max        100.000000\n",
       "Name: ceiling_height, dtype: float64"
      ]
     },
     "metadata": {},
     "output_type": "display_data"
    },
    {
     "data": {
      "text/plain": [
       "count    23699.000000\n",
       "mean         2.699647\n",
       "std          0.276624\n",
       "min          2.000000\n",
       "25%          2.600000\n",
       "50%          2.650000\n",
       "75%          2.700000\n",
       "max         20.000000\n",
       "Name: ceiling_height, dtype: float64"
      ]
     },
     "metadata": {},
     "output_type": "display_data"
    }
   ],
   "source": [
    "display(df['ceiling_height'].describe())\n",
    "\"\"\"Помимо большого количества пропусков, меня настараживает тот факт, что существует квартиры с потолками 1 метр,\n",
    "и существуют квартиры с потолками 100 метров. Исходя из информации, которую изучил в интернете, могу предпологать,\n",
    "что значения в датафрейме сделаны с опечатками, поэтому приведу их в более реальному виду\"\"\"\n",
    "# Квартиры бывают от двух метров, поэтому значения ниже 2, умножу на 2.\n",
    "df.loc[df['ceiling_height'] < 2, 'ceiling_height'] *= 2\n",
    "# Рекордные значения потолков на квартир найти не смог, поэтому предположу, что значения могут быть не больше 20\n",
    "df.loc[df['ceiling_height'] > 20, 'ceiling_height'] /= 10\n",
    "# Заполняем пропуски медианным значением\n",
    "df['ceiling_height'] = df['ceiling_height'].fillna(df.loc[df['ceiling_height'] > 0, 'ceiling_height'].median())\n",
    "display(df['ceiling_height'].describe())"
   ]
  },
  {
   "cell_type": "code",
   "execution_count": 8,
   "metadata": {},
   "outputs": [],
   "source": [
    "# Заполняю пропуски медианным значением\n",
    "df['floors_total'] = df['floors_total'].fillna(df['floors_total'].median())"
   ]
  },
  {
   "cell_type": "code",
   "execution_count": 9,
   "metadata": {},
   "outputs": [],
   "source": [
    "# И здесь заполняю пропуски медианным значением\n",
    "df['living_area'] = df['living_area'].fillna(df['living_area'].median())\n",
    "df = df.loc[df['living_area']<100]"
   ]
  },
  {
   "cell_type": "code",
   "execution_count": 10,
   "metadata": {},
   "outputs": [],
   "source": [
    "# Убираю аномальные значения и проверяю, чтобы потеря аномальных значений не превышала 10-ти процентов\n",
    "df = df.loc[df['rooms']<8]"
   ]
  },
  {
   "cell_type": "code",
   "execution_count": 11,
   "metadata": {},
   "outputs": [],
   "source": [
    "# Аналогично верхнему\n",
    "df = df.loc[df['last_price']<50000000]"
   ]
  },
  {
   "cell_type": "code",
   "execution_count": 12,
   "metadata": {},
   "outputs": [],
   "source": [
    "# По этому пункту, если нет значения, значит по стандарту должен стоять False\n",
    "df['is_apartment'] = df['is_apartment'].fillna(False)"
   ]
  },
  {
   "cell_type": "code",
   "execution_count": 14,
   "metadata": {},
   "outputs": [],
   "source": [
    "# При отсутствии значений данных по балконам, делаем вывод, что балконов нет\n",
    "df['balcony'] = df['balcony'].fillna(0)"
   ]
  },
  {
   "cell_type": "code",
   "execution_count": 15,
   "metadata": {},
   "outputs": [],
   "source": [
    "# Тут кроме \"неизвестности\", ничем нельзя заполнить пустые данные\n",
    "df['locality_name'] = df['locality_name'].fillna('Неизвестно')"
   ]
  },
  {
   "cell_type": "code",
   "execution_count": null,
   "metadata": {},
   "outputs": [],
   "source": [
    "# Устраняю неявные дубликаты\n",
    "df['locality_name'] = df['locality_name'].str.replace('ё', 'е')\n",
    "df['locality_name'] = df['locality_name'].str.replace('городской поселок', 'поселок')\n",
    "df['locality_name'] = df['locality_name'].str.replace('поселок городского типа', 'поселок')\n",
    "df['locality_name'] = df['locality_name'].str.replace('городской поселок', 'поселок')\n",
    "df['locality_name'] = df['locality_name'].str.replace('поселок станции', 'поселок')\n",
    "df['locality_name'] = df['locality_name'].str.replace('коттеджный поселок', 'поселок')"
   ]
  },
  {
   "cell_type": "code",
   "execution_count": 17,
   "metadata": {},
   "outputs": [],
   "source": [
    "# Следующие значения могут принимать только целые числа, поэтому перевожу в INT\n",
    "for i in ['floors_total', 'balcony', 'airports_nearest', 'cityCenters_nearest', 'parks_around3000',\\\n",
    "         'parks_nearest', 'ponds_around3000', 'ponds_nearest', 'days_exposition']:\n",
    "    try:\n",
    "        df[i] = df[i].astype('int')\n",
    "    except:\n",
    "        pass"
   ]
  },
  {
   "cell_type": "code",
   "execution_count": 18,
   "metadata": {},
   "outputs": [],
   "source": [
    "# Перевожу object в datetime\n",
    "df['first_day_exposition'] = pd.to_datetime(df['first_day_exposition'], format='%Y-%m-%dT%H:%M:%S')"
   ]
  },
  {
   "cell_type": "code",
   "execution_count": 19,
   "metadata": {},
   "outputs": [
    {
     "data": {
      "text/html": [
       "<div>\n",
       "<style scoped>\n",
       "    .dataframe tbody tr th:only-of-type {\n",
       "        vertical-align: middle;\n",
       "    }\n",
       "\n",
       "    .dataframe tbody tr th {\n",
       "        vertical-align: top;\n",
       "    }\n",
       "\n",
       "    .dataframe thead th {\n",
       "        text-align: right;\n",
       "    }\n",
       "</style>\n",
       "<table border=\"1\" class=\"dataframe\">\n",
       "  <thead>\n",
       "    <tr style=\"text-align: right;\">\n",
       "      <th></th>\n",
       "      <th>total_images</th>\n",
       "      <th>last_price</th>\n",
       "      <th>total_area</th>\n",
       "      <th>rooms</th>\n",
       "      <th>ceiling_height</th>\n",
       "      <th>floors_total</th>\n",
       "      <th>living_area</th>\n",
       "      <th>floor</th>\n",
       "      <th>kitchen_area</th>\n",
       "      <th>balcony</th>\n",
       "      <th>airports_nearest</th>\n",
       "      <th>cityCenters_nearest</th>\n",
       "      <th>parks_around3000</th>\n",
       "      <th>parks_nearest</th>\n",
       "      <th>ponds_around3000</th>\n",
       "      <th>ponds_nearest</th>\n",
       "      <th>days_exposition</th>\n",
       "    </tr>\n",
       "  </thead>\n",
       "  <tbody>\n",
       "    <tr>\n",
       "      <th>count</th>\n",
       "      <td>23275.000000</td>\n",
       "      <td>2.327500e+04</td>\n",
       "      <td>23275.000000</td>\n",
       "      <td>23275.000000</td>\n",
       "      <td>23275.000000</td>\n",
       "      <td>23275.000000</td>\n",
       "      <td>23275.000000</td>\n",
       "      <td>23275.000000</td>\n",
       "      <td>21026.000000</td>\n",
       "      <td>23275.000000</td>\n",
       "      <td>17745.000000</td>\n",
       "      <td>17765.000000</td>\n",
       "      <td>17766.000000</td>\n",
       "      <td>7781.000000</td>\n",
       "      <td>17766.000000</td>\n",
       "      <td>8802.000000</td>\n",
       "      <td>20200.000000</td>\n",
       "    </tr>\n",
       "    <tr>\n",
       "      <th>mean</th>\n",
       "      <td>9.826466</td>\n",
       "      <td>5.778954e+06</td>\n",
       "      <td>57.429853</td>\n",
       "      <td>2.012331</td>\n",
       "      <td>2.691936</td>\n",
       "      <td>10.736756</td>\n",
       "      <td>32.323080</td>\n",
       "      <td>5.912610</td>\n",
       "      <td>10.296969</td>\n",
       "      <td>0.594887</td>\n",
       "      <td>28860.892364</td>\n",
       "      <td>14383.754123</td>\n",
       "      <td>0.595069</td>\n",
       "      <td>493.735638</td>\n",
       "      <td>0.754700</td>\n",
       "      <td>521.834583</td>\n",
       "      <td>178.645099</td>\n",
       "    </tr>\n",
       "    <tr>\n",
       "      <th>std</th>\n",
       "      <td>5.657690</td>\n",
       "      <td>4.453319e+06</td>\n",
       "      <td>25.784423</td>\n",
       "      <td>0.961300</td>\n",
       "      <td>0.264677</td>\n",
       "      <td>6.606411</td>\n",
       "      <td>15.021212</td>\n",
       "      <td>4.906115</td>\n",
       "      <td>5.169339</td>\n",
       "      <td>0.960400</td>\n",
       "      <td>12724.363273</td>\n",
       "      <td>8571.641752</td>\n",
       "      <td>0.787352</td>\n",
       "      <td>344.606869</td>\n",
       "      <td>0.927759</td>\n",
       "      <td>277.293873</td>\n",
       "      <td>217.661753</td>\n",
       "    </tr>\n",
       "    <tr>\n",
       "      <th>min</th>\n",
       "      <td>0.000000</td>\n",
       "      <td>1.219000e+04</td>\n",
       "      <td>12.000000</td>\n",
       "      <td>0.000000</td>\n",
       "      <td>2.000000</td>\n",
       "      <td>1.000000</td>\n",
       "      <td>2.000000</td>\n",
       "      <td>1.000000</td>\n",
       "      <td>1.300000</td>\n",
       "      <td>0.000000</td>\n",
       "      <td>0.000000</td>\n",
       "      <td>208.000000</td>\n",
       "      <td>0.000000</td>\n",
       "      <td>1.000000</td>\n",
       "      <td>0.000000</td>\n",
       "      <td>13.000000</td>\n",
       "      <td>1.000000</td>\n",
       "    </tr>\n",
       "    <tr>\n",
       "      <th>25%</th>\n",
       "      <td>6.000000</td>\n",
       "      <td>3.400000e+06</td>\n",
       "      <td>40.000000</td>\n",
       "      <td>1.000000</td>\n",
       "      <td>2.600000</td>\n",
       "      <td>5.000000</td>\n",
       "      <td>19.000000</td>\n",
       "      <td>2.000000</td>\n",
       "      <td>7.000000</td>\n",
       "      <td>0.000000</td>\n",
       "      <td>18475.000000</td>\n",
       "      <td>9595.000000</td>\n",
       "      <td>0.000000</td>\n",
       "      <td>288.000000</td>\n",
       "      <td>0.000000</td>\n",
       "      <td>301.250000</td>\n",
       "      <td>44.000000</td>\n",
       "    </tr>\n",
       "    <tr>\n",
       "      <th>50%</th>\n",
       "      <td>9.000000</td>\n",
       "      <td>4.600000e+06</td>\n",
       "      <td>51.300000</td>\n",
       "      <td>2.000000</td>\n",
       "      <td>2.650000</td>\n",
       "      <td>9.000000</td>\n",
       "      <td>30.000000</td>\n",
       "      <td>4.000000</td>\n",
       "      <td>9.000000</td>\n",
       "      <td>0.000000</td>\n",
       "      <td>26895.000000</td>\n",
       "      <td>13222.000000</td>\n",
       "      <td>0.000000</td>\n",
       "      <td>456.000000</td>\n",
       "      <td>0.000000</td>\n",
       "      <td>506.000000</td>\n",
       "      <td>94.000000</td>\n",
       "    </tr>\n",
       "    <tr>\n",
       "      <th>75%</th>\n",
       "      <td>14.000000</td>\n",
       "      <td>6.600000e+06</td>\n",
       "      <td>68.000000</td>\n",
       "      <td>3.000000</td>\n",
       "      <td>2.700000</td>\n",
       "      <td>16.000000</td>\n",
       "      <td>40.150000</td>\n",
       "      <td>8.000000</td>\n",
       "      <td>11.800000</td>\n",
       "      <td>1.000000</td>\n",
       "      <td>37412.000000</td>\n",
       "      <td>16408.000000</td>\n",
       "      <td>1.000000</td>\n",
       "      <td>614.000000</td>\n",
       "      <td>1.000000</td>\n",
       "      <td>733.000000</td>\n",
       "      <td>228.000000</td>\n",
       "    </tr>\n",
       "    <tr>\n",
       "      <th>max</th>\n",
       "      <td>50.000000</td>\n",
       "      <td>4.950000e+07</td>\n",
       "      <td>494.100000</td>\n",
       "      <td>7.000000</td>\n",
       "      <td>20.000000</td>\n",
       "      <td>60.000000</td>\n",
       "      <td>99.900000</td>\n",
       "      <td>33.000000</td>\n",
       "      <td>75.000000</td>\n",
       "      <td>5.000000</td>\n",
       "      <td>84869.000000</td>\n",
       "      <td>65968.000000</td>\n",
       "      <td>3.000000</td>\n",
       "      <td>3190.000000</td>\n",
       "      <td>3.000000</td>\n",
       "      <td>1344.000000</td>\n",
       "      <td>1580.000000</td>\n",
       "    </tr>\n",
       "  </tbody>\n",
       "</table>\n",
       "</div>"
      ],
      "text/plain": [
       "       total_images    last_price    total_area         rooms  ceiling_height  \\\n",
       "count  23275.000000  2.327500e+04  23275.000000  23275.000000    23275.000000   \n",
       "mean       9.826466  5.778954e+06     57.429853      2.012331        2.691936   \n",
       "std        5.657690  4.453319e+06     25.784423      0.961300        0.264677   \n",
       "min        0.000000  1.219000e+04     12.000000      0.000000        2.000000   \n",
       "25%        6.000000  3.400000e+06     40.000000      1.000000        2.600000   \n",
       "50%        9.000000  4.600000e+06     51.300000      2.000000        2.650000   \n",
       "75%       14.000000  6.600000e+06     68.000000      3.000000        2.700000   \n",
       "max       50.000000  4.950000e+07    494.100000      7.000000       20.000000   \n",
       "\n",
       "       floors_total   living_area         floor  kitchen_area       balcony  \\\n",
       "count  23275.000000  23275.000000  23275.000000  21026.000000  23275.000000   \n",
       "mean      10.736756     32.323080      5.912610     10.296969      0.594887   \n",
       "std        6.606411     15.021212      4.906115      5.169339      0.960400   \n",
       "min        1.000000      2.000000      1.000000      1.300000      0.000000   \n",
       "25%        5.000000     19.000000      2.000000      7.000000      0.000000   \n",
       "50%        9.000000     30.000000      4.000000      9.000000      0.000000   \n",
       "75%       16.000000     40.150000      8.000000     11.800000      1.000000   \n",
       "max       60.000000     99.900000     33.000000     75.000000      5.000000   \n",
       "\n",
       "       airports_nearest  cityCenters_nearest  parks_around3000  parks_nearest  \\\n",
       "count      17745.000000         17765.000000      17766.000000    7781.000000   \n",
       "mean       28860.892364         14383.754123          0.595069     493.735638   \n",
       "std        12724.363273          8571.641752          0.787352     344.606869   \n",
       "min            0.000000           208.000000          0.000000       1.000000   \n",
       "25%        18475.000000          9595.000000          0.000000     288.000000   \n",
       "50%        26895.000000         13222.000000          0.000000     456.000000   \n",
       "75%        37412.000000         16408.000000          1.000000     614.000000   \n",
       "max        84869.000000         65968.000000          3.000000    3190.000000   \n",
       "\n",
       "       ponds_around3000  ponds_nearest  days_exposition  \n",
       "count      17766.000000    8802.000000     20200.000000  \n",
       "mean           0.754700     521.834583       178.645099  \n",
       "std            0.927759     277.293873       217.661753  \n",
       "min            0.000000      13.000000         1.000000  \n",
       "25%            0.000000     301.250000        44.000000  \n",
       "50%            0.000000     506.000000        94.000000  \n",
       "75%            1.000000     733.000000       228.000000  \n",
       "max            3.000000    1344.000000      1580.000000  "
      ]
     },
     "metadata": {},
     "output_type": "display_data"
    },
    {
     "data": {
      "text/plain": [
       "0.017891050255285035"
      ]
     },
     "metadata": {},
     "output_type": "display_data"
    }
   ],
   "source": [
    "# Проверяю аномальные значения\n",
    "display(df.describe())\n",
    "display(1-(df.shape[0]/df_old.shape[0]))"
   ]
  },
  {
   "cell_type": "markdown",
   "metadata": {},
   "source": [
    "Вывод: Пропуски можно обьяснить в первую очередь человеческим фактором. Также люди не могли знать точные данные по высоте потолков и площади жилья и отдельных помещений. Касательно пропусков по последним пунктам, могу судить только по себе, что такие данные, я сразу не смог бы тоже ввести, поэтому основные пользователи, посчитали, что тоже вводить не будут."
   ]
  },
  {
   "cell_type": "markdown",
   "metadata": {},
   "source": [
    "### Посчитайте и добавьте в таблицу новые столбцы"
   ]
  },
  {
   "cell_type": "code",
   "execution_count": 20,
   "metadata": {},
   "outputs": [],
   "source": [
    "# Добавляю столбец с ценой за кв/м\n",
    "df['price_m2'] = df['last_price'] / df['living_area']"
   ]
  },
  {
   "cell_type": "code",
   "execution_count": 21,
   "metadata": {},
   "outputs": [],
   "source": [
    "# Добавляю столбец с днем недели публикации обьявления\n",
    "df['day_of_week_publish'] = pd.DatetimeIndex(df['first_day_exposition']).weekday"
   ]
  },
  {
   "cell_type": "code",
   "execution_count": 22,
   "metadata": {},
   "outputs": [],
   "source": [
    "# Добавляю столбец с месяцем публикации обьявления\n",
    "df['month_publish'] = pd.DatetimeIndex(df['first_day_exposition']).month"
   ]
  },
  {
   "cell_type": "code",
   "execution_count": 23,
   "metadata": {},
   "outputs": [],
   "source": [
    "# Добавляю столбец с годом публикации обьявления\n",
    "df['year_publish'] = pd.DatetimeIndex(df['first_day_exposition']).year"
   ]
  },
  {
   "cell_type": "code",
   "execution_count": 24,
   "metadata": {},
   "outputs": [],
   "source": [
    "# Добавляю столбец с типом этажа квартиры\n",
    "def floor_calling(rows_values):\n",
    "    \"\"\"Функция, которая получает значения этажа и количества этажей в доме и выдает 'тип этажа квартиры'\"\"\"\n",
    "    floor = rows_values['floor']\n",
    "    floor_house = rows_values['floors_total']\n",
    "    if floor == 1:\n",
    "        return 'первый'\n",
    "    elif floor == floor_house:\n",
    "        return 'последний'\n",
    "    else:\n",
    "        return 'другой'\n",
    "    \n",
    "df['floor_type'] = df.apply(floor_calling, axis=1)"
   ]
  },
  {
   "cell_type": "code",
   "execution_count": 25,
   "metadata": {},
   "outputs": [],
   "source": [
    "# Добавляю столбец расстояние до центра в км\n",
    "df['cityCenters_nearest_km'] = (df['cityCenters_nearest'] // 1000).round(0)"
   ]
  },
  {
   "cell_type": "markdown",
   "metadata": {},
   "source": [
    "### Провожу исследовательский анализ данных"
   ]
  },
  {
   "cell_type": "code",
   "execution_count": 26,
   "metadata": {},
   "outputs": [
    {
     "name": "stdout",
     "output_type": "stream",
     "text": [
      "total_area\n"
     ]
    },
    {
     "data": {
      "image/png": "[encoded data removed]",
      "text/plain": [
       "<Figure size 1008x432 with 1 Axes>"
      ]
     },
     "metadata": {
      "needs_background": "light"
     },
     "output_type": "display_data"
    },
    {
     "name": "stdout",
     "output_type": "stream",
     "text": [
      "living_area\n"
     ]
    },
    {
     "data": {
      "image/png": "[encoded data removed]",
      "text/plain": [
       "<Figure size 1008x432 with 1 Axes>"
      ]
     },
     "metadata": {
      "needs_background": "light"
     },
     "output_type": "display_data"
    },
    {
     "name": "stdout",
     "output_type": "stream",
     "text": [
      "kitchen_area\n"
     ]
    },
    {
     "data": {
      "image/png": "[encoded data removed]",
      "text/plain": [
       "<Figure size 1008x432 with 1 Axes>"
      ]
     },
     "metadata": {
      "needs_background": "light"
     },
     "output_type": "display_data"
    },
    {
     "name": "stdout",
     "output_type": "stream",
     "text": [
      "last_price\n"
     ]
    },
    {
     "data": {
      "image/png": "[encoded data removed]",
      "text/plain": [
       "<Figure size 1008x432 with 1 Axes>"
      ]
     },
     "metadata": {
      "needs_background": "light"
     },
     "output_type": "display_data"
    },
    {
     "name": "stdout",
     "output_type": "stream",
     "text": [
      "rooms\n"
     ]
    },
    {
     "data": {
      "image/png": "[encoded data removed]",
      "text/plain": [
       "<Figure size 1008x432 with 1 Axes>"
      ]
     },
     "metadata": {
      "needs_background": "light"
     },
     "output_type": "display_data"
    },
    {
     "name": "stdout",
     "output_type": "stream",
     "text": [
      "ceiling_height\n"
     ]
    },
    {
     "data": {
      "image/png": "[encoded data removed]",
      "text/plain": [
       "<Figure size 1008x432 with 1 Axes>"
      ]
     },
     "metadata": {
      "needs_background": "light"
     },
     "output_type": "display_data"
    },
    {
     "name": "stdout",
     "output_type": "stream",
     "text": [
      "floor\n"
     ]
    },
    {
     "data": {
      "image/png": "[encoded data removed]",
      "text/plain": [
       "<Figure size 1008x432 with 1 Axes>"
      ]
     },
     "metadata": {
      "needs_background": "light"
     },
     "output_type": "display_data"
    },
    {
     "name": "stdout",
     "output_type": "stream",
     "text": [
      "floor_type\n"
     ]
    },
    {
     "data": {
      "image/png": "[encoded data removed]",
      "text/plain": [
       "<Figure size 1008x432 with 1 Axes>"
      ]
     },
     "metadata": {
      "needs_background": "light"
     },
     "output_type": "display_data"
    },
    {
     "name": "stdout",
     "output_type": "stream",
     "text": [
      "floors_total\n"
     ]
    },
    {
     "data": {
      "image/png": "[encoded data removed]",
      "text/plain": [
       "<Figure size 1008x432 with 1 Axes>"
      ]
     },
     "metadata": {
      "needs_background": "light"
     },
     "output_type": "display_data"
    },
    {
     "name": "stdout",
     "output_type": "stream",
     "text": [
      "cityCenters_nearest\n"
     ]
    },
    {
     "data": {
      "image/png": "[encoded data removed]",
      "text/plain": [
       "<Figure size 1008x432 with 1 Axes>"
      ]
     },
     "metadata": {
      "needs_background": "light"
     },
     "output_type": "display_data"
    },
    {
     "name": "stdout",
     "output_type": "stream",
     "text": [
      "airports_nearest\n"
     ]
    },
    {
     "data": {
      "image/png": "[encoded data removed]",
      "text/plain": [
       "<Figure size 1008x432 with 1 Axes>"
      ]
     },
     "metadata": {
      "needs_background": "light"
     },
     "output_type": "display_data"
    },
    {
     "name": "stdout",
     "output_type": "stream",
     "text": [
      "parks_nearest\n"
     ]
    },
    {
     "data": {
      "image/png": "[encoded data removed]",
      "text/plain": [
       "<Figure size 1008x432 with 1 Axes>"
      ]
     },
     "metadata": {
      "needs_background": "light"
     },
     "output_type": "display_data"
    },
    {
     "name": "stdout",
     "output_type": "stream",
     "text": [
      "day_of_week_publish\n"
     ]
    },
    {
     "data": {
      "image/png": "[encoded data removed]",
      "text/plain": [
       "<Figure size 1008x432 with 1 Axes>"
      ]
     },
     "metadata": {
      "needs_background": "light"
     },
     "output_type": "display_data"
    },
    {
     "name": "stdout",
     "output_type": "stream",
     "text": [
      "month_publish\n"
     ]
    },
    {
     "data": {
      "image/png": "[encoded data removed]",
      "text/plain": [
       "<Figure size 1008x432 with 1 Axes>"
      ]
     },
     "metadata": {
      "needs_background": "light"
     },
     "output_type": "display_data"
    }
   ],
   "source": [
    "# Провожу анализ следующих данных\n",
    "to_analyze = ['total_area', 'living_area', 'kitchen_area', 'last_price', 'rooms', 'ceiling_height', 'floor', 'floor_type',\\\n",
    "             'floors_total', 'cityCenters_nearest', 'airports_nearest', 'parks_nearest', 'day_of_week_publish', 'month_publish']\n",
    "\n",
    "for i in to_analyze:\n",
    "    print(f'{i}')\n",
    "    if df[i].dtype == 'int64' or df[i].dtype == 'float64':\n",
    "            plt.figure(figsize=(14,6))\n",
    "            plt.hist(x = df[i], bins=30, range=(df[i].quantile(0.05), df[i].quantile(0.95)))\n",
    "            plt.show()\n",
    "    else:\n",
    "            plt.figure(figsize=(14,6))\n",
    "            plt.hist(x = df[i], bins=3)\n",
    "            plt.show()"
   ]
  },
  {
   "cell_type": "markdown",
   "metadata": {},
   "source": [
    "Вывод: Изучив данные графики, можно сделать следующие заключения об основных тенденциях:\n",
    "\n",
    "        Площади квартир от 30 м2 до 50 м2;\n",
    "        Жилая площадь в основном составляет 30м2 (даже с учетом заполнений пропущенных значений медианой, роли сильно не меняет, поскольку процент пропущеных составляет около 9%);\n",
    "        Размер кухни варьируется от 6 до 10 м2;\n",
    "        Цена квартиры 4 милиона;\n",
    "        В основном преобладают однокомнатные и двухкомнатные;\n",
    "        Высота потолка составляет около 2.64м;\n",
    "        Преобладают квартиры до 5-ого этажа в домах до 10-ти этажей;\n",
    "        В среднем до центра 15 км;\n",
    "        Растояния до аэропортов распределены равномерно (до 40 км);\n",
    "        Парки в полукилометровой доступности;\n",
    "        Обьявления выкладывают в основном в будние дни;\n",
    "        Пик обьявлений приходится на холодную половину года (исключая декабрь и январь)      "
   ]
  },
  {
   "cell_type": "code",
   "execution_count": 27,
   "metadata": {},
   "outputs": [
    {
     "data": {
      "text/plain": [
       "count    20200.000000\n",
       "mean       178.645099\n",
       "std        217.661753\n",
       "min          1.000000\n",
       "25%         44.000000\n",
       "50%         94.000000\n",
       "75%        228.000000\n",
       "max       1580.000000\n",
       "Name: days_exposition, dtype: float64"
      ]
     },
     "execution_count": 27,
     "metadata": {},
     "output_type": "execute_result"
    },
    {
     "data": {
      "image/png": "[encoded data removed]",
      "text/plain": [
       "<Figure size 720x360 with 1 Axes>"
      ]
     },
     "metadata": {
      "needs_background": "light"
     },
     "output_type": "display_data"
    }
   ],
   "source": [
    "# Обрезаю квантили, чтобы убрать выбросы по столбцу дней\n",
    "df['days_exposition'].hist(bins=30, range=(df['days_exposition'].quantile(0.05),\\\n",
    "                                           df['days_exposition'].quantile(0.95)),\\\n",
    "                                          figsize=(10,5))\n",
    "df['days_exposition'].describe()"
   ]
  },
  {
   "cell_type": "code",
   "execution_count": 28,
   "metadata": {},
   "outputs": [
    {
     "data": {
      "image/png": "[encoded data removed]",
      "text/plain": [
       "<Figure size 1080x576 with 1 Axes>"
      ]
     },
     "metadata": {
      "needs_background": "light"
     },
     "output_type": "display_data"
    },
    {
     "data": {
      "text/html": [
       "<div>\n",
       "<style scoped>\n",
       "    .dataframe tbody tr th:only-of-type {\n",
       "        vertical-align: middle;\n",
       "    }\n",
       "\n",
       "    .dataframe tbody tr th {\n",
       "        vertical-align: top;\n",
       "    }\n",
       "\n",
       "    .dataframe thead th {\n",
       "        text-align: right;\n",
       "    }\n",
       "</style>\n",
       "<table border=\"1\" class=\"dataframe\">\n",
       "  <thead>\n",
       "    <tr style=\"text-align: right;\">\n",
       "      <th></th>\n",
       "      <th>last_price</th>\n",
       "      <th>total_area</th>\n",
       "      <th>living_area</th>\n",
       "      <th>kitchen_area</th>\n",
       "    </tr>\n",
       "  </thead>\n",
       "  <tbody>\n",
       "    <tr>\n",
       "      <th>last_price</th>\n",
       "      <td>1.000000</td>\n",
       "      <td>0.759873</td>\n",
       "      <td>0.581680</td>\n",
       "      <td>0.592143</td>\n",
       "    </tr>\n",
       "    <tr>\n",
       "      <th>total_area</th>\n",
       "      <td>0.759873</td>\n",
       "      <td>1.000000</td>\n",
       "      <td>0.827702</td>\n",
       "      <td>0.562170</td>\n",
       "    </tr>\n",
       "    <tr>\n",
       "      <th>living_area</th>\n",
       "      <td>0.581680</td>\n",
       "      <td>0.827702</td>\n",
       "      <td>1.000000</td>\n",
       "      <td>0.291139</td>\n",
       "    </tr>\n",
       "    <tr>\n",
       "      <th>kitchen_area</th>\n",
       "      <td>0.592143</td>\n",
       "      <td>0.562170</td>\n",
       "      <td>0.291139</td>\n",
       "      <td>1.000000</td>\n",
       "    </tr>\n",
       "  </tbody>\n",
       "</table>\n",
       "</div>"
      ],
      "text/plain": [
       "              last_price  total_area  living_area  kitchen_area\n",
       "last_price      1.000000    0.759873     0.581680      0.592143\n",
       "total_area      0.759873    1.000000     0.827702      0.562170\n",
       "living_area     0.581680    0.827702     1.000000      0.291139\n",
       "kitchen_area    0.592143    0.562170     0.291139      1.000000"
      ]
     },
     "execution_count": 28,
     "metadata": {},
     "output_type": "execute_result"
    }
   ],
   "source": [
    "# Проверяю влияет ли стоимость от площадей и получаю процент корреляции\n",
    "analize = ['total_area', 'living_area', 'kitchen_area']\n",
    "fig, ax = plt.subplots(figsize=(15,8))\n",
    "for i in analize:\n",
    "    plt.scatter(x=df['last_price'], y=df[i], alpha=0.5, label=i)\n",
    "    plt.plot()\n",
    "plt.ylim(0,250)\n",
    "plt.xlim(0,30000000)\n",
    "ax.legend()\n",
    "plt.show()\n",
    "df[['last_price', 'total_area', 'living_area', 'kitchen_area']].corr()"
   ]
  },
  {
   "cell_type": "code",
   "execution_count": 29,
   "metadata": {},
   "outputs": [
    {
     "data": {
      "text/plain": [
       "<Figure size 432x288 with 0 Axes>"
      ]
     },
     "metadata": {},
     "output_type": "display_data"
    },
    {
     "data": {
      "image/png": "[encoded data removed]",
      "text/plain": [
       "<Figure size 1080x576 with 1 Axes>"
      ]
     },
     "metadata": {
      "needs_background": "light"
     },
     "output_type": "display_data"
    },
    {
     "data": {
      "text/plain": [
       "0.44863563775367565"
      ]
     },
     "execution_count": 29,
     "metadata": {},
     "output_type": "execute_result"
    }
   ],
   "source": [
    "# Проверяю влияет ли стоимость от кол-ва комнат и получаю процент корреляции\n",
    "plt.figure()\n",
    "ax=df.pivot_table(index='rooms', values='last_price', aggfunc='mean').plot(kind='bar', figsize=(15,8))\n",
    "plt.show()\n",
    "df['last_price'].corr(df['rooms'])"
   ]
  },
  {
   "cell_type": "code",
   "execution_count": 30,
   "metadata": {},
   "outputs": [
    {
     "data": {
      "text/plain": [
       "<Figure size 432x288 with 0 Axes>"
      ]
     },
     "metadata": {},
     "output_type": "display_data"
    },
    {
     "data": {
      "image/png": "[encoded data removed]",
      "text/plain": [
       "<Figure size 1080x576 with 1 Axes>"
      ]
     },
     "metadata": {
      "needs_background": "light"
     },
     "output_type": "display_data"
    }
   ],
   "source": [
    "# Проверяю влияет ли стоимость от того, где находится квартира\n",
    "plt.figure()\n",
    "ax=df.pivot_table(index='floor_type', values='last_price', aggfunc='mean').plot(kind='bar', figsize=(15,8))\n",
    "plt.show()"
   ]
  },
  {
   "cell_type": "code",
   "execution_count": 31,
   "metadata": {},
   "outputs": [
    {
     "data": {
      "text/plain": [
       "<Figure size 432x288 with 0 Axes>"
      ]
     },
     "metadata": {},
     "output_type": "display_data"
    },
    {
     "data": {
      "image/png": "[encoded data removed]",
      "text/plain": [
       "<Figure size 1080x576 with 1 Axes>"
      ]
     },
     "metadata": {
      "needs_background": "light"
     },
     "output_type": "display_data"
    }
   ],
   "source": [
    "# Проверяю влияет ли стоимость от того, в какой день было выложено обьявление\n",
    "plt.figure()\n",
    "ax=df.pivot_table(index='day_of_week_publish', values='last_price', aggfunc='mean').plot(kind='bar', figsize=(15,8))\n",
    "plt.ylim(5000000,6000000)\n",
    "plt.show()"
   ]
  },
  {
   "cell_type": "code",
   "execution_count": 32,
   "metadata": {},
   "outputs": [
    {
     "data": {
      "text/plain": [
       "<Figure size 432x288 with 0 Axes>"
      ]
     },
     "metadata": {},
     "output_type": "display_data"
    },
    {
     "data": {
      "image/png": "[encoded data removed]",
      "text/plain": [
       "<Figure size 1080x576 with 1 Axes>"
      ]
     },
     "metadata": {
      "needs_background": "light"
     },
     "output_type": "display_data"
    }
   ],
   "source": [
    "# Проверяю влияет ли стоимость от того, в какой месяц было выложено обьявление\n",
    "plt.figure()\n",
    "ax=df.pivot_table(index='month_publish', values='last_price', aggfunc='mean').plot(kind='bar', figsize=(15,8))\n",
    "plt.ylim(5000000,6000000)\n",
    "plt.show()"
   ]
  },
  {
   "cell_type": "code",
   "execution_count": 33,
   "metadata": {},
   "outputs": [
    {
     "data": {
      "text/plain": [
       "<Figure size 432x288 with 0 Axes>"
      ]
     },
     "metadata": {},
     "output_type": "display_data"
    },
    {
     "data": {
      "image/png": "[encoded data removed]",
      "text/plain": [
       "<Figure size 1080x576 with 1 Axes>"
      ]
     },
     "metadata": {
      "needs_background": "light"
     },
     "output_type": "display_data"
    }
   ],
   "source": [
    "# Проверяю влияет ли стоимость от того, в какой год было выложено обьявление\n",
    "plt.figure()\n",
    "ax=df.pivot_table(index='year_publish', values='last_price', aggfunc='mean').plot(kind='bar', figsize=(15,8))\n",
    "plt.ylim(5000000,12000000)\n",
    "plt.show()"
   ]
  },
  {
   "cell_type": "markdown",
   "metadata": {},
   "source": [
    "Вывод: Главный параметр, который изучаю, является цена квартиры. От цены квартиру, я расматриваю зависимости и делаю следующие заключения:\n",
    "\n",
    "Рост цен зависит от роста площади квартир (включая жилые площади и площади кухни)\n",
    "\n",
    "Рост цен также зависит от количества комнат в квартире\n",
    "\n",
    "Наиболее дешевые квартиры находятся на первом этаже. Далее по возрастанию идут квартиры на последнем этаже и самыми дорогими являются промежуточные этажи.\n",
    "\n",
    "Цена не сильно зависит от дня публикации обьявления, но из наблюдений: Обьявления о дешевых квартир выкладываются в выходные. Самые дорогие обьявления квартир приходятся на ноябрь, декабрь, январь. Самые же дешевые на март, июнь, октябрь. Самые дорогие обьявления были выложены в 2014 году, самые дешевые в 2018."
   ]
  },
  {
   "cell_type": "code",
   "execution_count": 34,
   "metadata": {},
   "outputs": [
    {
     "name": "stdout",
     "output_type": "stream",
     "text": [
      "                   price_m2  count\n",
      "locality_name                     \n",
      "Санкт-Петербург      213723  15313\n",
      "поселок Мурино       170019    556\n",
      "поселок Шушары       154993    440\n",
      "Всеволожск           132969    398\n",
      "Пушкин               192964    364\n",
      "Колпино              132172    337\n",
      "поселок Парголово    197705    327\n",
      "Гатчина              121411    306\n",
      "деревня Кудрово      183394    299\n",
      "Выборг                99559    235\n",
      "\n",
      "Самый дорогой квадратный метр в Санкт-Петербурге\n",
      "\n",
      "Самый дешевый квадратный метр в Выборге\n"
     ]
    }
   ],
   "source": [
    "# Подвожу выводы\n",
    "local_mean_m2 = df.pivot_table(index='locality_name', values='price_m2', aggfunc=['mean', 'count']).\\\n",
    "sort_values(('count', 'price_m2'), ascending=False)\n",
    "local_mean_m2.columns = ['price_m2', 'count']\n",
    "local_mean_m2['price_m2'] = round(local_mean_m2['price_m2']).astype('int')\n",
    "print(local_mean_m2.head(10))\n",
    "print()\n",
    "print('Самый дорогой квадратный метр в Санкт-Петербурге')\n",
    "print()\n",
    "print('Самый дешевый квадратный метр в Выборге')"
   ]
  },
  {
   "cell_type": "code",
   "execution_count": 36,
   "metadata": {},
   "outputs": [
    {
     "data": {
      "image/png": "[encoded data removed]",
      "text/plain": [
       "<Figure size 1080x576 with 1 Axes>"
      ]
     },
     "metadata": {
      "needs_background": "light"
     },
     "output_type": "display_data"
    }
   ],
   "source": [
    "fig, ax = plt.subplots(figsize=(15,8))\n",
    "plt.plot(df.query(\"locality_name == 'Санкт-Петербург'\").pivot_table(index='cityCenters_nearest_km', values='last_price'))\n",
    "#plt.ylim(3000000,14000000)\n",
    "plt.show()   "
   ]
  },
  {
   "cell_type": "markdown",
   "metadata": {},
   "source": [
    "Вывод: Дорогое жилье заканчивается на 7-ом километре от Питера. Далее идут варианты подешевле. Всплески на графике на 20 и на 27 км, полагаю, что богатые районы, где сдаются уже не квартиры а дома."
   ]
  },
  {
   "cell_type": "markdown",
   "metadata": {},
   "source": [
    "### Общий вывод"
   ]
  },
  {
   "cell_type": "markdown",
   "metadata": {},
   "source": [
    "Вывод: \n",
    "1) Наиболее дорогие квартиры находятся в Санкт-Петербурге и уменьшаются по мере их отдаления от второй столицы России\n",
    "\n",
    "2) Меньше всего стоят квартиры которые расположены на первом этаже\n",
    "\n",
    "3) В основном площадь квартир составляют от 30 до 50 квадратных метров с потолками до 2.7 метров\n",
    "\n",
    "4) Преобладают квартиры в домах не больше десяти этажей"
   ]
  }
 ],
 "metadata": {
  "ExecuteTimeLog": [
   {
    "duration": 73,
    "start_time": "2023-05-19T10:25:06.626Z"
   },
   {
    "duration": 83,
    "start_time": "2023-05-19T10:25:12.300Z"
   },
   {
    "duration": 82,
    "start_time": "2023-05-19T10:25:57.311Z"
   },
   {
    "duration": 79,
    "start_time": "2023-05-19T10:26:01.650Z"
   },
   {
    "duration": 86,
    "start_time": "2023-05-19T10:26:03.870Z"
   },
   {
    "duration": 83,
    "start_time": "2023-05-19T10:26:51.581Z"
   },
   {
    "duration": 365,
    "start_time": "2023-05-19T10:28:50.568Z"
   },
   {
    "duration": 1508,
    "start_time": "2023-05-19T10:28:54.178Z"
   },
   {
    "duration": 83,
    "start_time": "2023-05-19T10:29:09.002Z"
   },
   {
    "duration": 45,
    "start_time": "2023-05-19T10:29:11.893Z"
   },
   {
    "duration": 48,
    "start_time": "2023-05-19T10:29:15.168Z"
   },
   {
    "duration": 82,
    "start_time": "2023-05-19T10:29:17.463Z"
   },
   {
    "duration": 79,
    "start_time": "2023-05-19T10:29:37.644Z"
   },
   {
    "duration": 98,
    "start_time": "2023-05-19T10:31:09.347Z"
   },
   {
    "duration": 303,
    "start_time": "2023-05-19T10:32:05.130Z"
   },
   {
    "duration": 81,
    "start_time": "2023-05-19T10:32:10.055Z"
   },
   {
    "duration": 503,
    "start_time": "2023-05-19T10:32:30.529Z"
   },
   {
    "duration": 1522,
    "start_time": "2023-05-19T10:32:58.280Z"
   },
   {
    "duration": 81,
    "start_time": "2023-05-19T10:33:16.105Z"
   },
   {
    "duration": 627,
    "start_time": "2023-05-20T08:21:36.103Z"
   },
   {
    "duration": 105,
    "start_time": "2023-05-20T08:21:38.967Z"
   },
   {
    "duration": 697,
    "start_time": "2023-05-25T15:07:29.343Z"
   },
   {
    "duration": 139,
    "start_time": "2023-05-25T15:10:34.733Z"
   },
   {
    "duration": 2518,
    "start_time": "2023-05-25T15:12:46.521Z"
   },
   {
    "duration": 183,
    "start_time": "2023-05-25T15:13:41.912Z"
   },
   {
    "duration": 1883,
    "start_time": "2023-05-25T15:13:49.150Z"
   },
   {
    "duration": 46,
    "start_time": "2023-05-26T17:05:41.375Z"
   },
   {
    "duration": 2919,
    "start_time": "2023-05-26T17:05:44.679Z"
   },
   {
    "duration": 90,
    "start_time": "2023-05-26T17:06:34.024Z"
   },
   {
    "duration": 15,
    "start_time": "2023-05-26T17:06:36.655Z"
   },
   {
    "duration": 11,
    "start_time": "2023-05-26T17:06:50.053Z"
   },
   {
    "duration": 7,
    "start_time": "2023-05-26T17:09:13.927Z"
   },
   {
    "duration": 45,
    "start_time": "2023-05-28T14:53:43.752Z"
   },
   {
    "duration": 682,
    "start_time": "2023-05-28T14:53:46.669Z"
   },
   {
    "duration": 4,
    "start_time": "2023-05-28T14:53:47.472Z"
   },
   {
    "duration": 15,
    "start_time": "2023-05-28T14:53:48.369Z"
   },
   {
    "duration": 545,
    "start_time": "2023-05-29T20:13:57.587Z"
   },
   {
    "duration": 14,
    "start_time": "2023-05-29T20:13:58.134Z"
   },
   {
    "duration": 2245,
    "start_time": "2023-05-29T20:13:58.150Z"
   },
   {
    "duration": 9,
    "start_time": "2023-05-29T20:14:00.396Z"
   },
   {
    "duration": 1111,
    "start_time": "2023-05-30T17:24:33.362Z"
   },
   {
    "duration": 20,
    "start_time": "2023-05-30T17:24:34.476Z"
   },
   {
    "duration": 2497,
    "start_time": "2023-05-30T17:24:34.497Z"
   },
   {
    "duration": 27,
    "start_time": "2023-05-30T17:24:36.996Z"
   },
   {
    "duration": 85,
    "start_time": "2023-05-30T17:26:02.754Z"
   },
   {
    "duration": 6,
    "start_time": "2023-05-30T17:26:12.714Z"
   },
   {
    "duration": 8,
    "start_time": "2023-05-30T17:26:32.182Z"
   },
   {
    "duration": 17,
    "start_time": "2023-05-30T17:26:38.118Z"
   },
   {
    "duration": 6,
    "start_time": "2023-05-30T18:14:52.151Z"
   },
   {
    "duration": 97,
    "start_time": "2023-05-30T18:15:43.380Z"
   },
   {
    "duration": 177,
    "start_time": "2023-05-30T18:15:58.829Z"
   },
   {
    "duration": 107,
    "start_time": "2023-05-30T18:16:16.824Z"
   },
   {
    "duration": 5,
    "start_time": "2023-05-30T18:16:21.216Z"
   },
   {
    "duration": 8,
    "start_time": "2023-05-30T18:19:07.184Z"
   },
   {
    "duration": 8,
    "start_time": "2023-05-30T18:19:15.089Z"
   },
   {
    "duration": 6,
    "start_time": "2023-05-30T18:19:19.707Z"
   },
   {
    "duration": 14,
    "start_time": "2023-05-30T18:20:14.649Z"
   },
   {
    "duration": 20,
    "start_time": "2023-05-30T18:39:39.801Z"
   },
   {
    "duration": 489,
    "start_time": "2023-05-30T19:46:51.642Z"
   },
   {
    "duration": 23,
    "start_time": "2023-05-30T19:46:52.133Z"
   },
   {
    "duration": 2035,
    "start_time": "2023-05-30T19:46:52.157Z"
   },
   {
    "duration": 11,
    "start_time": "2023-05-30T19:46:54.194Z"
   },
   {
    "duration": 10,
    "start_time": "2023-05-30T19:46:54.207Z"
   },
   {
    "duration": 21,
    "start_time": "2023-05-30T19:46:54.218Z"
   },
   {
    "duration": 14,
    "start_time": "2023-05-30T20:12:10.342Z"
   },
   {
    "duration": 471,
    "start_time": "2023-05-30T20:12:32.144Z"
   },
   {
    "duration": 19,
    "start_time": "2023-05-30T20:12:32.617Z"
   },
   {
    "duration": 2087,
    "start_time": "2023-05-30T20:12:32.638Z"
   },
   {
    "duration": 17,
    "start_time": "2023-05-30T20:12:34.728Z"
   },
   {
    "duration": 6,
    "start_time": "2023-05-30T20:12:34.746Z"
   },
   {
    "duration": 22,
    "start_time": "2023-05-30T20:12:34.753Z"
   },
   {
    "duration": 44,
    "start_time": "2023-05-30T20:12:34.776Z"
   },
   {
    "duration": 16,
    "start_time": "2023-05-30T20:23:27.061Z"
   },
   {
    "duration": 499,
    "start_time": "2023-05-30T21:10:39.515Z"
   },
   {
    "duration": 20,
    "start_time": "2023-05-30T21:10:40.016Z"
   },
   {
    "duration": 2047,
    "start_time": "2023-05-30T21:10:40.038Z"
   },
   {
    "duration": 15,
    "start_time": "2023-05-30T21:10:42.086Z"
   },
   {
    "duration": 9,
    "start_time": "2023-05-30T21:10:42.103Z"
   },
   {
    "duration": 38,
    "start_time": "2023-05-30T21:10:42.117Z"
   },
   {
    "duration": 9,
    "start_time": "2023-05-30T21:10:42.157Z"
   },
   {
    "duration": 6,
    "start_time": "2023-05-30T21:12:18.890Z"
   },
   {
    "duration": 5,
    "start_time": "2023-05-30T21:13:13.237Z"
   },
   {
    "duration": 4,
    "start_time": "2023-05-30T21:37:20.781Z"
   },
   {
    "duration": 5,
    "start_time": "2023-05-30T21:37:21.375Z"
   },
   {
    "duration": 5,
    "start_time": "2023-05-30T22:15:12.883Z"
   },
   {
    "duration": 22,
    "start_time": "2023-05-30T22:22:30.043Z"
   },
   {
    "duration": 440,
    "start_time": "2023-05-30T22:22:41.769Z"
   },
   {
    "duration": 20,
    "start_time": "2023-05-30T22:22:42.211Z"
   },
   {
    "duration": 1994,
    "start_time": "2023-05-30T22:22:42.232Z"
   },
   {
    "duration": 15,
    "start_time": "2023-05-30T22:22:44.227Z"
   },
   {
    "duration": 4,
    "start_time": "2023-05-30T22:22:44.245Z"
   },
   {
    "duration": 25,
    "start_time": "2023-05-30T22:22:44.251Z"
   },
   {
    "duration": 5,
    "start_time": "2023-05-30T22:22:44.277Z"
   },
   {
    "duration": 4,
    "start_time": "2023-05-30T22:22:44.318Z"
   },
   {
    "duration": 24,
    "start_time": "2023-05-30T22:22:44.324Z"
   },
   {
    "duration": 11,
    "start_time": "2023-05-30T22:22:44.350Z"
   },
   {
    "duration": 6,
    "start_time": "2023-05-30T22:22:44.363Z"
   },
   {
    "duration": 8,
    "start_time": "2023-05-30T22:22:44.370Z"
   },
   {
    "duration": 5,
    "start_time": "2023-05-30T22:22:44.380Z"
   },
   {
    "duration": 5,
    "start_time": "2023-05-30T22:22:44.389Z"
   },
   {
    "duration": 22,
    "start_time": "2023-05-30T22:22:44.396Z"
   },
   {
    "duration": 5,
    "start_time": "2023-05-30T22:22:44.420Z"
   },
   {
    "duration": 7,
    "start_time": "2023-05-30T22:22:44.427Z"
   },
   {
    "duration": 22,
    "start_time": "2023-05-30T22:22:44.436Z"
   },
   {
    "duration": 519,
    "start_time": "2023-05-30T22:30:36.007Z"
   },
   {
    "duration": 22,
    "start_time": "2023-05-30T22:30:36.527Z"
   },
   {
    "duration": 1994,
    "start_time": "2023-05-30T22:30:36.551Z"
   },
   {
    "duration": 16,
    "start_time": "2023-05-30T22:30:38.546Z"
   },
   {
    "duration": 4,
    "start_time": "2023-05-30T22:30:38.564Z"
   },
   {
    "duration": 23,
    "start_time": "2023-05-30T22:30:38.570Z"
   },
   {
    "duration": 5,
    "start_time": "2023-05-30T22:30:38.618Z"
   },
   {
    "duration": 4,
    "start_time": "2023-05-30T22:30:38.624Z"
   },
   {
    "duration": 14,
    "start_time": "2023-05-30T22:30:38.630Z"
   },
   {
    "duration": 16,
    "start_time": "2023-05-30T22:30:38.645Z"
   },
   {
    "duration": 11,
    "start_time": "2023-05-30T22:30:38.662Z"
   },
   {
    "duration": 13,
    "start_time": "2023-05-30T22:30:38.674Z"
   },
   {
    "duration": 6,
    "start_time": "2023-05-30T22:30:38.688Z"
   },
   {
    "duration": 4,
    "start_time": "2023-05-30T22:30:38.697Z"
   },
   {
    "duration": 17,
    "start_time": "2023-05-30T22:30:38.702Z"
   },
   {
    "duration": 12,
    "start_time": "2023-05-30T22:30:38.720Z"
   },
   {
    "duration": 9,
    "start_time": "2023-05-30T22:30:38.733Z"
   },
   {
    "duration": 5,
    "start_time": "2023-05-30T22:30:38.744Z"
   },
   {
    "duration": 6,
    "start_time": "2023-05-30T22:30:38.751Z"
   },
   {
    "duration": 62,
    "start_time": "2023-05-31T11:43:45.640Z"
   },
   {
    "duration": 6,
    "start_time": "2023-05-31T11:43:47.753Z"
   },
   {
    "duration": 545,
    "start_time": "2023-05-31T11:43:56.621Z"
   },
   {
    "duration": 22,
    "start_time": "2023-05-31T11:43:57.169Z"
   },
   {
    "duration": 2542,
    "start_time": "2023-05-31T11:43:57.193Z"
   },
   {
    "duration": 18,
    "start_time": "2023-05-31T11:43:59.736Z"
   },
   {
    "duration": 2,
    "start_time": "2023-05-31T11:43:59.756Z"
   },
   {
    "duration": 25,
    "start_time": "2023-05-31T11:43:59.760Z"
   },
   {
    "duration": 4,
    "start_time": "2023-05-31T11:43:59.787Z"
   },
   {
    "duration": 14,
    "start_time": "2023-05-31T11:43:59.793Z"
   },
   {
    "duration": 6,
    "start_time": "2023-05-31T11:43:59.809Z"
   },
   {
    "duration": 6,
    "start_time": "2023-05-31T11:43:59.816Z"
   },
   {
    "duration": 5,
    "start_time": "2023-05-31T11:43:59.824Z"
   },
   {
    "duration": 6,
    "start_time": "2023-05-31T11:43:59.831Z"
   },
   {
    "duration": 110,
    "start_time": "2023-05-31T11:43:59.838Z"
   },
   {
    "duration": 0,
    "start_time": "2023-05-31T11:43:59.950Z"
   },
   {
    "duration": 0,
    "start_time": "2023-05-31T11:43:59.951Z"
   },
   {
    "duration": 0,
    "start_time": "2023-05-31T11:43:59.952Z"
   },
   {
    "duration": 108,
    "start_time": "2023-05-31T11:45:30.398Z"
   },
   {
    "duration": 80,
    "start_time": "2023-05-31T11:45:50.145Z"
   },
   {
    "duration": 145,
    "start_time": "2023-05-31T11:46:44.144Z"
   },
   {
    "duration": 14,
    "start_time": "2023-05-31T11:47:12.380Z"
   },
   {
    "duration": 104,
    "start_time": "2023-05-31T11:47:17.741Z"
   },
   {
    "duration": 17,
    "start_time": "2023-05-31T11:47:27.846Z"
   },
   {
    "duration": 14,
    "start_time": "2023-05-31T11:47:33.502Z"
   },
   {
    "duration": 13,
    "start_time": "2023-05-31T11:47:54.299Z"
   },
   {
    "duration": 10,
    "start_time": "2023-05-31T11:47:59.995Z"
   },
   {
    "duration": 19,
    "start_time": "2023-05-31T11:58:26.863Z"
   },
   {
    "duration": 10,
    "start_time": "2023-05-31T11:58:53.267Z"
   },
   {
    "duration": 12,
    "start_time": "2023-05-31T11:58:57.343Z"
   },
   {
    "duration": 11,
    "start_time": "2023-05-31T11:59:03.180Z"
   },
   {
    "duration": 12,
    "start_time": "2023-05-31T11:59:34.950Z"
   },
   {
    "duration": 83,
    "start_time": "2023-05-31T12:00:33.048Z"
   },
   {
    "duration": 274,
    "start_time": "2023-05-31T12:20:00.919Z"
   },
   {
    "duration": 16,
    "start_time": "2023-05-31T12:20:14.353Z"
   },
   {
    "duration": 465,
    "start_time": "2023-05-31T12:20:48.824Z"
   },
   {
    "duration": 20,
    "start_time": "2023-05-31T12:20:49.291Z"
   },
   {
    "duration": 2095,
    "start_time": "2023-05-31T12:20:49.312Z"
   },
   {
    "duration": 16,
    "start_time": "2023-05-31T12:20:51.408Z"
   },
   {
    "duration": 10,
    "start_time": "2023-05-31T12:20:51.427Z"
   },
   {
    "duration": 71,
    "start_time": "2023-05-31T12:20:51.438Z"
   },
   {
    "duration": 9,
    "start_time": "2023-05-31T12:20:51.510Z"
   },
   {
    "duration": 19,
    "start_time": "2023-05-31T12:20:51.521Z"
   },
   {
    "duration": 17,
    "start_time": "2023-05-31T12:20:51.542Z"
   },
   {
    "duration": 28,
    "start_time": "2023-05-31T12:20:51.561Z"
   },
   {
    "duration": 7,
    "start_time": "2023-05-31T12:20:51.591Z"
   },
   {
    "duration": 81,
    "start_time": "2023-05-31T12:20:51.599Z"
   },
   {
    "duration": 11,
    "start_time": "2023-05-31T12:20:51.682Z"
   },
   {
    "duration": 16,
    "start_time": "2023-05-31T12:20:51.696Z"
   },
   {
    "duration": 1942,
    "start_time": "2023-05-31T12:20:51.714Z"
   },
   {
    "duration": 0,
    "start_time": "2023-05-31T12:20:53.657Z"
   },
   {
    "duration": 0,
    "start_time": "2023-05-31T12:20:53.660Z"
   },
   {
    "duration": 0,
    "start_time": "2023-05-31T12:20:53.661Z"
   },
   {
    "duration": 0,
    "start_time": "2023-05-31T12:20:53.663Z"
   },
   {
    "duration": 0,
    "start_time": "2023-05-31T12:20:53.664Z"
   },
   {
    "duration": 0,
    "start_time": "2023-05-31T12:20:53.665Z"
   },
   {
    "duration": 0,
    "start_time": "2023-05-31T12:20:53.666Z"
   },
   {
    "duration": 5,
    "start_time": "2023-05-31T12:21:40.590Z"
   },
   {
    "duration": 1742,
    "start_time": "2023-05-31T12:21:52.084Z"
   },
   {
    "duration": 8,
    "start_time": "2023-05-31T12:22:15.875Z"
   },
   {
    "duration": 546,
    "start_time": "2023-05-31T12:22:25.575Z"
   },
   {
    "duration": 20,
    "start_time": "2023-05-31T12:22:26.123Z"
   },
   {
    "duration": 2319,
    "start_time": "2023-05-31T12:22:26.144Z"
   },
   {
    "duration": 21,
    "start_time": "2023-05-31T12:22:28.466Z"
   },
   {
    "duration": 4,
    "start_time": "2023-05-31T12:22:28.488Z"
   },
   {
    "duration": 35,
    "start_time": "2023-05-31T12:22:28.494Z"
   },
   {
    "duration": 6,
    "start_time": "2023-05-31T12:22:28.531Z"
   },
   {
    "duration": 14,
    "start_time": "2023-05-31T12:22:28.539Z"
   },
   {
    "duration": 20,
    "start_time": "2023-05-31T12:22:28.555Z"
   },
   {
    "duration": 9,
    "start_time": "2023-05-31T12:22:28.578Z"
   },
   {
    "duration": 3,
    "start_time": "2023-05-31T12:22:28.589Z"
   },
   {
    "duration": 69,
    "start_time": "2023-05-31T12:22:28.594Z"
   },
   {
    "duration": 11,
    "start_time": "2023-05-31T12:22:28.674Z"
   },
   {
    "duration": 13,
    "start_time": "2023-05-31T12:22:28.686Z"
   },
   {
    "duration": 6,
    "start_time": "2023-05-31T12:22:28.701Z"
   },
   {
    "duration": 83,
    "start_time": "2023-05-31T12:22:28.709Z"
   },
   {
    "duration": 4,
    "start_time": "2023-05-31T12:22:28.794Z"
   },
   {
    "duration": 29,
    "start_time": "2023-05-31T12:22:28.799Z"
   },
   {
    "duration": 7,
    "start_time": "2023-05-31T12:22:28.830Z"
   },
   {
    "duration": 5,
    "start_time": "2023-05-31T12:22:28.840Z"
   },
   {
    "duration": 264,
    "start_time": "2023-05-31T12:22:28.847Z"
   },
   {
    "duration": 15,
    "start_time": "2023-05-31T12:22:29.113Z"
   },
   {
    "duration": 5,
    "start_time": "2023-05-31T12:23:48.764Z"
   },
   {
    "duration": 16,
    "start_time": "2023-05-31T12:23:55.446Z"
   },
   {
    "duration": 15,
    "start_time": "2023-05-31T12:24:17.376Z"
   },
   {
    "duration": 14,
    "start_time": "2023-05-31T12:25:09.031Z"
   },
   {
    "duration": 320,
    "start_time": "2023-05-31T13:15:03.907Z"
   },
   {
    "duration": 113,
    "start_time": "2023-05-31T13:15:15.062Z"
   },
   {
    "duration": 70,
    "start_time": "2023-05-31T13:15:36.881Z"
   },
   {
    "duration": 9,
    "start_time": "2023-05-31T13:23:19.714Z"
   },
   {
    "duration": 47,
    "start_time": "2023-05-31T13:23:29.861Z"
   },
   {
    "duration": 11,
    "start_time": "2023-05-31T13:25:14.833Z"
   },
   {
    "duration": 88,
    "start_time": "2023-05-31T13:25:20.945Z"
   },
   {
    "duration": 14,
    "start_time": "2023-05-31T13:25:28.762Z"
   },
   {
    "duration": 10,
    "start_time": "2023-05-31T13:26:07.176Z"
   },
   {
    "duration": 179,
    "start_time": "2023-05-31T13:26:18.905Z"
   },
   {
    "duration": 107,
    "start_time": "2023-05-31T13:27:28.251Z"
   },
   {
    "duration": 263,
    "start_time": "2023-05-31T13:27:31.370Z"
   },
   {
    "duration": 3885,
    "start_time": "2023-05-31T13:27:42.259Z"
   },
   {
    "duration": 686,
    "start_time": "2023-05-31T13:28:19.624Z"
   },
   {
    "duration": 18,
    "start_time": "2023-05-31T13:28:20.312Z"
   },
   {
    "duration": 1836,
    "start_time": "2023-05-31T13:28:20.331Z"
   },
   {
    "duration": 16,
    "start_time": "2023-05-31T13:28:22.168Z"
   },
   {
    "duration": 3,
    "start_time": "2023-05-31T13:28:22.186Z"
   },
   {
    "duration": 32,
    "start_time": "2023-05-31T13:28:22.190Z"
   },
   {
    "duration": 4,
    "start_time": "2023-05-31T13:28:22.223Z"
   },
   {
    "duration": 7,
    "start_time": "2023-05-31T13:28:22.228Z"
   },
   {
    "duration": 6,
    "start_time": "2023-05-31T13:28:22.236Z"
   },
   {
    "duration": 7,
    "start_time": "2023-05-31T13:28:22.243Z"
   },
   {
    "duration": 4,
    "start_time": "2023-05-31T13:28:22.251Z"
   },
   {
    "duration": 92,
    "start_time": "2023-05-31T13:28:22.256Z"
   },
   {
    "duration": 11,
    "start_time": "2023-05-31T13:28:22.349Z"
   },
   {
    "duration": 22,
    "start_time": "2023-05-31T13:28:22.363Z"
   },
   {
    "duration": 10,
    "start_time": "2023-05-31T13:28:22.386Z"
   },
   {
    "duration": 82,
    "start_time": "2023-05-31T13:28:22.398Z"
   },
   {
    "duration": 4,
    "start_time": "2023-05-31T13:28:22.481Z"
   },
   {
    "duration": 14,
    "start_time": "2023-05-31T13:28:22.486Z"
   },
   {
    "duration": 24,
    "start_time": "2023-05-31T13:28:22.501Z"
   },
   {
    "duration": 13,
    "start_time": "2023-05-31T13:28:22.526Z"
   },
   {
    "duration": 266,
    "start_time": "2023-05-31T13:28:22.540Z"
   },
   {
    "duration": 4,
    "start_time": "2023-05-31T13:28:22.807Z"
   },
   {
    "duration": 3199,
    "start_time": "2023-05-31T13:28:22.813Z"
   },
   {
    "duration": 9,
    "start_time": "2023-05-31T13:31:07.364Z"
   },
   {
    "duration": 2911,
    "start_time": "2023-05-31T13:31:13.076Z"
   },
   {
    "duration": 2939,
    "start_time": "2023-05-31T13:31:28.959Z"
   },
   {
    "duration": 1177,
    "start_time": "2023-05-31T13:31:50.154Z"
   },
   {
    "duration": 1139,
    "start_time": "2023-05-31T13:32:46.705Z"
   },
   {
    "duration": 1280,
    "start_time": "2023-05-31T13:33:03.828Z"
   },
   {
    "duration": 3710,
    "start_time": "2023-05-31T13:33:26.082Z"
   },
   {
    "duration": 3543,
    "start_time": "2023-05-31T13:33:47.873Z"
   },
   {
    "duration": 3325,
    "start_time": "2023-05-31T13:34:05.714Z"
   },
   {
    "duration": 3471,
    "start_time": "2023-05-31T13:36:08.371Z"
   },
   {
    "duration": 3555,
    "start_time": "2023-05-31T13:36:19.451Z"
   },
   {
    "duration": 139,
    "start_time": "2023-05-31T13:49:55.045Z"
   },
   {
    "duration": 3716,
    "start_time": "2023-05-31T13:50:10.179Z"
   },
   {
    "duration": 8,
    "start_time": "2023-05-31T13:50:37.078Z"
   },
   {
    "duration": 5,
    "start_time": "2023-05-31T13:51:22.163Z"
   },
   {
    "duration": 2230,
    "start_time": "2023-05-31T13:51:24.449Z"
   },
   {
    "duration": 2512,
    "start_time": "2023-05-31T13:51:43.438Z"
   },
   {
    "duration": 2411,
    "start_time": "2023-05-31T13:52:15.964Z"
   },
   {
    "duration": 2433,
    "start_time": "2023-05-31T13:52:31.948Z"
   },
   {
    "duration": 170,
    "start_time": "2023-05-31T14:04:42.520Z"
   },
   {
    "duration": 2303,
    "start_time": "2023-05-31T14:10:30.340Z"
   },
   {
    "duration": 111,
    "start_time": "2023-05-31T14:12:24.170Z"
   },
   {
    "duration": 163,
    "start_time": "2023-05-31T14:12:57.510Z"
   },
   {
    "duration": 162,
    "start_time": "2023-05-31T14:13:35.641Z"
   },
   {
    "duration": 5,
    "start_time": "2023-05-31T15:02:47.113Z"
   },
   {
    "duration": 17,
    "start_time": "2023-05-31T15:03:10.195Z"
   },
   {
    "duration": 5,
    "start_time": "2023-05-31T15:03:54.866Z"
   },
   {
    "duration": 17,
    "start_time": "2023-05-31T15:04:33.623Z"
   },
   {
    "duration": 401,
    "start_time": "2023-05-31T15:04:41.616Z"
   },
   {
    "duration": 462,
    "start_time": "2023-05-31T15:04:53.920Z"
   },
   {
    "duration": 737,
    "start_time": "2023-05-31T15:05:34.842Z"
   },
   {
    "duration": 16,
    "start_time": "2023-05-31T15:05:35.581Z"
   },
   {
    "duration": 1825,
    "start_time": "2023-05-31T15:05:35.598Z"
   },
   {
    "duration": 16,
    "start_time": "2023-05-31T15:05:37.424Z"
   },
   {
    "duration": 3,
    "start_time": "2023-05-31T15:05:37.442Z"
   },
   {
    "duration": 40,
    "start_time": "2023-05-31T15:05:37.446Z"
   },
   {
    "duration": 4,
    "start_time": "2023-05-31T15:05:37.488Z"
   },
   {
    "duration": 7,
    "start_time": "2023-05-31T15:05:37.493Z"
   },
   {
    "duration": 18,
    "start_time": "2023-05-31T15:05:37.501Z"
   },
   {
    "duration": 9,
    "start_time": "2023-05-31T15:05:37.521Z"
   },
   {
    "duration": 11,
    "start_time": "2023-05-31T15:05:37.531Z"
   },
   {
    "duration": 68,
    "start_time": "2023-05-31T15:05:37.544Z"
   },
   {
    "duration": 11,
    "start_time": "2023-05-31T15:05:37.614Z"
   },
   {
    "duration": 16,
    "start_time": "2023-05-31T15:05:37.627Z"
   },
   {
    "duration": 8,
    "start_time": "2023-05-31T15:05:37.644Z"
   },
   {
    "duration": 73,
    "start_time": "2023-05-31T15:05:37.653Z"
   },
   {
    "duration": 4,
    "start_time": "2023-05-31T15:05:37.727Z"
   },
   {
    "duration": 18,
    "start_time": "2023-05-31T15:05:37.733Z"
   },
   {
    "duration": 12,
    "start_time": "2023-05-31T15:05:37.753Z"
   },
   {
    "duration": 11,
    "start_time": "2023-05-31T15:05:37.766Z"
   },
   {
    "duration": 274,
    "start_time": "2023-05-31T15:05:37.779Z"
   },
   {
    "duration": 13,
    "start_time": "2023-05-31T15:05:38.055Z"
   },
   {
    "duration": 2251,
    "start_time": "2023-05-31T15:05:38.070Z"
   },
   {
    "duration": 240,
    "start_time": "2023-05-31T15:05:40.323Z"
   },
   {
    "duration": 395,
    "start_time": "2023-05-31T15:05:40.565Z"
   },
   {
    "duration": 71,
    "start_time": "2023-05-31T15:05:40.962Z"
   },
   {
    "duration": 368,
    "start_time": "2023-05-31T15:06:12.715Z"
   },
   {
    "duration": 11,
    "start_time": "2023-05-31T15:08:05.050Z"
   },
   {
    "duration": 10,
    "start_time": "2023-05-31T15:08:39.413Z"
   },
   {
    "duration": 9,
    "start_time": "2023-05-31T15:10:20.409Z"
   },
   {
    "duration": 271,
    "start_time": "2023-05-31T15:16:36.128Z"
   },
   {
    "duration": 766,
    "start_time": "2023-05-31T15:34:36.352Z"
   },
   {
    "duration": 18,
    "start_time": "2023-05-31T15:34:37.120Z"
   },
   {
    "duration": 1923,
    "start_time": "2023-05-31T15:34:37.140Z"
   },
   {
    "duration": 16,
    "start_time": "2023-05-31T15:34:39.065Z"
   },
   {
    "duration": 2,
    "start_time": "2023-05-31T15:34:39.083Z"
   },
   {
    "duration": 23,
    "start_time": "2023-05-31T15:34:39.087Z"
   },
   {
    "duration": 4,
    "start_time": "2023-05-31T15:34:39.111Z"
   },
   {
    "duration": 8,
    "start_time": "2023-05-31T15:34:39.117Z"
   },
   {
    "duration": 13,
    "start_time": "2023-05-31T15:34:39.127Z"
   },
   {
    "duration": 33,
    "start_time": "2023-05-31T15:34:39.142Z"
   },
   {
    "duration": 3,
    "start_time": "2023-05-31T15:34:39.177Z"
   },
   {
    "duration": 67,
    "start_time": "2023-05-31T15:34:39.181Z"
   },
   {
    "duration": 25,
    "start_time": "2023-05-31T15:34:39.250Z"
   },
   {
    "duration": 13,
    "start_time": "2023-05-31T15:34:39.276Z"
   },
   {
    "duration": 8,
    "start_time": "2023-05-31T15:34:39.290Z"
   },
   {
    "duration": 84,
    "start_time": "2023-05-31T15:34:39.299Z"
   },
   {
    "duration": 4,
    "start_time": "2023-05-31T15:34:39.384Z"
   },
   {
    "duration": 9,
    "start_time": "2023-05-31T15:34:39.389Z"
   },
   {
    "duration": 5,
    "start_time": "2023-05-31T15:34:39.400Z"
   },
   {
    "duration": 10,
    "start_time": "2023-05-31T15:34:39.407Z"
   },
   {
    "duration": 298,
    "start_time": "2023-05-31T15:34:39.419Z"
   },
   {
    "duration": 4,
    "start_time": "2023-05-31T15:34:39.718Z"
   },
   {
    "duration": 2382,
    "start_time": "2023-05-31T15:34:39.723Z"
   },
   {
    "duration": 251,
    "start_time": "2023-05-31T15:34:42.107Z"
   },
   {
    "duration": 267,
    "start_time": "2023-05-31T15:34:42.360Z"
   },
   {
    "duration": 774,
    "start_time": "2023-05-31T16:02:20.535Z"
   },
   {
    "duration": 19,
    "start_time": "2023-05-31T16:02:21.311Z"
   },
   {
    "duration": 2123,
    "start_time": "2023-05-31T16:02:21.335Z"
   },
   {
    "duration": 35,
    "start_time": "2023-05-31T16:02:23.459Z"
   },
   {
    "duration": 3,
    "start_time": "2023-05-31T16:02:23.496Z"
   },
   {
    "duration": 41,
    "start_time": "2023-05-31T16:02:23.500Z"
   },
   {
    "duration": 10,
    "start_time": "2023-05-31T16:02:23.542Z"
   },
   {
    "duration": 19,
    "start_time": "2023-05-31T16:02:23.554Z"
   },
   {
    "duration": 46,
    "start_time": "2023-05-31T16:02:23.576Z"
   },
   {
    "duration": 15,
    "start_time": "2023-05-31T16:02:23.624Z"
   },
   {
    "duration": 9,
    "start_time": "2023-05-31T16:02:23.641Z"
   },
   {
    "duration": 93,
    "start_time": "2023-05-31T16:02:23.652Z"
   },
   {
    "duration": 14,
    "start_time": "2023-05-31T16:02:23.746Z"
   },
   {
    "duration": 18,
    "start_time": "2023-05-31T16:02:23.762Z"
   },
   {
    "duration": 23,
    "start_time": "2023-05-31T16:02:23.781Z"
   },
   {
    "duration": 84,
    "start_time": "2023-05-31T16:02:23.806Z"
   },
   {
    "duration": 5,
    "start_time": "2023-05-31T16:02:23.892Z"
   },
   {
    "duration": 37,
    "start_time": "2023-05-31T16:02:23.899Z"
   },
   {
    "duration": 20,
    "start_time": "2023-05-31T16:02:23.938Z"
   },
   {
    "duration": 11,
    "start_time": "2023-05-31T16:02:23.962Z"
   },
   {
    "duration": 362,
    "start_time": "2023-05-31T16:02:23.974Z"
   },
   {
    "duration": 5,
    "start_time": "2023-05-31T16:02:24.338Z"
   },
   {
    "duration": 2865,
    "start_time": "2023-05-31T16:02:24.345Z"
   },
   {
    "duration": 247,
    "start_time": "2023-05-31T16:02:27.212Z"
   },
   {
    "duration": 308,
    "start_time": "2023-05-31T16:02:27.461Z"
   },
   {
    "duration": 9,
    "start_time": "2023-05-31T16:11:30.521Z"
   },
   {
    "duration": 7,
    "start_time": "2023-05-31T16:11:34.308Z"
   },
   {
    "duration": 130,
    "start_time": "2023-05-31T16:31:12.345Z"
   },
   {
    "duration": 2638,
    "start_time": "2023-05-31T16:33:23.454Z"
   },
   {
    "duration": 78,
    "start_time": "2023-05-31T16:33:50.993Z"
   },
   {
    "duration": 2482,
    "start_time": "2023-05-31T16:33:54.371Z"
   },
   {
    "duration": 33,
    "start_time": "2023-05-31T16:36:12.398Z"
   },
   {
    "duration": 669,
    "start_time": "2023-05-31T16:36:22.194Z"
   },
   {
    "duration": 125,
    "start_time": "2023-05-31T16:36:22.866Z"
   },
   {
    "duration": 43,
    "start_time": "2023-05-31T16:36:22.993Z"
   },
   {
    "duration": 2041,
    "start_time": "2023-05-31T16:36:23.038Z"
   },
   {
    "duration": 17,
    "start_time": "2023-05-31T16:36:25.081Z"
   },
   {
    "duration": 2,
    "start_time": "2023-05-31T16:36:25.100Z"
   },
   {
    "duration": 35,
    "start_time": "2023-05-31T16:36:25.104Z"
   },
   {
    "duration": 5,
    "start_time": "2023-05-31T16:36:25.141Z"
   },
   {
    "duration": 7,
    "start_time": "2023-05-31T16:36:25.147Z"
   },
   {
    "duration": 5,
    "start_time": "2023-05-31T16:36:25.156Z"
   },
   {
    "duration": 4,
    "start_time": "2023-05-31T16:36:25.175Z"
   },
   {
    "duration": 18,
    "start_time": "2023-05-31T16:36:25.180Z"
   },
   {
    "duration": 69,
    "start_time": "2023-05-31T16:36:25.200Z"
   },
   {
    "duration": 11,
    "start_time": "2023-05-31T16:36:25.272Z"
   },
   {
    "duration": 20,
    "start_time": "2023-05-31T16:36:25.284Z"
   },
   {
    "duration": 13,
    "start_time": "2023-05-31T16:36:25.306Z"
   },
   {
    "duration": 76,
    "start_time": "2023-05-31T16:36:25.321Z"
   },
   {
    "duration": 4,
    "start_time": "2023-05-31T16:36:25.399Z"
   },
   {
    "duration": 33,
    "start_time": "2023-05-31T16:36:25.405Z"
   },
   {
    "duration": 21,
    "start_time": "2023-05-31T16:36:25.440Z"
   },
   {
    "duration": 15,
    "start_time": "2023-05-31T16:36:25.463Z"
   },
   {
    "duration": 264,
    "start_time": "2023-05-31T16:36:25.480Z"
   },
   {
    "duration": 4,
    "start_time": "2023-05-31T16:36:25.746Z"
   },
   {
    "duration": 2360,
    "start_time": "2023-05-31T16:36:25.752Z"
   },
   {
    "duration": 276,
    "start_time": "2023-05-31T16:36:28.114Z"
   },
   {
    "duration": 303,
    "start_time": "2023-05-31T16:36:28.392Z"
   },
   {
    "duration": 38,
    "start_time": "2023-05-31T16:36:57.721Z"
   },
   {
    "duration": 596,
    "start_time": "2023-05-31T17:02:54.328Z"
   },
   {
    "duration": 94,
    "start_time": "2023-05-31T17:02:54.926Z"
   },
   {
    "duration": 44,
    "start_time": "2023-05-31T17:02:55.021Z"
   },
   {
    "duration": 1908,
    "start_time": "2023-05-31T17:02:55.067Z"
   },
   {
    "duration": 24,
    "start_time": "2023-05-31T17:02:56.977Z"
   },
   {
    "duration": 3,
    "start_time": "2023-05-31T17:02:57.003Z"
   },
   {
    "duration": 22,
    "start_time": "2023-05-31T17:02:57.008Z"
   },
   {
    "duration": 4,
    "start_time": "2023-05-31T17:02:57.031Z"
   },
   {
    "duration": 41,
    "start_time": "2023-05-31T17:02:57.036Z"
   },
   {
    "duration": 5,
    "start_time": "2023-05-31T17:02:57.078Z"
   },
   {
    "duration": 13,
    "start_time": "2023-05-31T17:02:57.084Z"
   },
   {
    "duration": 5,
    "start_time": "2023-05-31T17:02:57.098Z"
   },
   {
    "duration": 81,
    "start_time": "2023-05-31T17:02:57.104Z"
   },
   {
    "duration": 2,
    "start_time": "2023-05-31T17:02:57.188Z"
   },
   {
    "duration": 89,
    "start_time": "2023-05-31T17:02:57.191Z"
   },
   {
    "duration": 0,
    "start_time": "2023-05-31T17:02:57.282Z"
   },
   {
    "duration": 0,
    "start_time": "2023-05-31T17:02:57.283Z"
   },
   {
    "duration": 0,
    "start_time": "2023-05-31T17:02:57.284Z"
   },
   {
    "duration": 0,
    "start_time": "2023-05-31T17:02:57.285Z"
   },
   {
    "duration": 0,
    "start_time": "2023-05-31T17:02:57.286Z"
   },
   {
    "duration": 0,
    "start_time": "2023-05-31T17:02:57.287Z"
   },
   {
    "duration": 0,
    "start_time": "2023-05-31T17:02:57.288Z"
   },
   {
    "duration": 0,
    "start_time": "2023-05-31T17:02:57.290Z"
   },
   {
    "duration": 0,
    "start_time": "2023-05-31T17:02:57.291Z"
   },
   {
    "duration": 0,
    "start_time": "2023-05-31T17:02:57.292Z"
   },
   {
    "duration": 0,
    "start_time": "2023-05-31T17:02:57.293Z"
   },
   {
    "duration": 631,
    "start_time": "2023-05-31T17:05:10.595Z"
   },
   {
    "duration": 94,
    "start_time": "2023-05-31T17:05:11.228Z"
   },
   {
    "duration": 57,
    "start_time": "2023-05-31T17:05:11.327Z"
   },
   {
    "duration": 1929,
    "start_time": "2023-05-31T17:05:11.386Z"
   },
   {
    "duration": 16,
    "start_time": "2023-05-31T17:05:13.316Z"
   },
   {
    "duration": 3,
    "start_time": "2023-05-31T17:05:13.333Z"
   },
   {
    "duration": 24,
    "start_time": "2023-05-31T17:05:13.338Z"
   },
   {
    "duration": 11,
    "start_time": "2023-05-31T17:05:13.364Z"
   },
   {
    "duration": 5,
    "start_time": "2023-05-31T17:05:13.379Z"
   },
   {
    "duration": 8,
    "start_time": "2023-05-31T17:05:13.386Z"
   },
   {
    "duration": 3,
    "start_time": "2023-05-31T17:05:13.396Z"
   },
   {
    "duration": 4,
    "start_time": "2023-05-31T17:05:13.400Z"
   },
   {
    "duration": 94,
    "start_time": "2023-05-31T17:05:13.406Z"
   },
   {
    "duration": 3,
    "start_time": "2023-05-31T17:05:13.502Z"
   },
   {
    "duration": 90,
    "start_time": "2023-05-31T17:05:13.506Z"
   },
   {
    "duration": 0,
    "start_time": "2023-05-31T17:05:13.598Z"
   },
   {
    "duration": 0,
    "start_time": "2023-05-31T17:05:13.599Z"
   },
   {
    "duration": 0,
    "start_time": "2023-05-31T17:05:13.600Z"
   },
   {
    "duration": 0,
    "start_time": "2023-05-31T17:05:13.601Z"
   },
   {
    "duration": 0,
    "start_time": "2023-05-31T17:05:13.602Z"
   },
   {
    "duration": 0,
    "start_time": "2023-05-31T17:05:13.603Z"
   },
   {
    "duration": 0,
    "start_time": "2023-05-31T17:05:13.603Z"
   },
   {
    "duration": 0,
    "start_time": "2023-05-31T17:05:13.604Z"
   },
   {
    "duration": 0,
    "start_time": "2023-05-31T17:05:13.605Z"
   },
   {
    "duration": 0,
    "start_time": "2023-05-31T17:05:13.606Z"
   },
   {
    "duration": 0,
    "start_time": "2023-05-31T17:05:13.607Z"
   },
   {
    "duration": 5,
    "start_time": "2023-05-31T17:06:11.107Z"
   },
   {
    "duration": 658,
    "start_time": "2023-05-31T17:06:22.679Z"
   },
   {
    "duration": 99,
    "start_time": "2023-05-31T17:06:23.339Z"
   },
   {
    "duration": 50,
    "start_time": "2023-05-31T17:06:23.440Z"
   },
   {
    "duration": 2143,
    "start_time": "2023-05-31T17:06:23.492Z"
   },
   {
    "duration": 25,
    "start_time": "2023-05-31T17:06:25.638Z"
   },
   {
    "duration": 3,
    "start_time": "2023-05-31T17:06:25.665Z"
   },
   {
    "duration": 27,
    "start_time": "2023-05-31T17:06:25.670Z"
   },
   {
    "duration": 6,
    "start_time": "2023-05-31T17:06:25.699Z"
   },
   {
    "duration": 7,
    "start_time": "2023-05-31T17:06:25.707Z"
   },
   {
    "duration": 10,
    "start_time": "2023-05-31T17:06:25.715Z"
   },
   {
    "duration": 11,
    "start_time": "2023-05-31T17:06:25.727Z"
   },
   {
    "duration": 4,
    "start_time": "2023-05-31T17:06:25.741Z"
   },
   {
    "duration": 95,
    "start_time": "2023-05-31T17:06:25.747Z"
   },
   {
    "duration": 2,
    "start_time": "2023-05-31T17:06:25.845Z"
   },
   {
    "duration": 16,
    "start_time": "2023-05-31T17:06:25.849Z"
   },
   {
    "duration": 11,
    "start_time": "2023-05-31T17:06:25.876Z"
   },
   {
    "duration": 74,
    "start_time": "2023-05-31T17:06:25.888Z"
   },
   {
    "duration": 3,
    "start_time": "2023-05-31T17:06:25.964Z"
   },
   {
    "duration": 14,
    "start_time": "2023-05-31T17:06:25.975Z"
   },
   {
    "duration": 18,
    "start_time": "2023-05-31T17:06:25.990Z"
   },
   {
    "duration": 5,
    "start_time": "2023-05-31T17:06:26.009Z"
   },
   {
    "duration": 326,
    "start_time": "2023-05-31T17:06:26.016Z"
   },
   {
    "duration": 3,
    "start_time": "2023-05-31T17:06:26.344Z"
   },
   {
    "duration": 2521,
    "start_time": "2023-05-31T17:06:26.349Z"
   },
   {
    "duration": 340,
    "start_time": "2023-05-31T17:06:28.874Z"
   },
   {
    "duration": 367,
    "start_time": "2023-05-31T17:06:29.216Z"
   },
   {
    "duration": 111,
    "start_time": "2023-05-31T19:37:08.040Z"
   },
   {
    "duration": 188,
    "start_time": "2023-05-31T19:37:43.209Z"
   },
   {
    "duration": 88,
    "start_time": "2023-05-31T19:38:05.098Z"
   },
   {
    "duration": 90,
    "start_time": "2023-05-31T19:38:45.868Z"
   },
   {
    "duration": 96,
    "start_time": "2023-05-31T19:38:51.003Z"
   },
   {
    "duration": 690,
    "start_time": "2023-05-31T19:39:03.340Z"
   },
   {
    "duration": 129,
    "start_time": "2023-05-31T19:39:04.032Z"
   },
   {
    "duration": 66,
    "start_time": "2023-05-31T19:39:04.163Z"
   },
   {
    "duration": 2175,
    "start_time": "2023-05-31T19:39:04.231Z"
   },
   {
    "duration": 17,
    "start_time": "2023-05-31T19:39:06.407Z"
   },
   {
    "duration": 2,
    "start_time": "2023-05-31T19:39:06.426Z"
   },
   {
    "duration": 23,
    "start_time": "2023-05-31T19:39:06.430Z"
   },
   {
    "duration": 6,
    "start_time": "2023-05-31T19:39:06.454Z"
   },
   {
    "duration": 6,
    "start_time": "2023-05-31T19:39:06.461Z"
   },
   {
    "duration": 18,
    "start_time": "2023-05-31T19:39:06.477Z"
   },
   {
    "duration": 3,
    "start_time": "2023-05-31T19:39:06.503Z"
   },
   {
    "duration": 6,
    "start_time": "2023-05-31T19:39:06.507Z"
   },
   {
    "duration": 81,
    "start_time": "2023-05-31T19:39:06.515Z"
   },
   {
    "duration": 5,
    "start_time": "2023-05-31T19:39:06.602Z"
   },
   {
    "duration": 11,
    "start_time": "2023-05-31T19:39:06.609Z"
   },
   {
    "duration": 8,
    "start_time": "2023-05-31T19:39:06.621Z"
   },
   {
    "duration": 166,
    "start_time": "2023-05-31T19:39:06.631Z"
   },
   {
    "duration": 0,
    "start_time": "2023-05-31T19:39:06.799Z"
   },
   {
    "duration": 1,
    "start_time": "2023-05-31T19:39:06.799Z"
   },
   {
    "duration": 0,
    "start_time": "2023-05-31T19:39:06.800Z"
   },
   {
    "duration": 0,
    "start_time": "2023-05-31T19:39:06.801Z"
   },
   {
    "duration": 0,
    "start_time": "2023-05-31T19:39:06.802Z"
   },
   {
    "duration": 0,
    "start_time": "2023-05-31T19:39:06.803Z"
   },
   {
    "duration": 0,
    "start_time": "2023-05-31T19:39:06.804Z"
   },
   {
    "duration": 0,
    "start_time": "2023-05-31T19:39:06.804Z"
   },
   {
    "duration": 0,
    "start_time": "2023-05-31T19:39:06.805Z"
   },
   {
    "duration": 699,
    "start_time": "2023-05-31T19:39:19.660Z"
   },
   {
    "duration": 124,
    "start_time": "2023-05-31T19:39:20.361Z"
   },
   {
    "duration": 64,
    "start_time": "2023-05-31T19:39:20.487Z"
   },
   {
    "duration": 2082,
    "start_time": "2023-05-31T19:39:20.553Z"
   },
   {
    "duration": 16,
    "start_time": "2023-05-31T19:39:22.637Z"
   },
   {
    "duration": 2,
    "start_time": "2023-05-31T19:39:22.655Z"
   },
   {
    "duration": 25,
    "start_time": "2023-05-31T19:39:22.659Z"
   },
   {
    "duration": 13,
    "start_time": "2023-05-31T19:39:22.685Z"
   },
   {
    "duration": 7,
    "start_time": "2023-05-31T19:39:22.703Z"
   },
   {
    "duration": 14,
    "start_time": "2023-05-31T19:39:22.711Z"
   },
   {
    "duration": 11,
    "start_time": "2023-05-31T19:39:22.727Z"
   },
   {
    "duration": 5,
    "start_time": "2023-05-31T19:39:22.740Z"
   },
   {
    "duration": 86,
    "start_time": "2023-05-31T19:39:22.747Z"
   },
   {
    "duration": 3,
    "start_time": "2023-05-31T19:39:22.835Z"
   },
   {
    "duration": 18,
    "start_time": "2023-05-31T19:39:22.840Z"
   },
   {
    "duration": 7,
    "start_time": "2023-05-31T19:39:22.861Z"
   },
   {
    "duration": 86,
    "start_time": "2023-05-31T19:39:22.869Z"
   },
   {
    "duration": 4,
    "start_time": "2023-05-31T19:39:22.956Z"
   },
   {
    "duration": 14,
    "start_time": "2023-05-31T19:39:22.962Z"
   },
   {
    "duration": 9,
    "start_time": "2023-05-31T19:39:22.986Z"
   },
   {
    "duration": 13,
    "start_time": "2023-05-31T19:39:22.996Z"
   },
   {
    "duration": 300,
    "start_time": "2023-05-31T19:39:23.010Z"
   },
   {
    "duration": 4,
    "start_time": "2023-05-31T19:39:23.312Z"
   },
   {
    "duration": 2646,
    "start_time": "2023-05-31T19:39:23.317Z"
   },
   {
    "duration": 287,
    "start_time": "2023-05-31T19:39:25.964Z"
   },
   {
    "duration": 327,
    "start_time": "2023-05-31T19:39:26.252Z"
   },
   {
    "duration": 11,
    "start_time": "2023-05-31T19:55:25.552Z"
   },
   {
    "duration": 11,
    "start_time": "2023-05-31T19:57:49.815Z"
   },
   {
    "duration": 8,
    "start_time": "2023-05-31T19:58:08.549Z"
   },
   {
    "duration": 14,
    "start_time": "2023-05-31T19:58:14.037Z"
   },
   {
    "duration": 13,
    "start_time": "2023-05-31T19:58:21.565Z"
   },
   {
    "duration": 136,
    "start_time": "2023-05-31T20:00:16.814Z"
   },
   {
    "duration": 702,
    "start_time": "2023-05-31T20:01:35.651Z"
   },
   {
    "duration": 107,
    "start_time": "2023-05-31T20:01:36.355Z"
   },
   {
    "duration": 61,
    "start_time": "2023-05-31T20:01:36.464Z"
   },
   {
    "duration": 2281,
    "start_time": "2023-05-31T20:01:36.527Z"
   },
   {
    "duration": 18,
    "start_time": "2023-05-31T20:01:38.810Z"
   },
   {
    "duration": 4,
    "start_time": "2023-05-31T20:01:38.830Z"
   },
   {
    "duration": 23,
    "start_time": "2023-05-31T20:01:38.836Z"
   },
   {
    "duration": 5,
    "start_time": "2023-05-31T20:01:38.861Z"
   },
   {
    "duration": 29,
    "start_time": "2023-05-31T20:01:38.881Z"
   },
   {
    "duration": 42,
    "start_time": "2023-05-31T20:01:38.911Z"
   },
   {
    "duration": 8,
    "start_time": "2023-05-31T20:01:38.955Z"
   },
   {
    "duration": 16,
    "start_time": "2023-05-31T20:01:38.964Z"
   },
   {
    "duration": 20,
    "start_time": "2023-05-31T20:01:38.982Z"
   },
   {
    "duration": 18,
    "start_time": "2023-05-31T20:01:39.005Z"
   },
   {
    "duration": 94,
    "start_time": "2023-05-31T20:01:39.025Z"
   },
   {
    "duration": 2,
    "start_time": "2023-05-31T20:01:39.121Z"
   },
   {
    "duration": 10,
    "start_time": "2023-05-31T20:01:39.125Z"
   },
   {
    "duration": 9,
    "start_time": "2023-05-31T20:01:39.137Z"
   },
   {
    "duration": 95,
    "start_time": "2023-05-31T20:01:39.147Z"
   },
   {
    "duration": 4,
    "start_time": "2023-05-31T20:01:39.244Z"
   },
   {
    "duration": 18,
    "start_time": "2023-05-31T20:01:39.250Z"
   },
   {
    "duration": 11,
    "start_time": "2023-05-31T20:01:39.277Z"
   },
   {
    "duration": 10,
    "start_time": "2023-05-31T20:01:39.309Z"
   },
   {
    "duration": 298,
    "start_time": "2023-05-31T20:01:39.321Z"
   },
   {
    "duration": 5,
    "start_time": "2023-05-31T20:01:39.621Z"
   },
   {
    "duration": 2695,
    "start_time": "2023-05-31T20:01:39.628Z"
   },
   {
    "duration": 291,
    "start_time": "2023-05-31T20:01:42.325Z"
   },
   {
    "duration": 316,
    "start_time": "2023-05-31T20:01:42.618Z"
   },
   {
    "duration": 118,
    "start_time": "2023-05-31T20:01:51.720Z"
   },
   {
    "duration": 143,
    "start_time": "2023-05-31T20:01:58.617Z"
   },
   {
    "duration": 737,
    "start_time": "2023-05-31T20:02:03.563Z"
   },
   {
    "duration": 134,
    "start_time": "2023-05-31T20:02:04.313Z"
   },
   {
    "duration": 75,
    "start_time": "2023-05-31T20:02:04.449Z"
   },
   {
    "duration": 2145,
    "start_time": "2023-05-31T20:02:04.526Z"
   },
   {
    "duration": 41,
    "start_time": "2023-05-31T20:02:06.678Z"
   },
   {
    "duration": 4,
    "start_time": "2023-05-31T20:02:06.721Z"
   },
   {
    "duration": 29,
    "start_time": "2023-05-31T20:02:06.727Z"
   },
   {
    "duration": 5,
    "start_time": "2023-05-31T20:02:06.758Z"
   },
   {
    "duration": 45,
    "start_time": "2023-05-31T20:02:06.765Z"
   },
   {
    "duration": 41,
    "start_time": "2023-05-31T20:02:06.811Z"
   },
   {
    "duration": 8,
    "start_time": "2023-05-31T20:02:06.853Z"
   },
   {
    "duration": 5,
    "start_time": "2023-05-31T20:02:06.863Z"
   },
   {
    "duration": 9,
    "start_time": "2023-05-31T20:02:06.870Z"
   },
   {
    "duration": 13,
    "start_time": "2023-05-31T20:02:06.889Z"
   },
   {
    "duration": 81,
    "start_time": "2023-05-31T20:02:06.906Z"
   },
   {
    "duration": 2,
    "start_time": "2023-05-31T20:02:06.989Z"
   },
   {
    "duration": 8,
    "start_time": "2023-05-31T20:02:06.992Z"
   },
   {
    "duration": 18,
    "start_time": "2023-05-31T20:02:07.001Z"
   },
   {
    "duration": 95,
    "start_time": "2023-05-31T20:02:07.021Z"
   },
   {
    "duration": 5,
    "start_time": "2023-05-31T20:02:07.117Z"
   },
   {
    "duration": 8,
    "start_time": "2023-05-31T20:02:07.124Z"
   },
   {
    "duration": 7,
    "start_time": "2023-05-31T20:02:07.133Z"
   },
   {
    "duration": 6,
    "start_time": "2023-05-31T20:02:07.142Z"
   },
   {
    "duration": 327,
    "start_time": "2023-05-31T20:02:07.150Z"
   },
   {
    "duration": 5,
    "start_time": "2023-05-31T20:02:07.478Z"
   },
   {
    "duration": 2668,
    "start_time": "2023-05-31T20:02:07.488Z"
   },
   {
    "duration": 278,
    "start_time": "2023-05-31T20:02:10.158Z"
   },
   {
    "duration": 306,
    "start_time": "2023-05-31T20:02:10.438Z"
   },
   {
    "duration": 668,
    "start_time": "2023-05-31T20:04:33.504Z"
   },
   {
    "duration": 138,
    "start_time": "2023-05-31T20:04:34.174Z"
   },
   {
    "duration": 92,
    "start_time": "2023-05-31T20:04:34.315Z"
   },
   {
    "duration": 2383,
    "start_time": "2023-05-31T20:04:34.409Z"
   },
   {
    "duration": 27,
    "start_time": "2023-05-31T20:04:36.794Z"
   },
   {
    "duration": 3,
    "start_time": "2023-05-31T20:04:36.823Z"
   },
   {
    "duration": 29,
    "start_time": "2023-05-31T20:04:36.828Z"
   },
   {
    "duration": 5,
    "start_time": "2023-05-31T20:04:36.859Z"
   },
   {
    "duration": 33,
    "start_time": "2023-05-31T20:04:36.865Z"
   },
   {
    "duration": 38,
    "start_time": "2023-05-31T20:04:36.911Z"
   },
   {
    "duration": 157,
    "start_time": "2023-05-31T20:04:36.951Z"
   },
   {
    "duration": 0,
    "start_time": "2023-05-31T20:04:37.111Z"
   },
   {
    "duration": 0,
    "start_time": "2023-05-31T20:04:37.112Z"
   },
   {
    "duration": 0,
    "start_time": "2023-05-31T20:04:37.114Z"
   },
   {
    "duration": 0,
    "start_time": "2023-05-31T20:04:37.115Z"
   },
   {
    "duration": 0,
    "start_time": "2023-05-31T20:04:37.116Z"
   },
   {
    "duration": 0,
    "start_time": "2023-05-31T20:04:37.117Z"
   },
   {
    "duration": 0,
    "start_time": "2023-05-31T20:04:37.119Z"
   },
   {
    "duration": 0,
    "start_time": "2023-05-31T20:04:37.120Z"
   },
   {
    "duration": 0,
    "start_time": "2023-05-31T20:04:37.121Z"
   },
   {
    "duration": 0,
    "start_time": "2023-05-31T20:04:37.122Z"
   },
   {
    "duration": 0,
    "start_time": "2023-05-31T20:04:37.124Z"
   },
   {
    "duration": 0,
    "start_time": "2023-05-31T20:04:37.124Z"
   },
   {
    "duration": 0,
    "start_time": "2023-05-31T20:04:37.126Z"
   },
   {
    "duration": 0,
    "start_time": "2023-05-31T20:04:37.127Z"
   },
   {
    "duration": 0,
    "start_time": "2023-05-31T20:04:37.128Z"
   },
   {
    "duration": 0,
    "start_time": "2023-05-31T20:04:37.129Z"
   },
   {
    "duration": 0,
    "start_time": "2023-05-31T20:04:37.130Z"
   },
   {
    "duration": 53,
    "start_time": "2023-05-31T20:04:47.158Z"
   },
   {
    "duration": 32,
    "start_time": "2023-05-31T20:05:22.383Z"
   },
   {
    "duration": 927,
    "start_time": "2023-05-31T20:05:53.751Z"
   },
   {
    "duration": 163,
    "start_time": "2023-05-31T20:05:54.681Z"
   },
   {
    "duration": 85,
    "start_time": "2023-05-31T20:05:54.845Z"
   },
   {
    "duration": 2309,
    "start_time": "2023-05-31T20:05:54.938Z"
   },
   {
    "duration": 21,
    "start_time": "2023-05-31T20:05:57.249Z"
   },
   {
    "duration": 7,
    "start_time": "2023-05-31T20:05:57.272Z"
   },
   {
    "duration": 48,
    "start_time": "2023-05-31T20:05:57.288Z"
   },
   {
    "duration": 7,
    "start_time": "2023-05-31T20:05:57.339Z"
   },
   {
    "duration": 17,
    "start_time": "2023-05-31T20:05:57.348Z"
   },
   {
    "duration": 59,
    "start_time": "2023-05-31T20:05:57.370Z"
   },
   {
    "duration": 9,
    "start_time": "2023-05-31T20:05:57.432Z"
   },
   {
    "duration": 6,
    "start_time": "2023-05-31T20:05:57.445Z"
   },
   {
    "duration": 3,
    "start_time": "2023-05-31T20:05:57.454Z"
   },
   {
    "duration": 19,
    "start_time": "2023-05-31T20:05:57.459Z"
   },
   {
    "duration": 142,
    "start_time": "2023-05-31T20:05:57.480Z"
   },
   {
    "duration": 3,
    "start_time": "2023-05-31T20:05:57.630Z"
   },
   {
    "duration": 13,
    "start_time": "2023-05-31T20:05:57.635Z"
   },
   {
    "duration": 17,
    "start_time": "2023-05-31T20:05:57.651Z"
   },
   {
    "duration": 130,
    "start_time": "2023-05-31T20:05:57.671Z"
   },
   {
    "duration": 4,
    "start_time": "2023-05-31T20:05:57.803Z"
   },
   {
    "duration": 20,
    "start_time": "2023-05-31T20:05:57.809Z"
   },
   {
    "duration": 21,
    "start_time": "2023-05-31T20:05:57.832Z"
   },
   {
    "duration": 12,
    "start_time": "2023-05-31T20:05:57.855Z"
   },
   {
    "duration": 382,
    "start_time": "2023-05-31T20:05:57.869Z"
   },
   {
    "duration": 4,
    "start_time": "2023-05-31T20:05:58.254Z"
   },
   {
    "duration": 2964,
    "start_time": "2023-05-31T20:05:58.260Z"
   },
   {
    "duration": 320,
    "start_time": "2023-05-31T20:06:01.227Z"
   },
   {
    "duration": 443,
    "start_time": "2023-05-31T20:06:01.551Z"
   },
   {
    "duration": 147,
    "start_time": "2023-05-31T20:06:24.457Z"
   },
   {
    "duration": 118,
    "start_time": "2023-05-31T20:06:28.902Z"
   },
   {
    "duration": 153,
    "start_time": "2023-05-31T20:06:38.748Z"
   },
   {
    "duration": 10,
    "start_time": "2023-05-31T20:06:44.802Z"
   },
   {
    "duration": 185,
    "start_time": "2023-05-31T20:06:46.732Z"
   },
   {
    "duration": 183,
    "start_time": "2023-05-31T20:06:50.317Z"
   },
   {
    "duration": 140,
    "start_time": "2023-05-31T20:06:55.829Z"
   },
   {
    "duration": 89,
    "start_time": "2023-05-31T20:07:21.817Z"
   },
   {
    "duration": 771,
    "start_time": "2023-05-31T20:09:12.168Z"
   },
   {
    "duration": 106,
    "start_time": "2023-05-31T20:09:12.941Z"
   },
   {
    "duration": 86,
    "start_time": "2023-05-31T20:09:13.048Z"
   },
   {
    "duration": 2382,
    "start_time": "2023-05-31T20:09:13.137Z"
   },
   {
    "duration": 35,
    "start_time": "2023-05-31T20:09:15.523Z"
   },
   {
    "duration": 3,
    "start_time": "2023-05-31T20:09:15.560Z"
   },
   {
    "duration": 50,
    "start_time": "2023-05-31T20:09:15.565Z"
   },
   {
    "duration": 7,
    "start_time": "2023-05-31T20:09:15.617Z"
   },
   {
    "duration": 11,
    "start_time": "2023-05-31T20:09:15.625Z"
   },
   {
    "duration": 144,
    "start_time": "2023-05-31T20:09:15.638Z"
   },
   {
    "duration": 0,
    "start_time": "2023-05-31T20:09:15.790Z"
   },
   {
    "duration": 0,
    "start_time": "2023-05-31T20:09:15.793Z"
   },
   {
    "duration": 0,
    "start_time": "2023-05-31T20:09:15.798Z"
   },
   {
    "duration": 0,
    "start_time": "2023-05-31T20:09:15.800Z"
   },
   {
    "duration": 0,
    "start_time": "2023-05-31T20:09:15.801Z"
   },
   {
    "duration": 0,
    "start_time": "2023-05-31T20:09:15.808Z"
   },
   {
    "duration": 0,
    "start_time": "2023-05-31T20:09:15.809Z"
   },
   {
    "duration": 0,
    "start_time": "2023-05-31T20:09:15.817Z"
   },
   {
    "duration": 0,
    "start_time": "2023-05-31T20:09:15.820Z"
   },
   {
    "duration": 0,
    "start_time": "2023-05-31T20:09:15.824Z"
   },
   {
    "duration": 0,
    "start_time": "2023-05-31T20:09:15.826Z"
   },
   {
    "duration": 0,
    "start_time": "2023-05-31T20:09:15.827Z"
   },
   {
    "duration": 0,
    "start_time": "2023-05-31T20:09:15.828Z"
   },
   {
    "duration": 0,
    "start_time": "2023-05-31T20:09:15.829Z"
   },
   {
    "duration": 0,
    "start_time": "2023-05-31T20:09:15.830Z"
   },
   {
    "duration": 0,
    "start_time": "2023-05-31T20:09:15.831Z"
   },
   {
    "duration": 0,
    "start_time": "2023-05-31T20:09:15.832Z"
   },
   {
    "duration": 0,
    "start_time": "2023-05-31T20:09:15.833Z"
   },
   {
    "duration": 10,
    "start_time": "2023-05-31T20:09:35.162Z"
   },
   {
    "duration": 10,
    "start_time": "2023-05-31T20:09:37.546Z"
   },
   {
    "duration": 8,
    "start_time": "2023-05-31T20:09:49.408Z"
   },
   {
    "duration": 21,
    "start_time": "2023-05-31T20:09:56.275Z"
   },
   {
    "duration": 89,
    "start_time": "2023-05-31T20:09:59.868Z"
   },
   {
    "duration": 10,
    "start_time": "2023-05-31T20:10:29.240Z"
   },
   {
    "duration": 760,
    "start_time": "2023-05-31T20:10:43.943Z"
   },
   {
    "duration": 116,
    "start_time": "2023-05-31T20:10:44.711Z"
   },
   {
    "duration": 72,
    "start_time": "2023-05-31T20:10:44.832Z"
   },
   {
    "duration": 2236,
    "start_time": "2023-05-31T20:10:44.906Z"
   },
   {
    "duration": 17,
    "start_time": "2023-05-31T20:10:47.143Z"
   },
   {
    "duration": 3,
    "start_time": "2023-05-31T20:10:47.161Z"
   },
   {
    "duration": 32,
    "start_time": "2023-05-31T20:10:47.166Z"
   },
   {
    "duration": 5,
    "start_time": "2023-05-31T20:10:47.200Z"
   },
   {
    "duration": 11,
    "start_time": "2023-05-31T20:10:47.207Z"
   },
   {
    "duration": 15,
    "start_time": "2023-05-31T20:10:47.221Z"
   },
   {
    "duration": 14,
    "start_time": "2023-05-31T20:10:47.238Z"
   },
   {
    "duration": 25,
    "start_time": "2023-05-31T20:10:47.255Z"
   },
   {
    "duration": 8,
    "start_time": "2023-05-31T20:10:47.284Z"
   },
   {
    "duration": 7,
    "start_time": "2023-05-31T20:10:47.294Z"
   },
   {
    "duration": 75,
    "start_time": "2023-05-31T20:10:47.305Z"
   },
   {
    "duration": 14,
    "start_time": "2023-05-31T20:10:47.382Z"
   },
   {
    "duration": 13,
    "start_time": "2023-05-31T20:10:47.400Z"
   },
   {
    "duration": 11,
    "start_time": "2023-05-31T20:10:47.414Z"
   },
   {
    "duration": 90,
    "start_time": "2023-05-31T20:10:47.427Z"
   },
   {
    "duration": 5,
    "start_time": "2023-05-31T20:10:47.518Z"
   },
   {
    "duration": 10,
    "start_time": "2023-05-31T20:10:47.525Z"
   },
   {
    "duration": 8,
    "start_time": "2023-05-31T20:10:47.537Z"
   },
   {
    "duration": 37,
    "start_time": "2023-05-31T20:10:47.547Z"
   },
   {
    "duration": 333,
    "start_time": "2023-05-31T20:10:47.590Z"
   },
   {
    "duration": 4,
    "start_time": "2023-05-31T20:10:47.925Z"
   },
   {
    "duration": 2645,
    "start_time": "2023-05-31T20:10:47.930Z"
   },
   {
    "duration": 282,
    "start_time": "2023-05-31T20:10:50.576Z"
   },
   {
    "duration": 312,
    "start_time": "2023-05-31T20:10:50.861Z"
   },
   {
    "duration": 859,
    "start_time": "2023-05-31T20:16:08.509Z"
   },
   {
    "duration": 179,
    "start_time": "2023-05-31T20:16:09.371Z"
   },
   {
    "duration": 76,
    "start_time": "2023-05-31T20:16:09.552Z"
   },
   {
    "duration": 2980,
    "start_time": "2023-05-31T20:16:09.630Z"
   },
   {
    "duration": 34,
    "start_time": "2023-05-31T20:16:12.620Z"
   },
   {
    "duration": 3,
    "start_time": "2023-05-31T20:16:12.656Z"
   },
   {
    "duration": 31,
    "start_time": "2023-05-31T20:16:12.661Z"
   },
   {
    "duration": 9,
    "start_time": "2023-05-31T20:16:12.694Z"
   },
   {
    "duration": 22,
    "start_time": "2023-05-31T20:16:12.710Z"
   },
   {
    "duration": 14,
    "start_time": "2023-05-31T20:16:12.737Z"
   },
   {
    "duration": 14,
    "start_time": "2023-05-31T20:16:12.753Z"
   },
   {
    "duration": 25,
    "start_time": "2023-05-31T20:16:12.769Z"
   },
   {
    "duration": 7,
    "start_time": "2023-05-31T20:16:12.807Z"
   },
   {
    "duration": 14,
    "start_time": "2023-05-31T20:16:12.819Z"
   },
   {
    "duration": 118,
    "start_time": "2023-05-31T20:16:12.835Z"
   },
   {
    "duration": 3,
    "start_time": "2023-05-31T20:16:12.955Z"
   },
   {
    "duration": 9,
    "start_time": "2023-05-31T20:16:12.959Z"
   },
   {
    "duration": 18,
    "start_time": "2023-05-31T20:16:12.970Z"
   },
   {
    "duration": 92,
    "start_time": "2023-05-31T20:16:12.991Z"
   },
   {
    "duration": 3,
    "start_time": "2023-05-31T20:16:13.085Z"
   },
   {
    "duration": 7,
    "start_time": "2023-05-31T20:16:13.091Z"
   },
   {
    "duration": 7,
    "start_time": "2023-05-31T20:16:13.100Z"
   },
   {
    "duration": 22,
    "start_time": "2023-05-31T20:16:13.109Z"
   },
   {
    "duration": 421,
    "start_time": "2023-05-31T20:16:13.132Z"
   },
   {
    "duration": 4,
    "start_time": "2023-05-31T20:16:13.556Z"
   },
   {
    "duration": 3570,
    "start_time": "2023-05-31T20:16:13.563Z"
   },
   {
    "duration": 374,
    "start_time": "2023-05-31T20:16:17.139Z"
   },
   {
    "duration": 419,
    "start_time": "2023-05-31T20:16:17.519Z"
   },
   {
    "duration": 24,
    "start_time": "2023-05-31T20:18:04.326Z"
   },
   {
    "duration": 17,
    "start_time": "2023-05-31T20:18:06.347Z"
   },
   {
    "duration": 9,
    "start_time": "2023-05-31T20:18:13.243Z"
   },
   {
    "duration": 1041,
    "start_time": "2023-05-31T20:18:18.509Z"
   },
   {
    "duration": 149,
    "start_time": "2023-05-31T20:18:19.557Z"
   },
   {
    "duration": 85,
    "start_time": "2023-05-31T20:18:19.708Z"
   },
   {
    "duration": 2614,
    "start_time": "2023-05-31T20:18:19.795Z"
   },
   {
    "duration": 31,
    "start_time": "2023-05-31T20:18:22.421Z"
   },
   {
    "duration": 3,
    "start_time": "2023-05-31T20:18:22.455Z"
   },
   {
    "duration": 44,
    "start_time": "2023-05-31T20:18:22.459Z"
   },
   {
    "duration": 12,
    "start_time": "2023-05-31T20:18:22.506Z"
   },
   {
    "duration": 18,
    "start_time": "2023-05-31T20:18:22.520Z"
   },
   {
    "duration": 12,
    "start_time": "2023-05-31T20:18:22.539Z"
   },
   {
    "duration": 12,
    "start_time": "2023-05-31T20:18:22.553Z"
   },
   {
    "duration": 6,
    "start_time": "2023-05-31T20:18:22.566Z"
   },
   {
    "duration": 17,
    "start_time": "2023-05-31T20:18:22.574Z"
   },
   {
    "duration": 15,
    "start_time": "2023-05-31T20:18:22.598Z"
   },
   {
    "duration": 99,
    "start_time": "2023-05-31T20:18:22.615Z"
   },
   {
    "duration": 2,
    "start_time": "2023-05-31T20:18:22.716Z"
   },
   {
    "duration": 39,
    "start_time": "2023-05-31T20:18:22.720Z"
   },
   {
    "duration": 33,
    "start_time": "2023-05-31T20:18:22.760Z"
   },
   {
    "duration": 96,
    "start_time": "2023-05-31T20:18:22.795Z"
   },
   {
    "duration": 12,
    "start_time": "2023-05-31T20:18:22.893Z"
   },
   {
    "duration": 22,
    "start_time": "2023-05-31T20:18:22.908Z"
   },
   {
    "duration": 12,
    "start_time": "2023-05-31T20:18:22.934Z"
   },
   {
    "duration": 5,
    "start_time": "2023-05-31T20:18:22.950Z"
   },
   {
    "duration": 346,
    "start_time": "2023-05-31T20:18:22.957Z"
   },
   {
    "duration": 16,
    "start_time": "2023-05-31T20:18:23.305Z"
   },
   {
    "duration": 3157,
    "start_time": "2023-05-31T20:18:23.323Z"
   },
   {
    "duration": 307,
    "start_time": "2023-05-31T20:18:26.482Z"
   },
   {
    "duration": 531,
    "start_time": "2023-05-31T20:18:26.791Z"
   },
   {
    "duration": 815,
    "start_time": "2023-05-31T20:18:37.798Z"
   },
   {
    "duration": 151,
    "start_time": "2023-05-31T20:18:38.615Z"
   },
   {
    "duration": 85,
    "start_time": "2023-05-31T20:18:38.768Z"
   },
   {
    "duration": 2992,
    "start_time": "2023-05-31T20:18:38.856Z"
   },
   {
    "duration": 41,
    "start_time": "2023-05-31T20:18:41.852Z"
   },
   {
    "duration": 10,
    "start_time": "2023-05-31T20:18:41.895Z"
   },
   {
    "duration": 43,
    "start_time": "2023-05-31T20:18:41.907Z"
   },
   {
    "duration": 7,
    "start_time": "2023-05-31T20:18:41.953Z"
   },
   {
    "duration": 11,
    "start_time": "2023-05-31T20:18:41.962Z"
   },
   {
    "duration": 36,
    "start_time": "2023-05-31T20:18:41.982Z"
   },
   {
    "duration": 19,
    "start_time": "2023-05-31T20:18:42.020Z"
   },
   {
    "duration": 10,
    "start_time": "2023-05-31T20:18:42.045Z"
   },
   {
    "duration": 3,
    "start_time": "2023-05-31T20:18:42.058Z"
   },
   {
    "duration": 8,
    "start_time": "2023-05-31T20:18:42.065Z"
   },
   {
    "duration": 181,
    "start_time": "2023-05-31T20:18:42.089Z"
   },
   {
    "duration": 2,
    "start_time": "2023-05-31T20:18:42.272Z"
   },
   {
    "duration": 29,
    "start_time": "2023-05-31T20:18:42.281Z"
   },
   {
    "duration": 18,
    "start_time": "2023-05-31T20:18:42.314Z"
   },
   {
    "duration": 90,
    "start_time": "2023-05-31T20:18:42.335Z"
   },
   {
    "duration": 9,
    "start_time": "2023-05-31T20:18:42.427Z"
   },
   {
    "duration": 12,
    "start_time": "2023-05-31T20:18:42.438Z"
   },
   {
    "duration": 5,
    "start_time": "2023-05-31T20:18:42.452Z"
   },
   {
    "duration": 20,
    "start_time": "2023-05-31T20:18:42.460Z"
   },
   {
    "duration": 537,
    "start_time": "2023-05-31T20:18:42.486Z"
   },
   {
    "duration": 15,
    "start_time": "2023-05-31T20:18:43.025Z"
   },
   {
    "duration": 3781,
    "start_time": "2023-05-31T20:18:43.042Z"
   },
   {
    "duration": 383,
    "start_time": "2023-05-31T20:18:46.830Z"
   },
   {
    "duration": 433,
    "start_time": "2023-05-31T20:18:47.219Z"
   },
   {
    "duration": 21,
    "start_time": "2023-05-31T20:20:53.407Z"
   },
   {
    "duration": 12,
    "start_time": "2023-05-31T20:20:58.953Z"
   },
   {
    "duration": 12,
    "start_time": "2023-05-31T20:21:03.127Z"
   },
   {
    "duration": 762,
    "start_time": "2023-05-31T20:21:08.805Z"
   },
   {
    "duration": 136,
    "start_time": "2023-05-31T20:21:09.570Z"
   },
   {
    "duration": 73,
    "start_time": "2023-05-31T20:21:09.708Z"
   },
   {
    "duration": 2454,
    "start_time": "2023-05-31T20:21:09.785Z"
   },
   {
    "duration": 17,
    "start_time": "2023-05-31T20:21:12.242Z"
   },
   {
    "duration": 3,
    "start_time": "2023-05-31T20:21:12.261Z"
   },
   {
    "duration": 50,
    "start_time": "2023-05-31T20:21:12.266Z"
   },
   {
    "duration": 5,
    "start_time": "2023-05-31T20:21:12.318Z"
   },
   {
    "duration": 18,
    "start_time": "2023-05-31T20:21:12.325Z"
   },
   {
    "duration": 8,
    "start_time": "2023-05-31T20:21:12.345Z"
   },
   {
    "duration": 6,
    "start_time": "2023-05-31T20:21:12.355Z"
   },
   {
    "duration": 6,
    "start_time": "2023-05-31T20:21:12.362Z"
   },
   {
    "duration": 19,
    "start_time": "2023-05-31T20:21:12.375Z"
   },
   {
    "duration": 16,
    "start_time": "2023-05-31T20:21:12.403Z"
   },
   {
    "duration": 99,
    "start_time": "2023-05-31T20:21:12.421Z"
   },
   {
    "duration": 5,
    "start_time": "2023-05-31T20:21:12.525Z"
   },
   {
    "duration": 18,
    "start_time": "2023-05-31T20:21:12.534Z"
   },
   {
    "duration": 9,
    "start_time": "2023-05-31T20:21:12.554Z"
   },
   {
    "duration": 89,
    "start_time": "2023-05-31T20:21:12.564Z"
   },
   {
    "duration": 4,
    "start_time": "2023-05-31T20:21:12.655Z"
   },
   {
    "duration": 24,
    "start_time": "2023-05-31T20:21:12.660Z"
   },
   {
    "duration": 15,
    "start_time": "2023-05-31T20:21:12.686Z"
   },
   {
    "duration": 20,
    "start_time": "2023-05-31T20:21:12.702Z"
   },
   {
    "duration": 342,
    "start_time": "2023-05-31T20:21:12.724Z"
   },
   {
    "duration": 4,
    "start_time": "2023-05-31T20:21:13.068Z"
   },
   {
    "duration": 3077,
    "start_time": "2023-05-31T20:21:13.079Z"
   },
   {
    "duration": 352,
    "start_time": "2023-05-31T20:21:16.159Z"
   },
   {
    "duration": 335,
    "start_time": "2023-05-31T20:21:16.513Z"
   },
   {
    "duration": 158,
    "start_time": "2023-05-31T20:21:54.430Z"
   },
   {
    "duration": 129,
    "start_time": "2023-05-31T20:21:58.594Z"
   },
   {
    "duration": 160,
    "start_time": "2023-05-31T20:22:12.096Z"
   },
   {
    "duration": 111,
    "start_time": "2023-05-31T20:22:16.502Z"
   },
   {
    "duration": 161,
    "start_time": "2023-05-31T20:22:21.055Z"
   },
   {
    "duration": 142,
    "start_time": "2023-05-31T20:22:32.903Z"
   },
   {
    "duration": 5,
    "start_time": "2023-05-31T20:30:15.964Z"
   },
   {
    "duration": 736,
    "start_time": "2023-05-31T20:30:35.595Z"
   },
   {
    "duration": 110,
    "start_time": "2023-05-31T20:30:36.332Z"
   },
   {
    "duration": 59,
    "start_time": "2023-05-31T20:30:36.444Z"
   },
   {
    "duration": 2466,
    "start_time": "2023-05-31T20:30:36.505Z"
   },
   {
    "duration": 40,
    "start_time": "2023-05-31T20:30:38.973Z"
   },
   {
    "duration": 4,
    "start_time": "2023-05-31T20:30:39.014Z"
   },
   {
    "duration": 40,
    "start_time": "2023-05-31T20:30:39.020Z"
   },
   {
    "duration": 5,
    "start_time": "2023-05-31T20:30:39.061Z"
   },
   {
    "duration": 37,
    "start_time": "2023-05-31T20:30:39.068Z"
   },
   {
    "duration": 11,
    "start_time": "2023-05-31T20:30:39.115Z"
   },
   {
    "duration": 7,
    "start_time": "2023-05-31T20:30:39.128Z"
   },
   {
    "duration": 7,
    "start_time": "2023-05-31T20:30:39.137Z"
   },
   {
    "duration": 11,
    "start_time": "2023-05-31T20:30:39.146Z"
   },
   {
    "duration": 7,
    "start_time": "2023-05-31T20:30:39.160Z"
   },
   {
    "duration": 102,
    "start_time": "2023-05-31T20:30:39.169Z"
   },
   {
    "duration": 6,
    "start_time": "2023-05-31T20:30:39.273Z"
   },
   {
    "duration": 32,
    "start_time": "2023-05-31T20:30:39.281Z"
   },
   {
    "duration": 18,
    "start_time": "2023-05-31T20:30:39.315Z"
   },
   {
    "duration": 82,
    "start_time": "2023-05-31T20:30:39.334Z"
   },
   {
    "duration": 4,
    "start_time": "2023-05-31T20:30:39.417Z"
   },
   {
    "duration": 10,
    "start_time": "2023-05-31T20:30:39.425Z"
   },
   {
    "duration": 6,
    "start_time": "2023-05-31T20:30:39.436Z"
   },
   {
    "duration": 5,
    "start_time": "2023-05-31T20:30:39.443Z"
   },
   {
    "duration": 365,
    "start_time": "2023-05-31T20:30:39.450Z"
   },
   {
    "duration": 4,
    "start_time": "2023-05-31T20:30:39.819Z"
   },
   {
    "duration": 2827,
    "start_time": "2023-05-31T20:30:39.825Z"
   },
   {
    "duration": 290,
    "start_time": "2023-05-31T20:30:42.653Z"
   },
   {
    "duration": 318,
    "start_time": "2023-05-31T20:30:42.945Z"
   },
   {
    "duration": 730,
    "start_time": "2023-05-31T20:32:47.452Z"
   },
   {
    "duration": 117,
    "start_time": "2023-05-31T20:32:48.188Z"
   },
   {
    "duration": 55,
    "start_time": "2023-05-31T20:32:48.307Z"
   },
   {
    "duration": 2229,
    "start_time": "2023-05-31T20:32:48.364Z"
   },
   {
    "duration": 27,
    "start_time": "2023-05-31T20:32:50.595Z"
   },
   {
    "duration": 2,
    "start_time": "2023-05-31T20:32:50.627Z"
   },
   {
    "duration": 60,
    "start_time": "2023-05-31T20:32:50.631Z"
   },
   {
    "duration": 7,
    "start_time": "2023-05-31T20:32:50.693Z"
   },
   {
    "duration": 24,
    "start_time": "2023-05-31T20:32:50.702Z"
   },
   {
    "duration": 11,
    "start_time": "2023-05-31T20:32:50.728Z"
   },
   {
    "duration": 6,
    "start_time": "2023-05-31T20:32:50.741Z"
   },
   {
    "duration": 12,
    "start_time": "2023-05-31T20:32:50.749Z"
   },
   {
    "duration": 8,
    "start_time": "2023-05-31T20:32:50.763Z"
   },
   {
    "duration": 11,
    "start_time": "2023-05-31T20:32:50.774Z"
   },
   {
    "duration": 141,
    "start_time": "2023-05-31T20:32:50.786Z"
   },
   {
    "duration": 3,
    "start_time": "2023-05-31T20:32:50.930Z"
   },
   {
    "duration": 23,
    "start_time": "2023-05-31T20:32:50.935Z"
   },
   {
    "duration": 13,
    "start_time": "2023-05-31T20:32:50.960Z"
   },
   {
    "duration": 120,
    "start_time": "2023-05-31T20:32:50.975Z"
   },
   {
    "duration": 5,
    "start_time": "2023-05-31T20:32:51.096Z"
   },
   {
    "duration": 14,
    "start_time": "2023-05-31T20:32:51.103Z"
   },
   {
    "duration": 7,
    "start_time": "2023-05-31T20:32:51.120Z"
   },
   {
    "duration": 7,
    "start_time": "2023-05-31T20:32:51.129Z"
   },
   {
    "duration": 366,
    "start_time": "2023-05-31T20:32:51.138Z"
   },
   {
    "duration": 9,
    "start_time": "2023-05-31T20:32:51.506Z"
   },
   {
    "duration": 2823,
    "start_time": "2023-05-31T20:32:51.517Z"
   },
   {
    "duration": 292,
    "start_time": "2023-05-31T20:32:54.341Z"
   },
   {
    "duration": 329,
    "start_time": "2023-05-31T20:32:54.635Z"
   },
   {
    "duration": 96,
    "start_time": "2023-05-31T20:33:42.617Z"
   },
   {
    "duration": 17,
    "start_time": "2023-05-31T20:34:06.516Z"
   },
   {
    "duration": 91,
    "start_time": "2023-05-31T20:34:43.715Z"
   },
   {
    "duration": 29,
    "start_time": "2023-05-31T20:35:07.688Z"
   },
   {
    "duration": 125,
    "start_time": "2023-05-31T20:36:48.701Z"
   },
   {
    "duration": 146,
    "start_time": "2023-05-31T20:36:51.477Z"
   },
   {
    "duration": 172,
    "start_time": "2023-05-31T20:38:23.580Z"
   },
   {
    "duration": 9,
    "start_time": "2023-05-31T20:42:31.455Z"
   },
   {
    "duration": 32,
    "start_time": "2023-05-31T20:42:50.802Z"
   },
   {
    "duration": 7,
    "start_time": "2023-05-31T20:43:14.156Z"
   },
   {
    "duration": 22,
    "start_time": "2023-05-31T20:43:35.616Z"
   },
   {
    "duration": 26,
    "start_time": "2023-05-31T20:43:40.272Z"
   },
   {
    "duration": 822,
    "start_time": "2023-05-31T20:43:53.809Z"
   },
   {
    "duration": 127,
    "start_time": "2023-05-31T20:43:54.636Z"
   },
   {
    "duration": 77,
    "start_time": "2023-05-31T20:43:54.765Z"
   },
   {
    "duration": 2347,
    "start_time": "2023-05-31T20:43:54.845Z"
   },
   {
    "duration": 33,
    "start_time": "2023-05-31T20:43:57.196Z"
   },
   {
    "duration": 6,
    "start_time": "2023-05-31T20:43:57.232Z"
   },
   {
    "duration": 23,
    "start_time": "2023-05-31T20:43:57.240Z"
   },
   {
    "duration": 5,
    "start_time": "2023-05-31T20:43:57.265Z"
   },
   {
    "duration": 33,
    "start_time": "2023-05-31T20:43:57.271Z"
   },
   {
    "duration": 15,
    "start_time": "2023-05-31T20:43:57.315Z"
   },
   {
    "duration": 10,
    "start_time": "2023-05-31T20:43:57.332Z"
   },
   {
    "duration": 9,
    "start_time": "2023-05-31T20:43:57.344Z"
   },
   {
    "duration": 2,
    "start_time": "2023-05-31T20:43:57.355Z"
   },
   {
    "duration": 4,
    "start_time": "2023-05-31T20:43:57.359Z"
   },
   {
    "duration": 102,
    "start_time": "2023-05-31T20:43:57.365Z"
   },
   {
    "duration": 2,
    "start_time": "2023-05-31T20:43:57.469Z"
   },
   {
    "duration": 17,
    "start_time": "2023-05-31T20:43:57.473Z"
   },
   {
    "duration": 23,
    "start_time": "2023-05-31T20:43:57.492Z"
   },
   {
    "duration": 89,
    "start_time": "2023-05-31T20:43:57.519Z"
   },
   {
    "duration": 8,
    "start_time": "2023-05-31T20:43:57.609Z"
   },
   {
    "duration": 11,
    "start_time": "2023-05-31T20:43:57.620Z"
   },
   {
    "duration": 8,
    "start_time": "2023-05-31T20:43:57.633Z"
   },
   {
    "duration": 5,
    "start_time": "2023-05-31T20:43:57.642Z"
   },
   {
    "duration": 388,
    "start_time": "2023-05-31T20:43:57.649Z"
   },
   {
    "duration": 116,
    "start_time": "2023-05-31T20:43:58.039Z"
   },
   {
    "duration": 0,
    "start_time": "2023-05-31T20:43:58.157Z"
   },
   {
    "duration": 0,
    "start_time": "2023-05-31T20:43:58.159Z"
   },
   {
    "duration": 0,
    "start_time": "2023-05-31T20:43:58.160Z"
   },
   {
    "duration": 932,
    "start_time": "2023-05-31T20:45:53.504Z"
   },
   {
    "duration": 161,
    "start_time": "2023-05-31T20:45:54.444Z"
   },
   {
    "duration": 70,
    "start_time": "2023-05-31T20:45:54.608Z"
   },
   {
    "duration": 2614,
    "start_time": "2023-05-31T20:45:54.680Z"
   },
   {
    "duration": 37,
    "start_time": "2023-05-31T20:45:57.300Z"
   },
   {
    "duration": 4,
    "start_time": "2023-05-31T20:45:57.342Z"
   },
   {
    "duration": 28,
    "start_time": "2023-05-31T20:45:57.348Z"
   },
   {
    "duration": 9,
    "start_time": "2023-05-31T20:45:57.378Z"
   },
   {
    "duration": 18,
    "start_time": "2023-05-31T20:45:57.394Z"
   },
   {
    "duration": 16,
    "start_time": "2023-05-31T20:45:57.415Z"
   },
   {
    "duration": 12,
    "start_time": "2023-05-31T20:45:57.436Z"
   },
   {
    "duration": 12,
    "start_time": "2023-05-31T20:45:57.451Z"
   },
   {
    "duration": 3,
    "start_time": "2023-05-31T20:45:57.465Z"
   },
   {
    "duration": 21,
    "start_time": "2023-05-31T20:45:57.470Z"
   },
   {
    "duration": 164,
    "start_time": "2023-05-31T20:45:57.493Z"
   },
   {
    "duration": 3,
    "start_time": "2023-05-31T20:45:57.659Z"
   },
   {
    "duration": 22,
    "start_time": "2023-05-31T20:45:57.663Z"
   },
   {
    "duration": 23,
    "start_time": "2023-05-31T20:45:57.691Z"
   },
   {
    "duration": 113,
    "start_time": "2023-05-31T20:45:57.716Z"
   },
   {
    "duration": 4,
    "start_time": "2023-05-31T20:45:57.831Z"
   },
   {
    "duration": 12,
    "start_time": "2023-05-31T20:45:57.837Z"
   },
   {
    "duration": 11,
    "start_time": "2023-05-31T20:45:57.851Z"
   },
   {
    "duration": 7,
    "start_time": "2023-05-31T20:45:57.863Z"
   },
   {
    "duration": 426,
    "start_time": "2023-05-31T20:45:57.872Z"
   },
   {
    "duration": 123,
    "start_time": "2023-05-31T20:45:58.300Z"
   },
   {
    "duration": 0,
    "start_time": "2023-05-31T20:45:58.426Z"
   },
   {
    "duration": 0,
    "start_time": "2023-05-31T20:45:58.428Z"
   },
   {
    "duration": 0,
    "start_time": "2023-05-31T20:45:58.429Z"
   },
   {
    "duration": 13,
    "start_time": "2023-05-31T20:47:27.607Z"
   },
   {
    "duration": 27,
    "start_time": "2023-05-31T20:47:35.318Z"
   },
   {
    "duration": 13,
    "start_time": "2023-05-31T20:47:45.434Z"
   },
   {
    "duration": 56,
    "start_time": "2023-05-31T20:47:54.010Z"
   },
   {
    "duration": 6,
    "start_time": "2023-05-31T20:57:36.168Z"
   },
   {
    "duration": 15,
    "start_time": "2023-05-31T20:58:36.368Z"
   },
   {
    "duration": 13,
    "start_time": "2023-05-31T20:58:40.801Z"
   },
   {
    "duration": 843,
    "start_time": "2023-05-31T20:58:46.495Z"
   },
   {
    "duration": 124,
    "start_time": "2023-05-31T20:58:47.340Z"
   },
   {
    "duration": 92,
    "start_time": "2023-05-31T20:58:47.466Z"
   },
   {
    "duration": 2439,
    "start_time": "2023-05-31T20:58:47.560Z"
   },
   {
    "duration": 31,
    "start_time": "2023-05-31T20:58:50.002Z"
   },
   {
    "duration": 3,
    "start_time": "2023-05-31T20:58:50.035Z"
   },
   {
    "duration": 32,
    "start_time": "2023-05-31T20:58:50.039Z"
   },
   {
    "duration": 7,
    "start_time": "2023-05-31T20:58:50.073Z"
   },
   {
    "duration": 10,
    "start_time": "2023-05-31T20:58:50.082Z"
   },
   {
    "duration": 12,
    "start_time": "2023-05-31T20:58:50.095Z"
   },
   {
    "duration": 7,
    "start_time": "2023-05-31T20:58:50.112Z"
   },
   {
    "duration": 7,
    "start_time": "2023-05-31T20:58:50.125Z"
   },
   {
    "duration": 10,
    "start_time": "2023-05-31T20:58:50.135Z"
   },
   {
    "duration": 4,
    "start_time": "2023-05-31T20:58:50.149Z"
   },
   {
    "duration": 108,
    "start_time": "2023-05-31T20:58:50.154Z"
   },
   {
    "duration": 2,
    "start_time": "2023-05-31T20:58:50.264Z"
   },
   {
    "duration": 21,
    "start_time": "2023-05-31T20:58:50.267Z"
   },
   {
    "duration": 18,
    "start_time": "2023-05-31T20:58:50.290Z"
   },
   {
    "duration": 103,
    "start_time": "2023-05-31T20:58:50.309Z"
   },
   {
    "duration": 8,
    "start_time": "2023-05-31T20:58:50.414Z"
   },
   {
    "duration": 24,
    "start_time": "2023-05-31T20:58:50.424Z"
   },
   {
    "duration": 9,
    "start_time": "2023-05-31T20:58:50.450Z"
   },
   {
    "duration": 8,
    "start_time": "2023-05-31T20:58:50.461Z"
   },
   {
    "duration": 371,
    "start_time": "2023-05-31T20:58:50.471Z"
   },
   {
    "duration": 5,
    "start_time": "2023-05-31T20:58:50.844Z"
   },
   {
    "duration": 2907,
    "start_time": "2023-05-31T20:58:50.851Z"
   },
   {
    "duration": 339,
    "start_time": "2023-05-31T20:58:53.760Z"
   },
   {
    "duration": 390,
    "start_time": "2023-05-31T20:58:54.101Z"
   },
   {
    "duration": 714,
    "start_time": "2023-05-31T21:35:20.527Z"
   },
   {
    "duration": 117,
    "start_time": "2023-05-31T21:35:21.243Z"
   },
   {
    "duration": 78,
    "start_time": "2023-05-31T21:35:21.362Z"
   },
   {
    "duration": 2185,
    "start_time": "2023-05-31T21:35:21.442Z"
   },
   {
    "duration": 15,
    "start_time": "2023-05-31T21:35:23.630Z"
   },
   {
    "duration": 3,
    "start_time": "2023-05-31T21:35:23.647Z"
   },
   {
    "duration": 32,
    "start_time": "2023-05-31T21:35:23.651Z"
   },
   {
    "duration": 5,
    "start_time": "2023-05-31T21:35:23.685Z"
   },
   {
    "duration": 17,
    "start_time": "2023-05-31T21:35:23.693Z"
   },
   {
    "duration": 10,
    "start_time": "2023-05-31T21:35:23.715Z"
   },
   {
    "duration": 5,
    "start_time": "2023-05-31T21:35:23.730Z"
   },
   {
    "duration": 10,
    "start_time": "2023-05-31T21:35:23.736Z"
   },
   {
    "duration": 4,
    "start_time": "2023-05-31T21:35:23.747Z"
   },
   {
    "duration": 4,
    "start_time": "2023-05-31T21:35:23.753Z"
   },
   {
    "duration": 95,
    "start_time": "2023-05-31T21:35:23.758Z"
   },
   {
    "duration": 2,
    "start_time": "2023-05-31T21:35:23.855Z"
   },
   {
    "duration": 7,
    "start_time": "2023-05-31T21:35:23.859Z"
   },
   {
    "duration": 7,
    "start_time": "2023-05-31T21:35:23.867Z"
   },
   {
    "duration": 89,
    "start_time": "2023-05-31T21:35:23.879Z"
   },
   {
    "duration": 3,
    "start_time": "2023-05-31T21:35:23.977Z"
   },
   {
    "duration": 30,
    "start_time": "2023-05-31T21:35:23.986Z"
   },
   {
    "duration": 27,
    "start_time": "2023-05-31T21:35:24.018Z"
   },
   {
    "duration": 6,
    "start_time": "2023-05-31T21:35:24.047Z"
   },
   {
    "duration": 368,
    "start_time": "2023-05-31T21:35:24.055Z"
   },
   {
    "duration": 6,
    "start_time": "2023-05-31T21:35:24.429Z"
   },
   {
    "duration": 2710,
    "start_time": "2023-05-31T21:35:24.436Z"
   },
   {
    "duration": 285,
    "start_time": "2023-05-31T21:35:27.148Z"
   },
   {
    "duration": 334,
    "start_time": "2023-05-31T21:35:27.434Z"
   },
   {
    "duration": 669,
    "start_time": "2023-05-31T21:37:14.515Z"
   },
   {
    "duration": 659,
    "start_time": "2023-05-31T21:39:51.193Z"
   },
   {
    "duration": 653,
    "start_time": "2023-05-31T21:41:36.617Z"
   },
   {
    "duration": 677,
    "start_time": "2023-05-31T21:41:43.319Z"
   },
   {
    "duration": 660,
    "start_time": "2023-05-31T21:41:48.094Z"
   },
   {
    "duration": 674,
    "start_time": "2023-05-31T21:41:52.170Z"
   },
   {
    "duration": 730,
    "start_time": "2023-05-31T21:42:47.906Z"
   },
   {
    "duration": 735,
    "start_time": "2023-05-31T21:43:38.410Z"
   },
   {
    "duration": 647,
    "start_time": "2023-05-31T21:44:20.913Z"
   },
   {
    "duration": 924,
    "start_time": "2023-05-31T21:44:25.614Z"
   },
   {
    "duration": 795,
    "start_time": "2023-05-31T21:44:44.729Z"
   },
   {
    "duration": 748,
    "start_time": "2023-05-31T21:44:55.998Z"
   },
   {
    "duration": 724,
    "start_time": "2023-05-31T21:45:20.028Z"
   },
   {
    "duration": 772,
    "start_time": "2023-05-31T21:45:27.101Z"
   },
   {
    "duration": 740,
    "start_time": "2023-05-31T21:47:23.172Z"
   },
   {
    "duration": 131,
    "start_time": "2023-05-31T21:49:26.820Z"
   },
   {
    "duration": 130,
    "start_time": "2023-05-31T21:49:32.244Z"
   },
   {
    "duration": 119,
    "start_time": "2023-05-31T21:49:50.349Z"
   },
   {
    "duration": 131,
    "start_time": "2023-05-31T21:50:00.319Z"
   },
   {
    "duration": 188,
    "start_time": "2023-05-31T21:50:26.411Z"
   },
   {
    "duration": 743,
    "start_time": "2023-05-31T21:54:06.010Z"
   },
   {
    "duration": 193,
    "start_time": "2023-05-31T21:55:07.311Z"
   },
   {
    "duration": 189,
    "start_time": "2023-05-31T21:55:11.702Z"
   },
   {
    "duration": 210,
    "start_time": "2023-05-31T21:55:16.135Z"
   },
   {
    "duration": 246,
    "start_time": "2023-05-31T21:55:21.107Z"
   },
   {
    "duration": 209,
    "start_time": "2023-05-31T21:56:13.039Z"
   },
   {
    "duration": 140,
    "start_time": "2023-05-31T22:05:00.391Z"
   },
   {
    "duration": 145,
    "start_time": "2023-05-31T22:05:07.251Z"
   },
   {
    "duration": 172,
    "start_time": "2023-05-31T22:05:16.289Z"
   },
   {
    "duration": 387,
    "start_time": "2023-05-31T22:07:02.494Z"
   },
   {
    "duration": 316,
    "start_time": "2023-05-31T22:07:06.202Z"
   },
   {
    "duration": 353,
    "start_time": "2023-05-31T22:07:43.919Z"
   },
   {
    "duration": 198,
    "start_time": "2023-05-31T22:07:54.890Z"
   },
   {
    "duration": 773,
    "start_time": "2023-05-31T22:08:20.146Z"
   },
   {
    "duration": 167,
    "start_time": "2023-05-31T22:08:42.102Z"
   },
   {
    "duration": 230,
    "start_time": "2023-05-31T22:09:20.521Z"
   },
   {
    "duration": 178,
    "start_time": "2023-05-31T22:15:20.439Z"
   },
   {
    "duration": 207,
    "start_time": "2023-05-31T22:16:18.104Z"
   },
   {
    "duration": 188,
    "start_time": "2023-05-31T22:16:22.104Z"
   },
   {
    "duration": 179,
    "start_time": "2023-05-31T22:16:39.815Z"
   },
   {
    "duration": 208,
    "start_time": "2023-05-31T22:16:54.025Z"
   },
   {
    "duration": 201,
    "start_time": "2023-05-31T22:18:51.920Z"
   },
   {
    "duration": 239,
    "start_time": "2023-05-31T22:18:58.171Z"
   },
   {
    "duration": 229,
    "start_time": "2023-05-31T22:19:01.576Z"
   },
   {
    "duration": 288,
    "start_time": "2023-05-31T22:19:08.747Z"
   },
   {
    "duration": 212,
    "start_time": "2023-05-31T22:19:24.645Z"
   },
   {
    "duration": 257,
    "start_time": "2023-05-31T22:20:45.060Z"
   },
   {
    "duration": 174,
    "start_time": "2023-05-31T22:21:00.282Z"
   },
   {
    "duration": 182,
    "start_time": "2023-05-31T22:21:03.329Z"
   },
   {
    "duration": 189,
    "start_time": "2023-05-31T22:21:33.237Z"
   },
   {
    "duration": 113,
    "start_time": "2023-05-31T22:24:32.339Z"
   },
   {
    "duration": 190,
    "start_time": "2023-05-31T22:25:02.135Z"
   },
   {
    "duration": 121,
    "start_time": "2023-05-31T22:25:07.796Z"
   },
   {
    "duration": 112,
    "start_time": "2023-05-31T22:25:10.944Z"
   },
   {
    "duration": 20,
    "start_time": "2023-05-31T22:25:21.041Z"
   },
   {
    "duration": 36,
    "start_time": "2023-05-31T22:26:18.829Z"
   },
   {
    "duration": 27,
    "start_time": "2023-05-31T22:26:26.985Z"
   },
   {
    "duration": 123,
    "start_time": "2023-05-31T22:26:34.691Z"
   },
   {
    "duration": 121,
    "start_time": "2023-05-31T22:26:37.642Z"
   },
   {
    "duration": 36,
    "start_time": "2023-05-31T22:26:45.251Z"
   },
   {
    "duration": 30,
    "start_time": "2023-05-31T22:27:00.485Z"
   },
   {
    "duration": 40,
    "start_time": "2023-05-31T22:27:35.261Z"
   },
   {
    "duration": 43,
    "start_time": "2023-05-31T22:28:19.191Z"
   },
   {
    "duration": 109,
    "start_time": "2023-05-31T22:31:51.506Z"
   },
   {
    "duration": 176,
    "start_time": "2023-05-31T22:32:39.697Z"
   },
   {
    "duration": 128,
    "start_time": "2023-05-31T22:33:05.504Z"
   },
   {
    "duration": 135,
    "start_time": "2023-05-31T22:33:12.620Z"
   },
   {
    "duration": 21,
    "start_time": "2023-05-31T22:33:35.415Z"
   },
   {
    "duration": 27,
    "start_time": "2023-05-31T22:33:44.810Z"
   },
   {
    "duration": 30,
    "start_time": "2023-05-31T22:33:56.386Z"
   },
   {
    "duration": 2169,
    "start_time": "2023-05-31T22:38:32.079Z"
   },
   {
    "duration": 2290,
    "start_time": "2023-05-31T22:40:53.255Z"
   },
   {
    "duration": 200,
    "start_time": "2023-05-31T22:42:32.918Z"
   },
   {
    "duration": 180,
    "start_time": "2023-05-31T22:42:39.443Z"
   },
   {
    "duration": 160,
    "start_time": "2023-05-31T22:42:56.608Z"
   },
   {
    "duration": 168,
    "start_time": "2023-05-31T22:43:00.022Z"
   },
   {
    "duration": 195,
    "start_time": "2023-05-31T22:43:14.248Z"
   },
   {
    "duration": 199,
    "start_time": "2023-05-31T22:43:20.670Z"
   },
   {
    "duration": 204,
    "start_time": "2023-05-31T22:43:37.035Z"
   },
   {
    "duration": 126,
    "start_time": "2023-05-31T22:43:41.411Z"
   },
   {
    "duration": 39002,
    "start_time": "2023-05-31T22:44:05.350Z"
   },
   {
    "duration": 201,
    "start_time": "2023-05-31T22:44:50.903Z"
   },
   {
    "duration": 25,
    "start_time": "2023-05-31T22:44:55.897Z"
   },
   {
    "duration": 20,
    "start_time": "2023-05-31T22:44:59.097Z"
   },
   {
    "duration": 19,
    "start_time": "2023-05-31T22:45:04.125Z"
   },
   {
    "duration": 241,
    "start_time": "2023-05-31T22:45:24.382Z"
   },
   {
    "duration": 113,
    "start_time": "2023-05-31T22:46:03.021Z"
   },
   {
    "duration": 263,
    "start_time": "2023-05-31T22:46:33.990Z"
   },
   {
    "duration": 219,
    "start_time": "2023-05-31T22:48:04.803Z"
   },
   {
    "duration": 616,
    "start_time": "2023-05-31T22:48:40.598Z"
   },
   {
    "duration": 205,
    "start_time": "2023-05-31T22:49:23.892Z"
   },
   {
    "duration": 198,
    "start_time": "2023-05-31T22:49:30.822Z"
   },
   {
    "duration": 180,
    "start_time": "2023-05-31T22:49:41.151Z"
   },
   {
    "duration": 173,
    "start_time": "2023-05-31T22:49:50.911Z"
   },
   {
    "duration": 187,
    "start_time": "2023-05-31T22:50:49.880Z"
   },
   {
    "duration": 184,
    "start_time": "2023-05-31T22:50:58.587Z"
   },
   {
    "duration": 173,
    "start_time": "2023-05-31T22:51:04.226Z"
   },
   {
    "duration": 158,
    "start_time": "2023-05-31T22:51:18.703Z"
   },
   {
    "duration": 3,
    "start_time": "2023-05-31T22:56:41.394Z"
   },
   {
    "duration": 621,
    "start_time": "2023-06-01T07:07:25.805Z"
   },
   {
    "duration": 89,
    "start_time": "2023-06-01T07:07:26.427Z"
   },
   {
    "duration": 39,
    "start_time": "2023-06-01T07:07:26.519Z"
   },
   {
    "duration": 1722,
    "start_time": "2023-06-01T07:07:26.559Z"
   },
   {
    "duration": 14,
    "start_time": "2023-06-01T07:07:28.282Z"
   },
   {
    "duration": 19,
    "start_time": "2023-06-01T07:07:28.297Z"
   },
   {
    "duration": 72,
    "start_time": "2023-06-01T07:07:28.319Z"
   },
   {
    "duration": 42,
    "start_time": "2023-06-01T07:07:28.392Z"
   },
   {
    "duration": 46,
    "start_time": "2023-06-01T07:07:28.435Z"
   },
   {
    "duration": 36,
    "start_time": "2023-06-01T07:07:28.483Z"
   },
   {
    "duration": 5,
    "start_time": "2023-06-01T07:07:28.520Z"
   },
   {
    "duration": 5,
    "start_time": "2023-06-01T07:07:28.527Z"
   },
   {
    "duration": 4,
    "start_time": "2023-06-01T07:07:28.533Z"
   },
   {
    "duration": 5,
    "start_time": "2023-06-01T07:07:28.538Z"
   },
   {
    "duration": 62,
    "start_time": "2023-06-01T07:07:28.544Z"
   },
   {
    "duration": 4,
    "start_time": "2023-06-01T07:07:28.607Z"
   },
   {
    "duration": 10,
    "start_time": "2023-06-01T07:07:28.612Z"
   },
   {
    "duration": 8,
    "start_time": "2023-06-01T07:07:28.623Z"
   },
   {
    "duration": 63,
    "start_time": "2023-06-01T07:07:28.632Z"
   },
   {
    "duration": 3,
    "start_time": "2023-06-01T07:07:28.707Z"
   },
   {
    "duration": 10,
    "start_time": "2023-06-01T07:07:28.714Z"
   },
   {
    "duration": 6,
    "start_time": "2023-06-01T07:07:28.726Z"
   },
   {
    "duration": 5,
    "start_time": "2023-06-01T07:07:28.733Z"
   },
   {
    "duration": 263,
    "start_time": "2023-06-01T07:07:28.740Z"
   },
   {
    "duration": 15,
    "start_time": "2023-06-01T07:07:29.007Z"
   },
   {
    "duration": 2270,
    "start_time": "2023-06-01T07:07:29.023Z"
   },
   {
    "duration": 235,
    "start_time": "2023-06-01T07:07:31.294Z"
   },
   {
    "duration": 637,
    "start_time": "2023-06-01T07:07:31.532Z"
   },
   {
    "duration": 174,
    "start_time": "2023-06-01T07:07:32.171Z"
   },
   {
    "duration": 184,
    "start_time": "2023-06-01T07:07:32.346Z"
   },
   {
    "duration": 199,
    "start_time": "2023-06-01T07:07:32.531Z"
   },
   {
    "duration": 187,
    "start_time": "2023-06-01T07:07:32.732Z"
   },
   {
    "duration": 171,
    "start_time": "2023-06-01T07:07:32.921Z"
   },
   {
    "duration": 30,
    "start_time": "2023-06-01T07:07:33.093Z"
   },
   {
    "duration": 11,
    "start_time": "2023-06-01T07:07:33.125Z"
   },
   {
    "duration": 150,
    "start_time": "2023-06-01T07:07:33.138Z"
   },
   {
    "duration": 22,
    "start_time": "2023-06-01T07:08:56.330Z"
   },
   {
    "duration": 99,
    "start_time": "2023-06-01T07:09:00.891Z"
   },
   {
    "duration": 5,
    "start_time": "2023-06-01T07:12:42.312Z"
   },
   {
    "duration": 51,
    "start_time": "2023-06-01T11:05:50.747Z"
   },
   {
    "duration": 879,
    "start_time": "2023-06-01T11:05:59.793Z"
   },
   {
    "duration": 315,
    "start_time": "2023-06-01T11:06:00.675Z"
   },
   {
    "duration": 53,
    "start_time": "2023-06-01T11:06:00.992Z"
   },
   {
    "duration": 2117,
    "start_time": "2023-06-01T11:06:01.047Z"
   },
   {
    "duration": 18,
    "start_time": "2023-06-01T11:06:03.167Z"
   },
   {
    "duration": 3,
    "start_time": "2023-06-01T11:06:03.186Z"
   },
   {
    "duration": 30,
    "start_time": "2023-06-01T11:06:03.191Z"
   },
   {
    "duration": 5,
    "start_time": "2023-06-01T11:06:03.223Z"
   },
   {
    "duration": 17,
    "start_time": "2023-06-01T11:06:03.230Z"
   },
   {
    "duration": 18,
    "start_time": "2023-06-01T11:06:03.249Z"
   },
   {
    "duration": 22,
    "start_time": "2023-06-01T11:06:03.269Z"
   },
   {
    "duration": 14,
    "start_time": "2023-06-01T11:06:03.293Z"
   },
   {
    "duration": 13,
    "start_time": "2023-06-01T11:06:03.310Z"
   },
   {
    "duration": 20,
    "start_time": "2023-06-01T11:06:03.326Z"
   },
   {
    "duration": 78,
    "start_time": "2023-06-01T11:06:03.347Z"
   },
   {
    "duration": 3,
    "start_time": "2023-06-01T11:06:03.427Z"
   },
   {
    "duration": 30,
    "start_time": "2023-06-01T11:06:03.431Z"
   },
   {
    "duration": 18,
    "start_time": "2023-06-01T11:06:03.463Z"
   },
   {
    "duration": 91,
    "start_time": "2023-06-01T11:06:03.483Z"
   },
   {
    "duration": 4,
    "start_time": "2023-06-01T11:06:03.576Z"
   },
   {
    "duration": 15,
    "start_time": "2023-06-01T11:06:03.582Z"
   },
   {
    "duration": 15,
    "start_time": "2023-06-01T11:06:03.599Z"
   },
   {
    "duration": 19,
    "start_time": "2023-06-01T11:06:03.616Z"
   },
   {
    "duration": 271,
    "start_time": "2023-06-01T11:06:03.636Z"
   },
   {
    "duration": 5,
    "start_time": "2023-06-01T11:06:03.909Z"
   },
   {
    "duration": 2509,
    "start_time": "2023-06-01T11:06:03.915Z"
   },
   {
    "duration": 280,
    "start_time": "2023-06-01T11:06:06.426Z"
   },
   {
    "duration": 677,
    "start_time": "2023-06-01T11:06:06.708Z"
   },
   {
    "duration": 189,
    "start_time": "2023-06-01T11:06:07.387Z"
   },
   {
    "duration": 168,
    "start_time": "2023-06-01T11:06:07.578Z"
   },
   {
    "duration": 175,
    "start_time": "2023-06-01T11:06:07.748Z"
   },
   {
    "duration": 203,
    "start_time": "2023-06-01T11:06:07.925Z"
   },
   {
    "duration": 189,
    "start_time": "2023-06-01T11:06:08.130Z"
   },
   {
    "duration": 39,
    "start_time": "2023-06-01T11:06:08.321Z"
   },
   {
    "duration": 3,
    "start_time": "2023-06-01T11:06:08.362Z"
   },
   {
    "duration": 257,
    "start_time": "2023-06-01T11:06:08.367Z"
   },
   {
    "duration": 129,
    "start_time": "2023-06-01T11:06:15.681Z"
   },
   {
    "duration": 137,
    "start_time": "2023-06-01T11:06:40.067Z"
   },
   {
    "duration": 136,
    "start_time": "2023-06-01T11:06:46.800Z"
   },
   {
    "duration": 237,
    "start_time": "2023-06-01T11:07:50.794Z"
   },
   {
    "duration": 161,
    "start_time": "2023-06-01T11:10:38.496Z"
   },
   {
    "duration": 155,
    "start_time": "2023-06-01T11:10:48.957Z"
   },
   {
    "duration": 154,
    "start_time": "2023-06-01T11:11:16.860Z"
   },
   {
    "duration": 151,
    "start_time": "2023-06-01T11:11:24.691Z"
   },
   {
    "duration": 150,
    "start_time": "2023-06-01T11:12:02.568Z"
   },
   {
    "duration": 153,
    "start_time": "2023-06-01T11:12:05.601Z"
   },
   {
    "duration": 154,
    "start_time": "2023-06-01T11:12:09.813Z"
   },
   {
    "duration": 1309,
    "start_time": "2023-06-01T17:16:09.669Z"
   },
   {
    "duration": 207,
    "start_time": "2023-06-01T17:16:10.987Z"
   },
   {
    "duration": 180,
    "start_time": "2023-06-01T17:16:11.198Z"
   },
   {
    "duration": 4999,
    "start_time": "2023-06-01T17:16:11.381Z"
   },
   {
    "duration": 27,
    "start_time": "2023-06-01T17:16:16.383Z"
   },
   {
    "duration": 4,
    "start_time": "2023-06-01T17:16:16.413Z"
   },
   {
    "duration": 115,
    "start_time": "2023-06-01T17:16:16.419Z"
   },
   {
    "duration": 49,
    "start_time": "2023-06-01T17:16:16.536Z"
   },
   {
    "duration": 34,
    "start_time": "2023-06-01T17:16:16.587Z"
   },
   {
    "duration": 64,
    "start_time": "2023-06-01T17:16:16.626Z"
   },
   {
    "duration": 9,
    "start_time": "2023-06-01T17:16:16.693Z"
   },
   {
    "duration": 71,
    "start_time": "2023-06-01T17:16:16.710Z"
   },
   {
    "duration": 4,
    "start_time": "2023-06-01T17:16:16.785Z"
   },
   {
    "duration": 24,
    "start_time": "2023-06-01T17:16:16.792Z"
   },
   {
    "duration": 183,
    "start_time": "2023-06-01T17:16:16.818Z"
   },
   {
    "duration": 3,
    "start_time": "2023-06-01T17:16:17.003Z"
   },
   {
    "duration": 86,
    "start_time": "2023-06-01T17:16:17.008Z"
   },
   {
    "duration": 13,
    "start_time": "2023-06-01T17:16:17.097Z"
   },
   {
    "duration": 187,
    "start_time": "2023-06-01T17:16:17.111Z"
   },
   {
    "duration": 4,
    "start_time": "2023-06-01T17:16:17.301Z"
   },
   {
    "duration": 12,
    "start_time": "2023-06-01T17:16:17.307Z"
   },
   {
    "duration": 13,
    "start_time": "2023-06-01T17:16:17.382Z"
   },
   {
    "duration": 16,
    "start_time": "2023-06-01T17:16:17.396Z"
   },
   {
    "duration": 787,
    "start_time": "2023-06-01T17:16:17.413Z"
   },
   {
    "duration": 4,
    "start_time": "2023-06-01T17:16:18.202Z"
   },
   {
    "duration": 7010,
    "start_time": "2023-06-01T17:16:18.208Z"
   },
   {
    "duration": 665,
    "start_time": "2023-06-01T17:16:25.220Z"
   },
   {
    "duration": 1693,
    "start_time": "2023-06-01T17:16:25.890Z"
   },
   {
    "duration": 420,
    "start_time": "2023-06-01T17:16:27.585Z"
   },
   {
    "duration": 397,
    "start_time": "2023-06-01T17:16:28.007Z"
   },
   {
    "duration": 471,
    "start_time": "2023-06-01T17:16:28.406Z"
   },
   {
    "duration": 438,
    "start_time": "2023-06-01T17:16:28.878Z"
   },
   {
    "duration": 462,
    "start_time": "2023-06-01T17:16:29.318Z"
   },
   {
    "duration": 29,
    "start_time": "2023-06-01T17:16:29.788Z"
   },
   {
    "duration": 81,
    "start_time": "2023-06-01T17:16:29.818Z"
   },
   {
    "duration": 388,
    "start_time": "2023-06-01T17:16:29.901Z"
   }
  ],
  "kernelspec": {
   "display_name": "Python 3 (ipykernel)",
   "language": "python",
   "name": "python3"
  },
  "language_info": {
   "codemirror_mode": {
    "name": "ipython",
    "version": 3
   },
   "file_extension": ".py",
   "mimetype": "text/x-python",
   "name": "python",
   "nbconvert_exporter": "python",
   "pygments_lexer": "ipython3",
   "version": "3.9.5"
  },
  "toc": {
   "base_numbering": 1,
   "nav_menu": {},
   "number_sections": true,
   "sideBar": true,
   "skip_h1_title": true,
   "title_cell": "Table of Contents",
   "title_sidebar": "Contents",
   "toc_cell": false,
   "toc_position": {},
   "toc_section_display": true,
   "toc_window_display": false
  }
 },
 "nbformat": 4,
 "nbformat_minor": 2
}
